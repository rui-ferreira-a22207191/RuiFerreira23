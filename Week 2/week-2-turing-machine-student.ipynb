{
  "cells": [
    {
      "cell_type": "markdown",
      "metadata": {
        "id": "3b961fbd"
      },
      "source": [
        "\n",
        "# **Máquina de Turing: Implementação Passo a Passo**\n",
        "## Introdução\n",
        "\n",
        "A **Máquina de Turing** é um modelo teórico de computação criado por Alan Turing em 1936.  \n",
        "Ela é composta por uma fita infinita dividida em células, um cabeçalho de leitura/escrita e um conjunto de regras de transição.\n",
        "\n",
        "### **Componentes principais:**\n",
        "1. **Fita**: Um conjunto de células que podem conter símbolos.\n",
        "2. **Cabeçalho de Leitura/Escrita**: Um cursor que lê e modifica a fita.\n",
        "3. **Estados**: A máquina possui um estado atual e segue regras de transição.\n",
        "4. **Regras de Transição**: Um conjunto de instruções que definem como a máquina reage a diferentes símbolos.\n",
        "\n",
        "Neste notebook, implementaremos uma **Máquina de Turing simples** passo a passo, explicando cada etapa e testando o funcionamento da máquina conforme avançamos.\n",
        "    "
      ]
    },
    {
      "cell_type": "markdown",
      "metadata": {
        "id": "190ea79e"
      },
      "source": [
        "## **Importando Bibliotecas**"
      ]
    },
    {
      "cell_type": "code",
      "execution_count": 1,
      "metadata": {
        "id": "6311e3b1"
      },
      "outputs": [],
      "source": [
        "import pandas as pd"
      ]
    },
    {
      "cell_type": "markdown",
      "metadata": {
        "id": "18e776f7"
      },
      "source": [
        "\n",
        "## **Criando a Classe da Máquina de Turing**\n",
        "\n",
        "A Máquina de Turing será representada por uma classe `TuringMachine`.  \n",
        "Ela possui três elementos principais:\n",
        "- A **fita** (`tape`): onde os dados são armazenados.\n",
        "- O **cabeçalho** (`head_position`): que se move para a esquerda ou para a direita.\n",
        "- O **estado atual** (`state`): que define a ação a ser executada.\n",
        "\n",
        "Abaixo, definimos essa estrutura.\n",
        "    "
      ]
    },
    {
      "cell_type": "code",
      "execution_count": 10,
      "metadata": {
        "id": "e87d47ec"
      },
      "outputs": [],
      "source": [
        "class TuringMachine:\n",
        "    def __init__(self, tape, head_position, state):\n",
        "        self.tape = tape\n",
        "        self.head_position = head_position\n",
        "        self.state = state\n",
        "\n",
        "    def display(self):\n",
        "      tape_display = \"\".join(self.tape)\n",
        "      head_marker = f\"{' '* self.head_position}^\"\n",
        "      print(f\"{tape_display}\\n{head_marker}\\nState: {self.state}\")\n",
        "\n",
        "    def move_head(self, one_direction):\n",
        "      if one_direction == 'R':\n",
        "        self.head_position += 1\n",
        "      if one_direction == 'L':\n",
        "        self.head_position -= 1"
      ]
    },
    {
      "cell_type": "markdown",
      "metadata": {
        "id": "32f39a89"
      },
      "source": [
        "### **Teste 1: Criando um objeto da Máquina de Turing**"
      ]
    },
    {
      "cell_type": "code",
      "execution_count": 11,
      "metadata": {
        "id": "fb588bbf",
        "outputId": "80188edb-114d-4a4b-b4bb-fb001acd2efc",
        "colab": {
          "base_uri": "https://localhost:8080/"
        }
      },
      "outputs": [
        {
          "output_type": "stream",
          "name": "stdout",
          "text": [
            "<__main__.TuringMachine object at 0x7aad76f24450>\n",
            "01B01\n",
            "^\n",
            "State: q0\n"
          ]
        }
      ],
      "source": [
        "\n",
        "# Criando uma fita de teste\n",
        "tape = ['0', '1', 'B', '0', '1']\n",
        "initial_position = 0\n",
        "initial_state = 'q0'\n",
        "\n",
        "machine = TuringMachine(tape, initial_position, initial_state)\n",
        "print(machine)\n",
        "\n",
        "machine.tape, machine.head_position, machine.state\n",
        "\n",
        "machine.display()\n",
        ""
      ]
    },
    {
      "cell_type": "markdown",
      "metadata": {
        "id": "b4b5e0f4"
      },
      "source": [
        "\n",
        "## **Visualizando o Estado da Máquina**\n",
        "\n",
        "Criamos um método para exibir o estado da fita e do cabeçalho em um formato mais intuitivo.\n",
        "    "
      ]
    },
    {
      "cell_type": "code",
      "execution_count": null,
      "metadata": {
        "id": "993b55a3"
      },
      "outputs": [],
      "source": [
        ""
      ]
    },
    {
      "cell_type": "markdown",
      "metadata": {
        "id": "0a66eaf9"
      },
      "source": [
        "### **Teste 2: Exibindo a fita e a posição do cabeçalho**"
      ]
    },
    {
      "cell_type": "code",
      "execution_count": null,
      "metadata": {
        "id": "d9ce5a54",
        "outputId": "a4b7d20f-1c3e-4a81-c31e-a510a6a74b10"
      },
      "outputs": [
        {
          "name": "stdout",
          "output_type": "stream",
          "text": [
            "01B01\n",
            "^\n",
            "State: q0\n",
            "\n"
          ]
        }
      ],
      "source": [
        "machine = TuringMachine(tape, initial_position, initial_state)\n",
        "machine.display()"
      ]
    },
    {
      "cell_type": "markdown",
      "metadata": {
        "id": "8b48af41"
      },
      "source": [
        "\n",
        "## **Movendo o Cabeçalho**\n",
        "\n",
        "Agora, implementamos um método que permite que o cabeçalho se mova para a esquerda (`L`) ou para a direita (`R`).\n",
        "    "
      ]
    },
    {
      "cell_type": "code",
      "execution_count": null,
      "metadata": {
        "id": "ef47eaae"
      },
      "outputs": [],
      "source": [
        ""
      ]
    },
    {
      "cell_type": "markdown",
      "metadata": {
        "id": "86da7754"
      },
      "source": [
        "### **Teste 3: Movendo o cabeçalho para a direita e para a esquerda**"
      ]
    },
    {
      "cell_type": "code",
      "execution_count": 12,
      "metadata": {
        "id": "7949eeb0",
        "outputId": "51e4e1fe-2596-4426-ac85-b1f86772d991",
        "colab": {
          "base_uri": "https://localhost:8080/"
        }
      },
      "outputs": [
        {
          "output_type": "stream",
          "name": "stdout",
          "text": [
            "01B01\n",
            "^\n",
            "State: q0\n",
            "Movendo para a direita\n",
            "01B01\n",
            " ^\n",
            "State: q0\n",
            "Movendo para a esquerda\n",
            "01B01\n",
            "^\n",
            "State: q0\n"
          ]
        }
      ],
      "source": [
        "\n",
        "machine = TuringMachine(tape, initial_position, initial_state)\n",
        "machine.display()\n",
        "\n",
        "print(\"Movendo para a direita\")\n",
        "machine.move_head('R')\n",
        "machine.display()\n",
        "\n",
        "print(\"Movendo para a esquerda\")\n",
        "machine.move_head('L')\n",
        "machine.display()\n",
        ""
      ]
    },
    {
      "cell_type": "markdown",
      "metadata": {
        "id": "6563d808"
      },
      "source": [
        "\n",
        "## **Definindo as Regras de Transição**\n",
        "\n",
        "Cada regra define:\n",
        "- O símbolo lido na fita.\n",
        "- O estado atual da máquina.\n",
        "- O símbolo que será escrito na fita.\n",
        "- O movimento do cabeçalho (`L` para esquerda, `R` para direita).\n",
        "- O novo estado após a transição.\n",
        "\n",
        "O programa será carregado a partir de um arquivo CSV.\n",
        "    "
      ]
    },
    {
      "cell_type": "markdown",
      "metadata": {
        "id": "5CF4jjHXz__T"
      },
      "source": [
        "### **Fita Inicial**\n",
        "A fita contém a seguinte sequência de símbolos:\n",
        "```\n",
        "['0', '1', 'B', '0', '1']\n",
        "```\n",
        "Cada célula pode conter um símbolo, e a máquina inicia a leitura a partir do primeiro símbolo (`0`).\n",
        "\n",
        "### **Objetivo da Máquina**\n",
        "A Máquina de Turing percorre a fita e substitui `0` e `1` por `_` até encontrar um espaço em branco (`B`). Quando encontra `B`, escreve `0`, move-se para a esquerda e entra no estado final `qf`.\n",
        "\n",
        "### **Regras de Transição**\n",
        "A máquina segue as seguintes regras:\n",
        "\n",
        "| Símbolo Atual | Estado Atual | Novo Símbolo | Movimento | Novo Estado |\n",
        "|--------------|-------------|-------------|-----------|------------|\n",
        "| 0            | q0          | _           | R         | q1         |\n",
        "| 0            | q1          | _           | R         | q0         |\n",
        "| 1            | q0          | _           | R         | q0         |\n",
        "| 1            | q1          | _           | R         | q1         |\n",
        "| B            | q0          | 0           | L         | qf         |\n",
        "| B            | q1          | 1           | L         | qf         |\n",
        "\n",
        "### **Resultado Esperado**\n",
        "Após a execução, a fita deve conter:\n",
        "```\n",
        "['_', '_', '0', '0', '1']\n",
        "```"
      ]
    },
    {
      "cell_type": "code",
      "execution_count": 17,
      "metadata": {
        "id": "b5e82419",
        "outputId": "baf232bf-ab21-412e-9107-0b44dc3372e4",
        "colab": {
          "base_uri": "https://localhost:8080/",
          "height": 287
        }
      },
      "outputs": [
        {
          "output_type": "stream",
          "name": "stdout",
          "text": [
            "Regras de transição carregadas:\n"
          ]
        },
        {
          "output_type": "display_data",
          "data": {
            "text/plain": [
              "  symbol state write move new-state\n",
              "0      0    q0     _    R        q1\n",
              "1      0    q1     _    R        q0\n",
              "2      1    q0     _    R        q0\n",
              "3      1    q1     _    R        q1\n",
              "4      _    q0     0    L        qf\n",
              "5      _    q1     1    L        qf\n",
              "6      _    qf   NaN  NaN       NaN"
            ],
            "text/html": [
              "\n",
              "  <div id=\"df-9f1db091-f5b0-4a78-87f8-33a46c96e696\" class=\"colab-df-container\">\n",
              "    <div>\n",
              "<style scoped>\n",
              "    .dataframe tbody tr th:only-of-type {\n",
              "        vertical-align: middle;\n",
              "    }\n",
              "\n",
              "    .dataframe tbody tr th {\n",
              "        vertical-align: top;\n",
              "    }\n",
              "\n",
              "    .dataframe thead th {\n",
              "        text-align: right;\n",
              "    }\n",
              "</style>\n",
              "<table border=\"1\" class=\"dataframe\">\n",
              "  <thead>\n",
              "    <tr style=\"text-align: right;\">\n",
              "      <th></th>\n",
              "      <th>symbol</th>\n",
              "      <th>state</th>\n",
              "      <th>write</th>\n",
              "      <th>move</th>\n",
              "      <th>new-state</th>\n",
              "    </tr>\n",
              "  </thead>\n",
              "  <tbody>\n",
              "    <tr>\n",
              "      <th>0</th>\n",
              "      <td>0</td>\n",
              "      <td>q0</td>\n",
              "      <td>_</td>\n",
              "      <td>R</td>\n",
              "      <td>q1</td>\n",
              "    </tr>\n",
              "    <tr>\n",
              "      <th>1</th>\n",
              "      <td>0</td>\n",
              "      <td>q1</td>\n",
              "      <td>_</td>\n",
              "      <td>R</td>\n",
              "      <td>q0</td>\n",
              "    </tr>\n",
              "    <tr>\n",
              "      <th>2</th>\n",
              "      <td>1</td>\n",
              "      <td>q0</td>\n",
              "      <td>_</td>\n",
              "      <td>R</td>\n",
              "      <td>q0</td>\n",
              "    </tr>\n",
              "    <tr>\n",
              "      <th>3</th>\n",
              "      <td>1</td>\n",
              "      <td>q1</td>\n",
              "      <td>_</td>\n",
              "      <td>R</td>\n",
              "      <td>q1</td>\n",
              "    </tr>\n",
              "    <tr>\n",
              "      <th>4</th>\n",
              "      <td>_</td>\n",
              "      <td>q0</td>\n",
              "      <td>0</td>\n",
              "      <td>L</td>\n",
              "      <td>qf</td>\n",
              "    </tr>\n",
              "    <tr>\n",
              "      <th>5</th>\n",
              "      <td>_</td>\n",
              "      <td>q1</td>\n",
              "      <td>1</td>\n",
              "      <td>L</td>\n",
              "      <td>qf</td>\n",
              "    </tr>\n",
              "    <tr>\n",
              "      <th>6</th>\n",
              "      <td>_</td>\n",
              "      <td>qf</td>\n",
              "      <td>NaN</td>\n",
              "      <td>NaN</td>\n",
              "      <td>NaN</td>\n",
              "    </tr>\n",
              "  </tbody>\n",
              "</table>\n",
              "</div>\n",
              "    <div class=\"colab-df-buttons\">\n",
              "\n",
              "  <div class=\"colab-df-container\">\n",
              "    <button class=\"colab-df-convert\" onclick=\"convertToInteractive('df-9f1db091-f5b0-4a78-87f8-33a46c96e696')\"\n",
              "            title=\"Convert this dataframe to an interactive table.\"\n",
              "            style=\"display:none;\">\n",
              "\n",
              "  <svg xmlns=\"http://www.w3.org/2000/svg\" height=\"24px\" viewBox=\"0 -960 960 960\">\n",
              "    <path d=\"M120-120v-720h720v720H120Zm60-500h600v-160H180v160Zm220 220h160v-160H400v160Zm0 220h160v-160H400v160ZM180-400h160v-160H180v160Zm440 0h160v-160H620v160ZM180-180h160v-160H180v160Zm440 0h160v-160H620v160Z\"/>\n",
              "  </svg>\n",
              "    </button>\n",
              "\n",
              "  <style>\n",
              "    .colab-df-container {\n",
              "      display:flex;\n",
              "      gap: 12px;\n",
              "    }\n",
              "\n",
              "    .colab-df-convert {\n",
              "      background-color: #E8F0FE;\n",
              "      border: none;\n",
              "      border-radius: 50%;\n",
              "      cursor: pointer;\n",
              "      display: none;\n",
              "      fill: #1967D2;\n",
              "      height: 32px;\n",
              "      padding: 0 0 0 0;\n",
              "      width: 32px;\n",
              "    }\n",
              "\n",
              "    .colab-df-convert:hover {\n",
              "      background-color: #E2EBFA;\n",
              "      box-shadow: 0px 1px 2px rgba(60, 64, 67, 0.3), 0px 1px 3px 1px rgba(60, 64, 67, 0.15);\n",
              "      fill: #174EA6;\n",
              "    }\n",
              "\n",
              "    .colab-df-buttons div {\n",
              "      margin-bottom: 4px;\n",
              "    }\n",
              "\n",
              "    [theme=dark] .colab-df-convert {\n",
              "      background-color: #3B4455;\n",
              "      fill: #D2E3FC;\n",
              "    }\n",
              "\n",
              "    [theme=dark] .colab-df-convert:hover {\n",
              "      background-color: #434B5C;\n",
              "      box-shadow: 0px 1px 3px 1px rgba(0, 0, 0, 0.15);\n",
              "      filter: drop-shadow(0px 1px 2px rgba(0, 0, 0, 0.3));\n",
              "      fill: #FFFFFF;\n",
              "    }\n",
              "  </style>\n",
              "\n",
              "    <script>\n",
              "      const buttonEl =\n",
              "        document.querySelector('#df-9f1db091-f5b0-4a78-87f8-33a46c96e696 button.colab-df-convert');\n",
              "      buttonEl.style.display =\n",
              "        google.colab.kernel.accessAllowed ? 'block' : 'none';\n",
              "\n",
              "      async function convertToInteractive(key) {\n",
              "        const element = document.querySelector('#df-9f1db091-f5b0-4a78-87f8-33a46c96e696');\n",
              "        const dataTable =\n",
              "          await google.colab.kernel.invokeFunction('convertToInteractive',\n",
              "                                                    [key], {});\n",
              "        if (!dataTable) return;\n",
              "\n",
              "        const docLinkHtml = 'Like what you see? Visit the ' +\n",
              "          '<a target=\"_blank\" href=https://colab.research.google.com/notebooks/data_table.ipynb>data table notebook</a>'\n",
              "          + ' to learn more about interactive tables.';\n",
              "        element.innerHTML = '';\n",
              "        dataTable['output_type'] = 'display_data';\n",
              "        await google.colab.output.renderOutput(dataTable, element);\n",
              "        const docLink = document.createElement('div');\n",
              "        docLink.innerHTML = docLinkHtml;\n",
              "        element.appendChild(docLink);\n",
              "      }\n",
              "    </script>\n",
              "  </div>\n",
              "\n",
              "\n",
              "<div id=\"df-4f627aac-4645-4042-a614-80846750f871\">\n",
              "  <button class=\"colab-df-quickchart\" onclick=\"quickchart('df-4f627aac-4645-4042-a614-80846750f871')\"\n",
              "            title=\"Suggest charts\"\n",
              "            style=\"display:none;\">\n",
              "\n",
              "<svg xmlns=\"http://www.w3.org/2000/svg\" height=\"24px\"viewBox=\"0 0 24 24\"\n",
              "     width=\"24px\">\n",
              "    <g>\n",
              "        <path d=\"M19 3H5c-1.1 0-2 .9-2 2v14c0 1.1.9 2 2 2h14c1.1 0 2-.9 2-2V5c0-1.1-.9-2-2-2zM9 17H7v-7h2v7zm4 0h-2V7h2v10zm4 0h-2v-4h2v4z\"/>\n",
              "    </g>\n",
              "</svg>\n",
              "  </button>\n",
              "\n",
              "<style>\n",
              "  .colab-df-quickchart {\n",
              "      --bg-color: #E8F0FE;\n",
              "      --fill-color: #1967D2;\n",
              "      --hover-bg-color: #E2EBFA;\n",
              "      --hover-fill-color: #174EA6;\n",
              "      --disabled-fill-color: #AAA;\n",
              "      --disabled-bg-color: #DDD;\n",
              "  }\n",
              "\n",
              "  [theme=dark] .colab-df-quickchart {\n",
              "      --bg-color: #3B4455;\n",
              "      --fill-color: #D2E3FC;\n",
              "      --hover-bg-color: #434B5C;\n",
              "      --hover-fill-color: #FFFFFF;\n",
              "      --disabled-bg-color: #3B4455;\n",
              "      --disabled-fill-color: #666;\n",
              "  }\n",
              "\n",
              "  .colab-df-quickchart {\n",
              "    background-color: var(--bg-color);\n",
              "    border: none;\n",
              "    border-radius: 50%;\n",
              "    cursor: pointer;\n",
              "    display: none;\n",
              "    fill: var(--fill-color);\n",
              "    height: 32px;\n",
              "    padding: 0;\n",
              "    width: 32px;\n",
              "  }\n",
              "\n",
              "  .colab-df-quickchart:hover {\n",
              "    background-color: var(--hover-bg-color);\n",
              "    box-shadow: 0 1px 2px rgba(60, 64, 67, 0.3), 0 1px 3px 1px rgba(60, 64, 67, 0.15);\n",
              "    fill: var(--button-hover-fill-color);\n",
              "  }\n",
              "\n",
              "  .colab-df-quickchart-complete:disabled,\n",
              "  .colab-df-quickchart-complete:disabled:hover {\n",
              "    background-color: var(--disabled-bg-color);\n",
              "    fill: var(--disabled-fill-color);\n",
              "    box-shadow: none;\n",
              "  }\n",
              "\n",
              "  .colab-df-spinner {\n",
              "    border: 2px solid var(--fill-color);\n",
              "    border-color: transparent;\n",
              "    border-bottom-color: var(--fill-color);\n",
              "    animation:\n",
              "      spin 1s steps(1) infinite;\n",
              "  }\n",
              "\n",
              "  @keyframes spin {\n",
              "    0% {\n",
              "      border-color: transparent;\n",
              "      border-bottom-color: var(--fill-color);\n",
              "      border-left-color: var(--fill-color);\n",
              "    }\n",
              "    20% {\n",
              "      border-color: transparent;\n",
              "      border-left-color: var(--fill-color);\n",
              "      border-top-color: var(--fill-color);\n",
              "    }\n",
              "    30% {\n",
              "      border-color: transparent;\n",
              "      border-left-color: var(--fill-color);\n",
              "      border-top-color: var(--fill-color);\n",
              "      border-right-color: var(--fill-color);\n",
              "    }\n",
              "    40% {\n",
              "      border-color: transparent;\n",
              "      border-right-color: var(--fill-color);\n",
              "      border-top-color: var(--fill-color);\n",
              "    }\n",
              "    60% {\n",
              "      border-color: transparent;\n",
              "      border-right-color: var(--fill-color);\n",
              "    }\n",
              "    80% {\n",
              "      border-color: transparent;\n",
              "      border-right-color: var(--fill-color);\n",
              "      border-bottom-color: var(--fill-color);\n",
              "    }\n",
              "    90% {\n",
              "      border-color: transparent;\n",
              "      border-bottom-color: var(--fill-color);\n",
              "    }\n",
              "  }\n",
              "</style>\n",
              "\n",
              "  <script>\n",
              "    async function quickchart(key) {\n",
              "      const quickchartButtonEl =\n",
              "        document.querySelector('#' + key + ' button');\n",
              "      quickchartButtonEl.disabled = true;  // To prevent multiple clicks.\n",
              "      quickchartButtonEl.classList.add('colab-df-spinner');\n",
              "      try {\n",
              "        const charts = await google.colab.kernel.invokeFunction(\n",
              "            'suggestCharts', [key], {});\n",
              "      } catch (error) {\n",
              "        console.error('Error during call to suggestCharts:', error);\n",
              "      }\n",
              "      quickchartButtonEl.classList.remove('colab-df-spinner');\n",
              "      quickchartButtonEl.classList.add('colab-df-quickchart-complete');\n",
              "    }\n",
              "    (() => {\n",
              "      let quickchartButtonEl =\n",
              "        document.querySelector('#df-4f627aac-4645-4042-a614-80846750f871 button');\n",
              "      quickchartButtonEl.style.display =\n",
              "        google.colab.kernel.accessAllowed ? 'block' : 'none';\n",
              "    })();\n",
              "  </script>\n",
              "</div>\n",
              "\n",
              "  <div id=\"id_4b01648b-d61e-434b-9bc9-bee0ac2b0749\">\n",
              "    <style>\n",
              "      .colab-df-generate {\n",
              "        background-color: #E8F0FE;\n",
              "        border: none;\n",
              "        border-radius: 50%;\n",
              "        cursor: pointer;\n",
              "        display: none;\n",
              "        fill: #1967D2;\n",
              "        height: 32px;\n",
              "        padding: 0 0 0 0;\n",
              "        width: 32px;\n",
              "      }\n",
              "\n",
              "      .colab-df-generate:hover {\n",
              "        background-color: #E2EBFA;\n",
              "        box-shadow: 0px 1px 2px rgba(60, 64, 67, 0.3), 0px 1px 3px 1px rgba(60, 64, 67, 0.15);\n",
              "        fill: #174EA6;\n",
              "      }\n",
              "\n",
              "      [theme=dark] .colab-df-generate {\n",
              "        background-color: #3B4455;\n",
              "        fill: #D2E3FC;\n",
              "      }\n",
              "\n",
              "      [theme=dark] .colab-df-generate:hover {\n",
              "        background-color: #434B5C;\n",
              "        box-shadow: 0px 1px 3px 1px rgba(0, 0, 0, 0.15);\n",
              "        filter: drop-shadow(0px 1px 2px rgba(0, 0, 0, 0.3));\n",
              "        fill: #FFFFFF;\n",
              "      }\n",
              "    </style>\n",
              "    <button class=\"colab-df-generate\" onclick=\"generateWithVariable('program')\"\n",
              "            title=\"Generate code using this dataframe.\"\n",
              "            style=\"display:none;\">\n",
              "\n",
              "  <svg xmlns=\"http://www.w3.org/2000/svg\" height=\"24px\"viewBox=\"0 0 24 24\"\n",
              "       width=\"24px\">\n",
              "    <path d=\"M7,19H8.4L18.45,9,17,7.55,7,17.6ZM5,21V16.75L18.45,3.32a2,2,0,0,1,2.83,0l1.4,1.43a1.91,1.91,0,0,1,.58,1.4,1.91,1.91,0,0,1-.58,1.4L9.25,21ZM18.45,9,17,7.55Zm-12,3A5.31,5.31,0,0,0,4.9,8.1,5.31,5.31,0,0,0,1,6.5,5.31,5.31,0,0,0,4.9,4.9,5.31,5.31,0,0,0,6.5,1,5.31,5.31,0,0,0,8.1,4.9,5.31,5.31,0,0,0,12,6.5,5.46,5.46,0,0,0,6.5,12Z\"/>\n",
              "  </svg>\n",
              "    </button>\n",
              "    <script>\n",
              "      (() => {\n",
              "      const buttonEl =\n",
              "        document.querySelector('#id_4b01648b-d61e-434b-9bc9-bee0ac2b0749 button.colab-df-generate');\n",
              "      buttonEl.style.display =\n",
              "        google.colab.kernel.accessAllowed ? 'block' : 'none';\n",
              "\n",
              "      buttonEl.onclick = () => {\n",
              "        google.colab.notebook.generateWithVariable('program');\n",
              "      }\n",
              "      })();\n",
              "    </script>\n",
              "  </div>\n",
              "\n",
              "    </div>\n",
              "  </div>\n"
            ],
            "application/vnd.google.colaboratory.intrinsic+json": {
              "type": "dataframe",
              "variable_name": "program",
              "summary": "{\n  \"name\": \"program\",\n  \"rows\": 7,\n  \"fields\": [\n    {\n      \"column\": \"symbol\",\n      \"properties\": {\n        \"dtype\": \"category\",\n        \"num_unique_values\": 3,\n        \"samples\": [\n          \"0\",\n          \"1\",\n          \"_\"\n        ],\n        \"semantic_type\": \"\",\n        \"description\": \"\"\n      }\n    },\n    {\n      \"column\": \"state\",\n      \"properties\": {\n        \"dtype\": \"category\",\n        \"num_unique_values\": 3,\n        \"samples\": [\n          \"q0\",\n          \"q1\",\n          \"qf\"\n        ],\n        \"semantic_type\": \"\",\n        \"description\": \"\"\n      }\n    },\n    {\n      \"column\": \"write\",\n      \"properties\": {\n        \"dtype\": \"category\",\n        \"num_unique_values\": 3,\n        \"samples\": [\n          \"_\",\n          \"0\",\n          \"1\"\n        ],\n        \"semantic_type\": \"\",\n        \"description\": \"\"\n      }\n    },\n    {\n      \"column\": \"move\",\n      \"properties\": {\n        \"dtype\": \"category\",\n        \"num_unique_values\": 2,\n        \"samples\": [\n          \"L\",\n          \"R\"\n        ],\n        \"semantic_type\": \"\",\n        \"description\": \"\"\n      }\n    },\n    {\n      \"column\": \"new-state\",\n      \"properties\": {\n        \"dtype\": \"category\",\n        \"num_unique_values\": 3,\n        \"samples\": [\n          \"q1\",\n          \"q0\"\n        ],\n        \"semantic_type\": \"\",\n        \"description\": \"\"\n      }\n    }\n  ]\n}"
            }
          },
          "metadata": {}
        }
      ],
      "source": [
        "# Carregar o programa via arquivo CSV\n",
        "program = pd.read_csv('./turing-machine-example-program.csv', delimiter=';')\n",
        "\n",
        "# Exibir as regras do programa\n",
        "print(\"Regras de transição carregadas:\")\n",
        "display(program)"
      ]
    },
    {
      "cell_type": "markdown",
      "metadata": {
        "id": "746393c4"
      },
      "source": [
        "\n",
        "## **Execução da Máquina de Turing**\n",
        "\n",
        "Agora, implementamos um método para executar a máquina até atingir um estado final.\n",
        "    "
      ]
    },
    {
      "cell_type": "code",
      "execution_count": 22,
      "metadata": {
        "id": "8509c19e",
        "outputId": "39ddddc9-fc40-4ca2-8c91-8e0114976b0c",
        "colab": {
          "base_uri": "https://localhost:8080/"
        }
      },
      "outputs": [
        {
          "output_type": "stream",
          "name": "stdout",
          "text": [
            "__101\n",
            " ^\n",
            "State: qf\n"
          ]
        }
      ],
      "source": [
        "def run_turing_machine(machine):\n",
        "    while machine.state != 'qf':\n",
        "        current_symbol = machine.tape[machine.head_position]\n",
        "        if(current_symbol == 'B'):\n",
        "          if(machine.state == 'q0'):\n",
        "            machine.tape[machine.head_position] = '0'\n",
        "          if(machine.state == 'q1'):\n",
        "            machine.tape[machine.head_position] = '1'\n",
        "          machine.move_head('L')\n",
        "          machine.state = 'qf'\n",
        "          break\n",
        "\n",
        "        if(current_symbol == '0'):\n",
        "          machine.tape[machine.head_position] = '_'\n",
        "          machine.move_head('R')\n",
        "          if(machine.state == 'q0'):\n",
        "            machine.state = 'q1'\n",
        "          elif(machine.state == 'q1'):\n",
        "            machine.state = 'q0'\n",
        "        elif(current_symbol == '1'):\n",
        "          machine.tape[machine.head_position] = '_'\n",
        "          machine.move_head('R')\n",
        "          if(machine.state == 'q0'):\n",
        "            machine.state = 'q0'\n",
        "          elif(machine.state == 'q1'):\n",
        "            machine.state = 'q1'\n",
        "\n",
        "    #vou ler a fita\n",
        "    #verificar a posicao\n",
        "    #verficar regra\n",
        "    #mover o cabeço\n",
        "    #atualizar o estado\n",
        "\n",
        "\n",
        "tape = ['0', '1', 'B', '0', '1']\n",
        "initial_position = 0\n",
        "initial_state = 'q0'\n",
        "machine = TuringMachine(tape, initial_position, initial_state)\n",
        "run_turing_machine(machine)\n",
        "machine.display()\n",
        ""
      ]
    },
    {
      "cell_type": "markdown",
      "metadata": {
        "id": "b92b7fe2"
      },
      "source": [
        "# **Exercício:**\n",
        "    \n",
        "Agora que vimos como funciona uma Máquina de Turing, implemente uma nova versão que realize uma operação diferente.  \n",
        "\n",
        "## **Objetivo**  \n",
        "Crie uma Máquina de Turing que **inverta todos os bits** em uma fita binária. Ou seja:  \n",
        "- `0` deve ser transformado em `1`  \n",
        "- `1` deve ser transformado em `0`  \n",
        "- O cabeçalho deve percorrer toda a fita e parar quando encontrar um espaço em branco (`B`).  \n",
        "\n",
        "## **Passo a Passo**  \n",
        "1. **Defina uma nova fita de entrada**, como: `['0', '1', '1', '0', 'B']`.  \n",
        "2. **Crie uma tabela de transição** que inverta os valores:  \n",
        "   - Se `0` for encontrado, transforme em `1` e mova para a direita.  \n",
        "   - Se `1` for encontrado, transforme em `0` e mova para a direita.  \n",
        "   - Se `B` for encontrado, pare a execução.  \n",
        "3. **Implemente a lógica da máquina**, modificando a classe `TuringMachine`.  \n",
        "4. **Execute a máquina e verifique o resultado esperado:**  \n",
        "\n",
        "Implemente a sua solução no código abaixo:\n",
        "    "
      ]
    },
    {
      "cell_type": "code",
      "source": [
        "def run_turing_machinev2(machine):\n",
        "  current_symbol = machine.tape[machine.head_position]\n",
        "  while current_symbol != 'B':\n",
        "    if (current_symbol == '0'):\n",
        "      machine.tape[machine.head_position] = '1'\n",
        "      machine.move_head('R')\n",
        "    elif (current_symbol == '1'):\n",
        "      machine.tape[machine.head_position] = '0'\n",
        "      machine.move_head('R')\n",
        "\n",
        "    current_symbol = machine.tape[machine.head_position]\n",
        "\n",
        "\n",
        "tape = ['0', '1', '1', '0', 'B']\n",
        "initial_position = 0\n",
        "initial_state = 'q0'\n",
        "machine = TuringMachine(tape, initial_position, initial_state)\n",
        "run_turing_machinev2(machine)\n",
        "machine.display()\n"
      ],
      "metadata": {
        "id": "B9rl6E13-Vyx",
        "outputId": "68681254-2ba6-4e0d-cc97-459a9fc4e418",
        "colab": {
          "base_uri": "https://localhost:8080/"
        }
      },
      "execution_count": 26,
      "outputs": [
        {
          "output_type": "stream",
          "name": "stdout",
          "text": [
            "1001B\n",
            "    ^\n",
            "State: q0\n"
          ]
        }
      ]
    },
    {
      "cell_type": "markdown",
      "metadata": {
        "id": "voSo6sVoz__Y"
      },
      "source": [
        "1. Qual a saída esperada?"
      ]
    },
    {
      "cell_type": "code",
      "execution_count": null,
      "metadata": {
        "id": "TqJDj90Zz__Y"
      },
      "outputs": [],
      "source": []
    },
    {
      "cell_type": "markdown",
      "metadata": {
        "id": "Y2Ke6xTsz__Z"
      },
      "source": [
        "2. Implemente a sua solução nas células abaixo:"
      ]
    },
    {
      "cell_type": "code",
      "execution_count": null,
      "metadata": {
        "id": "rSjuoAcpz__Z"
      },
      "outputs": [],
      "source": []
    }
  ],
  "metadata": {
    "kernelspec": {
      "display_name": "base",
      "language": "python",
      "name": "python3"
    },
    "language_info": {
      "codemirror_mode": {
        "name": "ipython",
        "version": 3
      },
      "file_extension": ".py",
      "mimetype": "text/x-python",
      "name": "python",
      "nbconvert_exporter": "python",
      "pygments_lexer": "ipython3",
      "version": "3.11.4"
    },
    "colab": {
      "provenance": []
    }
  },
  "nbformat": 4,
  "nbformat_minor": 0
}