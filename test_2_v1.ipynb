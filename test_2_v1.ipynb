{
  "cells": [
    {
      "cell_type": "markdown",
      "id": "a36bf4af",
      "metadata": {
        "id": "a36bf4af"
      },
      "source": [
        "# **Identificação**:"
      ]
    },
    {
      "cell_type": "markdown",
      "id": "259b4fd9",
      "metadata": {
        "id": "259b4fd9"
      },
      "source": [
        "- `Número de aluno`: 22207191\n",
        "- `Nome`: Rui Eduardo de Sousa Heleno Ferreira\n",
        "- `Data`: 02/06/2025"
      ]
    },
    {
      "cell_type": "markdown",
      "id": "2625e089",
      "metadata": {
        "id": "2625e089"
      },
      "source": [
        "# **Instruções:**\n",
        "- Justifique suas respostas quando solicitado.\n",
        "- Não é permitido a consulta a outros alunos ou a qualquer material externo.\n",
        "- Eletronic devices estão proibidos durante o teste.\n",
        "- Teste seus códigos com diferentes entradas para garantir seu funcionamento.\n",
        "- Salve o notebook com seu `número de aluno` antes de entregar. Exemplo: `2022000000.ipynb`.\n",
        "- Faça silêncio em respeito aos alunos que ainda estão realizando o teste."
      ]
    },
    {
      "cell_type": "markdown",
      "id": "bf3670f9",
      "metadata": {
        "id": "bf3670f9"
      },
      "source": [
        "## Importando bibliotecas"
      ]
    },
    {
      "cell_type": "code",
      "execution_count": 1,
      "id": "mWXZ_8_WP2Ul",
      "metadata": {
        "colab": {
          "base_uri": "https://localhost:8080/",
          "height": 1000
        },
        "id": "mWXZ_8_WP2Ul",
        "outputId": "93d40f2e-dc9c-4ae8-9c97-3e83edad56cf"
      },
      "outputs": [
        {
          "output_type": "stream",
          "name": "stdout",
          "text": [
            "Collecting numpy==1.24.4\n",
            "  Downloading numpy-1.24.4-cp311-cp311-manylinux_2_17_x86_64.manylinux2014_x86_64.whl.metadata (5.6 kB)\n",
            "Collecting scipy==1.10.1\n",
            "  Downloading scipy-1.10.1-cp311-cp311-manylinux_2_17_x86_64.manylinux2014_x86_64.whl.metadata (58 kB)\n",
            "\u001b[2K     \u001b[90m━━━━━━━━━━━━━━━━━━━━━━━━━━━━━━━━━━━━━━━━\u001b[0m \u001b[32m58.9/58.9 kB\u001b[0m \u001b[31m1.1 MB/s\u001b[0m eta \u001b[36m0:00:00\u001b[0m\n",
            "\u001b[?25hCollecting gensim==4.3.3\n",
            "  Downloading gensim-4.3.3-cp311-cp311-manylinux_2_17_x86_64.manylinux2014_x86_64.whl.metadata (8.1 kB)\n",
            "Collecting umap\n",
            "  Downloading umap-0.1.1.tar.gz (3.2 kB)\n",
            "  Preparing metadata (setup.py) ... \u001b[?25l\u001b[?25hdone\n",
            "Requirement already satisfied: umap-learn in /usr/local/lib/python3.11/dist-packages (0.5.7)\n",
            "Requirement already satisfied: smart-open>=1.8.1 in /usr/local/lib/python3.11/dist-packages (from gensim==4.3.3) (7.1.0)\n",
            "Requirement already satisfied: scikit-learn>=0.22 in /usr/local/lib/python3.11/dist-packages (from umap-learn) (1.6.1)\n",
            "Requirement already satisfied: numba>=0.51.2 in /usr/local/lib/python3.11/dist-packages (from umap-learn) (0.60.0)\n",
            "Requirement already satisfied: pynndescent>=0.5 in /usr/local/lib/python3.11/dist-packages (from umap-learn) (0.5.13)\n",
            "Requirement already satisfied: tqdm in /usr/local/lib/python3.11/dist-packages (from umap-learn) (4.67.1)\n",
            "Requirement already satisfied: llvmlite<0.44,>=0.43.0dev0 in /usr/local/lib/python3.11/dist-packages (from numba>=0.51.2->umap-learn) (0.43.0)\n",
            "Requirement already satisfied: joblib>=0.11 in /usr/local/lib/python3.11/dist-packages (from pynndescent>=0.5->umap-learn) (1.5.0)\n",
            "Requirement already satisfied: threadpoolctl>=3.1.0 in /usr/local/lib/python3.11/dist-packages (from scikit-learn>=0.22->umap-learn) (3.6.0)\n",
            "Requirement already satisfied: wrapt in /usr/local/lib/python3.11/dist-packages (from smart-open>=1.8.1->gensim==4.3.3) (1.17.2)\n",
            "Downloading numpy-1.24.4-cp311-cp311-manylinux_2_17_x86_64.manylinux2014_x86_64.whl (17.3 MB)\n",
            "\u001b[2K   \u001b[90m━━━━━━━━━━━━━━━━━━━━━━━━━━━━━━━━━━━━━━━━\u001b[0m \u001b[32m17.3/17.3 MB\u001b[0m \u001b[31m19.2 MB/s\u001b[0m eta \u001b[36m0:00:00\u001b[0m\n",
            "\u001b[?25hDownloading scipy-1.10.1-cp311-cp311-manylinux_2_17_x86_64.manylinux2014_x86_64.whl (34.1 MB)\n",
            "\u001b[2K   \u001b[90m━━━━━━━━━━━━━━━━━━━━━━━━━━━━━━━━━━━━━━━━\u001b[0m \u001b[32m34.1/34.1 MB\u001b[0m \u001b[31m15.4 MB/s\u001b[0m eta \u001b[36m0:00:00\u001b[0m\n",
            "\u001b[?25hDownloading gensim-4.3.3-cp311-cp311-manylinux_2_17_x86_64.manylinux2014_x86_64.whl (26.7 MB)\n",
            "\u001b[2K   \u001b[90m━━━━━━━━━━━━━━━━━━━━━━━━━━━━━━━━━━━━━━━━\u001b[0m \u001b[32m26.7/26.7 MB\u001b[0m \u001b[31m18.0 MB/s\u001b[0m eta \u001b[36m0:00:00\u001b[0m\n",
            "\u001b[?25hBuilding wheels for collected packages: umap\n",
            "  Building wheel for umap (setup.py) ... \u001b[?25l\u001b[?25hdone\n",
            "  Created wheel for umap: filename=umap-0.1.1-py3-none-any.whl size=3541 sha256=d7761ef6629c10b22d0fec198ffb62132d1cb74a08ea2327bdc4f303f9610db7\n",
            "  Stored in directory: /root/.cache/pip/wheels/82/d8/73/e9eb3334baaad795ff0278363ff1aca7568bdf2793e452a527\n",
            "Successfully built umap\n",
            "Installing collected packages: umap, numpy, scipy, gensim\n",
            "  Attempting uninstall: numpy\n",
            "    Found existing installation: numpy 2.0.2\n",
            "    Uninstalling numpy-2.0.2:\n",
            "      Successfully uninstalled numpy-2.0.2\n",
            "  Attempting uninstall: scipy\n",
            "    Found existing installation: scipy 1.15.3\n",
            "    Uninstalling scipy-1.15.3:\n",
            "      Successfully uninstalled scipy-1.15.3\n",
            "\u001b[31mERROR: pip's dependency resolver does not currently take into account all the packages that are installed. This behaviour is the source of the following dependency conflicts.\n",
            "jaxlib 0.5.1 requires numpy>=1.25, but you have numpy 1.24.4 which is incompatible.\n",
            "jaxlib 0.5.1 requires scipy>=1.11.1, but you have scipy 1.10.1 which is incompatible.\n",
            "pymc 5.22.0 requires numpy>=1.25.0, but you have numpy 1.24.4 which is incompatible.\n",
            "blosc2 3.3.3 requires numpy>=1.26, but you have numpy 1.24.4 which is incompatible.\n",
            "scikit-image 0.25.2 requires scipy>=1.11.4, but you have scipy 1.10.1 which is incompatible.\n",
            "jax 0.5.2 requires numpy>=1.25, but you have numpy 1.24.4 which is incompatible.\n",
            "jax 0.5.2 requires scipy>=1.11.1, but you have scipy 1.10.1 which is incompatible.\n",
            "tensorflow 2.18.0 requires numpy<2.1.0,>=1.26.0, but you have numpy 1.24.4 which is incompatible.\n",
            "tsfresh 0.21.0 requires scipy>=1.14.0; python_version >= \"3.10\", but you have scipy 1.10.1 which is incompatible.\n",
            "thinc 8.3.6 requires numpy<3.0.0,>=2.0.0, but you have numpy 1.24.4 which is incompatible.\n",
            "cvxpy 1.6.5 requires scipy>=1.11.0, but you have scipy 1.10.1 which is incompatible.\n",
            "treescope 0.1.9 requires numpy>=1.25.2, but you have numpy 1.24.4 which is incompatible.\u001b[0m\u001b[31m\n",
            "\u001b[0mSuccessfully installed gensim-4.3.3 numpy-1.24.4 scipy-1.10.1 umap-0.1.1\n"
          ]
        },
        {
          "output_type": "display_data",
          "data": {
            "application/vnd.colab-display-data+json": {
              "pip_warning": {
                "packages": [
                  "numpy"
                ]
              },
              "id": "f8dcd0935de3406098e972c299f0e2bf"
            }
          },
          "metadata": {}
        }
      ],
      "source": [
        "!pip install numpy==1.24.4 scipy==1.10.1 gensim==4.3.3 umap umap-learn"
      ]
    },
    {
      "cell_type": "code",
      "execution_count": 1,
      "id": "Q946i0tUP9K9",
      "metadata": {
        "colab": {
          "base_uri": "https://localhost:8080/"
        },
        "id": "Q946i0tUP9K9",
        "outputId": "fa5fde07-642c-4fc1-fbc3-6ce053cc6f77"
      },
      "outputs": [
        {
          "output_type": "stream",
          "name": "stdout",
          "text": [
            "Requirement already satisfied: nltk in /usr/local/lib/python3.11/dist-packages (3.9.1)\n",
            "Requirement already satisfied: click in /usr/local/lib/python3.11/dist-packages (from nltk) (8.2.1)\n",
            "Requirement already satisfied: joblib in /usr/local/lib/python3.11/dist-packages (from nltk) (1.5.0)\n",
            "Requirement already satisfied: regex>=2021.8.3 in /usr/local/lib/python3.11/dist-packages (from nltk) (2024.11.6)\n",
            "Requirement already satisfied: tqdm in /usr/local/lib/python3.11/dist-packages (from nltk) (4.67.1)\n",
            "Requirement already satisfied: spacy in /usr/local/lib/python3.11/dist-packages (3.8.6)\n",
            "Requirement already satisfied: spacy-legacy<3.1.0,>=3.0.11 in /usr/local/lib/python3.11/dist-packages (from spacy) (3.0.12)\n",
            "Requirement already satisfied: spacy-loggers<2.0.0,>=1.0.0 in /usr/local/lib/python3.11/dist-packages (from spacy) (1.0.5)\n",
            "Requirement already satisfied: murmurhash<1.1.0,>=0.28.0 in /usr/local/lib/python3.11/dist-packages (from spacy) (1.0.12)\n",
            "Requirement already satisfied: cymem<2.1.0,>=2.0.2 in /usr/local/lib/python3.11/dist-packages (from spacy) (2.0.11)\n",
            "Requirement already satisfied: preshed<3.1.0,>=3.0.2 in /usr/local/lib/python3.11/dist-packages (from spacy) (3.0.9)\n",
            "Requirement already satisfied: thinc<8.4.0,>=8.3.4 in /usr/local/lib/python3.11/dist-packages (from spacy) (8.3.6)\n",
            "Requirement already satisfied: wasabi<1.2.0,>=0.9.1 in /usr/local/lib/python3.11/dist-packages (from spacy) (1.1.3)\n",
            "Requirement already satisfied: srsly<3.0.0,>=2.4.3 in /usr/local/lib/python3.11/dist-packages (from spacy) (2.5.1)\n",
            "Requirement already satisfied: catalogue<2.1.0,>=2.0.6 in /usr/local/lib/python3.11/dist-packages (from spacy) (2.0.10)\n",
            "Requirement already satisfied: weasel<0.5.0,>=0.1.0 in /usr/local/lib/python3.11/dist-packages (from spacy) (0.4.1)\n",
            "Requirement already satisfied: typer<1.0.0,>=0.3.0 in /usr/local/lib/python3.11/dist-packages (from spacy) (0.15.3)\n",
            "Requirement already satisfied: tqdm<5.0.0,>=4.38.0 in /usr/local/lib/python3.11/dist-packages (from spacy) (4.67.1)\n",
            "Requirement already satisfied: numpy>=1.19.0 in /usr/local/lib/python3.11/dist-packages (from spacy) (1.24.4)\n",
            "Requirement already satisfied: requests<3.0.0,>=2.13.0 in /usr/local/lib/python3.11/dist-packages (from spacy) (2.32.3)\n",
            "Requirement already satisfied: pydantic!=1.8,!=1.8.1,<3.0.0,>=1.7.4 in /usr/local/lib/python3.11/dist-packages (from spacy) (2.11.4)\n",
            "Requirement already satisfied: jinja2 in /usr/local/lib/python3.11/dist-packages (from spacy) (3.1.6)\n",
            "Requirement already satisfied: setuptools in /usr/local/lib/python3.11/dist-packages (from spacy) (75.2.0)\n",
            "Requirement already satisfied: packaging>=20.0 in /usr/local/lib/python3.11/dist-packages (from spacy) (24.2)\n",
            "Requirement already satisfied: langcodes<4.0.0,>=3.2.0 in /usr/local/lib/python3.11/dist-packages (from spacy) (3.5.0)\n",
            "Requirement already satisfied: language-data>=1.2 in /usr/local/lib/python3.11/dist-packages (from langcodes<4.0.0,>=3.2.0->spacy) (1.3.0)\n",
            "Requirement already satisfied: annotated-types>=0.6.0 in /usr/local/lib/python3.11/dist-packages (from pydantic!=1.8,!=1.8.1,<3.0.0,>=1.7.4->spacy) (0.7.0)\n",
            "Requirement already satisfied: pydantic-core==2.33.2 in /usr/local/lib/python3.11/dist-packages (from pydantic!=1.8,!=1.8.1,<3.0.0,>=1.7.4->spacy) (2.33.2)\n",
            "Requirement already satisfied: typing-extensions>=4.12.2 in /usr/local/lib/python3.11/dist-packages (from pydantic!=1.8,!=1.8.1,<3.0.0,>=1.7.4->spacy) (4.13.2)\n",
            "Requirement already satisfied: typing-inspection>=0.4.0 in /usr/local/lib/python3.11/dist-packages (from pydantic!=1.8,!=1.8.1,<3.0.0,>=1.7.4->spacy) (0.4.1)\n",
            "Requirement already satisfied: charset-normalizer<4,>=2 in /usr/local/lib/python3.11/dist-packages (from requests<3.0.0,>=2.13.0->spacy) (3.4.2)\n",
            "Requirement already satisfied: idna<4,>=2.5 in /usr/local/lib/python3.11/dist-packages (from requests<3.0.0,>=2.13.0->spacy) (3.10)\n",
            "Requirement already satisfied: urllib3<3,>=1.21.1 in /usr/local/lib/python3.11/dist-packages (from requests<3.0.0,>=2.13.0->spacy) (2.4.0)\n",
            "Requirement already satisfied: certifi>=2017.4.17 in /usr/local/lib/python3.11/dist-packages (from requests<3.0.0,>=2.13.0->spacy) (2025.4.26)\n",
            "Requirement already satisfied: blis<1.4.0,>=1.3.0 in /usr/local/lib/python3.11/dist-packages (from thinc<8.4.0,>=8.3.4->spacy) (1.3.0)\n",
            "Requirement already satisfied: confection<1.0.0,>=0.0.1 in /usr/local/lib/python3.11/dist-packages (from thinc<8.4.0,>=8.3.4->spacy) (0.1.5)\n",
            "Collecting numpy>=1.19.0 (from spacy)\n",
            "  Downloading numpy-2.2.6-cp311-cp311-manylinux_2_17_x86_64.manylinux2014_x86_64.whl.metadata (62 kB)\n",
            "\u001b[2K     \u001b[90m━━━━━━━━━━━━━━━━━━━━━━━━━━━━━━━━━━━━━━━━\u001b[0m \u001b[32m62.0/62.0 kB\u001b[0m \u001b[31m2.0 MB/s\u001b[0m eta \u001b[36m0:00:00\u001b[0m\n",
            "\u001b[?25hRequirement already satisfied: click>=8.0.0 in /usr/local/lib/python3.11/dist-packages (from typer<1.0.0,>=0.3.0->spacy) (8.2.1)\n",
            "Requirement already satisfied: shellingham>=1.3.0 in /usr/local/lib/python3.11/dist-packages (from typer<1.0.0,>=0.3.0->spacy) (1.5.4)\n",
            "Requirement already satisfied: rich>=10.11.0 in /usr/local/lib/python3.11/dist-packages (from typer<1.0.0,>=0.3.0->spacy) (13.9.4)\n",
            "Requirement already satisfied: cloudpathlib<1.0.0,>=0.7.0 in /usr/local/lib/python3.11/dist-packages (from weasel<0.5.0,>=0.1.0->spacy) (0.21.1)\n",
            "Requirement already satisfied: smart-open<8.0.0,>=5.2.1 in /usr/local/lib/python3.11/dist-packages (from weasel<0.5.0,>=0.1.0->spacy) (7.1.0)\n",
            "Requirement already satisfied: MarkupSafe>=2.0 in /usr/local/lib/python3.11/dist-packages (from jinja2->spacy) (3.0.2)\n",
            "Requirement already satisfied: marisa-trie>=1.1.0 in /usr/local/lib/python3.11/dist-packages (from language-data>=1.2->langcodes<4.0.0,>=3.2.0->spacy) (1.2.1)\n",
            "Requirement already satisfied: markdown-it-py>=2.2.0 in /usr/local/lib/python3.11/dist-packages (from rich>=10.11.0->typer<1.0.0,>=0.3.0->spacy) (3.0.0)\n",
            "Requirement already satisfied: pygments<3.0.0,>=2.13.0 in /usr/local/lib/python3.11/dist-packages (from rich>=10.11.0->typer<1.0.0,>=0.3.0->spacy) (2.19.1)\n",
            "Requirement already satisfied: wrapt in /usr/local/lib/python3.11/dist-packages (from smart-open<8.0.0,>=5.2.1->weasel<0.5.0,>=0.1.0->spacy) (1.17.2)\n",
            "Requirement already satisfied: mdurl~=0.1 in /usr/local/lib/python3.11/dist-packages (from markdown-it-py>=2.2.0->rich>=10.11.0->typer<1.0.0,>=0.3.0->spacy) (0.1.2)\n",
            "Downloading numpy-2.2.6-cp311-cp311-manylinux_2_17_x86_64.manylinux2014_x86_64.whl (16.8 MB)\n",
            "\u001b[2K   \u001b[90m━━━━━━━━━━━━━━━━━━━━━━━━━━━━━━━━━━━━━━━━\u001b[0m \u001b[32m16.8/16.8 MB\u001b[0m \u001b[31m28.2 MB/s\u001b[0m eta \u001b[36m0:00:00\u001b[0m\n",
            "\u001b[?25hInstalling collected packages: numpy\n",
            "  Attempting uninstall: numpy\n",
            "    Found existing installation: numpy 1.24.4\n",
            "    Uninstalling numpy-1.24.4:\n",
            "      Successfully uninstalled numpy-1.24.4\n",
            "\u001b[31mERROR: pip's dependency resolver does not currently take into account all the packages that are installed. This behaviour is the source of the following dependency conflicts.\n",
            "gensim 4.3.3 requires numpy<2.0,>=1.18.5, but you have numpy 2.2.6 which is incompatible.\n",
            "scipy 1.10.1 requires numpy<1.27.0,>=1.19.5, but you have numpy 2.2.6 which is incompatible.\n",
            "jaxlib 0.5.1 requires scipy>=1.11.1, but you have scipy 1.10.1 which is incompatible.\n",
            "scikit-image 0.25.2 requires scipy>=1.11.4, but you have scipy 1.10.1 which is incompatible.\n",
            "numba 0.60.0 requires numpy<2.1,>=1.22, but you have numpy 2.2.6 which is incompatible.\n",
            "jax 0.5.2 requires scipy>=1.11.1, but you have scipy 1.10.1 which is incompatible.\n",
            "tensorflow 2.18.0 requires numpy<2.1.0,>=1.26.0, but you have numpy 2.2.6 which is incompatible.\n",
            "tsfresh 0.21.0 requires scipy>=1.14.0; python_version >= \"3.10\", but you have scipy 1.10.1 which is incompatible.\n",
            "cvxpy 1.6.5 requires scipy>=1.11.0, but you have scipy 1.10.1 which is incompatible.\u001b[0m\u001b[31m\n",
            "\u001b[0mSuccessfully installed numpy-2.2.6\n",
            "/usr/local/lib/python3.11/dist-packages/scipy/__init__.py:143: UserWarning: A NumPy version >=1.19.5 and <1.27.0 is required for this version of SciPy (detected version 2.2.6)\n",
            "  warnings.warn(f\"A NumPy version >={np_minversion} and <{np_maxversion}\"\n",
            "\n",
            "A module that was compiled using NumPy 1.x cannot be run in\n",
            "NumPy 2.2.6 as it may crash. To support both 1.x and 2.x\n",
            "versions of NumPy, modules must be compiled with NumPy 2.0.\n",
            "Some module may need to rebuild instead e.g. with 'pybind11>=2.12'.\n",
            "\n",
            "If you are a user of the module, the easiest solution will be to\n",
            "downgrade to 'numpy<2' or try to upgrade the affected module.\n",
            "We expect that some modules will need time to support NumPy 2.\n",
            "\n",
            "Traceback (most recent call last):  File \"<frozen runpy>\", line 189, in _run_module_as_main\n",
            "  File \"<frozen runpy>\", line 148, in _get_module_details\n",
            "  File \"<frozen runpy>\", line 112, in _get_module_details\n",
            "  File \"/usr/local/lib/python3.11/dist-packages/spacy/__init__.py\", line 6, in <module>\n",
            "    from .errors import setup_default_warnings\n",
            "  File \"/usr/local/lib/python3.11/dist-packages/spacy/errors.py\", line 3, in <module>\n",
            "    from .compat import Literal\n",
            "  File \"/usr/local/lib/python3.11/dist-packages/spacy/compat.py\", line 4, in <module>\n",
            "    from thinc.util import copy_array\n",
            "  File \"/usr/local/lib/python3.11/dist-packages/thinc/__init__.py\", line 5, in <module>\n",
            "    from .config import registry\n",
            "  File \"/usr/local/lib/python3.11/dist-packages/thinc/config.py\", line 2, in <module>\n",
            "    import confection\n",
            "  File \"/usr/local/lib/python3.11/dist-packages/confection/__init__.py\", line 35, in <module>\n",
            "    import srsly\n",
            "  File \"/usr/local/lib/python3.11/dist-packages/srsly/__init__.py\", line 5, in <module>\n",
            "    from ._msgpack_api import read_msgpack, write_msgpack, msgpack_dumps, msgpack_loads\n",
            "  File \"/usr/local/lib/python3.11/dist-packages/srsly/_msgpack_api.py\", line 3, in <module>\n",
            "    from . import msgpack\n",
            "  File \"/usr/local/lib/python3.11/dist-packages/srsly/msgpack/__init__.py\", line 18, in <module>\n",
            "    from ._msgpack_numpy import encode_numpy as _encode_numpy\n",
            "  File \"/usr/local/lib/python3.11/dist-packages/srsly/msgpack/_msgpack_numpy.py\", line 19, in <module>\n",
            "    import cupy\n",
            "  File \"/usr/local/lib/python3.11/dist-packages/cupy/__init__.py\", line 30, in <module>\n",
            "    import cupyx as _cupyx  # NOQA\n",
            "  File \"/usr/local/lib/python3.11/dist-packages/cupyx/__init__.py\", line 8, in <module>\n",
            "    from cupyx import linalg  # NOQA\n",
            "  File \"/usr/local/lib/python3.11/dist-packages/cupyx/linalg/__init__.py\", line 2, in <module>\n",
            "    from cupyx.linalg import sparse  # NOQA\n",
            "  File \"/usr/local/lib/python3.11/dist-packages/cupyx/linalg/sparse/__init__.py\", line 3, in <module>\n",
            "    from cupyx.linalg.sparse._solve import lschol  # NOQA\n",
            "  File \"/usr/local/lib/python3.11/dist-packages/cupyx/linalg/sparse/_solve.py\", line 6, in <module>\n",
            "    from cupyx.scipy import sparse\n",
            "  File \"/usr/local/lib/python3.11/dist-packages/cupyx/scipy/__init__.py\", line 4, in <module>\n",
            "    from cupyx.scipy.sparse._base import spmatrix as _spmatrix\n",
            "  File \"/usr/local/lib/python3.11/dist-packages/cupyx/scipy/sparse/__init__.py\", line 1, in <module>\n",
            "    from cupyx.scipy.sparse._base import issparse  # NOQA\n",
            "  File \"/usr/local/lib/python3.11/dist-packages/cupyx/scipy/sparse/_base.py\", line 10, in <module>\n",
            "    import scipy.sparse as _sparse\n",
            "  File \"/usr/local/lib/python3.11/dist-packages/scipy/sparse/__init__.py\", line 267, in <module>\n",
            "    from ._csr import *\n",
            "  File \"/usr/local/lib/python3.11/dist-packages/scipy/sparse/_csr.py\", line 10, in <module>\n",
            "    from ._sparsetools import (csr_tocsc, csr_tobsr, csr_count_blocks,\n",
            "AttributeError: _ARRAY_API not found\n",
            "\n",
            "A module that was compiled using NumPy 1.x cannot be run in\n",
            "NumPy 2.2.6 as it may crash. To support both 1.x and 2.x\n",
            "versions of NumPy, modules must be compiled with NumPy 2.0.\n",
            "Some module may need to rebuild instead e.g. with 'pybind11>=2.12'.\n",
            "\n",
            "If you are a user of the module, the easiest solution will be to\n",
            "downgrade to 'numpy<2' or try to upgrade the affected module.\n",
            "We expect that some modules will need time to support NumPy 2.\n",
            "\n",
            "Traceback (most recent call last):  File \"<frozen runpy>\", line 189, in _run_module_as_main\n",
            "  File \"<frozen runpy>\", line 148, in _get_module_details\n",
            "  File \"<frozen runpy>\", line 112, in _get_module_details\n",
            "  File \"/usr/local/lib/python3.11/dist-packages/spacy/__init__.py\", line 6, in <module>\n",
            "    from .errors import setup_default_warnings\n",
            "  File \"/usr/local/lib/python3.11/dist-packages/spacy/errors.py\", line 3, in <module>\n",
            "    from .compat import Literal\n",
            "  File \"/usr/local/lib/python3.11/dist-packages/spacy/compat.py\", line 4, in <module>\n",
            "    from thinc.util import copy_array\n",
            "  File \"/usr/local/lib/python3.11/dist-packages/thinc/__init__.py\", line 5, in <module>\n",
            "    from .config import registry\n",
            "  File \"/usr/local/lib/python3.11/dist-packages/thinc/config.py\", line 2, in <module>\n",
            "    import confection\n",
            "  File \"/usr/local/lib/python3.11/dist-packages/confection/__init__.py\", line 35, in <module>\n",
            "    import srsly\n",
            "  File \"/usr/local/lib/python3.11/dist-packages/srsly/__init__.py\", line 5, in <module>\n",
            "    from ._msgpack_api import read_msgpack, write_msgpack, msgpack_dumps, msgpack_loads\n",
            "  File \"/usr/local/lib/python3.11/dist-packages/srsly/_msgpack_api.py\", line 3, in <module>\n",
            "    from . import msgpack\n",
            "  File \"/usr/local/lib/python3.11/dist-packages/srsly/msgpack/__init__.py\", line 18, in <module>\n",
            "    from ._msgpack_numpy import encode_numpy as _encode_numpy\n",
            "  File \"/usr/local/lib/python3.11/dist-packages/srsly/msgpack/_msgpack_numpy.py\", line 19, in <module>\n",
            "    import cupy\n",
            "  File \"/usr/local/lib/python3.11/dist-packages/cupy/__init__.py\", line 30, in <module>\n",
            "    import cupyx as _cupyx  # NOQA\n",
            "  File \"/usr/local/lib/python3.11/dist-packages/cupyx/__init__.py\", line 8, in <module>\n",
            "    from cupyx import linalg  # NOQA\n",
            "  File \"/usr/local/lib/python3.11/dist-packages/cupyx/linalg/__init__.py\", line 2, in <module>\n",
            "    from cupyx.linalg import sparse  # NOQA\n",
            "  File \"/usr/local/lib/python3.11/dist-packages/cupyx/linalg/sparse/__init__.py\", line 3, in <module>\n",
            "    from cupyx.linalg.sparse._solve import lschol  # NOQA\n",
            "  File \"/usr/local/lib/python3.11/dist-packages/cupyx/linalg/sparse/_solve.py\", line 6, in <module>\n",
            "    from cupyx.scipy import sparse\n",
            "  File \"/usr/local/lib/python3.11/dist-packages/cupyx/scipy/__init__.py\", line 4, in <module>\n",
            "    from cupyx.scipy.sparse._base import spmatrix as _spmatrix\n",
            "  File \"/usr/local/lib/python3.11/dist-packages/cupyx/scipy/sparse/__init__.py\", line 6, in <module>\n",
            "    from cupyx.scipy.sparse._coo import coo_matrix  # NOQA\n",
            "  File \"/usr/local/lib/python3.11/dist-packages/cupyx/scipy/sparse/_coo.py\", line 3, in <module>\n",
            "    import scipy.sparse\n",
            "  File \"/usr/local/lib/python3.11/dist-packages/scipy/sparse/__init__.py\", line 267, in <module>\n",
            "    from ._csr import *\n",
            "  File \"/usr/local/lib/python3.11/dist-packages/scipy/sparse/_csr.py\", line 10, in <module>\n",
            "    from ._sparsetools import (csr_tocsc, csr_tobsr, csr_count_blocks,\n",
            "AttributeError: _ARRAY_API not found\n",
            "\n",
            "A module that was compiled using NumPy 1.x cannot be run in\n",
            "NumPy 2.2.6 as it may crash. To support both 1.x and 2.x\n",
            "versions of NumPy, modules must be compiled with NumPy 2.0.\n",
            "Some module may need to rebuild instead e.g. with 'pybind11>=2.12'.\n",
            "\n",
            "If you are a user of the module, the easiest solution will be to\n",
            "downgrade to 'numpy<2' or try to upgrade the affected module.\n",
            "We expect that some modules will need time to support NumPy 2.\n",
            "\n",
            "Traceback (most recent call last):  File \"<frozen runpy>\", line 189, in _run_module_as_main\n",
            "  File \"<frozen runpy>\", line 148, in _get_module_details\n",
            "  File \"<frozen runpy>\", line 112, in _get_module_details\n",
            "  File \"/usr/local/lib/python3.11/dist-packages/spacy/__init__.py\", line 6, in <module>\n",
            "    from .errors import setup_default_warnings\n",
            "  File \"/usr/local/lib/python3.11/dist-packages/spacy/errors.py\", line 3, in <module>\n",
            "    from .compat import Literal\n",
            "  File \"/usr/local/lib/python3.11/dist-packages/spacy/compat.py\", line 4, in <module>\n",
            "    from thinc.util import copy_array\n",
            "  File \"/usr/local/lib/python3.11/dist-packages/thinc/__init__.py\", line 5, in <module>\n",
            "    from .config import registry\n",
            "  File \"/usr/local/lib/python3.11/dist-packages/thinc/config.py\", line 2, in <module>\n",
            "    import confection\n",
            "  File \"/usr/local/lib/python3.11/dist-packages/confection/__init__.py\", line 35, in <module>\n",
            "    import srsly\n",
            "  File \"/usr/local/lib/python3.11/dist-packages/srsly/__init__.py\", line 5, in <module>\n",
            "    from ._msgpack_api import read_msgpack, write_msgpack, msgpack_dumps, msgpack_loads\n",
            "  File \"/usr/local/lib/python3.11/dist-packages/srsly/_msgpack_api.py\", line 3, in <module>\n",
            "    from . import msgpack\n",
            "  File \"/usr/local/lib/python3.11/dist-packages/srsly/msgpack/__init__.py\", line 18, in <module>\n",
            "    from ._msgpack_numpy import encode_numpy as _encode_numpy\n",
            "  File \"/usr/local/lib/python3.11/dist-packages/srsly/msgpack/_msgpack_numpy.py\", line 19, in <module>\n",
            "    import cupy\n",
            "  File \"/usr/local/lib/python3.11/dist-packages/cupy/__init__.py\", line 30, in <module>\n",
            "    import cupyx as _cupyx  # NOQA\n",
            "  File \"/usr/local/lib/python3.11/dist-packages/cupyx/__init__.py\", line 8, in <module>\n",
            "    from cupyx import linalg  # NOQA\n",
            "  File \"/usr/local/lib/python3.11/dist-packages/cupyx/linalg/__init__.py\", line 2, in <module>\n",
            "    from cupyx.linalg import sparse  # NOQA\n",
            "  File \"/usr/local/lib/python3.11/dist-packages/cupyx/linalg/sparse/__init__.py\", line 3, in <module>\n",
            "    from cupyx.linalg.sparse._solve import lschol  # NOQA\n",
            "  File \"/usr/local/lib/python3.11/dist-packages/cupyx/linalg/sparse/_solve.py\", line 6, in <module>\n",
            "    from cupyx.scipy import sparse\n",
            "  File \"/usr/local/lib/python3.11/dist-packages/cupyx/scipy/__init__.py\", line 4, in <module>\n",
            "    from cupyx.scipy.sparse._base import spmatrix as _spmatrix\n",
            "  File \"/usr/local/lib/python3.11/dist-packages/cupyx/scipy/sparse/__init__.py\", line 6, in <module>\n",
            "    from cupyx.scipy.sparse._coo import coo_matrix  # NOQA\n",
            "  File \"/usr/local/lib/python3.11/dist-packages/cupyx/scipy/sparse/_coo.py\", line 11, in <module>\n",
            "    from cupyx.scipy.sparse import _csc\n",
            "  File \"/usr/local/lib/python3.11/dist-packages/cupyx/scipy/sparse/_csc.py\", line 2, in <module>\n",
            "    import scipy.sparse\n",
            "  File \"/usr/local/lib/python3.11/dist-packages/scipy/sparse/__init__.py\", line 267, in <module>\n",
            "    from ._csr import *\n",
            "  File \"/usr/local/lib/python3.11/dist-packages/scipy/sparse/_csr.py\", line 10, in <module>\n",
            "    from ._sparsetools import (csr_tocsc, csr_tobsr, csr_count_blocks,\n",
            "AttributeError: _ARRAY_API not found\n",
            "\n",
            "A module that was compiled using NumPy 1.x cannot be run in\n",
            "NumPy 2.2.6 as it may crash. To support both 1.x and 2.x\n",
            "versions of NumPy, modules must be compiled with NumPy 2.0.\n",
            "Some module may need to rebuild instead e.g. with 'pybind11>=2.12'.\n",
            "\n",
            "If you are a user of the module, the easiest solution will be to\n",
            "downgrade to 'numpy<2' or try to upgrade the affected module.\n",
            "We expect that some modules will need time to support NumPy 2.\n",
            "\n",
            "Traceback (most recent call last):  File \"<frozen runpy>\", line 189, in _run_module_as_main\n",
            "  File \"<frozen runpy>\", line 148, in _get_module_details\n",
            "  File \"<frozen runpy>\", line 112, in _get_module_details\n",
            "  File \"/usr/local/lib/python3.11/dist-packages/spacy/__init__.py\", line 6, in <module>\n",
            "    from .errors import setup_default_warnings\n",
            "  File \"/usr/local/lib/python3.11/dist-packages/spacy/errors.py\", line 3, in <module>\n",
            "    from .compat import Literal\n",
            "  File \"/usr/local/lib/python3.11/dist-packages/spacy/compat.py\", line 4, in <module>\n",
            "    from thinc.util import copy_array\n",
            "  File \"/usr/local/lib/python3.11/dist-packages/thinc/__init__.py\", line 5, in <module>\n",
            "    from .config import registry\n",
            "  File \"/usr/local/lib/python3.11/dist-packages/thinc/config.py\", line 2, in <module>\n",
            "    import confection\n",
            "  File \"/usr/local/lib/python3.11/dist-packages/confection/__init__.py\", line 35, in <module>\n",
            "    import srsly\n",
            "  File \"/usr/local/lib/python3.11/dist-packages/srsly/__init__.py\", line 5, in <module>\n",
            "    from ._msgpack_api import read_msgpack, write_msgpack, msgpack_dumps, msgpack_loads\n",
            "  File \"/usr/local/lib/python3.11/dist-packages/srsly/_msgpack_api.py\", line 3, in <module>\n",
            "    from . import msgpack\n",
            "  File \"/usr/local/lib/python3.11/dist-packages/srsly/msgpack/__init__.py\", line 18, in <module>\n",
            "    from ._msgpack_numpy import encode_numpy as _encode_numpy\n",
            "  File \"/usr/local/lib/python3.11/dist-packages/srsly/msgpack/_msgpack_numpy.py\", line 19, in <module>\n",
            "    import cupy\n",
            "  File \"/usr/local/lib/python3.11/dist-packages/cupy/__init__.py\", line 30, in <module>\n",
            "    import cupyx as _cupyx  # NOQA\n",
            "  File \"/usr/local/lib/python3.11/dist-packages/cupyx/__init__.py\", line 8, in <module>\n",
            "    from cupyx import linalg  # NOQA\n",
            "  File \"/usr/local/lib/python3.11/dist-packages/cupyx/linalg/__init__.py\", line 2, in <module>\n",
            "    from cupyx.linalg import sparse  # NOQA\n",
            "  File \"/usr/local/lib/python3.11/dist-packages/cupyx/linalg/sparse/__init__.py\", line 3, in <module>\n",
            "    from cupyx.linalg.sparse._solve import lschol  # NOQA\n",
            "  File \"/usr/local/lib/python3.11/dist-packages/cupyx/linalg/sparse/_solve.py\", line 6, in <module>\n",
            "    from cupyx.scipy import sparse\n",
            "  File \"/usr/local/lib/python3.11/dist-packages/cupyx/scipy/__init__.py\", line 4, in <module>\n",
            "    from cupyx.scipy.sparse._base import spmatrix as _spmatrix\n",
            "  File \"/usr/local/lib/python3.11/dist-packages/cupyx/scipy/sparse/__init__.py\", line 6, in <module>\n",
            "    from cupyx.scipy.sparse._coo import coo_matrix  # NOQA\n",
            "  File \"/usr/local/lib/python3.11/dist-packages/cupyx/scipy/sparse/_coo.py\", line 11, in <module>\n",
            "    from cupyx.scipy.sparse import _csc\n",
            "  File \"/usr/local/lib/python3.11/dist-packages/cupyx/scipy/sparse/_csc.py\", line 12, in <module>\n",
            "    from cupyx.scipy.sparse import _compressed\n",
            "  File \"/usr/local/lib/python3.11/dist-packages/cupyx/scipy/sparse/_compressed.py\", line 6, in <module>\n",
            "    import scipy.sparse\n",
            "  File \"/usr/local/lib/python3.11/dist-packages/scipy/sparse/__init__.py\", line 267, in <module>\n",
            "    from ._csr import *\n",
            "  File \"/usr/local/lib/python3.11/dist-packages/scipy/sparse/_csr.py\", line 10, in <module>\n",
            "    from ._sparsetools import (csr_tocsc, csr_tobsr, csr_count_blocks,\n",
            "AttributeError: _ARRAY_API not found\n",
            "\n",
            "A module that was compiled using NumPy 1.x cannot be run in\n",
            "NumPy 2.2.6 as it may crash. To support both 1.x and 2.x\n",
            "versions of NumPy, modules must be compiled with NumPy 2.0.\n",
            "Some module may need to rebuild instead e.g. with 'pybind11>=2.12'.\n",
            "\n",
            "If you are a user of the module, the easiest solution will be to\n",
            "downgrade to 'numpy<2' or try to upgrade the affected module.\n",
            "We expect that some modules will need time to support NumPy 2.\n",
            "\n",
            "Traceback (most recent call last):  File \"<frozen runpy>\", line 189, in _run_module_as_main\n",
            "  File \"<frozen runpy>\", line 148, in _get_module_details\n",
            "  File \"<frozen runpy>\", line 112, in _get_module_details\n",
            "  File \"/usr/local/lib/python3.11/dist-packages/spacy/__init__.py\", line 6, in <module>\n",
            "    from .errors import setup_default_warnings\n",
            "  File \"/usr/local/lib/python3.11/dist-packages/spacy/errors.py\", line 3, in <module>\n",
            "    from .compat import Literal\n",
            "  File \"/usr/local/lib/python3.11/dist-packages/spacy/compat.py\", line 4, in <module>\n",
            "    from thinc.util import copy_array\n",
            "  File \"/usr/local/lib/python3.11/dist-packages/thinc/__init__.py\", line 5, in <module>\n",
            "    from .config import registry\n",
            "  File \"/usr/local/lib/python3.11/dist-packages/thinc/config.py\", line 2, in <module>\n",
            "    import confection\n",
            "  File \"/usr/local/lib/python3.11/dist-packages/confection/__init__.py\", line 35, in <module>\n",
            "    import srsly\n",
            "  File \"/usr/local/lib/python3.11/dist-packages/srsly/__init__.py\", line 5, in <module>\n",
            "    from ._msgpack_api import read_msgpack, write_msgpack, msgpack_dumps, msgpack_loads\n",
            "  File \"/usr/local/lib/python3.11/dist-packages/srsly/_msgpack_api.py\", line 3, in <module>\n",
            "    from . import msgpack\n",
            "  File \"/usr/local/lib/python3.11/dist-packages/srsly/msgpack/__init__.py\", line 18, in <module>\n",
            "    from ._msgpack_numpy import encode_numpy as _encode_numpy\n",
            "  File \"/usr/local/lib/python3.11/dist-packages/srsly/msgpack/_msgpack_numpy.py\", line 19, in <module>\n",
            "    import cupy\n",
            "  File \"/usr/local/lib/python3.11/dist-packages/cupy/__init__.py\", line 30, in <module>\n",
            "    import cupyx as _cupyx  # NOQA\n",
            "  File \"/usr/local/lib/python3.11/dist-packages/cupyx/__init__.py\", line 8, in <module>\n",
            "    from cupyx import linalg  # NOQA\n",
            "  File \"/usr/local/lib/python3.11/dist-packages/cupyx/linalg/__init__.py\", line 2, in <module>\n",
            "    from cupyx.linalg import sparse  # NOQA\n",
            "  File \"/usr/local/lib/python3.11/dist-packages/cupyx/linalg/sparse/__init__.py\", line 3, in <module>\n",
            "    from cupyx.linalg.sparse._solve import lschol  # NOQA\n",
            "  File \"/usr/local/lib/python3.11/dist-packages/cupyx/linalg/sparse/_solve.py\", line 6, in <module>\n",
            "    from cupyx.scipy import sparse\n",
            "  File \"/usr/local/lib/python3.11/dist-packages/cupyx/scipy/__init__.py\", line 4, in <module>\n",
            "    from cupyx.scipy.sparse._base import spmatrix as _spmatrix\n",
            "  File \"/usr/local/lib/python3.11/dist-packages/cupyx/scipy/sparse/__init__.py\", line 6, in <module>\n",
            "    from cupyx.scipy.sparse._coo import coo_matrix  # NOQA\n",
            "  File \"/usr/local/lib/python3.11/dist-packages/cupyx/scipy/sparse/_coo.py\", line 11, in <module>\n",
            "    from cupyx.scipy.sparse import _csc\n",
            "  File \"/usr/local/lib/python3.11/dist-packages/cupyx/scipy/sparse/_csc.py\", line 12, in <module>\n",
            "    from cupyx.scipy.sparse import _compressed\n",
            "  File \"/usr/local/lib/python3.11/dist-packages/cupyx/scipy/sparse/_compressed.py\", line 23, in <module>\n",
            "    from cupyx.scipy.sparse import _index\n",
            "  File \"/usr/local/lib/python3.11/dist-packages/cupyx/scipy/sparse/_index.py\", line 16, in <module>\n",
            "    import scipy.sparse\n",
            "  File \"/usr/local/lib/python3.11/dist-packages/scipy/sparse/__init__.py\", line 267, in <module>\n",
            "    from ._csr import *\n",
            "  File \"/usr/local/lib/python3.11/dist-packages/scipy/sparse/_csr.py\", line 10, in <module>\n",
            "    from ._sparsetools import (csr_tocsc, csr_tobsr, csr_count_blocks,\n",
            "AttributeError: _ARRAY_API not found\n",
            "\n",
            "A module that was compiled using NumPy 1.x cannot be run in\n",
            "NumPy 2.2.6 as it may crash. To support both 1.x and 2.x\n",
            "versions of NumPy, modules must be compiled with NumPy 2.0.\n",
            "Some module may need to rebuild instead e.g. with 'pybind11>=2.12'.\n",
            "\n",
            "If you are a user of the module, the easiest solution will be to\n",
            "downgrade to 'numpy<2' or try to upgrade the affected module.\n",
            "We expect that some modules will need time to support NumPy 2.\n",
            "\n",
            "Traceback (most recent call last):  File \"<frozen runpy>\", line 189, in _run_module_as_main\n",
            "  File \"<frozen runpy>\", line 148, in _get_module_details\n",
            "  File \"<frozen runpy>\", line 112, in _get_module_details\n",
            "  File \"/usr/local/lib/python3.11/dist-packages/spacy/__init__.py\", line 6, in <module>\n",
            "    from .errors import setup_default_warnings\n",
            "  File \"/usr/local/lib/python3.11/dist-packages/spacy/errors.py\", line 3, in <module>\n",
            "    from .compat import Literal\n",
            "  File \"/usr/local/lib/python3.11/dist-packages/spacy/compat.py\", line 4, in <module>\n",
            "    from thinc.util import copy_array\n",
            "  File \"/usr/local/lib/python3.11/dist-packages/thinc/__init__.py\", line 5, in <module>\n",
            "    from .config import registry\n",
            "  File \"/usr/local/lib/python3.11/dist-packages/thinc/config.py\", line 2, in <module>\n",
            "    import confection\n",
            "  File \"/usr/local/lib/python3.11/dist-packages/confection/__init__.py\", line 35, in <module>\n",
            "    import srsly\n",
            "  File \"/usr/local/lib/python3.11/dist-packages/srsly/__init__.py\", line 5, in <module>\n",
            "    from ._msgpack_api import read_msgpack, write_msgpack, msgpack_dumps, msgpack_loads\n",
            "  File \"/usr/local/lib/python3.11/dist-packages/srsly/_msgpack_api.py\", line 3, in <module>\n",
            "    from . import msgpack\n",
            "  File \"/usr/local/lib/python3.11/dist-packages/srsly/msgpack/__init__.py\", line 18, in <module>\n",
            "    from ._msgpack_numpy import encode_numpy as _encode_numpy\n",
            "  File \"/usr/local/lib/python3.11/dist-packages/srsly/msgpack/_msgpack_numpy.py\", line 19, in <module>\n",
            "    import cupy\n",
            "  File \"/usr/local/lib/python3.11/dist-packages/cupy/__init__.py\", line 30, in <module>\n",
            "    import cupyx as _cupyx  # NOQA\n",
            "  File \"/usr/local/lib/python3.11/dist-packages/cupyx/__init__.py\", line 8, in <module>\n",
            "    from cupyx import linalg  # NOQA\n",
            "  File \"/usr/local/lib/python3.11/dist-packages/cupyx/linalg/__init__.py\", line 2, in <module>\n",
            "    from cupyx.linalg import sparse  # NOQA\n",
            "  File \"/usr/local/lib/python3.11/dist-packages/cupyx/linalg/sparse/__init__.py\", line 3, in <module>\n",
            "    from cupyx.linalg.sparse._solve import lschol  # NOQA\n",
            "  File \"/usr/local/lib/python3.11/dist-packages/cupyx/linalg/sparse/_solve.py\", line 6, in <module>\n",
            "    from cupyx.scipy import sparse\n",
            "  File \"/usr/local/lib/python3.11/dist-packages/cupyx/scipy/__init__.py\", line 4, in <module>\n",
            "    from cupyx.scipy.sparse._base import spmatrix as _spmatrix\n",
            "  File \"/usr/local/lib/python3.11/dist-packages/cupyx/scipy/sparse/__init__.py\", line 6, in <module>\n",
            "    from cupyx.scipy.sparse._coo import coo_matrix  # NOQA\n",
            "  File \"/usr/local/lib/python3.11/dist-packages/cupyx/scipy/sparse/_coo.py\", line 12, in <module>\n",
            "    from cupyx.scipy.sparse import _csr\n",
            "  File \"/usr/local/lib/python3.11/dist-packages/cupyx/scipy/sparse/_csr.py\", line 7, in <module>\n",
            "    import scipy.sparse\n",
            "  File \"/usr/local/lib/python3.11/dist-packages/scipy/sparse/__init__.py\", line 267, in <module>\n",
            "    from ._csr import *\n",
            "  File \"/usr/local/lib/python3.11/dist-packages/scipy/sparse/_csr.py\", line 10, in <module>\n",
            "    from ._sparsetools import (csr_tocsc, csr_tobsr, csr_count_blocks,\n",
            "AttributeError: _ARRAY_API not found\n",
            "\n",
            "A module that was compiled using NumPy 1.x cannot be run in\n",
            "NumPy 2.2.6 as it may crash. To support both 1.x and 2.x\n",
            "versions of NumPy, modules must be compiled with NumPy 2.0.\n",
            "Some module may need to rebuild instead e.g. with 'pybind11>=2.12'.\n",
            "\n",
            "If you are a user of the module, the easiest solution will be to\n",
            "downgrade to 'numpy<2' or try to upgrade the affected module.\n",
            "We expect that some modules will need time to support NumPy 2.\n",
            "\n",
            "Traceback (most recent call last):  File \"<frozen runpy>\", line 189, in _run_module_as_main\n",
            "  File \"<frozen runpy>\", line 148, in _get_module_details\n",
            "  File \"<frozen runpy>\", line 112, in _get_module_details\n",
            "  File \"/usr/local/lib/python3.11/dist-packages/spacy/__init__.py\", line 6, in <module>\n",
            "    from .errors import setup_default_warnings\n",
            "  File \"/usr/local/lib/python3.11/dist-packages/spacy/errors.py\", line 3, in <module>\n",
            "    from .compat import Literal\n",
            "  File \"/usr/local/lib/python3.11/dist-packages/spacy/compat.py\", line 4, in <module>\n",
            "    from thinc.util import copy_array\n",
            "  File \"/usr/local/lib/python3.11/dist-packages/thinc/__init__.py\", line 5, in <module>\n",
            "    from .config import registry\n",
            "  File \"/usr/local/lib/python3.11/dist-packages/thinc/config.py\", line 2, in <module>\n",
            "    import confection\n",
            "  File \"/usr/local/lib/python3.11/dist-packages/confection/__init__.py\", line 35, in <module>\n",
            "    import srsly\n",
            "  File \"/usr/local/lib/python3.11/dist-packages/srsly/__init__.py\", line 5, in <module>\n",
            "    from ._msgpack_api import read_msgpack, write_msgpack, msgpack_dumps, msgpack_loads\n",
            "  File \"/usr/local/lib/python3.11/dist-packages/srsly/_msgpack_api.py\", line 3, in <module>\n",
            "    from . import msgpack\n",
            "  File \"/usr/local/lib/python3.11/dist-packages/srsly/msgpack/__init__.py\", line 18, in <module>\n",
            "    from ._msgpack_numpy import encode_numpy as _encode_numpy\n",
            "  File \"/usr/local/lib/python3.11/dist-packages/srsly/msgpack/_msgpack_numpy.py\", line 19, in <module>\n",
            "    import cupy\n",
            "  File \"/usr/local/lib/python3.11/dist-packages/cupy/__init__.py\", line 30, in <module>\n",
            "    import cupyx as _cupyx  # NOQA\n",
            "  File \"/usr/local/lib/python3.11/dist-packages/cupyx/__init__.py\", line 8, in <module>\n",
            "    from cupyx import linalg  # NOQA\n",
            "  File \"/usr/local/lib/python3.11/dist-packages/cupyx/linalg/__init__.py\", line 2, in <module>\n",
            "    from cupyx.linalg import sparse  # NOQA\n",
            "  File \"/usr/local/lib/python3.11/dist-packages/cupyx/linalg/sparse/__init__.py\", line 3, in <module>\n",
            "    from cupyx.linalg.sparse._solve import lschol  # NOQA\n",
            "  File \"/usr/local/lib/python3.11/dist-packages/cupyx/linalg/sparse/_solve.py\", line 6, in <module>\n",
            "    from cupyx.scipy import sparse\n",
            "  File \"/usr/local/lib/python3.11/dist-packages/cupyx/scipy/__init__.py\", line 4, in <module>\n",
            "    from cupyx.scipy.sparse._base import spmatrix as _spmatrix\n",
            "  File \"/usr/local/lib/python3.11/dist-packages/cupyx/scipy/sparse/__init__.py\", line 12, in <module>\n",
            "    from cupyx.scipy.sparse._dia import dia_matrix  # NOQA\n",
            "  File \"/usr/local/lib/python3.11/dist-packages/cupyx/scipy/sparse/_dia.py\", line 2, in <module>\n",
            "    import scipy.sparse\n",
            "  File \"/usr/local/lib/python3.11/dist-packages/scipy/sparse/__init__.py\", line 267, in <module>\n",
            "    from ._csr import *\n",
            "  File \"/usr/local/lib/python3.11/dist-packages/scipy/sparse/_csr.py\", line 10, in <module>\n",
            "    from ._sparsetools import (csr_tocsc, csr_tobsr, csr_count_blocks,\n",
            "AttributeError: _ARRAY_API not found\n",
            "Traceback (most recent call last):\n",
            "  File \"<frozen runpy>\", line 189, in _run_module_as_main\n",
            "  File \"<frozen runpy>\", line 148, in _get_module_details\n",
            "  File \"<frozen runpy>\", line 112, in _get_module_details\n",
            "  File \"/usr/local/lib/python3.11/dist-packages/spacy/__init__.py\", line 6, in <module>\n",
            "    from .errors import setup_default_warnings\n",
            "  File \"/usr/local/lib/python3.11/dist-packages/spacy/errors.py\", line 3, in <module>\n",
            "    from .compat import Literal\n",
            "  File \"/usr/local/lib/python3.11/dist-packages/spacy/compat.py\", line 4, in <module>\n",
            "    from thinc.util import copy_array\n",
            "  File \"/usr/local/lib/python3.11/dist-packages/thinc/__init__.py\", line 5, in <module>\n",
            "    from .config import registry\n",
            "  File \"/usr/local/lib/python3.11/dist-packages/thinc/config.py\", line 2, in <module>\n",
            "    import confection\n",
            "  File \"/usr/local/lib/python3.11/dist-packages/confection/__init__.py\", line 35, in <module>\n",
            "    import srsly\n",
            "  File \"/usr/local/lib/python3.11/dist-packages/srsly/__init__.py\", line 5, in <module>\n",
            "    from ._msgpack_api import read_msgpack, write_msgpack, msgpack_dumps, msgpack_loads\n",
            "  File \"/usr/local/lib/python3.11/dist-packages/srsly/_msgpack_api.py\", line 3, in <module>\n",
            "    from . import msgpack\n",
            "  File \"/usr/local/lib/python3.11/dist-packages/srsly/msgpack/__init__.py\", line 18, in <module>\n",
            "    from ._msgpack_numpy import encode_numpy as _encode_numpy\n",
            "  File \"/usr/local/lib/python3.11/dist-packages/srsly/msgpack/_msgpack_numpy.py\", line 19, in <module>\n",
            "    import cupy\n",
            "  File \"/usr/local/lib/python3.11/dist-packages/cupy/__init__.py\", line 527, in <module>\n",
            "    from cupy.lib._polynomial import poly1d  # NOQA\n",
            "    ^^^^^^^^^^^^^^^^^^^^^^^^^^^^^^^^^^^^^^^\n",
            "  File \"cupy/lib/_polynomial.pyx\", line 8, in init cupy.lib._polynomial\n",
            "  File \"/usr/local/lib/python3.11/dist-packages/cupy/lib/_routines_poly.py\", line 8, in <module>\n",
            "    import cupyx.scipy.fft\n",
            "  File \"/usr/local/lib/python3.11/dist-packages/cupyx/scipy/fft/__init__.py\", line 2, in <module>\n",
            "    from cupyx.scipy.fft._fft import (\n",
            "  File \"/usr/local/lib/python3.11/dist-packages/cupyx/scipy/fft/_fft.py\", line 15, in <module>\n",
            "    import scipy.fft as _scipy_fft\n",
            "  File \"/usr/local/lib/python3.11/dist-packages/scipy/fft/__init__.py\", line 90, in <module>\n",
            "    from ._fftlog import fhtoffset\n",
            "  File \"/usr/local/lib/python3.11/dist-packages/scipy/fft/_fftlog.py\", line 11, in <module>\n",
            "    from ..special import loggamma, poch\n",
            "  File \"/usr/local/lib/python3.11/dist-packages/scipy/special/__init__.py\", line 663, in <module>\n",
            "    from . import _ufuncs\n",
            "  File \"scipy/special/_ufuncs.pyx\", line 1, in init scipy.special._ufuncs\n",
            "ValueError: numpy.dtype size changed, may indicate binary incompatibility. Expected 96 from C header, got 88 from PyObject\n",
            "Requirement already satisfied: scikit-learn in /usr/local/lib/python3.11/dist-packages (1.6.1)\n",
            "Requirement already satisfied: numpy>=1.19.5 in /usr/local/lib/python3.11/dist-packages (from scikit-learn) (2.2.6)\n",
            "Requirement already satisfied: scipy>=1.6.0 in /usr/local/lib/python3.11/dist-packages (from scikit-learn) (1.10.1)\n",
            "Requirement already satisfied: joblib>=1.2.0 in /usr/local/lib/python3.11/dist-packages (from scikit-learn) (1.5.0)\n",
            "Requirement already satisfied: threadpoolctl>=3.1.0 in /usr/local/lib/python3.11/dist-packages (from scikit-learn) (3.6.0)\n",
            "Collecting numpy>=1.19.5 (from scikit-learn)\n",
            "  Downloading numpy-1.26.4-cp311-cp311-manylinux_2_17_x86_64.manylinux2014_x86_64.whl.metadata (61 kB)\n",
            "\u001b[2K     \u001b[90m━━━━━━━━━━━━━━━━━━━━━━━━━━━━━━━━━━━━━━━━\u001b[0m \u001b[32m61.0/61.0 kB\u001b[0m \u001b[31m2.8 MB/s\u001b[0m eta \u001b[36m0:00:00\u001b[0m\n",
            "\u001b[?25hDownloading numpy-1.26.4-cp311-cp311-manylinux_2_17_x86_64.manylinux2014_x86_64.whl (18.3 MB)\n",
            "\u001b[2K   \u001b[90m━━━━━━━━━━━━━━━━━━━━━━━━━━━━━━━━━━━━━━━━\u001b[0m \u001b[32m18.3/18.3 MB\u001b[0m \u001b[31m72.6 MB/s\u001b[0m eta \u001b[36m0:00:00\u001b[0m\n",
            "\u001b[?25hInstalling collected packages: numpy\n",
            "  Attempting uninstall: numpy\n",
            "    Found existing installation: numpy 2.2.6\n",
            "    Uninstalling numpy-2.2.6:\n",
            "      Successfully uninstalled numpy-2.2.6\n",
            "\u001b[31mERROR: pip's dependency resolver does not currently take into account all the packages that are installed. This behaviour is the source of the following dependency conflicts.\n",
            "jaxlib 0.5.1 requires scipy>=1.11.1, but you have scipy 1.10.1 which is incompatible.\n",
            "scikit-image 0.25.2 requires scipy>=1.11.4, but you have scipy 1.10.1 which is incompatible.\n",
            "jax 0.5.2 requires scipy>=1.11.1, but you have scipy 1.10.1 which is incompatible.\n",
            "tsfresh 0.21.0 requires scipy>=1.14.0; python_version >= \"3.10\", but you have scipy 1.10.1 which is incompatible.\n",
            "thinc 8.3.6 requires numpy<3.0.0,>=2.0.0, but you have numpy 1.26.4 which is incompatible.\n",
            "cvxpy 1.6.5 requires scipy>=1.11.0, but you have scipy 1.10.1 which is incompatible.\u001b[0m\u001b[31m\n",
            "\u001b[0mSuccessfully installed numpy-1.26.4\n"
          ]
        }
      ],
      "source": [
        "!pip install nltk\n",
        "!pip install spacy\n",
        "!python -m spacy download pt_core_news_sm\n",
        "!pip install scikit-learn"
      ]
    },
    {
      "cell_type": "code",
      "execution_count": 2,
      "id": "ae83b804",
      "metadata": {
        "id": "ae83b804",
        "outputId": "d099b617-ad7b-4248-be3d-47375b120330",
        "colab": {
          "base_uri": "https://localhost:8080/"
        }
      },
      "outputs": [
        {
          "output_type": "stream",
          "name": "stdout",
          "text": [
            "Requirement already satisfied: pandas in /usr/local/lib/python3.11/dist-packages (2.2.2)\n",
            "Requirement already satisfied: networkx in /usr/local/lib/python3.11/dist-packages (3.4.2)\n",
            "Requirement already satisfied: matplotlib in /usr/local/lib/python3.11/dist-packages (3.10.0)\n",
            "Requirement already satisfied: numpy>=1.23.2 in /usr/local/lib/python3.11/dist-packages (from pandas) (1.26.4)\n",
            "Requirement already satisfied: python-dateutil>=2.8.2 in /usr/local/lib/python3.11/dist-packages (from pandas) (2.9.0.post0)\n",
            "Requirement already satisfied: pytz>=2020.1 in /usr/local/lib/python3.11/dist-packages (from pandas) (2025.2)\n",
            "Requirement already satisfied: tzdata>=2022.7 in /usr/local/lib/python3.11/dist-packages (from pandas) (2025.2)\n",
            "Requirement already satisfied: contourpy>=1.0.1 in /usr/local/lib/python3.11/dist-packages (from matplotlib) (1.3.2)\n",
            "Requirement already satisfied: cycler>=0.10 in /usr/local/lib/python3.11/dist-packages (from matplotlib) (0.12.1)\n",
            "Requirement already satisfied: fonttools>=4.22.0 in /usr/local/lib/python3.11/dist-packages (from matplotlib) (4.58.0)\n",
            "Requirement already satisfied: kiwisolver>=1.3.1 in /usr/local/lib/python3.11/dist-packages (from matplotlib) (1.4.8)\n",
            "Requirement already satisfied: packaging>=20.0 in /usr/local/lib/python3.11/dist-packages (from matplotlib) (24.2)\n",
            "Requirement already satisfied: pillow>=8 in /usr/local/lib/python3.11/dist-packages (from matplotlib) (11.2.1)\n",
            "Requirement already satisfied: pyparsing>=2.3.1 in /usr/local/lib/python3.11/dist-packages (from matplotlib) (3.2.3)\n",
            "Requirement already satisfied: six>=1.5 in /usr/local/lib/python3.11/dist-packages (from python-dateutil>=2.8.2->pandas) (1.17.0)\n"
          ]
        }
      ],
      "source": [
        "!pip install pandas networkx matplotlib"
      ]
    },
    {
      "cell_type": "code",
      "execution_count": 3,
      "id": "CF-nWCEMeeMw",
      "metadata": {
        "id": "CF-nWCEMeeMw",
        "outputId": "b22ca0c1-d125-4d75-83f3-97d821d2b0ee",
        "colab": {
          "base_uri": "https://localhost:8080/"
        }
      },
      "outputs": [
        {
          "output_type": "stream",
          "name": "stdout",
          "text": [
            "Collecting pyLDAvis\n",
            "  Downloading pyLDAvis-3.4.1-py3-none-any.whl.metadata (4.2 kB)\n",
            "Requirement already satisfied: numpy>=1.24.2 in /usr/local/lib/python3.11/dist-packages (from pyLDAvis) (1.26.4)\n",
            "Requirement already satisfied: scipy in /usr/local/lib/python3.11/dist-packages (from pyLDAvis) (1.10.1)\n",
            "Requirement already satisfied: pandas>=2.0.0 in /usr/local/lib/python3.11/dist-packages (from pyLDAvis) (2.2.2)\n",
            "Requirement already satisfied: joblib>=1.2.0 in /usr/local/lib/python3.11/dist-packages (from pyLDAvis) (1.5.0)\n",
            "Requirement already satisfied: jinja2 in /usr/local/lib/python3.11/dist-packages (from pyLDAvis) (3.1.6)\n",
            "Requirement already satisfied: numexpr in /usr/local/lib/python3.11/dist-packages (from pyLDAvis) (2.10.2)\n",
            "Collecting funcy (from pyLDAvis)\n",
            "  Downloading funcy-2.0-py2.py3-none-any.whl.metadata (5.9 kB)\n",
            "Requirement already satisfied: scikit-learn>=1.0.0 in /usr/local/lib/python3.11/dist-packages (from pyLDAvis) (1.6.1)\n",
            "Requirement already satisfied: gensim in /usr/local/lib/python3.11/dist-packages (from pyLDAvis) (4.3.3)\n",
            "Requirement already satisfied: setuptools in /usr/local/lib/python3.11/dist-packages (from pyLDAvis) (75.2.0)\n",
            "Requirement already satisfied: python-dateutil>=2.8.2 in /usr/local/lib/python3.11/dist-packages (from pandas>=2.0.0->pyLDAvis) (2.9.0.post0)\n",
            "Requirement already satisfied: pytz>=2020.1 in /usr/local/lib/python3.11/dist-packages (from pandas>=2.0.0->pyLDAvis) (2025.2)\n",
            "Requirement already satisfied: tzdata>=2022.7 in /usr/local/lib/python3.11/dist-packages (from pandas>=2.0.0->pyLDAvis) (2025.2)\n",
            "Requirement already satisfied: threadpoolctl>=3.1.0 in /usr/local/lib/python3.11/dist-packages (from scikit-learn>=1.0.0->pyLDAvis) (3.6.0)\n",
            "Requirement already satisfied: smart-open>=1.8.1 in /usr/local/lib/python3.11/dist-packages (from gensim->pyLDAvis) (7.1.0)\n",
            "Requirement already satisfied: MarkupSafe>=2.0 in /usr/local/lib/python3.11/dist-packages (from jinja2->pyLDAvis) (3.0.2)\n",
            "Requirement already satisfied: six>=1.5 in /usr/local/lib/python3.11/dist-packages (from python-dateutil>=2.8.2->pandas>=2.0.0->pyLDAvis) (1.17.0)\n",
            "Requirement already satisfied: wrapt in /usr/local/lib/python3.11/dist-packages (from smart-open>=1.8.1->gensim->pyLDAvis) (1.17.2)\n",
            "Downloading pyLDAvis-3.4.1-py3-none-any.whl (2.6 MB)\n",
            "\u001b[2K   \u001b[90m━━━━━━━━━━━━━━━━━━━━━━━━━━━━━━━━━━━━━━━━\u001b[0m \u001b[32m2.6/2.6 MB\u001b[0m \u001b[31m23.7 MB/s\u001b[0m eta \u001b[36m0:00:00\u001b[0m\n",
            "\u001b[?25hDownloading funcy-2.0-py2.py3-none-any.whl (30 kB)\n",
            "Installing collected packages: funcy, pyLDAvis\n",
            "Successfully installed funcy-2.0 pyLDAvis-3.4.1\n"
          ]
        }
      ],
      "source": [
        "!pip install pyLDAvis"
      ]
    },
    {
      "cell_type": "code",
      "execution_count": 4,
      "id": "7T-1EVrLcz1-",
      "metadata": {
        "colab": {
          "base_uri": "https://localhost:8080/"
        },
        "id": "7T-1EVrLcz1-",
        "outputId": "d4fb5fc8-7390-48d6-d2b2-6d88dc72de73"
      },
      "outputs": [
        {
          "output_type": "stream",
          "name": "stdout",
          "text": [
            "Reading package lists... Done\n",
            "Building dependency tree... Done\n",
            "Reading state information... Done\n",
            "graphviz is already the newest version (2.42.2-6ubuntu0.1).\n",
            "The following additional packages will be installed:\n",
            "  libgail-common libgail18 libgtk2.0-0 libgtk2.0-bin libgtk2.0-common\n",
            "  libgvc6-plugins-gtk librsvg2-common libxdot4\n",
            "Suggested packages:\n",
            "  gvfs\n",
            "The following NEW packages will be installed:\n",
            "  libgail-common libgail18 libgraphviz-dev libgtk2.0-0 libgtk2.0-bin\n",
            "  libgtk2.0-common libgvc6-plugins-gtk librsvg2-common libxdot4\n",
            "0 upgraded, 9 newly installed, 0 to remove and 35 not upgraded.\n",
            "Need to get 2,434 kB of archives.\n",
            "After this operation, 7,681 kB of additional disk space will be used.\n",
            "Get:1 http://archive.ubuntu.com/ubuntu jammy-updates/main amd64 libgtk2.0-common all 2.24.33-2ubuntu2.1 [125 kB]\n",
            "Get:2 http://archive.ubuntu.com/ubuntu jammy-updates/main amd64 libgtk2.0-0 amd64 2.24.33-2ubuntu2.1 [2,038 kB]\n",
            "Get:3 http://archive.ubuntu.com/ubuntu jammy-updates/main amd64 libgail18 amd64 2.24.33-2ubuntu2.1 [15.9 kB]\n",
            "Get:4 http://archive.ubuntu.com/ubuntu jammy-updates/main amd64 libgail-common amd64 2.24.33-2ubuntu2.1 [132 kB]\n",
            "Get:5 http://archive.ubuntu.com/ubuntu jammy-updates/universe amd64 libxdot4 amd64 2.42.2-6ubuntu0.1 [16.4 kB]\n",
            "Get:6 http://archive.ubuntu.com/ubuntu jammy-updates/universe amd64 libgvc6-plugins-gtk amd64 2.42.2-6ubuntu0.1 [22.5 kB]\n",
            "Get:7 http://archive.ubuntu.com/ubuntu jammy-updates/universe amd64 libgraphviz-dev amd64 2.42.2-6ubuntu0.1 [58.5 kB]\n",
            "Get:8 http://archive.ubuntu.com/ubuntu jammy-updates/main amd64 libgtk2.0-bin amd64 2.24.33-2ubuntu2.1 [7,936 B]\n",
            "Get:9 http://archive.ubuntu.com/ubuntu jammy-updates/main amd64 librsvg2-common amd64 2.52.5+dfsg-3ubuntu0.2 [17.7 kB]\n",
            "Fetched 2,434 kB in 1s (2,007 kB/s)\n",
            "Selecting previously unselected package libgtk2.0-common.\n",
            "(Reading database ... 126109 files and directories currently installed.)\n",
            "Preparing to unpack .../0-libgtk2.0-common_2.24.33-2ubuntu2.1_all.deb ...\n",
            "Unpacking libgtk2.0-common (2.24.33-2ubuntu2.1) ...\n",
            "Selecting previously unselected package libgtk2.0-0:amd64.\n",
            "Preparing to unpack .../1-libgtk2.0-0_2.24.33-2ubuntu2.1_amd64.deb ...\n",
            "Unpacking libgtk2.0-0:amd64 (2.24.33-2ubuntu2.1) ...\n",
            "Selecting previously unselected package libgail18:amd64.\n",
            "Preparing to unpack .../2-libgail18_2.24.33-2ubuntu2.1_amd64.deb ...\n",
            "Unpacking libgail18:amd64 (2.24.33-2ubuntu2.1) ...\n",
            "Selecting previously unselected package libgail-common:amd64.\n",
            "Preparing to unpack .../3-libgail-common_2.24.33-2ubuntu2.1_amd64.deb ...\n",
            "Unpacking libgail-common:amd64 (2.24.33-2ubuntu2.1) ...\n",
            "Selecting previously unselected package libxdot4:amd64.\n",
            "Preparing to unpack .../4-libxdot4_2.42.2-6ubuntu0.1_amd64.deb ...\n",
            "Unpacking libxdot4:amd64 (2.42.2-6ubuntu0.1) ...\n",
            "Selecting previously unselected package libgvc6-plugins-gtk.\n",
            "Preparing to unpack .../5-libgvc6-plugins-gtk_2.42.2-6ubuntu0.1_amd64.deb ...\n",
            "Unpacking libgvc6-plugins-gtk (2.42.2-6ubuntu0.1) ...\n",
            "Selecting previously unselected package libgraphviz-dev:amd64.\n",
            "Preparing to unpack .../6-libgraphviz-dev_2.42.2-6ubuntu0.1_amd64.deb ...\n",
            "Unpacking libgraphviz-dev:amd64 (2.42.2-6ubuntu0.1) ...\n",
            "Selecting previously unselected package libgtk2.0-bin.\n",
            "Preparing to unpack .../7-libgtk2.0-bin_2.24.33-2ubuntu2.1_amd64.deb ...\n",
            "Unpacking libgtk2.0-bin (2.24.33-2ubuntu2.1) ...\n",
            "Selecting previously unselected package librsvg2-common:amd64.\n",
            "Preparing to unpack .../8-librsvg2-common_2.52.5+dfsg-3ubuntu0.2_amd64.deb ...\n",
            "Unpacking librsvg2-common:amd64 (2.52.5+dfsg-3ubuntu0.2) ...\n",
            "Setting up libxdot4:amd64 (2.42.2-6ubuntu0.1) ...\n",
            "Setting up librsvg2-common:amd64 (2.52.5+dfsg-3ubuntu0.2) ...\n",
            "Setting up libgtk2.0-common (2.24.33-2ubuntu2.1) ...\n",
            "Setting up libgtk2.0-0:amd64 (2.24.33-2ubuntu2.1) ...\n",
            "Setting up libgvc6-plugins-gtk (2.42.2-6ubuntu0.1) ...\n",
            "Setting up libgail18:amd64 (2.24.33-2ubuntu2.1) ...\n",
            "Setting up libgtk2.0-bin (2.24.33-2ubuntu2.1) ...\n",
            "Setting up libgail-common:amd64 (2.24.33-2ubuntu2.1) ...\n",
            "Setting up libgraphviz-dev:amd64 (2.42.2-6ubuntu0.1) ...\n",
            "Processing triggers for libc-bin (2.35-0ubuntu3.8) ...\n",
            "/sbin/ldconfig.real: /usr/local/lib/libtbbmalloc_proxy.so.2 is not a symbolic link\n",
            "\n",
            "/sbin/ldconfig.real: /usr/local/lib/libtcm.so.1 is not a symbolic link\n",
            "\n",
            "/sbin/ldconfig.real: /usr/local/lib/libtbbmalloc.so.2 is not a symbolic link\n",
            "\n",
            "/sbin/ldconfig.real: /usr/local/lib/libtbbbind.so.3 is not a symbolic link\n",
            "\n",
            "/sbin/ldconfig.real: /usr/local/lib/libtcm_debug.so.1 is not a symbolic link\n",
            "\n",
            "/sbin/ldconfig.real: /usr/local/lib/libumf.so.0 is not a symbolic link\n",
            "\n",
            "/sbin/ldconfig.real: /usr/local/lib/libur_adapter_level_zero.so.0 is not a symbolic link\n",
            "\n",
            "/sbin/ldconfig.real: /usr/local/lib/libhwloc.so.15 is not a symbolic link\n",
            "\n",
            "/sbin/ldconfig.real: /usr/local/lib/libur_loader.so.0 is not a symbolic link\n",
            "\n",
            "/sbin/ldconfig.real: /usr/local/lib/libur_adapter_opencl.so.0 is not a symbolic link\n",
            "\n",
            "/sbin/ldconfig.real: /usr/local/lib/libtbbbind_2_0.so.3 is not a symbolic link\n",
            "\n",
            "/sbin/ldconfig.real: /usr/local/lib/libtbbbind_2_5.so.3 is not a symbolic link\n",
            "\n",
            "/sbin/ldconfig.real: /usr/local/lib/libtbb.so.12 is not a symbolic link\n",
            "\n",
            "Processing triggers for man-db (2.10.2-1) ...\n",
            "Processing triggers for libgdk-pixbuf-2.0-0:amd64 (2.42.8+dfsg-1ubuntu0.3) ...\n",
            "Collecting pygraphviz\n",
            "  Downloading pygraphviz-1.14.tar.gz (106 kB)\n",
            "\u001b[2K     \u001b[90m━━━━━━━━━━━━━━━━━━━━━━━━━━━━━━━━━━━━━━━\u001b[0m \u001b[32m106.0/106.0 kB\u001b[0m \u001b[31m3.3 MB/s\u001b[0m eta \u001b[36m0:00:00\u001b[0m\n",
            "\u001b[?25h  Installing build dependencies ... \u001b[?25l\u001b[?25hdone\n",
            "  Getting requirements to build wheel ... \u001b[?25l\u001b[?25hdone\n",
            "  Preparing metadata (pyproject.toml) ... \u001b[?25l\u001b[?25hdone\n",
            "Building wheels for collected packages: pygraphviz\n",
            "  Building wheel for pygraphviz (pyproject.toml) ... \u001b[?25l\u001b[?25hdone\n",
            "  Created wheel for pygraphviz: filename=pygraphviz-1.14-cp311-cp311-linux_x86_64.whl size=169717 sha256=98074bffda26f72c9ef108a7ede0fbd1f26c928d670a19bc9ac79e555ed6b2aa\n",
            "  Stored in directory: /root/.cache/pip/wheels/9c/5f/df/6fffd2a4353f26dbb0e3672a1baf070c124a1d74a5f9318279\n",
            "Successfully built pygraphviz\n",
            "Installing collected packages: pygraphviz\n",
            "Successfully installed pygraphviz-1.14\n"
          ]
        }
      ],
      "source": [
        "# Instalar o Graphviz e PyGraphviz\n",
        "!apt-get install -y graphviz libgraphviz-dev\n",
        "!pip install pygraphviz"
      ]
    },
    {
      "cell_type": "code",
      "execution_count": 5,
      "id": "524fdee2",
      "metadata": {
        "id": "524fdee2"
      },
      "outputs": [],
      "source": [
        "import numpy as np\n",
        "import networkx as nx"
      ]
    },
    {
      "cell_type": "markdown",
      "id": "388376fb",
      "metadata": {
        "id": "388376fb"
      },
      "source": [
        "# **Questões:**"
      ]
    },
    {
      "cell_type": "markdown",
      "id": "1e9ddbda",
      "metadata": {
        "id": "1e9ddbda"
      },
      "source": [
        "## 1. Considerando o grafo abaixo:"
      ]
    },
    {
      "cell_type": "code",
      "execution_count": 6,
      "id": "4648fe31",
      "metadata": {
        "id": "4648fe31"
      },
      "outputs": [],
      "source": [
        "# graph\n",
        "g = {'S': {('A',7),('B',2),('C',3)},\n",
        "    'A': {('B',3),('D',4),('S',7)},\n",
        "    'B': {('A',3),('D',4),('H',1),('S',2)},\n",
        "    'C': {('L',2),('S',3)},\n",
        "    'D': {('A',4),('B',4),('F',5)},\n",
        "    'E': {('K',5),('G',2)},\n",
        "    'F': {('D',5),('H',4)},\n",
        "    'G': {('H',2),('E',2)},\n",
        "    'H': {('B',1),('F',4),('G',2)},\n",
        "    'I':{('L',4),('J',6),('K',4)},\n",
        "    'J':{('L',4),('I',6),('K',4)},\n",
        "    'K':{('I',4),('J',4),('E',5)},\n",
        "    'L':{('C',2),('J',4),('I',4)}\n",
        "}"
      ]
    },
    {
      "cell_type": "code",
      "execution_count": 7,
      "id": "19cdbc49",
      "metadata": {
        "id": "19cdbc49",
        "outputId": "da2ba4e9-9159-4fcc-ffb2-a4ab17652177",
        "colab": {
          "base_uri": "https://localhost:8080/",
          "height": 516
        }
      },
      "outputs": [
        {
          "output_type": "display_data",
          "data": {
            "text/plain": [
              "<Figure size 640x480 with 1 Axes>"
            ],
            "image/png": "[encoded data removed]"
          },
          "metadata": {}
        }
      ],
      "source": [
        "import matplotlib.pyplot as plt\n",
        "\n",
        "def show_weighted_graph(graph):\n",
        "    \"\"\"\n",
        "    Function to visualize the graph using NetworkX and Matplotlib.\n",
        "    Enters a graph represented as an adjacency list and displays it.\n",
        "    The graph is displayed with nodes, edges, and weights.\n",
        "\n",
        "    Expected format for the graph:\n",
        "    {\n",
        "        'Node1': {('Node2', weight), ('Node3', weight)},\n",
        "        'Node2': {('Node1', weight), ('Node4', weight)},\n",
        "        ...\n",
        "        'NodeN': {('NodeM', weight), ...}\n",
        "    }\n",
        "\n",
        "        Args:\n",
        "            graph (dict): The graph represented as an adjacency list.\n",
        "    \"\"\"\n",
        "\n",
        "    G = nx.Graph()\n",
        "    for node, edges in graph.items():\n",
        "        for edge in edges:\n",
        "            G.add_edge(node, edge[0], weight=edge[1])\n",
        "    pos = nx.spring_layout(G)\n",
        "    nx.draw(G, pos, with_labels=True, node_color='lightblue', node_size=300, font_size=10)\n",
        "    labels = nx.get_edge_attributes(G, 'weight')\n",
        "    nx.draw_networkx_edge_labels(G, pos, edge_labels=labels)\n",
        "\n",
        "    plt.show()\n",
        "\n",
        "show_weighted_graph(g)"
      ]
    },
    {
      "cell_type": "markdown",
      "id": "b7f2740d",
      "metadata": {
        "id": "b7f2740d"
      },
      "source": [
        "## 1.2. Qual ou quais dos algoritmos abaixo eu poderia utilizar para encontrar o caminho com menor custo no grafo acima?\n",
        "\n",
        "- a) [ ] Breadth-First Search (BFS)\n",
        "- b) [ ] Depth-First Search (DFS)\n",
        "- c) [ ] Dijkstra\n",
        "- d) [ ] Minimax"
      ]
    },
    {
      "cell_type": "markdown",
      "source": [
        "opção c) Dijkstra"
      ],
      "metadata": {
        "id": "9gmqBB0JVrqQ"
      },
      "id": "9gmqBB0JVrqQ"
    },
    {
      "cell_type": "markdown",
      "id": "8d7d399a",
      "metadata": {
        "id": "8d7d399a"
      },
      "source": [
        "## 1.3. Explique sua escolha(s) na questão anterior:"
      ]
    },
    {
      "cell_type": "markdown",
      "source": [
        "O algoritmo que melhor se adqua ao contexto demosntrado pelo grafo é o de Dijkstra. O algoritmo de Dijkstra é utlizado sempre para encontrar o menor caminho com o menor custo total, entre uma posição inicial e os outros nós. O grafo representado tem associado pesos entre os nós, portanto seria o algoritmo que melhor se adequa.\n",
        "\n",
        "- O BFS encontra o caminho com menor numero de nós, contudo não leva os pesos em conta, funciona melhor em grafos não ponderados, ou seja, que não levam os pesos em conta.\n",
        "\n",
        "- DFS explora o grafo profundamente, mas não garante o menor caminho, seja em termos de custo ou número de arestas. É útil para verificar conectividade ou percorrer o grafo, mas não é ótimo para encontrar caminhos mínimos.\n",
        "\n",
        "- Minimax é um algoritmo usado em jogos de dois jogadores, como xadrez, para tomada de decisões com base na maximização de ganhos e minimização de perdas. Não é aplicável a problemas de grafos ponderados para caminhos mínimos, logo não faz sentido utilizar este algortimo no contexto do probelma"
      ],
      "metadata": {
        "id": "Ot_Jeb7IX1P0"
      },
      "id": "Ot_Jeb7IX1P0"
    },
    {
      "cell_type": "markdown",
      "id": "ac169bb6",
      "metadata": {
        "id": "ac169bb6"
      },
      "source": [
        "## 1.4. Partindo do nó inicial \"S\" (`start_node = 'S'`) e tendo como objetivo chegar ao nó \"E\" (`goal_node = 'E'`), qual o caminho e menor custo possível?"
      ]
    },
    {
      "cell_type": "code",
      "execution_count": 8,
      "id": "6187e56b",
      "metadata": {
        "id": "6187e56b",
        "outputId": "e4b02d2f-ada0-465f-aad8-43c0e0b31ef7",
        "colab": {
          "base_uri": "https://localhost:8080/"
        }
      },
      "outputs": [
        {
          "output_type": "stream",
          "name": "stdout",
          "text": [
            "O caminho de menor custo de S para E é: ['S', 'B', 'H', 'G', 'E']\n",
            "Custo total: 7\n"
          ]
        }
      ],
      "source": [
        "# start node\n",
        "start_node = 'S'\n",
        "\n",
        "# goal node\n",
        "goal_node = 'E'\n",
        "import heapq\n",
        "\n",
        "def dijkstra(graph, start_node, goal_node):\n",
        "    \"\"\"\n",
        "    Implementa o algoritmo de Dijkstra para encontrar o caminho de menor custo.\n",
        "\n",
        "    Args:\n",
        "        graph (dict): O grafo representado como uma lista de adjacência com pesos.\n",
        "                      Ex: {'A': {('B', 1), ('C', 4)}, ...}\n",
        "        start_node (str): O nó de início.\n",
        "        goal_node (str): O nó de destino.\n",
        "\n",
        "    Returns:\n",
        "        tuple: Uma tupla contendo o custo total e o caminho do start_node ao goal_node.\n",
        "               Retorna (float('inf'), []) se o goal_node não for alcançável.\n",
        "    \"\"\"\n",
        "    # Inicializa as distâncias para todos os nós como infinito, exceto o nó inicial\n",
        "    distances = {node: float('inf') for node in graph}\n",
        "    distances[start_node] = 0\n",
        "\n",
        "    # Inicializa um dicionário para armazenar os nós predecessores\n",
        "    predecessors = {}\n",
        "\n",
        "    # Fila de prioridade para armazenar (distância, nó)\n",
        "    priority_queue = [(0, start_node)]\n",
        "\n",
        "    while priority_queue:\n",
        "        current_distance, current_node = heapq.heappop(priority_queue)\n",
        "\n",
        "        # Se a distância atual for maior que a distância registrada, pule\n",
        "        if current_distance > distances[current_node]:\n",
        "            continue\n",
        "\n",
        "        # Se chegamos ao nó objetivo, reconstrua o caminho\n",
        "        if current_node == goal_node:\n",
        "            path = []\n",
        "            while current_node:\n",
        "                path.append(current_node)\n",
        "                current_node = predecessors.get(current_node)\n",
        "            return distances[goal_node], path[::-1]\n",
        "\n",
        "        # Percorre os vizinhos do nó atual\n",
        "        if current_node in graph:\n",
        "            for neighbor, weight in graph[current_node]:\n",
        "                distance = current_distance + weight\n",
        "\n",
        "                # Se uma distância menor for encontrada, atualize a distância e o predecessor\n",
        "                if distance < distances[neighbor]:\n",
        "                    distances[neighbor] = distance\n",
        "                    predecessors[neighbor] = current_node\n",
        "                    heapq.heappush(priority_queue, (distance, neighbor))\n",
        "\n",
        "    # Se o goal_node não for alcançável\n",
        "    return float('inf'), []\n",
        "\n",
        "# Use o grafo 'g' definido no notebook\n",
        "shortest_cost, path = dijkstra(g, start_node, goal_node)\n",
        "\n",
        "if shortest_cost == float('inf'):\n",
        "    print(f\"Não foi possível encontrar um caminho de {start_node} para {goal_node}\")\n",
        "else:\n",
        "    print(f\"O caminho de menor custo de {start_node} para {goal_node} é: {path}\")\n",
        "    print(f\"Custo total: {shortest_cost}\")\n"
      ]
    },
    {
      "cell_type": "markdown",
      "source": [
        "O caminho com menor custo de S para E: ['S', 'B', 'H', 'G', 'E'] tendo custo total 7. O algortimo gerado comprova isso facilmente contudo, para perceber se funcionava ou não fiz tambem sozinho, com o seguinte raciocinio:\n",
        "\n",
        "Primeiro no nó inicial, 'S' comecei por identificar as ligações, sendo elas:\n",
        "- S para A: custo 7\n",
        "- S para B: custo 2\n",
        "- S para C: custo 3\n",
        "\n",
        "Como S-> B é o caminho mais curto segui então para o 'B', tendo as seguintes conexões:\n",
        "\n",
        "- B para A: atualizei o custo para 5 pois, o caminho de S para A é menor passando por B\n",
        "- B para D: custo 4\n",
        "- B para H custo 1\n",
        "\n",
        "Aqui depois desta exploração existiu um empate entre C e H, eu optei por ir pelo o H contudo no caso real do algortimo ele teria ido pelo C pois foi o primeiro a ser inserido na lista:\n",
        "\n",
        "Repetindo os mesmos passos acabei por achar o caminho com custo 7 passando por G que é menor do que se fosse por outro lado.\n"
      ],
      "metadata": {
        "id": "7q3lEL-KZGu5"
      },
      "id": "7q3lEL-KZGu5"
    },
    {
      "cell_type": "markdown",
      "id": "4cebd20f",
      "metadata": {
        "id": "4cebd20f"
      },
      "source": [
        "## 2. Considerando o grafo abaixo, escolha um dos algoritmos da lista abaixo e encontre o nó desejado:\n",
        "\n",
        "- Breadth-First Search (BFS)\n",
        "- Depth-First Search (DFS)\n",
        "- Dijkstra\n",
        "- Minimax\n",
        "\n",
        "**A solução deve conter o caminho utilizado**\n",
        "- Exemplo:\n",
        "    - para `nó inicial A` e `nó objetivo H`:\n",
        "    - Caminho: ACDBFGDGH\n",
        "\n"
      ]
    },
    {
      "cell_type": "code",
      "execution_count": 14,
      "id": "0aef78e4",
      "metadata": {
        "id": "0aef78e4"
      },
      "outputs": [],
      "source": [
        "grafo = {\n",
        "    'A': {'B', 'C'},\n",
        "    'B': {'A', 'D', 'E'},\n",
        "    'C': {'A', 'F', 'G'},\n",
        "    'D': {'B'},\n",
        "    'E': {'B'},\n",
        "    'F': {'C'},\n",
        "    'G': {'C', 'H'},\n",
        "    'H': {'G'}\n",
        "}\n",
        "\n"
      ]
    },
    {
      "cell_type": "markdown",
      "id": "11b47454",
      "metadata": {
        "id": "11b47454"
      },
      "source": [
        "**A funçao abaixo pode auxiliar na visualização de seu grafo...**"
      ]
    },
    {
      "cell_type": "code",
      "execution_count": 10,
      "id": "5eef3e48",
      "metadata": {
        "id": "5eef3e48"
      },
      "outputs": [],
      "source": [
        "def show_graph(graph):\n",
        "    \"\"\"\n",
        "    Function to visualize the graph using NetworkX and Matplotlib.\n",
        "    Enters a graph represented as an adjacency list and displays it.\n",
        "    The graph is displayed with nodes and edges.\n",
        "\n",
        "    Args:\n",
        "        graph (dict): The graph represented as an adjacency list.\n",
        "    \"\"\"\n",
        "    G = nx.Graph(graph)\n",
        "    pos = nx.spring_layout(G)\n",
        "    nx.draw(G, pos, with_labels=True, node_color='lightblue', node_size=300, font_size=10)\n",
        "\n",
        "    plt.show()"
      ]
    },
    {
      "cell_type": "code",
      "source": [
        "from collections import deque\n",
        "\n",
        "def bfs(graph, start_node, goal_node):\n",
        "    \"\"\"\n",
        "    Implementa o algoritmo BFS para encontrar um caminho entre start_node e goal_node.\n",
        "\n",
        "    Args:\n",
        "        graph (dict): O grafo representado como uma lista de adjacência.\n",
        "                      Ex: {'A': {'B', 'C'}, 'B': {'A', 'D'}, ...}\n",
        "        start_node (str): O nó de início.\n",
        "        goal_node (str): O nó de destino.\n",
        "\n",
        "    Returns:\n",
        "        list: Uma lista representando o caminho do start_node ao goal_node.\n",
        "              Retorna uma lista vazia se o goal_node não for alcançável.\n",
        "    \"\"\"\n",
        "    # Inicializa a fila com o nó inicial e seu caminho\n",
        "    queue = deque([(start_node, [start_node])])\n",
        "\n",
        "    # Conjunto para manter o controle dos nós visitados\n",
        "    visited = {start_node}\n",
        "\n",
        "    while queue:\n",
        "        # Pega o próximo nó e caminho da fila\n",
        "        current_node, path = queue.popleft()\n",
        "\n",
        "        # Se o nó atual é o nó objetivo, retorna o caminho\n",
        "        if current_node == goal_node:\n",
        "            return path\n",
        "\n",
        "        # Explora os vizinhos do nó atual\n",
        "        if current_node in graph:\n",
        "            for neighbor in graph[current_node]:\n",
        "                # Se o vizinho não foi visitado\n",
        "                if neighbor not in visited:\n",
        "                    visited.add(neighbor)\n",
        "                    # Adiciona o vizinho e o novo caminho à fila\n",
        "                    queue.append((neighbor, path + [neighbor]))\n",
        "\n",
        "    # Se a fila estiver vazia e o nó objetivo não foi encontrado\n",
        "    return []\n"
      ],
      "metadata": {
        "id": "1afsf4XgdRwS"
      },
      "id": "1afsf4XgdRwS",
      "execution_count": 12,
      "outputs": []
    },
    {
      "cell_type": "markdown",
      "id": "5ff11b2d",
      "metadata": {
        "id": "5ff11b2d"
      },
      "source": [
        "## 2.1. `Nó inicial A` e `nó objetivo H`"
      ]
    },
    {
      "cell_type": "code",
      "execution_count": 16,
      "id": "1a406c98",
      "metadata": {
        "id": "1a406c98",
        "outputId": "19308db3-4900-4546-eae9-d5c20097bbfb",
        "colab": {
          "base_uri": "https://localhost:8080/"
        }
      },
      "outputs": [
        {
          "output_type": "stream",
          "name": "stdout",
          "text": [
            "Caminho de A para H: ['A', 'C', 'G', 'H']\n"
          ]
        }
      ],
      "source": [
        "# sua resposta\n",
        "\n",
        "start_node_q2 = 'A'\n",
        "goal_node_q2 = 'H'\n",
        "\n",
        "path_q2 = bfs(grafo, start_node_q2, goal_node_q2)\n",
        "\n",
        "if path_q2:\n",
        "    print(f\"Caminho de {start_node_q2} para {goal_node_q2}: {path_q2}\")\n",
        "else:\n",
        "    print(f\"Não foi possível encontrar um caminho de {start_node_q2} para {goal_node_q2}\")\n"
      ]
    },
    {
      "cell_type": "markdown",
      "id": "J_DwFNY3u4wx",
      "metadata": {
        "id": "J_DwFNY3u4wx"
      },
      "source": [
        "## 2.2. `Nó inicial A` e `nó objetivo D`"
      ]
    },
    {
      "cell_type": "code",
      "execution_count": 17,
      "id": "_AGYd6nXu4SZ",
      "metadata": {
        "id": "_AGYd6nXu4SZ",
        "outputId": "8c78e271-1501-463b-a2aa-8845d0a2d2ce",
        "colab": {
          "base_uri": "https://localhost:8080/"
        }
      },
      "outputs": [
        {
          "output_type": "stream",
          "name": "stdout",
          "text": [
            "Caminho de A para D: ['A', 'B', 'D']\n"
          ]
        }
      ],
      "source": [
        "# sua resposta\n",
        "start_node_q2 = 'A'\n",
        "goal_node_q2 = 'D'\n",
        "\n",
        "path_q2 = bfs(grafo, start_node_q2, goal_node_q2)\n",
        "\n",
        "if path_q2:\n",
        "    print(f\"Caminho de {start_node_q2} para {goal_node_q2}: {path_q2}\")\n",
        "else:\n",
        "    print(f\"Não foi possível encontrar um caminho de {start_node_q2} para {goal_node_q2}\")\n"
      ]
    },
    {
      "cell_type": "markdown",
      "id": "6b6cee97",
      "metadata": {
        "id": "6b6cee97"
      },
      "source": [
        "## 2.3. Qual estrutura de dados o algoritmo que você escolheu tipicamente usa?\n",
        "\n",
        "- a) [ ] Queue\n",
        "- b) [ ] Heap\n",
        "- c) [ ] Stack\n",
        "- d) [ ] Nenhuma das anteriores\n",
        "- e) [ ] Todas as anteriores"
      ]
    },
    {
      "cell_type": "markdown",
      "source": [
        "O algoritmo Breadth-First Search (BFS) que eu escolhi, utiliza tipicamente uma Queue (Fila).\n",
        "\n",
        "O motivo é que o BFS explora o grafo nível a nível, ou seja, ao contrário do DFS ele faz uma bsuca em largura. Ele visita todos os vizinhos de um nó antes de passar para os vizinhos dos vizinhos. Uma fila (\"FIFO\" - First-In, First-Out) garante que os nós sejam processados na ordem em que foram descobertos, o que é essencial para essa exploração por níveis."
      ],
      "metadata": {
        "id": "htPbEfiueH_5"
      },
      "id": "htPbEfiueH_5"
    },
    {
      "cell_type": "markdown",
      "id": "62cc4a25",
      "metadata": {
        "id": "62cc4a25"
      },
      "source": [
        "## 2.4. Quando usamos o algoritmo de busca em profundidade (DFS), uma vez que tenhamos percorrido todo um caminho na árvore (galho) e não encontramos o nó desejado, o que acontece?"
      ]
    },
    {
      "cell_type": "markdown",
      "source": [
        "Quando estamos num algoritmo DFS, como a busca é feita em profundidade utilizando uma stack, quando chegamos ao fim e não chegamos ao resutlado é feito um retorno, ou por outras palavras um backtracking, o algoritmo volta atrás para o ultimo nó que tinha vizinhos não visitados. Iniciando assim uma exploração de outro caminho, que ainda nao tenha sido visitado.\n",
        "Isto é importante porque o DFS prioriza a exploração de um caminho mais profundo possive antes de voltar a tentar outros caminhos. Se um caminho leva a um beco sem saida, ou não contém o nó desejado, o algoritmo retrocede para encontrar uma nova rota de exploração.\n",
        "É como seguir um caminho quando estamos perdidos até ao fim, e quando chegamos a um sitio e vemos que nao tem saida, voltamos atrás até a ultima biforcação.\n",
        ""
      ],
      "metadata": {
        "id": "IIBN7ltxepg0"
      },
      "id": "IIBN7ltxepg0"
    },
    {
      "cell_type": "markdown",
      "id": "8edc7b9d",
      "metadata": {
        "id": "8edc7b9d"
      },
      "source": [
        "## 2.5. Qual algoritmo de busca da lista abaixo garante que se encontra o menor caminho?\n",
        "\n",
        "- a) [ ] Breadth-First Search (BFS)\n",
        "- b) [ ] Depth-First Search (DFS)"
      ]
    },
    {
      "cell_type": "markdown",
      "source": [],
      "metadata": {
        "id": "scTLP_QNeniv"
      },
      "id": "scTLP_QNeniv"
    },
    {
      "cell_type": "markdown",
      "source": [
        "BFS é o que é tipicamente utilizado para encotrar o menor caminho em um grafo."
      ],
      "metadata": {
        "id": "xATQ9T2DgL9x"
      },
      "id": "xATQ9T2DgL9x"
    },
    {
      "cell_type": "markdown",
      "id": "Y8rG5Lah5Bvj",
      "metadata": {
        "id": "Y8rG5Lah5Bvj"
      },
      "source": [
        "# 3. Considerando que o grafo abaixo representa os estados possíveis após turnos alternados entre o Jogador 1 (Player 1 - P1) e o Jogador 2 (Player 2 - P2):"
      ]
    },
    {
      "cell_type": "code",
      "execution_count": 18,
      "id": "h5W5zsEzDK8L",
      "metadata": {
        "id": "h5W5zsEzDK8L",
        "outputId": "58ffa308-d6c6-43c4-8e64-e7041dc8ecba",
        "colab": {
          "base_uri": "https://localhost:8080/",
          "height": 532
        }
      },
      "outputs": [
        {
          "output_type": "display_data",
          "data": {
            "text/plain": [
              "<Figure size 1200x800 with 1 Axes>"
            ],
            "image/png": "[encoded data removed]"
          },
          "metadata": {}
        }
      ],
      "source": [
        "import networkx as nx\n",
        "import matplotlib.pyplot as plt\n",
        "from networkx.drawing.nx_agraph import graphviz_layout\n",
        "\n",
        "edges = [\n",
        "    (0, 1), (0, 2),\n",
        "    (1, 3), (1, 4),\n",
        "    (2, 5), (2, 6),\n",
        "    (3, 7), (3, 8),\n",
        "    (4, 9), (4, 10),\n",
        "    (5, 11), (5, 12),\n",
        "    (6, 13), (6, 14),\n",
        "]\n",
        "\n",
        "# scores das folhas\n",
        "values = {\n",
        "    7: 0, 8: 4, 9: 4, 10: -8, 11: 7, 12: -4, 13: -10, 14: 5\n",
        "}\n",
        "\n",
        "# adicionando labels A (0) até O (14)\n",
        "labels = {i: chr(65 + i) for i in range(15)}\n",
        "\n",
        "# criar grafo\n",
        "G = nx.DiGraph()\n",
        "G.add_edges_from(edges)\n",
        "\n",
        "# atribuir valores\n",
        "for node in G.nodes:\n",
        "    G.nodes[node][\"value\"] = values.get(node, None)\n",
        "\n",
        "leaf_nodes = [n for n in G.nodes if G.out_degree(n) == 0]\n",
        "\n",
        "# adicionando cores condicionais\n",
        "colors = []\n",
        "for n in G.nodes:\n",
        "    if n in leaf_nodes:\n",
        "        val = G.nodes[n][\"value\"]\n",
        "        if val is not None and val >= 0:\n",
        "            colors.append('lightgreen')\n",
        "        elif val is not None and val < 0:\n",
        "            colors.append('salmon')\n",
        "        else:\n",
        "            colors.append('lightgray')\n",
        "    else:\n",
        "        colors.append('lightblue')\n",
        "\n",
        "# labels com score nas folhas\n",
        "display_labels = {}\n",
        "for n in G.nodes:\n",
        "    if n in leaf_nodes and G.nodes[n][\"value\"] is not None:\n",
        "        display_labels[n] = f\"{labels[n]}\\n{G.nodes[n]['value']}\"\n",
        "    else:\n",
        "        display_labels[n] = labels[n]\n",
        "\n",
        "# layout top-down da árvore\n",
        "pos = graphviz_layout(G, prog=\"dot\")\n",
        "\n",
        "# plot\n",
        "plt.figure(figsize=(12, 8))\n",
        "nx.draw(G, pos,\n",
        "        with_labels=True,\n",
        "        labels=display_labels,\n",
        "        node_color=colors,\n",
        "        node_size=1600,\n",
        "        font_weight=\"bold\",\n",
        "        font_size=10,\n",
        "        arrows=True)\n",
        "\n",
        "plt.title(\"Scores: Verde (positivo) / Vermelho (negativo)\", fontsize=14)\n",
        "plt.axis(\"off\")\n",
        "plt.show()\n"
      ]
    },
    {
      "cell_type": "markdown",
      "id": "_GA1gxDQA-_i",
      "metadata": {
        "id": "_GA1gxDQA-_i"
      },
      "source": [
        "## 3.1. Implemente o Minimax (Busca Adversarial) e responda qual o melhor score possível para o Jogador 1 considerando que este é o primeiro a jogar."
      ]
    },
    {
      "cell_type": "code",
      "execution_count": 19,
      "id": "-WkLEHYqFLOx",
      "metadata": {
        "id": "-WkLEHYqFLOx",
        "outputId": "360bf57b-496f-4fd3-a3e1-cc6f8eeebf05",
        "colab": {
          "base_uri": "https://localhost:8080/"
        }
      },
      "outputs": [
        {
          "output_type": "stream",
          "name": "stdout",
          "text": [
            "O melhor score possível para o Jogador 1 (partindo do nó A) é: 5\n"
          ]
        }
      ],
      "source": [
        "# sua resposta\n",
        "def minimax(node, depth, is_maximizing_player, graph, values, labels):\n",
        "    \"\"\"\n",
        "    Implementa o algoritmo Minimax.\n",
        "\n",
        "    Args:\n",
        "        node (int): O nó atual no grafo.\n",
        "        depth (int): A profundidade atual na árvore de busca.\n",
        "        is_maximizing_player (bool): True se for a vez do jogador que maximiza (Jogador 1), False se for a vez do jogador que minimiza (Jogador 2).\n",
        "        graph (nx.DiGraph): O grafo do jogo.\n",
        "        values (dict): Dicionário com os scores dos nós folha.\n",
        "        labels (dict): Dicionário para mapear números dos nós para letras (A, B, etc.).\n",
        "\n",
        "    Returns:\n",
        "        int: O valor Minimax para o nó atual.\n",
        "    \"\"\"\n",
        "    # Se for um nó folha (não tem filhos), retorna o seu valor\n",
        "    if graph.out_degree(node) == 0:\n",
        "        return values.get(node, 0) # Retorna 0 se o nó não tiver valor definido (nós internos não folha não devem ter valores)\n",
        "\n",
        "    if is_maximizing_player:\n",
        "        # Jogador 1 (Maximiza)\n",
        "        max_eval = -float('inf')\n",
        "        for child in graph.successors(node):\n",
        "            eval = minimax(child, depth + 1, False, graph, values, labels)\n",
        "            max_eval = max(max_eval, eval)\n",
        "            # print(f\"Node {labels[node]} (Max): Considerando filho {labels[child]} com eval {eval}, max_eval atualizado para {max_eval}\") # Para depuração\n",
        "        return max_eval\n",
        "    else:\n",
        "        # Jogador 2 (Minimiza)\n",
        "        min_eval = float('inf')\n",
        "        for child in graph.successors(node):\n",
        "            eval = minimax(child, depth + 1, True, graph, values, labels)\n",
        "            min_eval = min(min_eval, eval)\n",
        "            # print(f\"Node {labels[node]} (Min): Considerando filho {labels[child]} com eval {eval}, min_eval atualizado para {min_eval}\") # Para depuração\n",
        "        return min_eval\n",
        "\n",
        "# O nó inicial é A, que corresponde ao índice 0\n",
        "start_node_minimax = 0\n",
        "\n",
        "# Executa o algoritmo Minimax a partir do nó inicial para o Jogador 1 (maximizando)\n",
        "best_score_p1 = minimax(start_node_minimax, 0, True, G, values, labels)\n",
        "\n",
        "print(f\"O melhor score possível para o Jogador 1 (partindo do nó A) é: {best_score_p1}\")"
      ]
    },
    {
      "cell_type": "markdown",
      "source": [
        "Como o primeiro jogador parte do nó A sabemso que:\n",
        "No nó A é max,\n",
        "Nos nós B e C é min,\n",
        "Nos nós D, E, F e G é max logo nas primeiras escolhas temos o seguinte\n",
        "D entre 0 e 4 escolhe 4, E entre 4 e -8 escolhe 4, F entre 7 e -4 escolhe 7 e G entre -10 e 5 escolhe 5\n",
        "Depois o B e C como é minimo entre 4 e 4 fica o 4, mas entre o 5 e o 7 escolhe 5.\n",
        "Por fim, como o A é max escolhe 5."
      ],
      "metadata": {
        "id": "qj4qOlBwhflc"
      },
      "id": "qj4qOlBwhflc"
    },
    {
      "cell_type": "markdown",
      "id": "86pxwufev3Mi",
      "metadata": {
        "id": "86pxwufev3Mi"
      },
      "source": [
        "# 4. Considerando o dataset fornecido:"
      ]
    },
    {
      "cell_type": "code",
      "source": [
        "!pip install numpy==1.24.4 scipy==1.10.1"
      ],
      "metadata": {
        "id": "nB1qvhjFhIpM",
        "outputId": "ce629b6e-7c54-4f22-9bbd-6caa8debda20",
        "colab": {
          "base_uri": "https://localhost:8080/",
          "height": 554
        }
      },
      "id": "nB1qvhjFhIpM",
      "execution_count": 20,
      "outputs": [
        {
          "output_type": "stream",
          "name": "stdout",
          "text": [
            "Collecting numpy==1.24.4\n",
            "  Using cached numpy-1.24.4-cp311-cp311-manylinux_2_17_x86_64.manylinux2014_x86_64.whl.metadata (5.6 kB)\n",
            "Requirement already satisfied: scipy==1.10.1 in /usr/local/lib/python3.11/dist-packages (1.10.1)\n",
            "Using cached numpy-1.24.4-cp311-cp311-manylinux_2_17_x86_64.manylinux2014_x86_64.whl (17.3 MB)\n",
            "Installing collected packages: numpy\n",
            "  Attempting uninstall: numpy\n",
            "    Found existing installation: numpy 1.26.4\n",
            "    Uninstalling numpy-1.26.4:\n",
            "      Successfully uninstalled numpy-1.26.4\n",
            "\u001b[31mERROR: pip's dependency resolver does not currently take into account all the packages that are installed. This behaviour is the source of the following dependency conflicts.\n",
            "jaxlib 0.5.1 requires numpy>=1.25, but you have numpy 1.24.4 which is incompatible.\n",
            "jaxlib 0.5.1 requires scipy>=1.11.1, but you have scipy 1.10.1 which is incompatible.\n",
            "pymc 5.22.0 requires numpy>=1.25.0, but you have numpy 1.24.4 which is incompatible.\n",
            "blosc2 3.3.3 requires numpy>=1.26, but you have numpy 1.24.4 which is incompatible.\n",
            "scikit-image 0.25.2 requires scipy>=1.11.4, but you have scipy 1.10.1 which is incompatible.\n",
            "jax 0.5.2 requires numpy>=1.25, but you have numpy 1.24.4 which is incompatible.\n",
            "jax 0.5.2 requires scipy>=1.11.1, but you have scipy 1.10.1 which is incompatible.\n",
            "tensorflow 2.18.0 requires numpy<2.1.0,>=1.26.0, but you have numpy 1.24.4 which is incompatible.\n",
            "tsfresh 0.21.0 requires scipy>=1.14.0; python_version >= \"3.10\", but you have scipy 1.10.1 which is incompatible.\n",
            "thinc 8.3.6 requires numpy<3.0.0,>=2.0.0, but you have numpy 1.24.4 which is incompatible.\n",
            "cvxpy 1.6.5 requires scipy>=1.11.0, but you have scipy 1.10.1 which is incompatible.\n",
            "treescope 0.1.9 requires numpy>=1.25.2, but you have numpy 1.24.4 which is incompatible.\u001b[0m\u001b[31m\n",
            "\u001b[0mSuccessfully installed numpy-1.24.4\n"
          ]
        },
        {
          "output_type": "display_data",
          "data": {
            "application/vnd.colab-display-data+json": {
              "pip_warning": {
                "packages": [
                  "numpy"
                ]
              },
              "id": "fd61f433945b4ba1868a46215bb0cad9"
            }
          },
          "metadata": {}
        }
      ]
    },
    {
      "cell_type": "code",
      "execution_count": 1,
      "id": "eFSuKxdbPNeM",
      "metadata": {
        "id": "eFSuKxdbPNeM",
        "outputId": "2b920dac-f9fd-4e27-af4f-196fe4512c8d",
        "colab": {
          "base_uri": "https://localhost:8080/"
        }
      },
      "outputs": [
        {
          "output_type": "stream",
          "name": "stderr",
          "text": [
            "[nltk_data] Downloading package stopwords to /root/nltk_data...\n",
            "[nltk_data]   Unzipping corpora/stopwords.zip.\n"
          ]
        }
      ],
      "source": [
        "import nltk\n",
        "from nltk.corpus import stopwords\n",
        "nltk.download('stopwords')\n",
        "stop = list(set(stopwords.words('portuguese')))\n",
        "import gensim\n",
        "import gensim.corpora as corpora\n",
        "from gensim.models.ldamodel import LdaModel"
      ]
    },
    {
      "cell_type": "code",
      "execution_count": 2,
      "id": "9_pTeG7cRbyg",
      "metadata": {
        "colab": {
          "base_uri": "https://localhost:8080/",
          "height": 293
        },
        "id": "9_pTeG7cRbyg",
        "outputId": "cd549b3d-b882-4354-a171-d6ff3d468cb1"
      },
      "outputs": [
        {
          "output_type": "execute_result",
          "data": {
            "text/plain": [
              "             titulo                                            sinopse  \\\n",
              "0  We Were Soldiers  A história da primeira grande batalha da fase ...   \n",
              "1            4Got10  Um negócio de drogas dá errado, deixando corpo...   \n",
              "2         Pontypool  Quando o disc jockey Grant Mazzy se reporta à ...   \n",
              "3            Ticker  Depois que o parceiro de um detetive de São Fr...   \n",
              "4       Real Genius  Um adolescente prodígio tenso entra em uma fac...   \n",
              "\n",
              "                                       generos  is_valid  \n",
              "0               ['Ação', 'História', 'Guerra']     False  \n",
              "1                ['Ação', 'Crime', 'Thriller']     False  \n",
              "2  ['Horror', 'Mistério', 'Ficção Científica']     False  \n",
              "3                ['Ação', 'Crime', 'Thriller']     False  \n",
              "4  ['Comédia', 'Romance', 'Ficção Científica']      True  "
            ],
            "text/html": [
              "\n",
              "  <div id=\"df-f821fb51-6829-403b-9489-a899e542e206\" class=\"colab-df-container\">\n",
              "    <div>\n",
              "<style scoped>\n",
              "    .dataframe tbody tr th:only-of-type {\n",
              "        vertical-align: middle;\n",
              "    }\n",
              "\n",
              "    .dataframe tbody tr th {\n",
              "        vertical-align: top;\n",
              "    }\n",
              "\n",
              "    .dataframe thead th {\n",
              "        text-align: right;\n",
              "    }\n",
              "</style>\n",
              "<table border=\"1\" class=\"dataframe\">\n",
              "  <thead>\n",
              "    <tr style=\"text-align: right;\">\n",
              "      <th></th>\n",
              "      <th>titulo</th>\n",
              "      <th>sinopse</th>\n",
              "      <th>generos</th>\n",
              "      <th>is_valid</th>\n",
              "    </tr>\n",
              "  </thead>\n",
              "  <tbody>\n",
              "    <tr>\n",
              "      <th>0</th>\n",
              "      <td>We Were Soldiers</td>\n",
              "      <td>A história da primeira grande batalha da fase ...</td>\n",
              "      <td>['Ação', 'História', 'Guerra']</td>\n",
              "      <td>False</td>\n",
              "    </tr>\n",
              "    <tr>\n",
              "      <th>1</th>\n",
              "      <td>4Got10</td>\n",
              "      <td>Um negócio de drogas dá errado, deixando corpo...</td>\n",
              "      <td>['Ação', 'Crime', 'Thriller']</td>\n",
              "      <td>False</td>\n",
              "    </tr>\n",
              "    <tr>\n",
              "      <th>2</th>\n",
              "      <td>Pontypool</td>\n",
              "      <td>Quando o disc jockey Grant Mazzy se reporta à ...</td>\n",
              "      <td>['Horror', 'Mistério', 'Ficção Científica']</td>\n",
              "      <td>False</td>\n",
              "    </tr>\n",
              "    <tr>\n",
              "      <th>3</th>\n",
              "      <td>Ticker</td>\n",
              "      <td>Depois que o parceiro de um detetive de São Fr...</td>\n",
              "      <td>['Ação', 'Crime', 'Thriller']</td>\n",
              "      <td>False</td>\n",
              "    </tr>\n",
              "    <tr>\n",
              "      <th>4</th>\n",
              "      <td>Real Genius</td>\n",
              "      <td>Um adolescente prodígio tenso entra em uma fac...</td>\n",
              "      <td>['Comédia', 'Romance', 'Ficção Científica']</td>\n",
              "      <td>True</td>\n",
              "    </tr>\n",
              "  </tbody>\n",
              "</table>\n",
              "</div>\n",
              "    <div class=\"colab-df-buttons\">\n",
              "\n",
              "  <div class=\"colab-df-container\">\n",
              "    <button class=\"colab-df-convert\" onclick=\"convertToInteractive('df-f821fb51-6829-403b-9489-a899e542e206')\"\n",
              "            title=\"Convert this dataframe to an interactive table.\"\n",
              "            style=\"display:none;\">\n",
              "\n",
              "  <svg xmlns=\"http://www.w3.org/2000/svg\" height=\"24px\" viewBox=\"0 -960 960 960\">\n",
              "    <path d=\"M120-120v-720h720v720H120Zm60-500h600v-160H180v160Zm220 220h160v-160H400v160Zm0 220h160v-160H400v160ZM180-400h160v-160H180v160Zm440 0h160v-160H620v160ZM180-180h160v-160H180v160Zm440 0h160v-160H620v160Z\"/>\n",
              "  </svg>\n",
              "    </button>\n",
              "\n",
              "  <style>\n",
              "    .colab-df-container {\n",
              "      display:flex;\n",
              "      gap: 12px;\n",
              "    }\n",
              "\n",
              "    .colab-df-convert {\n",
              "      background-color: #E8F0FE;\n",
              "      border: none;\n",
              "      border-radius: 50%;\n",
              "      cursor: pointer;\n",
              "      display: none;\n",
              "      fill: #1967D2;\n",
              "      height: 32px;\n",
              "      padding: 0 0 0 0;\n",
              "      width: 32px;\n",
              "    }\n",
              "\n",
              "    .colab-df-convert:hover {\n",
              "      background-color: #E2EBFA;\n",
              "      box-shadow: 0px 1px 2px rgba(60, 64, 67, 0.3), 0px 1px 3px 1px rgba(60, 64, 67, 0.15);\n",
              "      fill: #174EA6;\n",
              "    }\n",
              "\n",
              "    .colab-df-buttons div {\n",
              "      margin-bottom: 4px;\n",
              "    }\n",
              "\n",
              "    [theme=dark] .colab-df-convert {\n",
              "      background-color: #3B4455;\n",
              "      fill: #D2E3FC;\n",
              "    }\n",
              "\n",
              "    [theme=dark] .colab-df-convert:hover {\n",
              "      background-color: #434B5C;\n",
              "      box-shadow: 0px 1px 3px 1px rgba(0, 0, 0, 0.15);\n",
              "      filter: drop-shadow(0px 1px 2px rgba(0, 0, 0, 0.3));\n",
              "      fill: #FFFFFF;\n",
              "    }\n",
              "  </style>\n",
              "\n",
              "    <script>\n",
              "      const buttonEl =\n",
              "        document.querySelector('#df-f821fb51-6829-403b-9489-a899e542e206 button.colab-df-convert');\n",
              "      buttonEl.style.display =\n",
              "        google.colab.kernel.accessAllowed ? 'block' : 'none';\n",
              "\n",
              "      async function convertToInteractive(key) {\n",
              "        const element = document.querySelector('#df-f821fb51-6829-403b-9489-a899e542e206');\n",
              "        const dataTable =\n",
              "          await google.colab.kernel.invokeFunction('convertToInteractive',\n",
              "                                                    [key], {});\n",
              "        if (!dataTable) return;\n",
              "\n",
              "        const docLinkHtml = 'Like what you see? Visit the ' +\n",
              "          '<a target=\"_blank\" href=https://colab.research.google.com/notebooks/data_table.ipynb>data table notebook</a>'\n",
              "          + ' to learn more about interactive tables.';\n",
              "        element.innerHTML = '';\n",
              "        dataTable['output_type'] = 'display_data';\n",
              "        await google.colab.output.renderOutput(dataTable, element);\n",
              "        const docLink = document.createElement('div');\n",
              "        docLink.innerHTML = docLinkHtml;\n",
              "        element.appendChild(docLink);\n",
              "      }\n",
              "    </script>\n",
              "  </div>\n",
              "\n",
              "\n",
              "    <div id=\"df-7ecd2aac-9bc1-454f-ba13-31da938f7b1c\">\n",
              "      <button class=\"colab-df-quickchart\" onclick=\"quickchart('df-7ecd2aac-9bc1-454f-ba13-31da938f7b1c')\"\n",
              "                title=\"Suggest charts\"\n",
              "                style=\"display:none;\">\n",
              "\n",
              "<svg xmlns=\"http://www.w3.org/2000/svg\" height=\"24px\"viewBox=\"0 0 24 24\"\n",
              "     width=\"24px\">\n",
              "    <g>\n",
              "        <path d=\"M19 3H5c-1.1 0-2 .9-2 2v14c0 1.1.9 2 2 2h14c1.1 0 2-.9 2-2V5c0-1.1-.9-2-2-2zM9 17H7v-7h2v7zm4 0h-2V7h2v10zm4 0h-2v-4h2v4z\"/>\n",
              "    </g>\n",
              "</svg>\n",
              "      </button>\n",
              "\n",
              "<style>\n",
              "  .colab-df-quickchart {\n",
              "      --bg-color: #E8F0FE;\n",
              "      --fill-color: #1967D2;\n",
              "      --hover-bg-color: #E2EBFA;\n",
              "      --hover-fill-color: #174EA6;\n",
              "      --disabled-fill-color: #AAA;\n",
              "      --disabled-bg-color: #DDD;\n",
              "  }\n",
              "\n",
              "  [theme=dark] .colab-df-quickchart {\n",
              "      --bg-color: #3B4455;\n",
              "      --fill-color: #D2E3FC;\n",
              "      --hover-bg-color: #434B5C;\n",
              "      --hover-fill-color: #FFFFFF;\n",
              "      --disabled-bg-color: #3B4455;\n",
              "      --disabled-fill-color: #666;\n",
              "  }\n",
              "\n",
              "  .colab-df-quickchart {\n",
              "    background-color: var(--bg-color);\n",
              "    border: none;\n",
              "    border-radius: 50%;\n",
              "    cursor: pointer;\n",
              "    display: none;\n",
              "    fill: var(--fill-color);\n",
              "    height: 32px;\n",
              "    padding: 0;\n",
              "    width: 32px;\n",
              "  }\n",
              "\n",
              "  .colab-df-quickchart:hover {\n",
              "    background-color: var(--hover-bg-color);\n",
              "    box-shadow: 0 1px 2px rgba(60, 64, 67, 0.3), 0 1px 3px 1px rgba(60, 64, 67, 0.15);\n",
              "    fill: var(--button-hover-fill-color);\n",
              "  }\n",
              "\n",
              "  .colab-df-quickchart-complete:disabled,\n",
              "  .colab-df-quickchart-complete:disabled:hover {\n",
              "    background-color: var(--disabled-bg-color);\n",
              "    fill: var(--disabled-fill-color);\n",
              "    box-shadow: none;\n",
              "  }\n",
              "\n",
              "  .colab-df-spinner {\n",
              "    border: 2px solid var(--fill-color);\n",
              "    border-color: transparent;\n",
              "    border-bottom-color: var(--fill-color);\n",
              "    animation:\n",
              "      spin 1s steps(1) infinite;\n",
              "  }\n",
              "\n",
              "  @keyframes spin {\n",
              "    0% {\n",
              "      border-color: transparent;\n",
              "      border-bottom-color: var(--fill-color);\n",
              "      border-left-color: var(--fill-color);\n",
              "    }\n",
              "    20% {\n",
              "      border-color: transparent;\n",
              "      border-left-color: var(--fill-color);\n",
              "      border-top-color: var(--fill-color);\n",
              "    }\n",
              "    30% {\n",
              "      border-color: transparent;\n",
              "      border-left-color: var(--fill-color);\n",
              "      border-top-color: var(--fill-color);\n",
              "      border-right-color: var(--fill-color);\n",
              "    }\n",
              "    40% {\n",
              "      border-color: transparent;\n",
              "      border-right-color: var(--fill-color);\n",
              "      border-top-color: var(--fill-color);\n",
              "    }\n",
              "    60% {\n",
              "      border-color: transparent;\n",
              "      border-right-color: var(--fill-color);\n",
              "    }\n",
              "    80% {\n",
              "      border-color: transparent;\n",
              "      border-right-color: var(--fill-color);\n",
              "      border-bottom-color: var(--fill-color);\n",
              "    }\n",
              "    90% {\n",
              "      border-color: transparent;\n",
              "      border-bottom-color: var(--fill-color);\n",
              "    }\n",
              "  }\n",
              "</style>\n",
              "\n",
              "      <script>\n",
              "        async function quickchart(key) {\n",
              "          const quickchartButtonEl =\n",
              "            document.querySelector('#' + key + ' button');\n",
              "          quickchartButtonEl.disabled = true;  // To prevent multiple clicks.\n",
              "          quickchartButtonEl.classList.add('colab-df-spinner');\n",
              "          try {\n",
              "            const charts = await google.colab.kernel.invokeFunction(\n",
              "                'suggestCharts', [key], {});\n",
              "          } catch (error) {\n",
              "            console.error('Error during call to suggestCharts:', error);\n",
              "          }\n",
              "          quickchartButtonEl.classList.remove('colab-df-spinner');\n",
              "          quickchartButtonEl.classList.add('colab-df-quickchart-complete');\n",
              "        }\n",
              "        (() => {\n",
              "          let quickchartButtonEl =\n",
              "            document.querySelector('#df-7ecd2aac-9bc1-454f-ba13-31da938f7b1c button');\n",
              "          quickchartButtonEl.style.display =\n",
              "            google.colab.kernel.accessAllowed ? 'block' : 'none';\n",
              "        })();\n",
              "      </script>\n",
              "    </div>\n",
              "\n",
              "    </div>\n",
              "  </div>\n"
            ],
            "application/vnd.google.colaboratory.intrinsic+json": {
              "type": "dataframe",
              "variable_name": "df_train",
              "summary": "{\n  \"name\": \"df_train\",\n  \"rows\": 17947,\n  \"fields\": [\n    {\n      \"column\": \"titulo\",\n      \"properties\": {\n        \"dtype\": \"string\",\n        \"num_unique_values\": 13932,\n        \"samples\": [\n          \"Dangerous Men\",\n          \"La Vie est un long fleuve tranquille\",\n          \"7 Below\"\n        ],\n        \"semantic_type\": \"\",\n        \"description\": \"\"\n      }\n    },\n    {\n      \"column\": \"sinopse\",\n      \"properties\": {\n        \"dtype\": \"string\",\n        \"num_unique_values\": 16904,\n        \"samples\": [\n          \"Dois vendedores destroem um caminh\\u00e3o da empresa em um entornador movido a bebida energ\\u00e9tica. Ap\\u00f3s a pris\\u00e3o, o tribunal d\\u00e1 a eles uma escolha: cumprir pena ou passar 150 horas de servi\\u00e7o em um programa de orienta\\u00e7\\u00e3o. Depois de um dia com as crian\\u00e7as, no entanto, a pris\\u00e3o n\\u00e3o parece t\\u00e3o ruim.\",\n          \"Eliza e Debbie s\\u00e3o duas irm\\u00e3s que nem sempre se d\\u00e3o bem. Mas o relacionamento deles \\u00e9 posto \\u00e0 prova quando a vida de Debbie est\\u00e1 em perigo, e Eliza pode ter que desistir de seu poder de falar com os animais....\",\n          \"Anos ap\\u00f3s a morte de sua filha adolescente, Lois e Doug Riley, um casal honesto de Indiana, est\\u00e3o congelados por uma dor distante. Doug foge para Nova Orleans em uma viagem de neg\\u00f3cios. Compelido por urg\\u00eancias que n\\u00e3o entende, ele se insinua na vida de uma prostituta menor de idade, tornando-se seu guardi\\u00e3o plat\\u00f4nico.\"\n        ],\n        \"semantic_type\": \"\",\n        \"description\": \"\"\n      }\n    },\n    {\n      \"column\": \"generos\",\n      \"properties\": {\n        \"dtype\": \"category\",\n        \"num_unique_values\": 2016,\n        \"samples\": [\n          \"['Drama', 'Thriller', 'Mist\\u00e9rio', 'Guerra']\",\n          \"['Aventura', 'Fam\\u00edlia', 'Fantasia', 'Com\\u00e9dia', 'Romance']\",\n          \"['A\\u00e7\\u00e3o', 'Fam\\u00edlia', 'Horror']\"\n        ],\n        \"semantic_type\": \"\",\n        \"description\": \"\"\n      }\n    },\n    {\n      \"column\": \"is_valid\",\n      \"properties\": {\n        \"dtype\": \"boolean\",\n        \"num_unique_values\": 2,\n        \"samples\": [\n          true,\n          false\n        ],\n        \"semantic_type\": \"\",\n        \"description\": \"\"\n      }\n    }\n  ]\n}"
            }
          },
          "metadata": {},
          "execution_count": 2
        }
      ],
      "source": [
        "import pandas as pd\n",
        "\n",
        "df_train = pd.read_csv(\"sinopsys_train.csv\")\n",
        "df_test = pd.read_csv(\"sinopsys_test.csv\")\n",
        "\n",
        "df_train.head()"
      ]
    },
    {
      "cell_type": "code",
      "execution_count": 3,
      "id": "yfMXdockSA7R",
      "metadata": {
        "colab": {
          "base_uri": "https://localhost:8080/"
        },
        "id": "yfMXdockSA7R",
        "outputId": "e328ff4b-016d-48ca-8810-c7702629a8b4"
      },
      "outputs": [
        {
          "output_type": "execute_result",
          "data": {
            "text/plain": [
              "['A história da primeira grande batalha da fase americana da Guerra do Vietnã e os soldados de ambos os lados que a travaram.',\n",
              " 'Um negócio de drogas dá errado, deixando corpos. Um xerife atira em seu vice pelo dinheiro e um amnésico ferido atira no xerife e foge com $ 3.000.000. A DEA investiga, assim como o traficante pai do deputado morto.',\n",
              " 'Quando o disc jockey Grant Mazzy se reporta à estação de rádio de seu porão na cidade canadense de Pontypool, ele pensa que é apenas mais um dia de trabalho. Mas quando ouve relatos de um vírus que transforma as pessoas em zumbis, Mazzy se barrica na cabine de rádio e tenta descobrir uma maneira de alertar seus ouvintes sobre o vírus e seu improvável modo de transmissão.',\n",
              " 'Depois que o parceiro de um detetive de São Francisco é assassinado por terroristas da Irlanda do Norte, o policial se junta ao esquadrão antibomba para levá-los à justiça.',\n",
              " 'Um adolescente prodígio tenso entra em uma faculdade de engenharia de ponta, mas se sente estranho entre os alunos despreocupados. Quando um professor pretende transformar seu projeto de laser em uma arma militar, ele e seu excêntrico colega de quarto planejam arruinar o plano.',\n",
              " 'Em uma Terra alternativa, o Coringa engana o Superman para matar Lois Lane, o que causa uma agitação no herói. Superman decide assumir o controle da Terra; Batman e seus aliados terão que tentar detê-lo.',\n",
              " 'Depois que seu pai (Tim Robbins) é chamado para trabalhar, dois meninos, Walter (Josh Hutcherson) e Danny (Jonah Bobo), são deixados aos cuidados de sua irmã adolescente, Lisa (Kristen Stewart), e devem ficar dentro de casa. . Walter e Danny, que antecipam um dia chato, ficam chocados quando começam a jogar Zathura, um jogo de tabuleiro com tema espacial, que eles percebem ter poderes místicos quando sua casa é lançada no espaço. Com a ajuda de um astronauta (Dax Shepard), os meninos tentam voltar para casa.',\n",
              " 'Após um colapso nervoso e uma tentativa de suicídio, um ator envelhecido se envolve com uma mulher muito mais jovem, mas logo descobre que é difícil acompanhá-la.',\n",
              " 'Assim que Dan e Kristi dão as boas-vindas a um bebê recém-nascido em sua casa, uma presença demoníaca começa a aterrorizá-los, destruindo seu mundo perfeito e transformando-o em um pesadelo inevitável. As câmeras de segurança capturam o tormento, tornando cada minuto terrivelmente real.',\n",
              " 'Três trapalhões reservistas do Exército com destino ao Iraque são acidentalmente jogados em um vilarejo mexicano sitiado por forças hostis.']"
            ]
          },
          "metadata": {},
          "execution_count": 3
        }
      ],
      "source": [
        "from sklearn.feature_extraction.text import CountVectorizer\n",
        "\n",
        "# Define o corpus a partir da coluna desejada\n",
        "corpus = df_train[\"sinopse\"].dropna().astype(str).tolist()\n",
        "corpus[:10]"
      ]
    },
    {
      "cell_type": "markdown",
      "id": "pcooh_i_v_Bq",
      "metadata": {
        "id": "pcooh_i_v_Bq"
      },
      "source": [
        "## 4.1. Crie uma função que implemente um pipeline de préprocessamento apropriado"
      ]
    },
    {
      "cell_type": "code",
      "execution_count": 6,
      "id": "2mWM-3H8yp7I",
      "metadata": {
        "id": "2mWM-3H8yp7I"
      },
      "outputs": [],
      "source": [
        "# sua resposta\n",
        "import re\n",
        "def preprocess_text_basic(text):\n",
        "    \"\"\"\n",
        "    Implementa um pipeline de pré-processamento básico para texto em português\n",
        "    usando apenas as bibliotecas NLTK e re, focando no que já foi importado.\n",
        "\n",
        "    Args:\n",
        "        text (str): O texto a ser pré-processado.\n",
        "\n",
        "    Returns:\n",
        "        list: Uma lista de tokens pré-processados.\n",
        "    \"\"\"\n",
        "    if not isinstance(text, str):\n",
        "        return [] # Retorna lista vazia se a entrada não for string\n",
        "\n",
        "    #  Primeiro converter tudo para minúsculas\n",
        "    text = text.lower()\n",
        "\n",
        "    # De seguida remover caracteres que não são letras ou espaços\n",
        "    # manter letras minúsculas (incluindo acentuadas comuns em português) e espaços\n",
        "    text = re.sub(r'[^a-zà-ú\\s]', '', text)\n",
        "\n",
        "    # depois Tokenização simples dividindo por espaços\n",
        "    # Esta tokenização é mais básica que word_tokenize, mas funciona com as libs importadas\n",
        "    tokens = text.split()\n",
        "\n",
        "    # 4. Remover stopwords e filtrar tokens vazios\n",
        "    processed_tokens = [token for token in tokens if token not in stop and token] # Garante que token não é vazio\n",
        "\n",
        "    return processed_tokens"
      ]
    },
    {
      "cell_type": "code",
      "source": [
        "corpus_raw = df_train[\"sinopse\"].dropna().astype(str).tolist()\n",
        "corpus_processed_basic = [preprocess_text_basic(text) for text in corpus_raw]\n",
        "\n",
        "# Mostra os primeiros 5 documentos pré-processados\n",
        "for i in range(5):\n",
        "    print(f\"Documento {i+1} (Original): {corpus_raw[i][:100]}...\")\n",
        "    print(f\"Documento {i+1} (Pré-processado Básico): {corpus_processed_basic[i]}\")\n",
        "    print(\"-\" * 20)\n"
      ],
      "metadata": {
        "id": "IO4EmUQ-jHVF",
        "outputId": "401d1d8d-0e6b-4be7-be86-56a3f1a6ed39",
        "colab": {
          "base_uri": "https://localhost:8080/"
        }
      },
      "id": "IO4EmUQ-jHVF",
      "execution_count": 7,
      "outputs": [
        {
          "output_type": "stream",
          "name": "stdout",
          "text": [
            "Documento 1 (Original): A história da primeira grande batalha da fase americana da Guerra do Vietnã e os soldados de ambos o...\n",
            "Documento 1 (Pré-processado Básico): ['história', 'primeira', 'grande', 'batalha', 'fase', 'americana', 'guerra', 'vietnã', 'soldados', 'ambos', 'lados', 'travaram']\n",
            "--------------------\n",
            "Documento 2 (Original): Um negócio de drogas dá errado, deixando corpos. Um xerife atira em seu vice pelo dinheiro e um amné...\n",
            "Documento 2 (Pré-processado Básico): ['negócio', 'drogas', 'dá', 'errado', 'deixando', 'corpos', 'xerife', 'atira', 'vice', 'dinheiro', 'amnésico', 'ferido', 'atira', 'xerife', 'foge', 'dea', 'investiga', 'assim', 'traficante', 'pai', 'deputado', 'morto']\n",
            "--------------------\n",
            "Documento 3 (Original): Quando o disc jockey Grant Mazzy se reporta à estação de rádio de seu porão na cidade canadense de P...\n",
            "Documento 3 (Pré-processado Básico): ['disc', 'jockey', 'grant', 'mazzy', 'reporta', 'estação', 'rádio', 'porão', 'cidade', 'canadense', 'pontypool', 'pensa', 'apenas', 'dia', 'trabalho', 'ouve', 'relatos', 'vírus', 'transforma', 'pessoas', 'zumbis', 'mazzy', 'barrica', 'cabine', 'rádio', 'tenta', 'descobrir', 'maneira', 'alertar', 'ouvintes', 'sobre', 'vírus', 'improvável', 'modo', 'transmissão']\n",
            "--------------------\n",
            "Documento 4 (Original): Depois que o parceiro de um detetive de São Francisco é assassinado por terroristas da Irlanda do No...\n",
            "Documento 4 (Pré-processado Básico): ['parceiro', 'detetive', 'francisco', 'assassinado', 'terroristas', 'irlanda', 'norte', 'policial', 'junta', 'esquadrão', 'antibomba', 'leválos', 'justiça']\n",
            "--------------------\n",
            "Documento 5 (Original): Um adolescente prodígio tenso entra em uma faculdade de engenharia de ponta, mas se sente estranho e...\n",
            "Documento 5 (Pré-processado Básico): ['adolescente', 'prodígio', 'tenso', 'entra', 'faculdade', 'engenharia', 'ponta', 'sente', 'estranho', 'alunos', 'despreocupados', 'professor', 'pretende', 'transformar', 'projeto', 'laser', 'arma', 'militar', 'excêntrico', 'colega', 'quarto', 'planejam', 'arruinar', 'plano']\n",
            "--------------------\n"
          ]
        }
      ]
    },
    {
      "cell_type": "markdown",
      "id": "JV4HhAiUxV7d",
      "metadata": {
        "id": "JV4HhAiUxV7d"
      },
      "source": [
        "## 4.2. Represente através de uma Bag of Words."
      ]
    },
    {
      "cell_type": "code",
      "execution_count": 8,
      "id": "EIeq5t2Jxn5t",
      "metadata": {
        "id": "EIeq5t2Jxn5t",
        "outputId": "7f50dcb4-148e-4797-a183-112647554df4",
        "colab": {
          "base_uri": "https://localhost:8080/"
        }
      },
      "outputs": [
        {
          "output_type": "stream",
          "name": "stdout",
          "text": [
            "Representação Bag of Words do primeiro documento (exemplo):\n",
            "[(0, 1), (1, 1), (2, 1), (3, 1), (4, 1), (5, 1), (6, 1), (7, 1), (8, 1), (9, 1), (10, 1), (11, 1)]\n",
            "\n",
            "Palavras correspondentes aos IDs no primeiro documento (exemplo):\n",
            "ID: 0, Palavra: ambos, Contagem: 1\n",
            "ID: 1, Palavra: americana, Contagem: 1\n",
            "ID: 2, Palavra: batalha, Contagem: 1\n",
            "ID: 3, Palavra: fase, Contagem: 1\n",
            "ID: 4, Palavra: grande, Contagem: 1\n",
            "ID: 5, Palavra: guerra, Contagem: 1\n",
            "ID: 6, Palavra: história, Contagem: 1\n",
            "ID: 7, Palavra: lados, Contagem: 1\n",
            "ID: 8, Palavra: primeira, Contagem: 1\n",
            "ID: 9, Palavra: soldados, Contagem: 1\n",
            "ID: 10, Palavra: travaram, Contagem: 1\n",
            "ID: 11, Palavra: vietnã, Contagem: 1\n",
            "\n",
            "Tamanho do vocabulário (número de palavras únicas): 39814\n"
          ]
        }
      ],
      "source": [
        "# sua resposta\n",
        "\n",
        "# Criei um dicionário a partir do corpus pré-processado no passo anterior\n",
        "dictionary = corpora.Dictionary(corpus_processed_basic)\n",
        "\n",
        "# Poderia ter filtado por palavras muito raras ou muito frequentes\n",
        "# dictionary.filter_extremes(no_below=5, no_above=0.5, keep_n=100000)\n",
        "# no_below=5: ignora palavras que aparecem em menos de 5 documentos\n",
        "# no_above=0.5: ignora palavras que aparecem em mais de 50% dos documentos\n",
        "# keep_n=100000: mantém apenas as 100.000 palavras mais frequentes, este numero é ajustavél\n",
        "#Isto seria importante para ter dados que fizessem mais sentido e tivessem mais pesos no documento\n",
        "\n",
        "# 2. Crie o corpus Bag of Words\n",
        "# Para cada documento no corpus, crie uma representação Bag of Words.\n",
        "# Cada documento será uma lista de tuplas (word_id, word_count).\n",
        "corpus_bow = [dictionary.doc2bow(doc) for doc in corpus_processed_basic]\n",
        "\n",
        "# Mostra a representação Bag of Words do primeiro documento (exemplo)\n",
        "print(\"Representação Bag of Words do primeiro documento (exemplo):\")\n",
        "print(corpus_bow[0])\n",
        "\n",
        "# Para entender melhor, podemos ver quais palavras correspondem aos IDs\n",
        "print(\"\\nPalavras correspondentes aos IDs no primeiro documento (exemplo):\")\n",
        "for id, count in corpus_bow[0]:\n",
        "    print(f\"ID: {id}, Palavra: {dictionary[id]}, Contagem: {count}\")\n",
        "\n",
        "# Opcional: Mostrar o tamanho do vocabulário\n",
        "print(f\"\\nTamanho do vocabulário (número de palavras únicas): {len(dictionary)}\")\n"
      ]
    },
    {
      "cell_type": "markdown",
      "id": "-SbqNaKzWi7Z",
      "metadata": {
        "id": "-SbqNaKzWi7Z"
      },
      "source": [
        "## 4.3. Quais os top-10 palavras mais frequentes no corpus que não sejam stopwords?"
      ]
    },
    {
      "cell_type": "code",
      "execution_count": 9,
      "id": "IFpIJM1oWwAK",
      "metadata": {
        "id": "IFpIJM1oWwAK",
        "outputId": "df822b38-fa20-472f-e9cb-614d5e027329",
        "colab": {
          "base_uri": "https://localhost:8080/"
        }
      },
      "outputs": [
        {
          "output_type": "stream",
          "name": "stdout",
          "text": [
            "Top 10 palavras mais frequentes (não stopwords):\n",
            "Palavra: 'vida', Contagem: 2539\n",
            "Palavra: 'anos', Contagem: 1880\n",
            "Palavra: 'enquanto', Contagem: 1865\n",
            "Palavra: 'jovem', Contagem: 1666\n",
            "Palavra: 'cidade', Contagem: 1648\n",
            "Palavra: 'dois', Contagem: 1433\n",
            "Palavra: 'família', Contagem: 1432\n",
            "Palavra: 'história', Contagem: 1418\n",
            "Palavra: 'mundo', Contagem: 1408\n",
            "Palavra: 'homem', Contagem: 1327\n"
          ]
        }
      ],
      "source": [
        "#dicionário para armazenar a contagem total de cada palavra, fica variavel reultados\n",
        "word_counts = {}\n",
        "\n",
        "# Percorre cada documento no corpus Bag of Words\n",
        "for doc_bow in corpus_bow:\n",
        "    # Percorre cada tupla (word_id, count) no documento BoW\n",
        "    for word_id, count in doc_bow:\n",
        "        # Obtenha a palavra correspondente ao word_id a partir do dicionário\n",
        "        word = dictionary[word_id]\n",
        "        # Adicione a contagem ao total da palavra no dicionário word_counts\n",
        "        word_counts[word] = word_counts.get(word, 0) + count\n",
        "\n",
        "# Converta o dicionário de contagens em uma lista de tuplas (palavra, contagem), ajuda depois na ordenação.\n",
        "word_counts_list = list(word_counts.items())\n",
        "\n",
        "# Ordenei a lista em ordem decrescente com base na contagem\n",
        "word_counts_list.sort(key=lambda item: item[1], reverse=True)\n",
        "\n",
        "# Selecionei apenas as top-10 palavras\n",
        "top_10_words = word_counts_list[:10]\n",
        "\n",
        "# Mostrar as top-10 palavras e suas contagens\n",
        "print(\"Top 10 palavras mais frequentes (não stopwords):\")\n",
        "for word, count in top_10_words:\n",
        "    print(f\"Palavra: '{word}', Contagem: {count}\") #Parava com a respetiva contagem"
      ]
    },
    {
      "cell_type": "markdown",
      "id": "ROxXGTkAxsSt",
      "metadata": {
        "id": "ROxXGTkAxsSt"
      },
      "source": [
        "## 4.4. Calcule a similaridade cosseno entre dois documentos à sua escolha e comente o resultado."
      ]
    },
    {
      "cell_type": "code",
      "execution_count": 12,
      "id": "pWcDOlP_yOxP",
      "metadata": {
        "id": "pWcDOlP_yOxP",
        "outputId": "88a3b194-9db1-4456-bad7-3c2c58e5ba74",
        "colab": {
          "base_uri": "https://localhost:8080/"
        }
      },
      "outputs": [
        {
          "output_type": "stream",
          "name": "stdout",
          "text": [
            "Calculando a similaridade cosseno entre o Documento 1 e o Documento 2\n",
            "Representação BoW do Documento 1: [(0, 1), (1, 1), (2, 1), (3, 1), (4, 1), (5, 1), (6, 1), (7, 1), (8, 1), (9, 1)]...\n",
            "Representação BoW do Documento 2: [(12, 1), (13, 1), (14, 2), (15, 1), (16, 1), (17, 1), (18, 1), (19, 1), (20, 1), (21, 1)]...\n",
            "Similaridade Cosseno: 0.0000\n"
          ]
        }
      ],
      "source": [
        "# sua resposta\n",
        "from gensim import similarities\n",
        "# Escolhi o primeiro e o segundo documento\n",
        "document_index_1 = 0  # Índice do primeiro documento\n",
        "document_index_2 = 1  # Índice do segundo documento\n",
        "\n",
        "# Obtenha a representação Bag of Words para os documentos selecionados\n",
        "bow_doc_1 = corpus_bow[document_index_1]\n",
        "bow_doc_2 = corpus_bow[document_index_2]\n",
        "\n",
        "# Criei um índice de similaridade com base no corpus BoW e dicionário\n",
        "index = similarities.MatrixSimilarity(corpus_bow, num_features=len(dictionary))\n",
        "# Calcule a similaridade do primeiro documento com todos os outros documentos no índice\n",
        "# A similaridade com ele mesmo será 1.0\n",
        "similarities_doc_1 = index[bow_doc_1]\n",
        "\n",
        "# A similaridade cosseno entre os dois documentos escolhidos será\n",
        "# o valor na posição do segundo documento na lista de similaridades do primeiro.\n",
        "cosine_similarity = similarities_doc_1[document_index_2]\n",
        "\n",
        "print(f\"Calculando a similaridade cosseno entre o Documento {document_index_1 + 1} e o Documento {document_index_2 + 1}\")\n",
        "print(f\"Representação BoW do Documento {document_index_1 + 1}: {bow_doc_1[:10]}...\") # Mostra os primeiros 10 itens para brevity\n",
        "print(f\"Representação BoW do Documento {document_index_2 + 1}: {bow_doc_2[:10]}...\") # Mostra os primeiros 10 itens para brevity\n",
        "print(f\"Similaridade Cosseno: {cosine_similarity:.4f}\")\n",
        "\n",
        "\n",
        "#Comentário do resultado\n",
        "#A similaridade cosseno é muito baixa, sugerindo que os documentos têm conteúdos de palavras bastante diferentes.\n",
        "\n",
        "\n"
      ]
    },
    {
      "cell_type": "markdown",
      "id": "9HysSdnZ2ltO",
      "metadata": {
        "id": "9HysSdnZ2ltO"
      },
      "source": [
        "## 4.5.Implemente o Word2Vec e selecione um contexto presente no corpus (**a seu critério**). Qual palavra o modelo preveu?"
      ]
    },
    {
      "cell_type": "code",
      "execution_count": 14,
      "id": "xvNq-Ku53Z5A",
      "metadata": {
        "id": "xvNq-Ku53Z5A",
        "outputId": "a74eb846-cc6e-4501-f08d-49a03691e1e8",
        "colab": {
          "base_uri": "https://localhost:8080/"
        }
      },
      "outputs": [
        {
          "output_type": "stream",
          "name": "stderr",
          "text": [
            "WARNING:gensim.models.word2vec:Effective 'alpha' higher than previous training cycles\n"
          ]
        },
        {
          "output_type": "stream",
          "name": "stdout",
          "text": [
            "\n",
            "Contexto usado para predição: ['jovem', 'vida', 'nova']\n",
            "Palavra prevista pelo modelo: 'york'\n"
          ]
        }
      ],
      "source": [
        "# sua resposta\n",
        "# Este corpus é uma lista de listas de tokens (palavras pré-processadas por documento).\n",
        "sentences = corpus_processed_basic\n",
        "\n",
        "\n",
        "# Configurar o modelo Word2Vec\n",
        "# vector_size: Dimensão dos vetores de palavras (tamanho do embedding)\n",
        "# window: Tamanho da janela de contexto\n",
        "# min_count: Ignora palavras com frequência total menor que este valor\n",
        "# workers: Número de threads para treinar em paralelo\n",
        "# sg: 0 para CBOW, 1 para Skip-gram (Vamos usar CBOW por padrão, sg=0)\n",
        "\n",
        "model = gensim.models.Word2Vec(sentences=sentences, vector_size=100, window=5, min_count=5, workers=4,sg=0)\n",
        "\n",
        "#treinar o modelo mais uam vez\n",
        "model.train(sentences, total_examples=len(sentences), epochs=10)\n",
        "\n",
        "#Utilizando o top 10 palavras esoclhi jovem vida e nova, vao ser as palarvas que vamos prever\n",
        "context_words_to_predict = ['jovem', 'vida', 'nova']\n",
        "# Verifique se estas palavras existem no vocabulário do modelo treinado:\n",
        "valid_context = [word for word in context_words_to_predict if word in model.wv]\n",
        "\n",
        "if len(valid_context) < len(context_words_to_predict):\n",
        "    print(f\"Algumas palavras do contexto '{context_words_to_predict}' não estão no vocabulário do modelo (min_count).\")\n",
        "    print(f\"Contexto usado para predição: {valid_context}\")\n",
        "    if not valid_context:\n",
        "        print(\"Não foi possível encontrar palavras válidas no vocabulário do modelo para o contexto escolhido.\")\n",
        "    else:\n",
        "        # Prever a palavra mais provável dado o contexto válido\n",
        "        # predict_output_word retorna uma lista de tuplas (palavra, probabilidade)\n",
        "        predicted_words = model.predict_output_word(valid_context, topn=1)\n",
        "        if predicted_words:\n",
        "            predicted_word = predicted_words[0][0]\n",
        "            print(f\"\\nContexto usado para predição: {valid_context}\")\n",
        "            print(f\"Palavra prevista pelo modelo: '{predicted_word}'\")\n",
        "        else:\n",
        "            print(\"O modelo não conseguiu prever uma palavra para o contexto fornecido.\")\n",
        "\n",
        "else:\n",
        "    # Prever a palavra mais provável dado o contexto\n",
        "    # predict_output_word retorna uma lista de tuplas (palavra, probabilidade)\n",
        "    predicted_words = model.predict_output_word(context_words_to_predict, topn=1)\n",
        "\n",
        "    if predicted_words:\n",
        "        predicted_word = predicted_words[0][0]\n",
        "        print(f\"\\nContexto usado para predição: {context_words_to_predict}\")\n",
        "        print(f\"Palavra prevista pelo modelo: '{predicted_word}'\")\n",
        "    else:\n",
        "        print(\"O modelo não conseguiu prever uma palavra para o contexto fornecido.\")\n"
      ]
    },
    {
      "cell_type": "markdown",
      "id": "NlZc8pRj3cvA",
      "metadata": {
        "id": "NlZc8pRj3cvA"
      },
      "source": [
        "## 4.6. A abordagem acima foi:\n",
        "\n",
        "- a) [ ] Skip-gram\n",
        "- b) [ ] CBOW"
      ]
    },
    {
      "cell_type": "markdown",
      "source": [
        "Opeção b) CBOW, pois no modelo Word2Vec sg=0 utiliza a arquitetura CBOW (Continuous Bag of Words). Nesta arquitetura, o modelo tenta prever a palavra alvo a partir de um contexto de palavras ao seu redor.\n"
      ],
      "metadata": {
        "id": "4OZBMq6FpAFV"
      },
      "id": "4OZBMq6FpAFV"
    },
    {
      "cell_type": "markdown",
      "id": "Y3FMm0wh31zw",
      "metadata": {
        "id": "Y3FMm0wh31zw"
      },
      "source": [
        "## 4.7. Duplicar o tamanho do contexto para o caso acima teria impacto positivo ou negativo?"
      ]
    },
    {
      "cell_type": "markdown",
      "source": [
        "Duplicar o tamanho do contexto (window) poderia ter um impacto positivo se as relações semânticas relevantes estiverem frequentemente espalhadas por uma distância maior nas sinopses. No entanto, também poderia ter um impacto negativo ao introduzir ruído, diluir contextos específicos e aumentar os requisitos computacionais, especialmente considerando a natureza concisa das sinopses.\n",
        "\n",
        "A escolha ideal do tamanho da janela geralmente depende do corpus e da tarefa, e é frequentemente determinada por experimentação. Para sinopses, uma janela menor ou moderada (como a de 5 que utilizei) é geralmente mais adequada do que uma janela muito grande.\n",
        "\n",
        "Principais impactos possitivos:\n",
        "- Mais informação de contexto, uma janela maior leva em considerção mais palavras ao redor da palavra de predição\n",
        "- Melhores representações para palavras comuns, pois estas costumam ter muitos contextos diferentes, Uma janela maior pode trazer um conjunto mais rico para os contextos destas palavras\n",
        "\n",
        "Principais impactos negativos:\n",
        "- Uma janela maior pode ter mais ruido e palavras fora do contexto.\n",
        "- Contextos menos especificos, onde a palvra alvo passa a ter mais relações, o que mostra desparidade de resultados."
      ],
      "metadata": {
        "id": "zPC669vopWd0"
      },
      "id": "zPC669vopWd0"
    },
    {
      "cell_type": "markdown",
      "id": "rWEoRyNCwU9b",
      "metadata": {
        "id": "rWEoRyNCwU9b"
      },
      "source": [
        "\n",
        "## 4.8. Implemente o LDA"
      ]
    },
    {
      "cell_type": "code",
      "execution_count": 16,
      "id": "tUPJkO8Pwh1T",
      "metadata": {
        "id": "tUPJkO8Pwh1T",
        "outputId": "c286116e-8ea0-44c1-f34a-d724b600594b",
        "colab": {
          "base_uri": "https://localhost:8080/"
        }
      },
      "outputs": [
        {
          "output_type": "stream",
          "name": "stdout",
          "text": [
            "Tópico 1: 0.044*\"grupo\" + 0.019*\"futuro\" + 0.015*\"médio\" + 0.014*\"jovens\" + 0.013*\"ensino\" + 0.013*\"cinco\" + 0.012*\"ano\" + 0.012*\"velho\" + 0.010*\"incluindo\" + 0.010*\"último\"\n",
            "Tópico 2: 0.027*\"amigos\" + 0.019*\"vez\" + 0.017*\"the\" + 0.014*\"duas\" + 0.014*\"fica\" + 0.010*\"conhece\" + 0.010*\"casamento\" + 0.009*\"casal\" + 0.009*\"verdade\" + 0.009*\"misterioso\"\n",
            "Tópico 3: 0.021*\"equipe\" + 0.019*\"polícia\" + 0.018*\"prisão\" + 0.017*\"vê\" + 0.016*\"outros\" + 0.015*\"crime\" + 0.014*\"encontram\" + 0.012*\"própria\" + 0.011*\"sobreviver\" + 0.011*\"aventura\"\n",
            "Tópico 4: 0.033*\"vida\" + 0.025*\"anos\" + 0.022*\"jovem\" + 0.021*\"mundo\" + 0.019*\"história\" + 0.019*\"sobre\" + 0.018*\"dois\" + 0.018*\"família\" + 0.017*\"casa\" + 0.016*\"filme\"\n",
            "Tópico 5: 0.027*\"salvar\" + 0.022*\"encontra\" + 0.014*\"tornar\" + 0.013*\"namorada\" + 0.013*\"vai\" + 0.010*\"deserto\" + 0.010*\"década\" + 0.010*\"tentativa\" + 0.009*\"estrela\" + 0.009*\"todo\"\n",
            "Tópico 6: 0.019*\"cidade\" + 0.015*\"homem\" + 0.012*\"contra\" + 0.012*\"descobre\" + 0.011*\"durante\" + 0.009*\"pode\" + 0.009*\"tenta\" + 0.009*\"tudo\" + 0.009*\"filho\" + 0.009*\"todos\"\n",
            "Tópico 7: 0.044*\"guerra\" + 0.028*\"tempo\" + 0.021*\"faz\" + 0.014*\"drogas\" + 0.013*\"vidas\" + 0.012*\"parte\" + 0.012*\"mundial\" + 0.011*\"tentando\" + 0.010*\"país\" + 0.010*\"planeja\"\n",
            "Tópico 8: 0.036*\"gangue\" + 0.026*\"preso\" + 0.019*\"carreira\" + 0.018*\"médico\" + 0.017*\"embarca\" + 0.017*\"rainha\" + 0.016*\"verdadeiro\" + 0.016*\"malvado\" + 0.015*\"assume\" + 0.015*\"classe\"\n",
            "Tópico 9: 0.038*\"enquanto\" + 0.024*\"deve\" + 0.015*\"três\" + 0.013*\"assassino\" + 0.013*\"morte\" + 0.012*\"terra\" + 0.011*\"série\" + 0.009*\"devem\" + 0.009*\"irmão\" + 0.008*\"john\"\n",
            "Tópico 10: 0.054*\"nova\" + 0.023*\"york\" + 0.017*\"pequena\" + 0.017*\"outro\" + 0.016*\"pais\" + 0.015*\"apaixona\" + 0.014*\"marido\" + 0.014*\"cada\" + 0.012*\"real\" + 0.010*\"parece\"\n"
          ]
        }
      ],
      "source": [
        "# sua resposta\n",
        "\n",
        "# Defina o número de tópicos que quero extrair\n",
        "num_topics = 10\n",
        "corpus_bow_diminuido = corpus_bow[:10000]\n",
        "# Treine o modelo LDA\n",
        "\n",
        "lda_model = LdaModel(\n",
        "    corpus=corpus_bow,\n",
        "    id2word=dictionary,\n",
        "    num_topics=num_topics,\n",
        "    random_state=42,\n",
        "    update_every=1,\n",
        "    chunksize=100,\n",
        "    passes=10,\n",
        "    alpha='auto',\n",
        "    eta='auto'\n",
        ")\n",
        "\n",
        "for topic_id, topic_words in lda_model.print_topics():\n",
        "    print(f\"Tópico {topic_id + 1}: {topic_words}\")\n",
        "\n",
        "# Agora você tem o lda_model treinado. Ele pode ser usado para:\n",
        "# - Ver as palavras mais prováveis para cada tópico (como acima)\n",
        "# - Ver a distribuição de tópicos para cada documento:"
      ]
    },
    {
      "cell_type": "markdown",
      "id": "AjC246ZqwnID",
      "metadata": {
        "id": "AjC246ZqwnID"
      },
      "source": [
        "## 4.9. Selecione um dos Tópicos (**exceto o do exemplo**) e, baseado nos termos, faça uma sugestâo de label que represente bem aquele Tópico.\n",
        "\n",
        "- **Exemplo**: O Tópico 5 possui predominante termos relacionados a espionagem e guerra. Portanto, um bom label seria Ação e Espionagem Militar.\n",
        "\n",
        "- Palavras principais deste tópico:\n",
        "\"agente\", \"guerra\", \"policial\", \"mundial\", \"secreto\", \"missão\", \"governo\", \"investigar\", \"americano\", \"eua\""
      ]
    },
    {
      "cell_type": "markdown",
      "source": [
        "Escolhi o topico 3 com palavras como, equipa, policia, prisão, ve, outros\n",
        "Faz me lembrar um jogo de futebol\n",
        "\n"
      ],
      "metadata": {
        "id": "pwBbNghfrqxo"
      },
      "id": "pwBbNghfrqxo"
    },
    {
      "cell_type": "markdown",
      "id": "3f30943b",
      "metadata": {
        "id": "3f30943b"
      },
      "source": [
        "A visualização abaixo pode auxiliar na identificação dos tópicos para responder a questão 4.9 - ajuste conforme sua necessidade"
      ]
    },
    {
      "cell_type": "code",
      "execution_count": null,
      "id": "inxlzvaga3Ty",
      "metadata": {
        "colab": {
          "base_uri": "https://localhost:8080/",
          "height": 881
        },
        "id": "inxlzvaga3Ty",
        "outputId": "424f8369-d4a3-41cd-b7ae-0cd891920ea8"
      },
      "outputs": [
        {
          "data": {
            "text/html": [
              "\n",
              "<link rel=\"stylesheet\" type=\"text/css\" href=\"https://cdn.jsdelivr.net/gh/bmabey/pyLDAvis@3.4.0/pyLDAvis/js/ldavis.v1.0.0.css\">\n",
              "\n",
              "\n",
              "<div id=\"ldavis_el29851407158042133122368940734\" style=\"background-color:white;\"></div>\n",
              "<script type=\"text/javascript\">\n",
              "\n",
              "var ldavis_el29851407158042133122368940734_data = {\"mdsDat\": {\"x\": [0.09780817555931698, 0.06297305948284464, -0.13450041274187083, -0.059845329901517655, 0.0088415074841925, -0.056911224780872884, -0.019704448499530187, -0.05521918967508432, -0.018803195084070287, 0.01642283929024546, 0.0321454491982844, 0.061620164515079234, 0.020639015957993986, 0.019045108212016895, 0.025488480982972208], \"y\": [-0.0386245544887717, 0.07971505657416367, -0.06839953811966244, -0.009418323880467002, -0.10265833573197743, 0.10492271546902979, 0.06298060960323927, 0.012074129131787124, -0.00464873019617611, 0.05162905269329473, -0.05650437235729216, -0.021034041209661184, 0.027486652749387677, -0.053908923744671794, 0.016388603507777776], \"topics\": [1, 2, 3, 4, 5, 6, 7, 8, 9, 10, 11, 12, 13, 14, 15], \"cluster\": [1, 1, 1, 1, 1, 1, 1, 1, 1, 1, 1, 1, 1, 1, 1], \"Freq\": [8.248999777851893, 7.728408695798968, 7.477168241086217, 7.265981974699118, 7.119879560460861, 6.876231864351584, 6.812886247906697, 6.734138364639159, 6.614288113643655, 6.372558683348864, 6.2678225339585465, 6.255463567292866, 5.856818891570794, 5.58060157368435, 4.788751909706431]}, \"tinfo\": {\"Term\": [\"jovem\", \"fam\\u00edlia\", \"casa\", \"filme\", \"dia\", \"fred\", \"guerra\", \"descobre\", \"terra\", \"torna\", \"contra\", \"m\\u00e3e\", \"tempo\", \"vida\", \"duas\", \"morte\", \"nenhum\", \"filho\", \"nova\", \"vidas\", \"ter\", \"pai\", \"esposa\", \"passado\", \"meninos\", \"the\", \"drogas\", \"s\\u00e9rie\", \"realmente\", \"onde\", \"j\", \"rancor\", \"resumo\", \"veja\", \"\\u00bb\", \"completo\", \"george\", \"jordan\", \"dusty\", \"charley\", \"dandridge\", \"g2\", \"claw\", \"jo\", \"brit\", \"mariano\", \"sud\\u00e3o\", \"wd40\", \"dexter\", \"ousado\", \"garrigan\", \"feminina\", \"88\", \"\\u00edndio\", \"escaparam\", \"dispon\\u00edveis\", \"cooper\", \"brady\", \"mo\", \"leeza\", \"phillip\", \"gadget\", \"inesperadamente\", \"k\", \"poucos\", \"general\", \"relacionamentos\", \"jade\", \"ed\", \"trai\\u00e7\\u00e3o\", \"mundo\", \"nova\", \"trabalha\", \"viu\", \"pris\\u00e3o\", \"vinte\", \"gato\", \"nada\", \"anos\", \"am\\u00e9rica\", \"amor\", \"york\", \"jovem\", \"onde\", \"decide\", \"descobre\", \"vida\", \"tempo\", \"todos\", \"encontrar\", \"policial\", \"david\", \"homem\", \"drogas\", \"agente\", \"come\\u00e7a\", \"filho\", \"ent\\u00e3o\", \"cidade\", \"passado\", \"enquanto\", \"quatro\", \"primeiro\", \"fam\\u00edlia\", \"pai\", \"hist\\u00f3ria\", \"apenas\", \"s\\u00e9rie\", \"irm\\u00e3o\", \"morte\", \"samurai\", \"krishna\", \"camilla\", \"averill\", \"bourne\", \"m\\u00e4ddy\", \"fatty\", \"bryn\", \"moose\", \"heffalump\", \"baddi\", \"dean\", \"arrastado\", \"taekwondo\", \"phelps\", \"onu\", \"ligados\", \"opera\\u00e7\\u00f5es\", \"jeremy\", \"gen\\u00e9tica\", \"annabelle\", \"erin\", \"inesperadas\", \"champion\", \"pr\\u00f3spero\", \"remake\", \"ovelhas\", \"colis\\u00e3o\", \"cross\", \"quest\\u00e3o\", \"bill\", \"complexo\", \"desesperados\", \"tom\", \"miss\\u00e3o\", \"tentam\", \"assassinato\", \"bandido\", \"pai\", \"secreta\", \"acaba\", \"jovem\", \"cidade\", \"filho\", \"cheio\", \"gangue\", \"vingar\", \"dois\", \"tudo\", \"esposa\", \"noel\", \"papai\", \"vingan\\u00e7a\", \"principal\", \"noite\", \"vidas\", \"encontrar\", \"sobre\", \"enquanto\", \"ajuda\", \"hist\\u00f3ria\", \"amigo\", \"agente\", \"grupo\", \"durante\", \"mundo\", \"apenas\", \"amigos\", \"guerra\", \"fam\\u00edlia\", \"lend\\u00e1rio\", \"mohammed\", \"henry\", \"roteiro\", \"epis\\u00f3dios\", \"otto\", \"einstein\", \"jord\\u00e2nia\", \"illmatic\", \"academias\", \"army\", \"dads\", \"treasure\", \"rodman\", \"madrasta\", \"celtics\", \"estreia\", \"felizes\", \"mi6\", \"m\", \"thumbelina\", \"inspira\\u00e7\\u00e3o\", \"aplicativo\", \"gatlin\", \"zoey\", \"zenobia\", \"silvestres\", \"kassim\", \"leal\", \"burton\", \"time\", \"jackie\", \"longametragem\", \"island\", \"academia\", \"filme\", \"ca\\u00e7ador\", \"diretor\", \"duas\", \"alto\", \"juntar\", \"sobre\", \"a\\u00e7\\u00e3o\", \"irm\\u00e3o\", \"dois\", \"document\\u00e1rio\", \"dan\\u00e7a\", \"jimmy\", \"meninos\", \"televis\\u00e3o\", \"\\u00faltimo\", \"s\\u00e9rie\", \"jovem\", \"pode\", \"mundo\", \"deve\", \"enquanto\", \"vida\", \"cidade\", \"leva\", \"homem\", \"todos\", \"hist\\u00f3ria\", \"pai\", \"descobrir\", \"novo\", \"casa\", \"encontrar\", \"amor\", \"entanto\", \"agente\", \"r\\u00e1dio\", \"cream\", \"po\", \"dil\", \"cathy\", \"jay\", \"laine\", \"mathayus\", \"dama\", \"rotina\", \"garotas\", \"sequestros\", \"dollanganger\", \"abertura\", \"v\\u00edcio\", \"nerds\", \"remonta\", \"submetidos\", \"sigma\", \"juhwan\", \"victoria\", \"origens\", \"\\u00f3rbita\", \"mazzy\", \"fu\", \"kung\", \"norman\", \"colocarse\", \"conserta\", \"simkin\", \"deserto\", \"come\\u00e7ou\", \"entrevistas\", \"justi\\u00e7a\", \"mant\\u00e9m\", \"dia\", \"aparentemente\", \"agora\", \"descobriu\", \"apenas\", \"christopher\", \"sul\", \"mulher\", \"lugar\", \"vida\", \"deve\", \"honra\", \"crime\", \"mundo\", \"sobre\", \"outro\", \"guerra\", \"enquanto\", \"nova\", \"anos\", \"onde\", \"contra\", \"fam\\u00edlia\", \"york\", \"jovem\", \"homem\", \"agente\", \"hist\\u00f3ria\", \"filho\", \"cidade\", \"novo\", \"wylie\", \"salsoo\", \"secretamente\", \"maurice\", \"disco\", \"1\", \"patel\", \"patels\", \"taeseok\", \"landry\", \"rob\\u00f4\", \"estrangeiro\", \"ruim\", \"cheech\", \"chong\", \"branca\", \"eclipse\", \"som\", \"virginia\", \"resort\", \"on\", \"5\", \"cabelo\", \"gerry\", \"hufa\", \"cercado\", \"back\", \"dist\\u00f3pica\", \"autoimposto\", \"ex\\u00edlio\", \"sete\", \"viver\", \"to\", \"2\", \"billy\", \"the\", \"descobre\", \"sentido\", \"viol\\u00eancia\", \"12\", \"londres\", \"engenheiro\", \"vida\", \"cinco\", \"anos\", \"ato\", \"pr\\u00edncipe\", \"morte\", \"jogador\", \"oeste\", \"emocionante\", \"leva\", \"unidos\", \"pai\", \"cidade\", \"amigo\", \"esposa\", \"homens\", \"enquanto\", \"tenta\", \"amor\", \"conhece\", \"fam\\u00edlia\", \"estados\", \"apenas\", \"guerra\", \"homem\", \"jovem\", \"onde\", \"amigos\", \"tudo\", \"dois\", \"outro\", \"gangue\", \"mundo\", \"fred\", \"mahmud\", \"quarentena\", \"instituto\", \"kombat\", \"aki\", \"esp\\u00edritos\", \"esposas\", \"atriz\", \"completamente\", \"cabra\", \"brooks\", \"montana\", \"abdel\", \"imaginado\", \"javier\", \"movie\", \"arshad\", \"natalie\", \"les\", \"cruikshank\", \"alesia\", \"figglehorn\", \"judy\", \"fort\", \"nyle\", \"mente\", \"oito\", \"boy\", \"elizabeth\", \"canal\", \"nave\", \"advogado\", \"sucesso\", \"devem\", \"cientista\", \"cara\", \"menino\", \"s\\u00e9culo\", \"mora\", \"conta\", \"guerra\", \"inimigo\", \"paix\\u00e3o\", \"estados\", \"unidos\", \"pa\\u00eds\", \"enquanto\", \"cada\", \"filme\", \"sobre\", \"terra\", \"vida\", \"vez\", \"deve\", \"durante\", \"grupo\", \"antes\", \"anos\", \"volta\", \"ap\\u00f3s\", \"miss\\u00e3o\", \"descobre\", \"pode\", \"hist\\u00f3ria\", \"mundo\", \"casa\", \"lukas\", \"merliah\", \"ponto\", \"passam\", \"bebida\", \"alfie\", \"nancy\", \"internato\", \"hoggett\", \"babe\", \"dados\", \"mul\\u00e1\", \"american\", \"sereia\", \"surfe\", \"personalidades\", \"homemaranha\", \"anne\", \"ayahuasca\", \"dmt\", \"strassman\", \"klute\", \"civiliza\\u00e7\\u00e3o\", \"companheirismo\", \"lonette\", \"kale\", \"can\\u00e7\\u00e3o\", \"filhote\", \"fraco\", \"abel\", \"prepara\", \"daniel\", \"breve\", \"amigos\", \"tentativas\", \"pequena\", \"acontecendo\", \"realmente\", \"m\\u00e9dio\", \"ensino\", \"come\\u00e7am\", \"grupo\", \"hist\\u00f3ria\", \"jeff\", \"tempo\", \"pesquisa\", \"cidade\", \"vidas\", \"dois\", \"max\", \"caminho\", \"enquanto\", \"fam\\u00edlia\", \"onde\", \"miss\\u00e3o\", \"vida\", \"decide\", \"pris\\u00e3o\", \"casa\", \"jovem\", \"equipe\", \"faz\", \"antes\", \"assassinato\", \"grande\", \"amor\", \"encontrar\", \"deve\", \"luta\", \"namsoon\", \"melvin\", \"corey\", \"nui\", \"campbell\", \"m\\u00e1scara\", \"kable\", \"estabelecido\", \"beer\", \"sensuais\", \"pong\", \"matthew\", \"johnny\", \"envolvem\", \"wckd\", \"opressivo\", \"clareanos\", \"jude\", \"prima\", \"presen\\u00e7a\", \"demora\", \"dalai\", \"kancel\", \"tibete\", \"simon\", \"imprevis\\u00edveis\", \"lily\", \"desorientado\", \"desafio\", \"farmac\\u00eautica\", \"resist\\u00eancia\", \"online\", \"colegas\", \"dia\", \"passado\", \"distante\", \"baixo\", \"antes\", \"logo\", \"jogo\", \"vida\", \"v\\u00ea\", \"caso\", \"cidade\", \"anos\", \"filha\", \"terra\", \"ter\", \"melhor\", \"viaja\", \"dinheiro\", \"planeta\", \"tudo\", \"tornar\", \"enquanto\", \"final\", \"futuro\", \"hist\\u00f3ria\", \"grande\", \"policial\", \"tr\\u00eas\", \"esposa\", \"todos\", \"nova\", \"amor\", \"dois\", \"sobre\", \"jovem\", \"mundo\", \"aidan\", \"arkin\", \"aftermath\", \"irene\", \"space\", \"colecionador\", \"pens\\u00f5es\", \"jourdain\", \"moli\\u00e8re\", \"decadente\", \"atirador\", \"atores\", \"emocionais\", \"explos\\u00e3o\", \"ann\", \"camaradas\", \"terceiro\", \"emocional\", \"perry\", \"teresa\", \"contado\", \"orcs\", \"arathorn\", \"felix\", \"arador\", \"kruger\", \"obannon\", \"luxo\", \"cable\", \"dead\", \"elena\", \"parar\", \"vida\", \"final\", \"g\\u00e2ngster\", \"proteger\", \"assassino\", \"busca\", \"pode\", \"dois\", \"primeira\", \"tr\\u00eas\", \"anos\", \"viagem\", \"pai\", \"destino\", \"sobre\", \"quatro\", \"contra\", \"deve\", \"onde\", \"cidade\", \"drogas\", \"passa\", \"filme\", \"homem\", \"tempo\", \"descobre\", \"filha\", \"enquanto\", \"casa\", \"m\\u00e3e\", \"durante\", \"lang\", \"tens\\u00f5es\", \"andersen\", \"lizardo\", \"beethoven\", \"lancelot\", \"p\\u00f3ssegunda\", \"maravilhoso\", \"armado\", \"bilh\\u00f5es\", \"pym\", \"crescentes\", \"alain\", \"n\\u00famero\", \"dillinger\", \"pouso\", \"charlene\", \"experimentos\", \"idiota\", \"pr\\u00e9dio\", \"m\\u00e1quina\", \"baskin\", \"carnaval\", \"concedido\", \"envelheceu\", \"cachorrinho\", \"maus\", \"newton\", \"bernardo\", \"confort\\u00e1vel\", \"energia\", \"inteira\", \"lisa\", \"pista\", \"stephanie\", \"remoto\", \"c\\u00e9u\", \"guarda\", \"lealdade\", \"profundo\", \"arthur\", \"derek\", \"terra\", \"contra\", \"lua\", \"ele\", \"corpo\", \"casa\", \"mundo\", \"descobrir\", \"guerra\", \"vez\", \"homem\", \"deve\", \"casal\", \"vida\", \"tornase\", \"\\u00e1rvore\", \"anos\", \"tudo\", \"fica\", \"mundial\", \"torna\", \"esposa\", \"fam\\u00edlia\", \"casamento\", \"onde\", \"realmente\", \"tempo\", \"enquanto\", \"come\\u00e7a\", \"trabalho\", \"vidas\", \"dois\", \"jovem\", \"agora\", \"amigos\", \"grande\", \"gal\\u00e1xia\", \"jedi\", \"darnell\", \"brandi\", \"leung\", \"corporation\", \"carrie\", \"elora\", \"nockmaar\", \"robinsons\", \"miles\", \"atol\", \"tubar\\u00e3o\", \"seguros\", \"apar\\u00eancia\", \"livrar\", \"melinda\", \"cage\", \"ritual\\u00edstica\", \"alegria\", \"flicka\", \"bong\", \"evil\", \"anakin\", \"indo\", \"freeze\", \"sinja\", \"toby\", \"ca\\u00e7ada\", \"dela\", \"nenhum\", \"casar\", \"trag\\u00e9dia\", \"crian\\u00e7a\", \"rabbit\", \"jack\", \"michael\", \"ama\", \"filho\", \"cuja\", \"selvagem\", \"vida\", \"enquanto\", \"mike\", \"\\u00e1rvore\", \"apaixona\", \"relacionamento\", \"onde\", \"drama\", \"mulher\", \"homem\", \"anos\", \"chefe\", \"encontrar\", \"fam\\u00edlia\", \"tenta\", \"fazer\", \"todos\", \"amor\", \"descobre\", \"agente\", \"pai\", \"cidade\", \"stevens\", \"mace\", \"cindel\", \"marvin\", \"paciente\", \"rev\", \"towani\", \"christian\", \"juntam\", \"padre\", \"modos\", \"beat\", \"dance\", \"roubada\", \"kerrigan\", \"capoeira\", \"represa\", \"viola\", \"capturados\", \"ewoks\", \"malignas\", \"ana\", \"huttinger\", \"presto\", \"montanhas\", \"tiro\", \"pornografia\", \"cylon\", \"adama\", \"16\", \"hollywood\", \"campe\\u00e3o\", \"sido\", \"traficantes\", \"bobby\", \"lane\", \"fam\\u00edlia\", \"junta\", \"acampamento\", \"alice\", \"casa\", \"pior\", \"baseado\", \"agente\", \"adolescente\", \"descobre\", \"drogas\", \"sendo\", \"enquanto\", \"ter\", \"bob\", \"vida\", \"anos\", \"s\\u00e9rie\", \"morte\", \"filha\", \"ap\\u00f3s\", \"luta\", \"m\\u00e3e\", \"novo\", \"come\\u00e7a\", \"mundo\", \"hist\\u00f3ria\", \"tudo\", \"jovem\", \"homem\", \"guerra\", \"escola\", \"dr\", \"hamburger\", \"espaniola\", \"eddie\", \"kat\", \"rabino\", \"intimidado\", \"contadas\", \"abalar\\u00e3o\", \"\\u00e2mago\", \"determinados\", \"tornarem\", \"riget\", \"poltergeist\", \"fraude\", \"foi\", \"kolya\", \"avan\\u00e7a\", \"silver\", \"bucaneiros\", \"squire\", \"bones\", \"skylark\", \"restos\", \"pares\", \"perdoar\", \"afastada\", \"phoenix\", \"vincent\", \"eve\", \"hill\", \"m\\u00e3e\", \"jim\", \"cl\\u00e1ssico\", \"tesouro\", \"verdade\", \"casa\", \"contra\", \"irm\\u00e3os\", \"homens\", \"fam\\u00edlia\", \"cada\", \"pai\", \"homem\", \"pais\", \"sobre\", \"filha\", \"dois\", \"terror\", \"tanto\", \"desencadeia\", \"hist\\u00f3ria\", \"misterioso\", \"enquanto\", \"filme\", \"jovem\", \"anos\", \"cidade\", \"morte\", \"vida\", \"tempo\", \"guerra\", \"meio\", \"assassino\", \"s\\u00e9rie\", \"policial\", \"miriam\", \"autobots\", \"decepticons\", \"piglet\", \"navarathna\", \"colar\", \"impar\\u00e1veis\", \"beverly\", \"cantores\", \"addams\", \"paradise\", \"krippendorf\", \"revelations\", \"lost\", \"mei\", \"cole\", \"lv\", \"mahsun\", \"an\\u00fancio\", \"joey\", \"trompetista\", \"virtualmente\", \"barrytown\", \"soul\", \"rabbitte\", \"montar\", \"l\\u00e1bios\", \"favela\", \"dublin\", \"funcionar\", \"ray\", \"walter\", \"fantasmas\", \"atira\", \"viveu\", \"percebem\", \"perceber\", \"inestim\\u00e1vel\", \"frente\", \"problemas\", \"classe\", \"ideia\", \"ficar\", \"assim\", \"casa\", \"meninos\", \"encontra\", \"nova\", \"pai\", \"t\\u00eam\", \"tr\\u00eas\", \"noite\", \"fam\\u00edlia\", \"ap\\u00f3s\", \"e\", \"volta\", \"casamento\", \"vida\", \"busca\", \"duas\", \"acampamento\", \"cidade\", \"devem\", \"enquanto\", \"dinheiro\", \"filho\", \"toda\", \"fazer\", \"dois\", \"durante\", \"come\\u00e7a\", \"ajuda\", \"anos\", \"luta\", \"mustang\", \"alm\\u00e1sy\", \"nariz\", \"dorn\", \"dorothy\", \"tren\\u00f3\", \"neve\", \"harvey\", \"pano\", \"estudando\", \"estudantis\", \"68\", \"franceses\", \"circo\", \"exoficial\", \"infeliz\", \"royal\", \"imax\", \"hex\", \"montagem\", \"clay\", \"sy\", \"neves\", \"yukon\", \"cornelius\", \"elfo\", \"renas\", \"rudolph\", \"rudoph\", \"abomin\\u00e1vel\", \"jonah\", \"capit\\u00e3o\", \"noel\", \"papai\", \"captura\", \"institui\\u00e7\\u00e3o\", \"1968\", \"dist\\u00farbios\", \"paris\", \"vi\\u00fava\", \"ford\", \"jovem\", \"espacial\", \"v\\u00e1rios\", \"torna\", \"hist\\u00f3ria\", \"cidade\", \"vida\", \"filme\", \"natal\", \"guerra\", \"filho\", \"fam\\u00edlia\", \"adolescente\", \"crise\", \"tendo\", \"anos\", \"ap\\u00f3s\", \"deve\", \"amizade\", \"homem\", \"ilha\", \"descobre\", \"enquanto\", \"novo\", \"the\", \"contra\", \"equipe\"], \"Freq\": [67.0, 63.0, 57.0, 38.0, 19.0, 7.0, 40.0, 46.0, 29.0, 26.0, 42.0, 32.0, 30.0, 122.0, 16.0, 28.0, 9.0, 43.0, 45.0, 19.0, 19.0, 58.0, 28.0, 21.0, 9.0, 25.0, 16.0, 23.0, 15.0, 42.0, 3.128827271008932, 2.3594016536666755, 2.3590855775161024, 2.3590713666956997, 2.359039048539622, 2.358973953813906, 2.3586264763343783, 2.35854739999504, 2.3584713033438507, 1.5899210266970527, 1.5899205682834914, 1.5899199952665397, 1.5899196514563687, 1.5899191930428074, 1.5899188492326362, 1.5899175885953425, 1.5899175885953425, 1.5899163279580486, 1.589914150493632, 1.5899135774766804, 1.5899166717682196, 1.5899132336665094, 1.5899115146156542, 1.5899095663580183, 1.5899044092054526, 1.5898888231443657, 1.5898871040935105, 1.589862693571367, 1.5898631519849282, 1.5898504310086, 3.1283530421796826, 3.128878613327807, 3.128350520905095, 3.128833918005572, 3.897981736729631, 3.128874946019316, 3.896645461198203, 2.358949887101933, 2.359358104378344, 2.35940325811414, 10.824127939731108, 9.363842371677606, 3.8981719783576048, 2.3593956942903773, 5.437287717667036, 2.359218517448903, 2.3593993615988684, 4.241770820742287, 12.218707258377487, 3.128807330019012, 7.74559574181598, 5.605095044360082, 9.359755156364324, 6.976234302372316, 4.66754717020811, 6.976006929245871, 10.05403166334855, 5.435780453877212, 5.437444495105028, 5.437999633927862, 4.667800672907553, 3.4667777706970466, 5.437214371497214, 3.8982352394290753, 4.667863933979024, 4.667915276297899, 4.727872561231732, 3.897915725176792, 4.669201126337576, 3.898180688215271, 4.66815090086845, 3.898394308934875, 3.8980990906013453, 4.2127362810050375, 4.1840354663404735, 4.021328448931363, 3.899781468371617, 3.898311336080265, 3.898264577897004, 3.898235697842637, 3.838967512667142, 2.3235250765384863, 2.323382488094648, 2.3231613042133925, 2.322939905590505, 2.3227505034708282, 1.5657494214703735, 1.5657492067287413, 1.5657486698746605, 1.5657483477622123, 1.5657465224583378, 1.5657446971544633, 1.5657398654677368, 1.56573782542223, 1.565740724434266, 1.5656901527798626, 1.5656768387986608, 1.56567630194458, 1.5656039340144994, 1.5655902979208491, 1.5655595898674322, 1.5655525033935667, 1.565504616009567, 1.5655284523307507, 1.5655202921487237, 1.5655104140336387, 1.5655030054473247, 1.5654697204943202, 1.5654256984597015, 1.565393916698123, 3.0800179724661345, 2.323475471221428, 2.323418564688872, 3.8099778217917057, 7.359833091628863, 3.0816953193559256, 6.111986216258332, 2.3235154131650333, 9.143668638937957, 3.0811893880702583, 3.728260041041336, 9.143431564175913, 9.143440153841203, 6.869132141489764, 3.0810113672570925, 3.8390478260376173, 3.0812688424742043, 6.70202707497651, 5.354337366124085, 4.596662317510699, 2.3235291566294998, 2.3235291566294998, 3.838842533037151, 2.323313556030684, 3.8389451795373843, 3.7783571164374936, 4.596171847622556, 4.840034592663623, 5.354405653963152, 3.8391539084039668, 4.596780425408456, 3.8099378798481007, 3.9737711428518354, 3.8384615813814746, 3.83907531296655, 4.209685011632179, 3.839602718415446, 3.802581261009224, 3.839110530594245, 3.838817623007806, 3.811058548982575, 3.05909812425745, 2.30665299390603, 2.3064520893451093, 2.3062690522011886, 1.554473381681659, 1.5544654867764727, 1.554465071255147, 1.5544636169305075, 1.5544620587255367, 1.5544369196853387, 1.554430167463798, 1.5543630607697159, 1.5543226513208026, 1.554323794004448, 1.5542964734772908, 1.554293668708343, 1.554290240657407, 1.5543006286905465, 1.5542968889986164, 1.5542541941824124, 1.5542471303198775, 1.5542473380805402, 1.55424359838861, 1.5542431828672845, 1.554235495722761, 1.5542312366291737, 1.5541691161909987, 1.5540713647991549, 1.554113332453039, 4.561558624008929, 2.3067306963939145, 3.056647379479146, 3.0589032447557507, 2.3065381022595055, 11.333660782597923, 3.8114761479147883, 4.563458387509506, 5.247610925915628, 2.3066797950315303, 2.2953383482103336, 8.325633761186213, 3.811482796255998, 5.314513599026843, 8.32454010905727, 3.0587588510951096, 2.3065391410628195, 2.3067198928394492, 3.058906984447681, 2.3065191960391913, 3.0588571218886105, 4.563150486207247, 7.274609965036685, 4.563309630874946, 5.89721411266328, 5.1196257869006745, 6.408156586499036, 7.337652029511885, 5.16392617750666, 3.4207255028719654, 4.309293965160596, 3.811748314383047, 3.811285008105019, 3.811272126943926, 3.0589420959996927, 3.1112504135923644, 3.081559960554632, 3.0594608743746865, 3.059137598783381, 3.059038912468554, 3.0589560159641, 3.794081153300342, 3.045188672676823, 3.009763580716861, 2.2969404314654054, 2.29680960503512, 2.2965822739232347, 1.5478368720874676, 1.5478354588389922, 1.5478280897576568, 1.547822941495354, 1.5478164809308954, 1.5476441655632276, 1.5477782222757424, 1.547760556669801, 1.5477416797080237, 1.5477182601618615, 1.5477214904440908, 1.5476906008702733, 1.547636493642933, 1.5475808722207978, 1.5475703738035527, 1.547403408590827, 1.5474494401125942, 1.541099109035122, 3.040766618197588, 3.0396780130863226, 3.794570541058077, 0.7986818300865008, 0.7986818300865008, 0.7986817291401812, 3.79376256671548, 2.296878450425131, 2.2963268797344827, 3.7933309202525933, 3.0411473877153634, 6.0423260896226525, 3.77296600972342, 6.761307368158938, 2.296107018650253, 7.482591837924696, 2.2969325576524713, 2.295931775839315, 5.918377333988495, 3.044958313175348, 12.042659317835312, 6.590576857709891, 2.294591410606806, 4.544284724723667, 6.338821985674545, 6.002222135746227, 3.7948677270231697, 5.292569912288082, 6.372354737926071, 5.178041063419763, 5.569520985711758, 4.539132424567976, 4.544401418669199, 4.8791369919659475, 3.823797327097982, 4.840974033924037, 4.483198472626999, 3.7950231843554536, 3.5603439879693237, 3.344516112995313, 3.0901580372684516, 3.0705718266491724, 3.779208450188803, 3.777856063552266, 3.0322890300907437, 2.28726564181313, 2.287197982914696, 2.2869322931468683, 2.286653942064714, 2.2865993401466795, 2.2865221852625, 1.5413514113728009, 1.541344289383492, 1.5413197580869837, 1.541299282367721, 1.541293743042703, 1.5412914679627847, 1.5412580341796405, 1.5411755378034795, 1.5411737573061524, 1.541153083753853, 1.5411468520132077, 1.5411340917823628, 1.5411166824751634, 1.5411236066314358, 1.5411162868090906, 1.5410451658325202, 1.5410170735413575, 1.5410120287989304, 1.5410008512323763, 1.540968010948341, 1.540968010948341, 3.026069752926788, 3.0321034627026404, 2.2869305126495414, 3.0327574987208368, 2.9776255859819, 6.838275368748686, 8.990466152662265, 2.286707159151494, 3.0307342602580136, 2.286340772368161, 3.026044628131171, 2.2873123304097103, 13.419481742062194, 3.778512077900826, 9.348445031950284, 3.030558188855656, 3.0329812478849565, 5.189475098172336, 2.2866367305905513, 2.8254189806329393, 2.2783855103101724, 4.242024990433497, 3.032371922132977, 6.70030027853614, 7.223353417356891, 4.523017143623184, 4.524786957966434, 3.7781820923961824, 6.006367667563799, 3.7776356775497644, 4.516722492072376, 3.779426857860941, 4.750569450033896, 3.0323135613872516, 3.8340711121652573, 3.72101348854795, 3.712043738679523, 3.6969601566555186, 3.232102968640802, 3.1828035694797427, 3.0336333055727893, 3.033473456479413, 3.03315811061946, 3.033061370264681, 3.0330043943502103, 5.967781047103486, 2.268776340847227, 2.2685975058424224, 2.2685445813805307, 1.5291646284301181, 1.5291637686464412, 1.5291635775834018, 1.5290748288016374, 1.5289991678380663, 1.5289779598407016, 1.5289767179309461, 1.5289425176469076, 1.528907553110712, 1.52888281044712, 1.5288773651504992, 1.528867334340935, 1.5288567303422527, 1.528846508469649, 1.528845935280531, 1.5288348536242504, 1.5288112573388943, 1.5288000801510941, 1.5287852727655467, 1.5287748598299038, 1.5287604345704349, 1.528593636537108, 3.0088248233722226, 2.26935487973029, 2.2688361435785342, 2.2687262823309244, 2.2688833361492464, 3.7485391366414462, 3.500499188364819, 4.489139982413119, 5.229366726753801, 3.0088962809489286, 3.7490786986644884, 4.489188130299027, 3.7446785168689307, 2.9303997508113406, 3.749139074584914, 5.929671995406642, 2.2692222819810013, 2.268343583063165, 3.00803229388512, 3.00703933926977, 3.6871070197347153, 7.685045327114517, 3.7485456327847833, 5.228732779589334, 5.750621089367962, 4.489197301324915, 7.0431117276045665, 4.14646918564346, 4.681813301029292, 4.1304913479172205, 3.982687655581217, 3.7486805232905436, 4.993157401871916, 3.731365244289059, 3.749675961725405, 3.5507090265940047, 3.749155888132374, 3.507258998695988, 3.749217792557114, 3.748396603614113, 3.7491604736453175, 3.7280438199568557, 2.993052905163634, 2.9930241311201793, 2.2570319931964975, 2.2569072425738894, 2.2565786127091743, 1.5209486112665982, 1.5209481380093046, 1.520947948706387, 1.5209477594034697, 1.5209436893907442, 1.5209414177557345, 1.520940565892606, 1.5209239072358693, 1.5209171869822995, 1.5208691040412639, 1.5208435481474065, 1.5208413711638555, 1.520836638590919, 1.5208075805930885, 1.5207945186917835, 1.5207882716955072, 1.5207784279437992, 1.5206450640384468, 1.5206389116936292, 1.520614302314359, 1.5205869480427858, 1.520515391539985, 1.5204990168376242, 1.520497313111367, 1.9929415507376331, 2.2567940394292467, 2.2567771914695927, 8.771823937928202, 2.256842879581952, 4.46523254162182, 2.2568871764646383, 4.464970546384051, 2.9930491191052844, 2.993054987495726, 3.7288911398154188, 5.669818117224741, 7.409711453982028, 2.256800665031358, 5.201013985398365, 2.2568016115459453, 6.7478758944305985, 3.8221478146509074, 5.907773398898704, 2.2568462870344663, 3.77263904404105, 5.982501861384613, 5.21730955913939, 4.437135445400335, 3.405071462232886, 4.494054289411352, 2.991391014851229, 2.9935998012921834, 3.745367308539703, 3.760778080444507, 2.9929131996105465, 2.9932302819972962, 2.9930733498787196, 2.9934292393635498, 2.993169515760791, 3.0007736246523504, 2.993460852950766, 2.9933393204777548, 2.993314711098485, 2.9930133827344125, 2.257409794667216, 2.2573087526600513, 1.5213862273683882, 1.5213862273683882, 1.5213860402535602, 1.521385853138732, 1.5213842626626932, 1.521383607760795, 1.5213834206459669, 1.5213832335311388, 1.5213786492178507, 1.521376965184398, 1.5212580537111515, 1.5211513982591445, 1.521114162408356, 1.5211197758531985, 1.5210989125498673, 1.5210887147917367, 1.5210773007872238, 1.521059899108212, 1.5210332352452103, 1.5210293993912345, 1.5210200436498305, 1.5207842789664463, 1.5207772621603932, 1.5208757781173787, 1.5207187887766174, 2.9937427563342784, 0.7850446584192339, 1.5212993125307437, 2.2576766204120617, 4.46587521529354, 5.938426250123222, 5.478141361833734, 3.729866523623545, 2.9937156246842065, 5.161988780238376, 4.19069142530688, 3.7306501605235547, 8.744976151491537, 3.7298133830123694, 4.238529202254491, 6.610158378739233, 6.956513164735411, 4.46597962536761, 4.46627040181045, 3.730057754977845, 3.5928786352952655, 2.9937736302809124, 3.7302811700825758, 2.9940252997246835, 4.466425707117759, 3.005178091937722, 5.864989293545623, 2.994064968068237, 2.9937212381290492, 4.903318996518979, 3.730107153292459, 3.5944885712760883, 3.7303803409414598, 3.7302096922182484, 3.7300629941930317, 3.8211310325615466, 3.729623274347037, 3.9282830873223906, 3.725586459045982, 3.7295151219764056, 3.6056039405235105, 2.9690765973861186, 2.2390787503186007, 2.2385112232639712, 2.2381816973543374, 3.6988020755757347, 1.5088523670164868, 1.5088511724161453, 1.5088496102464677, 1.5088494264617998, 1.508848415646126, 1.5088384912740567, 1.5087647936222088, 1.5087540422191337, 1.5087409935077094, 1.5087386961993599, 1.5087338259056593, 1.5087065338824688, 1.5087044203587874, 1.5087012960194321, 1.5086958743717276, 1.508661598531155, 1.5086569120221223, 1.5086400038326708, 1.5086337551539606, 1.5086293443219299, 1.508551235838051, 1.50842359738616, 1.5082237315597644, 1.506679297102648, 2.968484259401316, 2.2390791178879366, 2.968278420573212, 17.092923918500276, 3.699318510492674, 2.969290338954944, 2.968766368866619, 4.429677310648045, 5.159442486325939, 4.783462796451512, 6.424204830405854, 2.9688066177089003, 4.429589829146101, 7.0711739104643305, 3.699057536264185, 5.890342348543754, 2.969412555759131, 5.159610465512444, 3.6991435474887857, 4.636763301508588, 4.625277494900394, 4.430330113788603, 5.1598659262008955, 2.969162608610719, 2.238879527738543, 3.6992233100346756, 3.6996651283764272, 3.2652566168673833, 3.4267779777111267, 2.9693515392493715, 2.9693947286463396, 2.9693098201297468, 2.969128792231816, 2.969089829882211, 2.222757269651166, 2.222754436563616, 2.222702378579888, 2.2226111885743776, 1.4979886675265177, 1.4979879592546304, 1.4979822930795306, 1.4979502437766232, 1.4979302350958026, 1.4979026124921917, 1.4978999564726136, 1.4978273586041493, 1.4977227114327774, 1.497695620033082, 1.497694380557279, 1.497667997429471, 1.497657727487103, 1.4971996526438895, 1.4971224510081567, 2.222586221990345, 0.7729785446882464, 0.7729783676202746, 0.7729783676202746, 0.7729783676202746, 0.7729783676202746, 0.7729776593483871, 0.7729776593483871, 0.7729776593483871, 0.7729775708144012, 0.7729775708144012, 1.4977421889096825, 2.2226529766157377, 2.2223939261729, 1.4979838866912774, 1.4976596752347935, 2.2228380126463363, 2.2228429705495483, 2.2227383233781763, 1.4979879592546304, 1.4978324935753333, 2.9476744318042085, 2.222996488481155, 6.554663935797416, 8.023463302298017, 3.5795958492699693, 3.672925544152187, 3.320280866882269, 6.671988465682933, 6.572656166554509, 3.672592302229138, 5.12336083715478, 4.397828717935452, 5.392520444642202, 5.122777221119515, 3.6728440928851294, 7.571273490197495, 2.222704680463522, 2.222470596604717, 6.384405998130843, 4.556289679044526, 3.672313951377367, 2.9480156417859913, 3.672759808530522, 3.673317572641895, 4.513902085531775, 2.9478874445743615, 3.7169853675912257, 2.9473335759583694, 3.379152780303715, 3.825273764736555, 3.3195099129327708, 2.9477277292637396, 2.9479262224601994, 3.243741111228185, 2.948473362493261, 2.948193772165687, 2.948103113364092, 2.947940033762005, 2.9367932556607337, 2.9365365471043745, 2.2147837217549773, 2.2147784970218085, 2.2140952760811055, 2.2138951688007413, 3.6588552110559496, 1.4925756479888077, 1.492575299673263, 1.492571119886728, 1.4925707715711836, 1.4925683333623714, 1.4925671142579653, 1.4925646760491533, 1.4925611928937075, 1.4925202658172187, 1.4924157711538433, 1.4923262540588849, 1.4923300855298753, 1.4923292147410139, 1.4923271248477463, 1.492309709070517, 1.492289332611159, 1.4921980739384777, 1.492192326731992, 1.492150006393325, 1.489427223781306, 2.213840309102469, 2.2146222775000624, 2.203641978272572, 5.099111774354857, 3.659206661440436, 2.936406973721789, 3.6594804374584795, 2.2146825360892755, 2.9265897000976673, 2.9367305588627084, 2.928951976121041, 7.814904390025268, 2.936976469637185, 2.93693885155837, 8.367022146270942, 6.54837751921445, 2.214572120061642, 2.211097150031092, 2.9371499307783884, 2.9371690881333405, 4.381435459981508, 2.2147945195368592, 3.659360965226687, 4.375613017338229, 5.104070394447566, 2.9371541105649235, 3.6595466174119506, 4.013580109976623, 2.9373098076133526, 2.936984132579166, 2.9372363130334453, 2.937523325042183, 2.937271144587904, 2.808811675113952, 2.9373059761423623, 2.9372833356319643, 2.9421331763217027, 2.941999686888664, 2.941989953284172, 2.9418616782821116, 2.941446609576258, 2.218554573608768, 2.218519636921215, 2.2183569466746995, 1.4950677448810472, 1.4950672234379494, 1.4950639209649967, 1.495060444677678, 1.4950597494202142, 1.4950555778754318, 1.495055056432334, 1.4950514063306493, 1.4950409774686932, 1.4950178601580237, 1.4949921356318654, 1.4949777090394927, 1.4949167001970494, 1.494853084139117, 1.4948351812594256, 1.494813106834952, 1.4947666983992471, 1.49465667390561, 1.4943591037111286, 1.494298094868685, 1.4939120531619425, 2.2181035253291657, 2.942051831198445, 2.941819615205555, 2.2174280827031403, 2.2185987224577155, 2.218611758535161, 2.209411416517466, 12.216754068041716, 2.9417945859368606, 2.942119271172428, 2.218614539565016, 8.592570886388206, 2.9146814568089563, 3.6655040708673448, 5.112632075479737, 4.317365301866022, 5.835327875028085, 3.6656636324552734, 2.9301956056692564, 6.511385108651171, 3.6649694178777272, 2.2184993006404006, 7.2833996916475074, 5.699371320879576, 3.6652509971505425, 3.664733030340055, 3.6592126860779453, 3.774099810416492, 3.5441882483903098, 3.6663206507585095, 3.568226775199182, 3.6659758030564933, 3.8140061983203424, 3.718897063052858, 3.463791803941797, 3.6654185541993045, 3.5413067538318317, 3.0099037452286646, 2.9421415194112677, 2.942010811008084, 2.1718302244587044, 2.1715564997794177, 2.1709149880756438, 1.4638450844491357, 1.463843782548164, 1.463840527795735, 1.4638364593551987, 1.4638346692413626, 1.463834018290877, 1.4638001688656141, 1.4637934966231345, 1.463779663925311, 1.463713755188622, 1.4635998388536036, 1.4635908882844237, 1.4635562251710539, 1.4635259559734632, 1.4634676959049826, 1.4634644411525535, 1.4633456426888916, 1.4632948685509977, 1.462945959090599, 1.4608933494711922, 1.4626178800457466, 1.4623752382521578, 1.4623563606880692, 1.4614440535821946, 2.8792942786043754, 2.1722746609028967, 2.171932749160221, 7.840003386563497, 2.879753849647363, 2.171120525691541, 2.171310277758157, 3.705422049661336, 7.131027825389756, 6.115894627923972, 2.8777573845073583, 3.8437845046992183, 6.619060475897489, 3.58895821991687, 6.1266151314749155, 5.421198316607143, 3.580492934324045, 5.490952868766469, 4.297123347735767, 5.6105975680598865, 3.3902288951508917, 2.172146260919569, 2.1722684768732816, 5.110804294553395, 2.88066973698091, 5.681310970284822, 4.254168752552827, 5.053895273805966, 5.345654536302192, 4.837796311751653, 3.5889663567979424, 5.034359924251313, 3.588499625299611, 3.6585819310285457, 2.880425305073485, 2.8804695697065203, 2.8806752700600393, 2.8806218921202023, 2.15150876999065, 1.4499718721986772, 1.4499452014238026, 1.4499461317996702, 1.4499230274656218, 1.4499053503241353, 1.449898062379838, 1.4498321607558746, 1.4498540245887659, 1.449849527772072, 1.44980347416662, 1.4497954109090996, 1.4497625376284402, 1.4497126074568725, 1.4497082657028233, 1.4496547690904293, 1.4496496520231568, 1.4315375598183215, 0.7482675067505145, 0.7482674292191921, 0.7482674292191921, 0.7482674292191921, 0.7482674292191921, 0.7482674292191921, 0.7482673516878698, 0.7482673516878698, 0.7482673516878698, 0.7482673516878698, 0.7482673516878698, 0.7482673516878698, 2.1518277338506335, 1.4495440543621707, 1.4499966822218164, 1.4500309510662774, 1.4499366729783485, 2.1514698492668507, 1.450086618555696, 1.4499076762638046, 1.4498357271967008, 4.958607205295353, 1.4499948214700809, 1.4500325016927236, 2.8530949777036128, 3.555228246426794, 8.467888529369514, 2.85294921881767, 4.256880200701075, 6.274297308255451, 7.063188436768794, 2.1517167089970854, 4.256702498910341, 3.5550607787706046, 5.661148598899174, 4.256626828339766, 2.8532925275128584, 3.5551835883851437, 2.853517988598136, 5.6605376520793715, 3.555259258955718, 2.853623741321767, 2.151604908830315, 4.267270328266481, 2.852986743977668, 4.278805748525049, 2.853404482742274, 3.555454017637361, 2.153124677810235, 2.853992170165384, 3.554934867903173, 2.8533052426497174, 2.853465267298965, 2.627423007229496, 2.8533740904639284, 2.164990536564489, 2.723698626846119, 2.0535783336667013, 1.384561775699526, 1.3845593806140746, 1.3845581830713487, 1.3845572516492286, 1.3845563202271087, 1.3845553888049886, 1.384554856563777, 1.3845547235034743, 1.3845547235034743, 1.3845545904431715, 1.3845545904431715, 1.3845545904431715, 1.384406095145177, 1.3843370368479917, 1.384334907883146, 1.3842944575510758, 1.3842581320883944, 1.384066259131667, 2.724295801485365, 2.054607288988735, 0.7144804026586955, 0.7144804026586955, 0.714480336128544, 0.714480336128544, 0.714480336128544, 0.714480336128544, 0.714480336128544, 0.7144802695983926, 1.3841700461678996, 1.3846577121778898, 2.724645483961287, 2.724645483961287, 1.3843341095213286, 1.384080895764982, 1.3845547235034743, 1.3846120724940079, 3.3946780904011185, 2.484461258591298, 2.0537180469847067, 10.699531174140178, 2.724205054358813, 2.7042068892004334, 4.7347411743159356, 5.355505808535567, 5.306987764182298, 6.074897400442756, 3.3942421848489417, 2.6301862410799797, 3.3320311708487242, 3.394516289072838, 3.646787446234228, 2.6616781551996005, 2.054149561546889, 2.054516941043092, 3.394715081165314, 2.624256009502015, 2.725167080348507, 2.054514146776732, 2.7653036562244826, 2.05480648026212, 2.534359936647066, 2.534215965399369, 2.084788293004557, 2.0555219455106104, 2.055502119525484, 2.0553066539405793], \"Total\": [67.0, 63.0, 57.0, 38.0, 19.0, 7.0, 40.0, 46.0, 29.0, 26.0, 42.0, 32.0, 30.0, 122.0, 16.0, 28.0, 9.0, 43.0, 45.0, 19.0, 19.0, 58.0, 28.0, 21.0, 9.0, 25.0, 16.0, 23.0, 15.0, 42.0, 3.8087893417045193, 3.039312914276073, 3.039199538921971, 3.0391986295690527, 3.039195526184363, 3.0391894231035095, 3.039236128935363, 3.0392512161718894, 3.0392049660111886, 2.2698322873064503, 2.269831828892889, 2.2698312558759373, 2.2698309120657663, 2.269830453652205, 2.2698301098420335, 2.26982884920474, 2.26982884920474, 2.269827588567446, 2.2698254111030294, 2.2698248380860777, 2.269829314776875, 2.2698244942759067, 2.2698227752250517, 2.2698208269674156, 2.26981566981485, 2.269829067000086, 2.2698294954047054, 2.2698262995539205, 2.2698293433656604, 2.269829586882518, 4.5333894084164985, 4.538688256158184, 4.544401065980182, 4.5575303780296, 6.045859514653148, 5.148681739218178, 6.82322699659956, 3.7613071352054357, 3.7880571219516157, 4.379205369550045, 56.32813145468266, 45.15208161601374, 10.381775883129635, 4.466516309200755, 19.346230311551622, 4.485990300145814, 4.491237487195407, 12.663402253329, 82.30906781640347, 7.4871649136801945, 41.36001758402713, 23.825643388008306, 67.93190454666373, 42.0915947059234, 18.652593684966604, 46.4703161358054, 122.39325014897182, 30.285566913350767, 32.56693734840975, 34.10498808480666, 23.682441223799977, 10.938665014938959, 49.10688316319634, 16.299671576407192, 31.79817853321542, 34.54251721697527, 43.97813385372821, 19.280040877700063, 72.52046853559568, 21.32112884969213, 80.69073583432302, 22.201641154537523, 22.781077373918897, 63.97558736077191, 58.671647513849194, 53.28091579445743, 35.61160380171033, 23.71532273689066, 24.363817681722026, 28.73645968146914, 4.519742188045512, 3.0042166604774807, 3.00421311297069, 3.0042121868007907, 3.0041834977193145, 3.0041822179840723, 2.246441005409368, 2.2464407906677355, 2.2464402538136548, 2.2464399317012065, 2.246438106397332, 2.2464362810934575, 2.2464314494067312, 2.2464294093612245, 2.2464385622074947, 2.246434353586445, 2.246433248235322, 2.246433826708651, 2.246436255105337, 2.246417827908024, 2.246434980950281, 2.246435137419372, 2.2464022359484237, 2.2464369856295847, 2.246431924430193, 2.2464238091330078, 2.2464139072506333, 2.2464235896805795, 2.2464206701218794, 2.2464361178630456, 4.431742298522668, 3.734101895979544, 3.7401274085454235, 7.433499566106612, 27.273791007702936, 7.368511674202391, 25.061270287985135, 4.4958625051069445, 58.671647513849194, 8.07602015444558, 11.85628067134835, 67.93190454666373, 72.52046853559568, 43.97813385372821, 8.935021839021832, 14.148417279514252, 9.668993032419772, 60.93912717570169, 36.81938141006151, 28.68788338762215, 5.684197302878232, 5.684197302878232, 19.066605750654197, 5.866853234542464, 20.559009664170453, 19.903490853834914, 34.10498808480666, 53.105424708678214, 80.69073583432302, 25.588497404489992, 53.28091579445743, 24.98246670842778, 31.79817853321542, 28.900862833306867, 30.852528284177325, 56.32813145468266, 35.61160380171033, 36.844189593323364, 40.95868793519581, 63.97558736077191, 4.492440345956831, 3.7401537318643165, 2.9878390347994825, 2.9878369124820137, 2.9878419302090564, 2.2355289892885253, 2.2355210943833392, 2.2355206788620134, 2.235519224537374, 2.2355262656970094, 2.2355269582010915, 2.235526213440884, 2.235523852285244, 2.235519630027624, 2.2355254165667917, 2.2355216913151166, 2.2355207286459704, 2.2355165528558993, 2.2355345090338075, 2.235534873575794, 2.235527791388754, 2.235523153546725, 2.235527346750737, 2.2355221884871375, 2.235527107704706, 2.2355242608091808, 2.23552799573376, 2.2355229909808783, 2.2353884555066412, 2.235505080887721, 7.405327951214681, 3.6576482613126524, 5.220895288843587, 5.228566175127439, 3.7177252144172015, 38.757165193991185, 8.239968972225999, 11.94460986016165, 16.842267087229935, 4.482173552362918, 4.48577393208384, 53.105424708678214, 12.470870937205692, 24.363817681722026, 60.93912717570169, 8.809162859650016, 5.063466989360024, 5.147309729224536, 9.4515077450373, 5.19229732511614, 9.708681960356744, 23.71532273689066, 67.93190454666373, 29.552651081704962, 56.32813145468266, 43.3720209764645, 80.69073583432302, 122.39325014897182, 72.52046853559568, 19.970601122168354, 49.10688316319634, 32.56693734840975, 53.28091579445743, 58.671647513849194, 16.911223129748297, 30.013066845142102, 57.404520851921404, 34.10498808480666, 41.36001758402713, 19.17437500656888, 31.79817853321542, 4.47636487429945, 3.7270760115788777, 3.726254767315232, 2.978210324657885, 2.9782128716966567, 2.978210831736479, 2.229106765279947, 2.2291053520314716, 2.2290979829501363, 2.229092834687833, 2.2291018328151906, 2.2289141793416065, 2.229111168566278, 2.22911089047971, 2.22910044800102, 2.229101639539387, 2.2291113578328687, 2.2291053204093774, 2.2291003354833285, 2.229104953044725, 2.2290947181498235, 2.229026574287037, 2.229100289767942, 2.229019988373559, 4.428557180647113, 4.4285284296207745, 5.952961206599017, 1.47995172327898, 1.47995172327898, 1.4799516223326605, 7.344369331567057, 4.409574612909026, 4.415130408571201, 8.133843706223669, 6.65640463661546, 19.901549845468516, 9.68610653645316, 27.232387606668617, 4.415940689709827, 35.61160380171033, 4.465505521500529, 4.46951676220792, 28.82295526452484, 8.14140028349933, 122.39325014897182, 43.3720209764645, 5.089454796159805, 22.00885117185858, 56.32813145468266, 53.105424708678214, 18.438963961903053, 40.95868793519581, 80.69073583432302, 45.15208161601374, 82.30906781640347, 42.0915947059234, 42.307053600522785, 63.97558736077191, 23.825643388008306, 67.93190454666373, 49.10688316319634, 31.79817853321542, 53.28091579445743, 43.97813385372821, 72.52046853559568, 30.013066845142102, 4.4606878122752915, 4.460670180230533, 3.7144771665875305, 2.96878414441933, 2.96878400183865, 2.9687638757634494, 2.9687924940928956, 2.9687884520337, 2.9687810381969255, 2.222830773459288, 2.2228236514699793, 2.222821220793472, 2.222823714433968, 2.222826208712681, 2.222826106974835, 2.2228255956769307, 2.222816286822199, 2.2228273107592176, 2.222824294516722, 2.2228242098655246, 2.2228156691542083, 2.222814662524636, 2.222827120630904, 2.222830005240397, 2.2228186408204356, 2.2228005253045495, 2.2228043790760075, 2.22281738352203, 2.222817207618621, 2.2228173277049854, 4.422530511223931, 5.140630003224142, 3.726157984091465, 5.881842696087083, 5.83006446611485, 25.75638781640514, 46.4703161358054, 4.4279641830567416, 7.260078923203108, 4.4563347201367485, 7.37430314982005, 4.489774314316395, 122.39325014897182, 13.189306458353446, 82.30906781640347, 8.869963176250861, 8.985396499947853, 28.73645968146914, 5.100316403681025, 8.006119874521824, 5.156321593523153, 19.970601122168354, 9.661280605416607, 58.671647513849194, 72.52046853559568, 24.98246670842778, 28.68788338762215, 17.46334966244909, 80.69073583432302, 20.26070693181675, 41.36001758402713, 22.176877838955953, 63.97558736077191, 9.661306527632474, 35.61160380171033, 40.95868793519581, 49.10688316319634, 67.93190454666373, 42.0915947059234, 36.844189593323364, 36.81938141006151, 60.93912717570169, 18.438963961903053, 14.148417279514252, 56.32813145468266, 7.408657001192762, 2.9510990260834107, 2.9510929695784567, 2.951072594359377, 2.211037366858911, 2.211036507075234, 2.2110363160121946, 2.2110325272461218, 2.2110332775803596, 2.211027957457998, 2.211034921719891, 2.211031935556584, 2.2109951763784372, 2.2110374162369966, 2.2110360361699897, 2.2110255016322613, 2.2110307771712607, 2.2110409628043604, 2.2110421109754888, 2.2110423206154803, 2.211028960245913, 2.211038211223712, 2.211028955611379, 2.2110282015172804, 2.211038131481368, 2.2110386235303627, 4.427098322074214, 3.673121941256037, 3.675739166662339, 3.706917432715643, 3.7084832471664635, 7.33257379110988, 7.29820982819123, 13.994033233836982, 19.724163262250507, 7.380870965821108, 11.798304778594469, 17.04810781096491, 13.164150095135044, 8.094135299105291, 14.517002433237444, 40.95868793519581, 5.152691785865342, 5.199332233217667, 9.661306527632474, 9.661280605416607, 15.500959456433405, 80.69073583432302, 16.758151524734554, 38.757165193991185, 53.105424708678214, 29.997050102631803, 122.39325014897182, 28.48589191200172, 43.3720209764645, 30.852528284177325, 28.900862833306867, 24.273978156090298, 82.30906781640347, 27.01779552223276, 33.48747692443705, 27.273791007702936, 46.4703161358054, 29.552651081704962, 53.28091579445743, 56.32813145468266, 57.404520851921404, 4.411330471582092, 3.6752535013048813, 3.6752427905812626, 2.9391700264121723, 2.9391725700282985, 2.939183455907686, 2.203086300672102, 2.2030858274148084, 2.203085638111891, 2.2030854488089737, 2.203081378796248, 2.2030791071612383, 2.20307825529811, 2.203093605662509, 2.203093300919492, 2.2030861052608057, 2.203088574339699, 2.203093537348283, 2.2030909932926104, 2.2030906203971656, 2.203090412523943, 2.2030994455645025, 2.2030885368550135, 2.203095184505332, 2.20309544757869, 2.2030981051409766, 2.203085890266256, 2.203096797728384, 2.2030970561063667, 2.2030971873823226, 2.9434767265931714, 3.6911171913926517, 3.7082442593869827, 36.844189593323364, 4.370554230823196, 15.317920753197514, 4.460172626131249, 15.457686660623068, 8.038164246188693, 8.053233589921065, 12.5177649657126, 28.900862833306867, 53.28091579445743, 5.082972531769945, 30.285566913350767, 5.166763005086699, 72.52046853559568, 19.903490853834914, 60.93912717570169, 5.918641098494733, 22.675998775035264, 80.69073583432302, 63.97558736077191, 42.0915947059234, 27.273791007702936, 122.39325014897182, 18.652593684966604, 19.346230311551622, 57.404520851921404, 67.93190454666373, 21.228050876951905, 21.922045296187875, 24.273978156090298, 25.061270287985135, 25.719365498464065, 41.36001758402713, 34.10498808480666, 43.3720209764645, 26.11424465855915, 3.6760890633000827, 2.939789192474672, 2.939805612580152, 2.203510054551591, 2.203510054551591, 2.203509867436763, 2.2035096803219347, 2.203508089845896, 2.2035074349439974, 2.2035072478291693, 2.203507060714341, 2.203502476401053, 2.2035007923676004, 2.2035033777138056, 2.2035131874635216, 2.2035025424741876, 2.203513303211393, 2.203516152975359, 2.2035144660661623, 2.20351155383269, 2.2035120465443154, 2.203502030803633, 2.2035002143658335, 2.203502163017068, 2.203302031355587, 2.203347599504877, 2.20349936241442, 2.203298005650645, 4.400730718645817, 1.4671684856024363, 2.8733154817684987, 4.394344441893195, 10.976445423066158, 19.901549845468516, 21.32112884969213, 11.01583244420186, 8.10402775303347, 24.273978156090298, 18.27536326853454, 16.852013232341537, 122.39325014897182, 17.103175106756762, 24.1398722986949, 72.52046853559568, 82.30906781640347, 29.221469523558998, 29.997050102631803, 19.789417437990423, 18.304588302485598, 11.804106357367942, 20.543526462527304, 12.510439956509007, 36.81938141006151, 13.193334681974495, 80.69073583432302, 13.229790736611132, 13.289228568792335, 53.28091579445743, 25.719365498464065, 23.682441223799977, 26.995212603166586, 28.68788338762215, 32.56693734840975, 45.15208161601374, 41.36001758402713, 60.93912717570169, 53.105424708678214, 67.93190454666373, 56.32813145468266, 3.6518319264295105, 2.921607006696341, 2.9216186006327205, 2.9216158036121826, 5.106695374783901, 2.1913806233942275, 2.1913794287938857, 2.191377866624208, 2.19137768283954, 2.1913766720238663, 2.1913667476517973, 2.1913724568551167, 2.19137440925551, 2.191381582387216, 2.1913789022780183, 2.191373529971566, 2.191375689041621, 2.1913811600351383, 2.1913812563335053, 2.1913802493669112, 2.1913821457844227, 2.191377807286503, 2.1913773000179457, 2.1913694263872516, 2.1913772203185236, 2.1913778445749195, 2.191390454009155, 2.1913875004060483, 2.19122450514366, 4.3764876938510735, 3.661318824574671, 6.636557146426114, 122.39325014897182, 13.229790736611132, 8.730801183500407, 8.850586469818513, 21.157030851637067, 30.091914004450874, 29.552651081704962, 60.93912717570169, 10.301457172974073, 26.995212603166586, 82.30906781640347, 17.73536711366285, 58.671647513849194, 11.81238022550754, 53.105424708678214, 22.201641154537523, 42.307053600522785, 43.3720209764645, 42.0915947059234, 72.52046853559568, 16.299671576407192, 7.2957167917412695, 38.757165193991185, 49.10688316319634, 30.285566913350767, 46.4703161358054, 29.221469523558998, 80.69073583432302, 57.404520851921404, 32.891263337715365, 30.852528284177325, 2.905834824898597, 2.905832972694058, 2.90583998979111, 2.9058299853326828, 2.1808676611741347, 2.1808669529022473, 2.1808612867271475, 2.180863196405985, 2.1808693927499396, 2.1808663210249786, 2.180870927990308, 2.1808664909696245, 2.1808629806625888, 2.180869321653244, 2.180868984846855, 2.1808663882524923, 2.1808677804976773, 2.180370334973508, 2.1808839260247166, 3.6577890246181384, 1.4558575383358632, 1.4558573612678913, 1.4558573612678913, 1.4558573612678913, 1.4558573612678913, 1.455856652996004, 1.455856652996004, 1.455856652996004, 1.455856564462018, 1.455856564462018, 2.850672576458109, 4.305464988356493, 4.34293926122664, 2.8823561411015883, 2.8823477856239568, 4.3496994960831055, 4.353685851988041, 4.387672505774991, 2.9028969589662355, 2.9107543854811473, 6.627845239353003, 5.09180030826478, 29.997050102631803, 42.307053600522785, 11.704475828749501, 13.225181009157424, 10.949869364171073, 57.404520851921404, 56.32813145468266, 16.911223129748297, 40.95868793519581, 28.48589191200172, 49.10688316319634, 43.3720209764645, 19.93815885915539, 122.39325014897182, 5.724996790919929, 5.821480811319527, 82.30906781640347, 36.81938141006151, 24.99889347877219, 13.13925012962741, 26.01885672297672, 28.68788338762215, 63.97558736077191, 14.544181420003408, 42.0915947059234, 15.457686660623068, 30.285566913350767, 80.69073583432302, 34.54251721697527, 16.65621499732514, 19.903490853834914, 60.93912717570169, 67.93190454666373, 27.232387606668617, 36.844189593323364, 25.719365498464065, 3.6203101004407623, 3.6203167189841836, 2.8979725973442387, 2.897973152265769, 2.8979762616634117, 2.8979785772872435, 5.0507860947923575, 2.1756294648200334, 2.175629116504489, 2.175624936717954, 2.1756245884024095, 2.1756221501935973, 2.175620931089191, 2.1756184928803792, 2.1756150097249334, 2.1756298086947727, 2.175625480455321, 2.1755455034968327, 2.1756296109756086, 2.1756331703513943, 2.1756344074646052, 2.175627370677534, 2.175627455428066, 2.175636582199663, 2.1756296345028914, 2.175639743993357, 2.1757334100043297, 3.6337175287153354, 3.667040905693044, 3.6672119632794025, 9.516678525632617, 9.521680806663184, 6.605838971800209, 10.118287595824391, 4.356856128668095, 7.212831120786034, 7.305813008880218, 7.327068352850002, 43.97813385372821, 8.755666697005728, 9.504771202421598, 122.39325014897182, 80.69073583432302, 5.804873602131679, 5.821480811319527, 12.453577179015364, 13.063739776586505, 42.0915947059234, 6.618537284050662, 28.82295526452484, 49.10688316319634, 82.30906781640347, 15.398504554608737, 34.10498808480666, 63.97558736077191, 20.26070693181675, 24.88823610044097, 32.56693734840975, 41.36001758402713, 46.4703161358054, 31.79817853321542, 58.671647513849194, 72.52046853559568, 3.625128894813037, 3.625133667923858, 3.6251333286362395, 3.62512618998483, 3.624783731660682, 2.90158969200447, 2.9015933687764313, 2.901588882868104, 2.178041151867379, 2.1780406304242814, 2.1780373279513285, 2.17803385166401, 2.178033156406546, 2.1780289848617636, 2.1780425537994446, 2.1780424440560493, 2.178036390752712, 2.1780418406344437, 2.178045044154078, 2.178045488216421, 2.1780412725751184, 2.1780414404242636, 2.178044149637268, 2.1780482383920137, 2.1780164244139963, 2.178044705645452, 2.1780393350438536, 2.178041919067225, 2.178041702937801, 3.571398414131528, 5.069533352060231, 5.085731591467002, 3.6025873373719395, 3.6097077274032827, 3.6535216750465733, 3.6375032425755847, 63.97558736077191, 6.59509709329454, 7.202458834782465, 4.41680983726711, 57.404520851921404, 7.954308803223023, 13.145508328037408, 31.79817853321542, 21.905499282145055, 46.4703161358054, 16.299671576407192, 10.247627006154154, 80.69073583432302, 19.789417437990423, 5.839187477490549, 122.39325014897182, 82.30906781640347, 23.71532273689066, 28.73645968146914, 29.221469523558998, 33.48747692443705, 26.11424465855915, 32.891263337715365, 30.013066845142102, 34.54251721697527, 56.32813145468266, 53.28091579445743, 36.81938141006151, 67.93190454666373, 49.10688316319634, 40.95868793519581, 16.08695206065603, 12.367529083135349, 2.8562384780143955, 2.8562642561559315, 2.8563014470047885, 2.1478261448578393, 2.1478248429568674, 2.1478215882044385, 2.147817519763902, 2.147815729650066, 2.14781507869958, 2.1478238111747503, 2.1478253962096585, 2.147827236275739, 2.1478234504086653, 2.147802810543874, 2.1478149727869513, 2.147817726063968, 2.147832890423736, 2.1478282032521547, 2.14782954581471, 2.1478356626794346, 2.1478391388260896, 2.147845845203447, 2.1452950376385242, 2.147846566385961, 2.147622521655093, 2.1476237697141025, 2.1469447901925207, 4.333804633117781, 3.6082091176290763, 3.608191482126862, 32.891263337715365, 6.515849223438634, 4.359884140170882, 4.360597247151479, 14.653622956533468, 57.404520851921404, 42.307053600522785, 8.831881325179777, 17.46334966244909, 63.97558736077191, 16.758151524734554, 58.671647513849194, 49.10688316319634, 18.29287168321062, 53.105424708678214, 29.221469523558998, 60.93912717570169, 17.781055879177405, 5.828614046958335, 5.8769060225029754, 53.28091579445743, 12.328919884592823, 80.69073583432302, 38.757165193991185, 67.93190454666373, 82.30906781640347, 72.52046853559568, 28.73645968146914, 122.39325014897182, 30.285566913350767, 40.95868793519581, 17.56728277116971, 21.157030851637067, 23.71532273689066, 23.682441223799977, 2.836269175867768, 2.134496242673207, 2.1344969257472624, 2.1345044410515435, 2.1345025055225513, 2.134503239055187, 2.1344962356383244, 2.1344300877786533, 2.1345054631659703, 2.134499496340893, 2.1345013550852965, 2.1345080949160793, 2.13450253305755, 2.134503852997089, 2.134512209305526, 2.134512677292795, 2.1345170054082323, 2.13599232383637, 1.4326933161802955, 1.4326932440806721, 1.4326932440806721, 1.4326932495123712, 1.4326932549440698, 1.4326932549440698, 1.4326931556859521, 1.4326931611176508, 1.4326931665493499, 1.4326931828444467, 1.4326931937078444, 1.4326931937078444, 4.283085672388394, 2.8565605562867065, 2.857727880125455, 2.864378306956546, 2.8643966629730127, 4.345612454940199, 2.8800861817278935, 2.8801066926412817, 2.886450885377421, 16.724900960790062, 3.52631326403435, 3.5400489157272927, 9.415204104576908, 13.035890374285074, 57.404520851921404, 9.4515077450373, 21.24740812049984, 45.15208161601374, 58.671647513849194, 6.47244883169515, 26.995212603166586, 20.559009664170453, 63.97558736077191, 33.48747692443705, 13.058169564097756, 27.01779552223276, 14.544181420003408, 122.39325014897182, 30.091914004450874, 16.842267087229935, 7.202458834782465, 72.52046853559568, 19.724163262250507, 80.69073583432302, 20.543526462527304, 43.97813385372821, 8.709818890860177, 24.88823610044097, 60.93912717570169, 30.852528284177325, 34.54251721697527, 25.588497404489992, 82.30906781640347, 26.11424465855915, 3.4113036497856304, 2.741207657005892, 2.0711016486760228, 2.071099253590571, 2.071098056047845, 2.0710971246257253, 2.0710961932036054, 2.071095261781485, 2.0710947295402735, 2.0710945964799707, 2.0710945964799707, 2.071094463419668, 2.071094463419668, 2.071094463419668, 2.0711209316851718, 2.0710233605691064, 2.0711052899916735, 2.0711210073073154, 2.0711444475325496, 2.0711618237096667, 4.150933138895178, 3.4631766854058634, 1.401020275635192, 1.401020275635192, 1.4010202091050405, 1.4010202091050405, 1.4010202091050405, 1.4010202091050405, 1.4010202091050405, 1.4010201425748892, 2.772654207193135, 2.7792421929342606, 5.684197302878232, 5.684197302878232, 2.7931376130281818, 2.7931891776319677, 2.8068267712143893, 2.810804698444199, 7.736233917435205, 6.345445117248952, 4.97546030775769, 67.93190454666373, 8.54550863344273, 9.202290539019685, 26.01885672297672, 53.28091579445743, 72.52046853559568, 122.39325014897182, 38.757165193991185, 16.724258242135864, 40.95868793519581, 43.97813385372821, 63.97558736077191, 21.905499282145055, 8.668862911947524, 9.352038689920692, 82.30906781640347, 33.48747692443705, 43.3720209764645, 12.315797273838477, 49.10688316319634, 13.014060581618718, 46.4703161358054, 80.69073583432302, 30.013066845142102, 25.75638781640514, 42.307053600522785, 21.228050876951905], \"Category\": [\"Default\", \"Default\", \"Default\", \"Default\", \"Default\", \"Default\", \"Default\", \"Default\", \"Default\", \"Default\", \"Default\", \"Default\", \"Default\", \"Default\", \"Default\", \"Default\", \"Default\", \"Default\", \"Default\", \"Default\", \"Default\", \"Default\", \"Default\", \"Default\", \"Default\", \"Default\", \"Default\", \"Default\", \"Default\", \"Default\", \"Topic1\", \"Topic1\", \"Topic1\", \"Topic1\", \"Topic1\", \"Topic1\", \"Topic1\", \"Topic1\", \"Topic1\", \"Topic1\", \"Topic1\", \"Topic1\", \"Topic1\", \"Topic1\", \"Topic1\", \"Topic1\", \"Topic1\", \"Topic1\", \"Topic1\", \"Topic1\", \"Topic1\", \"Topic1\", \"Topic1\", \"Topic1\", \"Topic1\", \"Topic1\", \"Topic1\", \"Topic1\", \"Topic1\", \"Topic1\", \"Topic1\", \"Topic1\", \"Topic1\", \"Topic1\", \"Topic1\", \"Topic1\", \"Topic1\", \"Topic1\", \"Topic1\", \"Topic1\", \"Topic1\", \"Topic1\", \"Topic1\", \"Topic1\", \"Topic1\", \"Topic1\", \"Topic1\", \"Topic1\", \"Topic1\", \"Topic1\", \"Topic1\", \"Topic1\", \"Topic1\", \"Topic1\", \"Topic1\", \"Topic1\", \"Topic1\", \"Topic1\", \"Topic1\", \"Topic1\", \"Topic1\", \"Topic1\", \"Topic1\", \"Topic1\", \"Topic1\", \"Topic1\", \"Topic1\", \"Topic1\", \"Topic1\", \"Topic1\", \"Topic1\", \"Topic1\", \"Topic1\", \"Topic1\", \"Topic1\", \"Topic1\", \"Topic1\", \"Topic1\", \"Topic1\", \"Topic1\", \"Topic2\", \"Topic2\", \"Topic2\", \"Topic2\", \"Topic2\", \"Topic2\", \"Topic2\", \"Topic2\", \"Topic2\", \"Topic2\", \"Topic2\", \"Topic2\", \"Topic2\", \"Topic2\", \"Topic2\", \"Topic2\", \"Topic2\", \"Topic2\", \"Topic2\", \"Topic2\", \"Topic2\", \"Topic2\", \"Topic2\", \"Topic2\", \"Topic2\", \"Topic2\", \"Topic2\", \"Topic2\", \"Topic2\", \"Topic2\", \"Topic2\", \"Topic2\", \"Topic2\", \"Topic2\", \"Topic2\", \"Topic2\", \"Topic2\", \"Topic2\", \"Topic2\", \"Topic2\", \"Topic2\", \"Topic2\", \"Topic2\", \"Topic2\", \"Topic2\", \"Topic2\", \"Topic2\", \"Topic2\", \"Topic2\", \"Topic2\", \"Topic2\", \"Topic2\", \"Topic2\", \"Topic2\", \"Topic2\", \"Topic2\", \"Topic2\", \"Topic2\", \"Topic2\", \"Topic2\", \"Topic2\", \"Topic2\", \"Topic2\", \"Topic2\", \"Topic2\", \"Topic2\", \"Topic2\", \"Topic2\", \"Topic2\", \"Topic2\", \"Topic3\", \"Topic3\", \"Topic3\", \"Topic3\", \"Topic3\", \"Topic3\", \"Topic3\", \"Topic3\", \"Topic3\", \"Topic3\", \"Topic3\", \"Topic3\", \"Topic3\", \"Topic3\", \"Topic3\", \"Topic3\", \"Topic3\", \"Topic3\", \"Topic3\", \"Topic3\", \"Topic3\", \"Topic3\", \"Topic3\", \"Topic3\", \"Topic3\", \"Topic3\", \"Topic3\", \"Topic3\", \"Topic3\", \"Topic3\", \"Topic3\", \"Topic3\", \"Topic3\", \"Topic3\", \"Topic3\", \"Topic3\", \"Topic3\", \"Topic3\", \"Topic3\", \"Topic3\", \"Topic3\", \"Topic3\", \"Topic3\", \"Topic3\", \"Topic3\", \"Topic3\", \"Topic3\", \"Topic3\", \"Topic3\", \"Topic3\", \"Topic3\", \"Topic3\", \"Topic3\", \"Topic3\", \"Topic3\", \"Topic3\", \"Topic3\", \"Topic3\", \"Topic3\", \"Topic3\", \"Topic3\", \"Topic3\", \"Topic3\", \"Topic3\", \"Topic3\", \"Topic3\", \"Topic3\", \"Topic3\", \"Topic3\", \"Topic3\", \"Topic3\", \"Topic4\", \"Topic4\", \"Topic4\", \"Topic4\", \"Topic4\", \"Topic4\", \"Topic4\", \"Topic4\", \"Topic4\", \"Topic4\", \"Topic4\", \"Topic4\", \"Topic4\", \"Topic4\", \"Topic4\", \"Topic4\", \"Topic4\", \"Topic4\", \"Topic4\", \"Topic4\", \"Topic4\", \"Topic4\", \"Topic4\", \"Topic4\", \"Topic4\", \"Topic4\", \"Topic4\", \"Topic4\", \"Topic4\", \"Topic4\", \"Topic4\", \"Topic4\", \"Topic4\", \"Topic4\", \"Topic4\", \"Topic4\", \"Topic4\", \"Topic4\", \"Topic4\", \"Topic4\", \"Topic4\", \"Topic4\", \"Topic4\", \"Topic4\", \"Topic4\", \"Topic4\", \"Topic4\", \"Topic4\", \"Topic4\", \"Topic4\", \"Topic4\", \"Topic4\", \"Topic4\", \"Topic4\", \"Topic4\", \"Topic4\", \"Topic4\", \"Topic4\", \"Topic4\", \"Topic4\", \"Topic4\", \"Topic4\", \"Topic4\", \"Topic4\", \"Topic4\", \"Topic4\", \"Topic5\", \"Topic5\", \"Topic5\", \"Topic5\", \"Topic5\", \"Topic5\", \"Topic5\", \"Topic5\", \"Topic5\", \"Topic5\", \"Topic5\", \"Topic5\", \"Topic5\", \"Topic5\", \"Topic5\", \"Topic5\", \"Topic5\", \"Topic5\", \"Topic5\", \"Topic5\", \"Topic5\", \"Topic5\", \"Topic5\", \"Topic5\", \"Topic5\", \"Topic5\", \"Topic5\", \"Topic5\", \"Topic5\", \"Topic5\", \"Topic5\", \"Topic5\", \"Topic5\", \"Topic5\", \"Topic5\", \"Topic5\", \"Topic5\", \"Topic5\", \"Topic5\", \"Topic5\", \"Topic5\", \"Topic5\", \"Topic5\", \"Topic5\", \"Topic5\", \"Topic5\", \"Topic5\", \"Topic5\", \"Topic5\", \"Topic5\", \"Topic5\", \"Topic5\", \"Topic5\", \"Topic5\", \"Topic5\", \"Topic5\", \"Topic5\", \"Topic5\", \"Topic5\", \"Topic5\", \"Topic5\", \"Topic5\", \"Topic5\", \"Topic5\", \"Topic5\", \"Topic5\", \"Topic5\", \"Topic5\", \"Topic5\", \"Topic5\", \"Topic5\", \"Topic5\", \"Topic5\", \"Topic5\", \"Topic5\", \"Topic6\", \"Topic6\", \"Topic6\", \"Topic6\", \"Topic6\", \"Topic6\", \"Topic6\", \"Topic6\", \"Topic6\", \"Topic6\", \"Topic6\", \"Topic6\", \"Topic6\", \"Topic6\", \"Topic6\", \"Topic6\", \"Topic6\", \"Topic6\", \"Topic6\", \"Topic6\", \"Topic6\", \"Topic6\", \"Topic6\", \"Topic6\", \"Topic6\", \"Topic6\", \"Topic6\", \"Topic6\", \"Topic6\", \"Topic6\", \"Topic6\", \"Topic6\", \"Topic6\", \"Topic6\", \"Topic6\", \"Topic6\", \"Topic6\", \"Topic6\", \"Topic6\", \"Topic6\", \"Topic6\", \"Topic6\", \"Topic6\", \"Topic6\", \"Topic6\", \"Topic6\", \"Topic6\", \"Topic6\", \"Topic6\", \"Topic6\", \"Topic6\", \"Topic6\", \"Topic6\", \"Topic6\", \"Topic6\", \"Topic6\", \"Topic6\", \"Topic6\", \"Topic6\", \"Topic6\", \"Topic6\", \"Topic6\", \"Topic6\", \"Topic6\", \"Topic6\", \"Topic6\", \"Topic6\", \"Topic7\", \"Topic7\", \"Topic7\", \"Topic7\", \"Topic7\", \"Topic7\", \"Topic7\", \"Topic7\", \"Topic7\", \"Topic7\", \"Topic7\", \"Topic7\", \"Topic7\", \"Topic7\", \"Topic7\", \"Topic7\", \"Topic7\", \"Topic7\", \"Topic7\", \"Topic7\", \"Topic7\", \"Topic7\", \"Topic7\", \"Topic7\", \"Topic7\", \"Topic7\", \"Topic7\", \"Topic7\", \"Topic7\", \"Topic7\", \"Topic7\", \"Topic7\", \"Topic7\", \"Topic7\", \"Topic7\", \"Topic7\", \"Topic7\", \"Topic7\", \"Topic7\", \"Topic7\", \"Topic7\", \"Topic7\", \"Topic7\", \"Topic7\", \"Topic7\", \"Topic7\", \"Topic7\", \"Topic7\", \"Topic7\", \"Topic7\", \"Topic7\", \"Topic7\", \"Topic7\", \"Topic7\", \"Topic7\", \"Topic7\", \"Topic7\", \"Topic7\", \"Topic7\", \"Topic7\", \"Topic7\", \"Topic7\", \"Topic7\", \"Topic7\", \"Topic7\", \"Topic7\", \"Topic7\", \"Topic7\", \"Topic7\", \"Topic8\", \"Topic8\", \"Topic8\", \"Topic8\", \"Topic8\", \"Topic8\", \"Topic8\", \"Topic8\", \"Topic8\", \"Topic8\", \"Topic8\", \"Topic8\", \"Topic8\", \"Topic8\", \"Topic8\", \"Topic8\", \"Topic8\", \"Topic8\", \"Topic8\", \"Topic8\", \"Topic8\", \"Topic8\", \"Topic8\", \"Topic8\", \"Topic8\", \"Topic8\", \"Topic8\", \"Topic8\", \"Topic8\", \"Topic8\", \"Topic8\", \"Topic8\", \"Topic8\", \"Topic8\", \"Topic8\", \"Topic8\", \"Topic8\", \"Topic8\", \"Topic8\", \"Topic8\", \"Topic8\", \"Topic8\", \"Topic8\", \"Topic8\", \"Topic8\", \"Topic8\", \"Topic8\", \"Topic8\", \"Topic8\", \"Topic8\", \"Topic8\", \"Topic8\", \"Topic8\", \"Topic8\", \"Topic8\", \"Topic8\", \"Topic8\", \"Topic8\", \"Topic8\", \"Topic8\", \"Topic8\", \"Topic8\", \"Topic8\", \"Topic8\", \"Topic8\", \"Topic8\", \"Topic8\", \"Topic8\", \"Topic8\", \"Topic9\", \"Topic9\", \"Topic9\", \"Topic9\", \"Topic9\", \"Topic9\", \"Topic9\", \"Topic9\", \"Topic9\", \"Topic9\", \"Topic9\", \"Topic9\", \"Topic9\", \"Topic9\", \"Topic9\", \"Topic9\", \"Topic9\", \"Topic9\", \"Topic9\", \"Topic9\", \"Topic9\", \"Topic9\", \"Topic9\", \"Topic9\", \"Topic9\", \"Topic9\", \"Topic9\", \"Topic9\", \"Topic9\", \"Topic9\", \"Topic9\", \"Topic9\", \"Topic9\", \"Topic9\", \"Topic9\", \"Topic9\", \"Topic9\", \"Topic9\", \"Topic9\", \"Topic9\", \"Topic9\", \"Topic9\", \"Topic9\", \"Topic9\", \"Topic9\", \"Topic9\", \"Topic9\", \"Topic9\", \"Topic9\", \"Topic9\", \"Topic9\", \"Topic9\", \"Topic9\", \"Topic9\", \"Topic9\", \"Topic9\", \"Topic9\", \"Topic9\", \"Topic9\", \"Topic9\", \"Topic9\", \"Topic9\", \"Topic9\", \"Topic10\", \"Topic10\", \"Topic10\", \"Topic10\", \"Topic10\", \"Topic10\", \"Topic10\", \"Topic10\", \"Topic10\", \"Topic10\", \"Topic10\", \"Topic10\", \"Topic10\", \"Topic10\", \"Topic10\", \"Topic10\", \"Topic10\", \"Topic10\", \"Topic10\", \"Topic10\", \"Topic10\", \"Topic10\", \"Topic10\", \"Topic10\", \"Topic10\", \"Topic10\", \"Topic10\", \"Topic10\", \"Topic10\", \"Topic10\", \"Topic10\", \"Topic10\", \"Topic10\", \"Topic10\", \"Topic10\", \"Topic10\", \"Topic10\", \"Topic10\", \"Topic10\", \"Topic10\", \"Topic10\", \"Topic10\", \"Topic10\", \"Topic10\", \"Topic10\", \"Topic10\", \"Topic10\", \"Topic10\", \"Topic10\", \"Topic10\", \"Topic10\", \"Topic10\", \"Topic10\", \"Topic10\", \"Topic10\", \"Topic10\", \"Topic10\", \"Topic10\", \"Topic10\", \"Topic10\", \"Topic10\", \"Topic10\", \"Topic10\", \"Topic10\", \"Topic10\", \"Topic10\", \"Topic10\", \"Topic10\", \"Topic10\", \"Topic10\", \"Topic10\", \"Topic10\", \"Topic10\", \"Topic10\", \"Topic10\", \"Topic10\", \"Topic10\", \"Topic10\", \"Topic11\", \"Topic11\", \"Topic11\", \"Topic11\", \"Topic11\", \"Topic11\", \"Topic11\", \"Topic11\", \"Topic11\", \"Topic11\", \"Topic11\", \"Topic11\", \"Topic11\", \"Topic11\", \"Topic11\", \"Topic11\", \"Topic11\", \"Topic11\", \"Topic11\", \"Topic11\", \"Topic11\", \"Topic11\", \"Topic11\", \"Topic11\", \"Topic11\", \"Topic11\", \"Topic11\", \"Topic11\", \"Topic11\", \"Topic11\", \"Topic11\", \"Topic11\", \"Topic11\", \"Topic11\", \"Topic11\", \"Topic11\", \"Topic11\", \"Topic11\", \"Topic11\", \"Topic11\", \"Topic11\", \"Topic11\", \"Topic11\", \"Topic11\", \"Topic11\", \"Topic11\", \"Topic11\", \"Topic11\", \"Topic11\", \"Topic11\", \"Topic11\", \"Topic11\", \"Topic11\", \"Topic11\", \"Topic11\", \"Topic11\", \"Topic11\", \"Topic11\", \"Topic11\", \"Topic11\", \"Topic11\", \"Topic11\", \"Topic11\", \"Topic12\", \"Topic12\", \"Topic12\", \"Topic12\", \"Topic12\", \"Topic12\", \"Topic12\", \"Topic12\", \"Topic12\", \"Topic12\", \"Topic12\", \"Topic12\", \"Topic12\", \"Topic12\", \"Topic12\", \"Topic12\", \"Topic12\", \"Topic12\", \"Topic12\", \"Topic12\", \"Topic12\", \"Topic12\", \"Topic12\", \"Topic12\", \"Topic12\", \"Topic12\", \"Topic12\", \"Topic12\", \"Topic12\", \"Topic12\", \"Topic12\", \"Topic12\", \"Topic12\", \"Topic12\", \"Topic12\", \"Topic12\", \"Topic12\", \"Topic12\", \"Topic12\", \"Topic12\", \"Topic12\", \"Topic12\", \"Topic12\", \"Topic12\", \"Topic12\", \"Topic12\", \"Topic12\", \"Topic12\", \"Topic12\", \"Topic12\", \"Topic12\", \"Topic12\", \"Topic12\", \"Topic12\", \"Topic12\", \"Topic12\", \"Topic12\", \"Topic12\", \"Topic12\", \"Topic12\", \"Topic12\", \"Topic12\", \"Topic12\", \"Topic12\", \"Topic12\", \"Topic12\", \"Topic12\", \"Topic12\", \"Topic12\", \"Topic13\", \"Topic13\", \"Topic13\", \"Topic13\", \"Topic13\", \"Topic13\", \"Topic13\", \"Topic13\", \"Topic13\", \"Topic13\", \"Topic13\", \"Topic13\", \"Topic13\", \"Topic13\", \"Topic13\", \"Topic13\", \"Topic13\", \"Topic13\", \"Topic13\", \"Topic13\", \"Topic13\", \"Topic13\", \"Topic13\", \"Topic13\", \"Topic13\", \"Topic13\", \"Topic13\", \"Topic13\", \"Topic13\", \"Topic13\", \"Topic13\", \"Topic13\", \"Topic13\", \"Topic13\", \"Topic13\", \"Topic13\", \"Topic13\", \"Topic13\", \"Topic13\", \"Topic13\", \"Topic13\", \"Topic13\", \"Topic13\", \"Topic13\", \"Topic13\", \"Topic13\", \"Topic13\", \"Topic13\", \"Topic13\", \"Topic13\", \"Topic13\", \"Topic13\", \"Topic13\", \"Topic13\", \"Topic13\", \"Topic13\", \"Topic13\", \"Topic13\", \"Topic13\", \"Topic13\", \"Topic13\", \"Topic13\", \"Topic13\", \"Topic13\", \"Topic13\", \"Topic14\", \"Topic14\", \"Topic14\", \"Topic14\", \"Topic14\", \"Topic14\", \"Topic14\", \"Topic14\", \"Topic14\", \"Topic14\", \"Topic14\", \"Topic14\", \"Topic14\", \"Topic14\", \"Topic14\", \"Topic14\", \"Topic14\", \"Topic14\", \"Topic14\", \"Topic14\", \"Topic14\", \"Topic14\", \"Topic14\", \"Topic14\", \"Topic14\", \"Topic14\", \"Topic14\", \"Topic14\", \"Topic14\", \"Topic14\", \"Topic14\", \"Topic14\", \"Topic14\", \"Topic14\", \"Topic14\", \"Topic14\", \"Topic14\", \"Topic14\", \"Topic14\", \"Topic14\", \"Topic14\", \"Topic14\", \"Topic14\", \"Topic14\", \"Topic14\", \"Topic14\", \"Topic14\", \"Topic14\", \"Topic14\", \"Topic14\", \"Topic14\", \"Topic14\", \"Topic14\", \"Topic14\", \"Topic14\", \"Topic14\", \"Topic14\", \"Topic14\", \"Topic14\", \"Topic14\", \"Topic14\", \"Topic14\", \"Topic14\", \"Topic14\", \"Topic14\", \"Topic14\", \"Topic14\", \"Topic14\", \"Topic14\", \"Topic14\", \"Topic14\", \"Topic14\", \"Topic14\", \"Topic14\", \"Topic15\", \"Topic15\", \"Topic15\", \"Topic15\", \"Topic15\", \"Topic15\", \"Topic15\", \"Topic15\", \"Topic15\", \"Topic15\", \"Topic15\", \"Topic15\", \"Topic15\", \"Topic15\", \"Topic15\", \"Topic15\", \"Topic15\", \"Topic15\", \"Topic15\", \"Topic15\", \"Topic15\", \"Topic15\", \"Topic15\", \"Topic15\", \"Topic15\", \"Topic15\", \"Topic15\", \"Topic15\", \"Topic15\", \"Topic15\", \"Topic15\", \"Topic15\", \"Topic15\", \"Topic15\", \"Topic15\", \"Topic15\", \"Topic15\", \"Topic15\", \"Topic15\", \"Topic15\", \"Topic15\", \"Topic15\", \"Topic15\", \"Topic15\", \"Topic15\", \"Topic15\", \"Topic15\", \"Topic15\", \"Topic15\", \"Topic15\", \"Topic15\", \"Topic15\", \"Topic15\", \"Topic15\", \"Topic15\", \"Topic15\", \"Topic15\", \"Topic15\", \"Topic15\", \"Topic15\", \"Topic15\", \"Topic15\", \"Topic15\", \"Topic15\", \"Topic15\", \"Topic15\", \"Topic15\", \"Topic15\"], \"logprob\": [30.0, 29.0, 28.0, 27.0, 26.0, 25.0, 24.0, 23.0, 22.0, 21.0, 20.0, 19.0, 18.0, 17.0, 16.0, 15.0, 14.0, 13.0, 12.0, 11.0, 10.0, 9.0, 8.0, 7.0, 6.0, 5.0, 4.0, 3.0, 2.0, 1.0, -6.4446, -6.7268, -6.7269, -6.7269, -6.727, -6.727, -6.7271, -6.7272, -6.7272, -7.1215, -7.1215, -7.1215, -7.1215, -7.1215, -7.1215, -7.1215, -7.1215, -7.1215, -7.1215, -7.1215, -7.1215, -7.1215, -7.1215, -7.1215, -7.1215, -7.1216, -7.1216, -7.1216, -7.1216, -7.1216, -6.4447, -6.4445, -6.4447, -6.4446, -6.2248, -6.4445, -6.2251, -6.727, -6.7268, -6.7268, -5.2034, -5.3484, -6.2247, -6.7268, -5.8919, -6.7269, -6.7268, -6.1402, -5.0822, -6.4446, -5.5381, -5.8615, -5.3488, -5.6427, -6.0446, -5.6427, -5.2772, -5.8922, -5.8919, -5.8918, -6.0445, -6.342, -5.8919, -6.2247, -6.0445, -6.0445, -6.0317, -6.2248, -6.0442, -6.2247, -6.0445, -6.2247, -6.2247, -6.1471, -6.1539, -6.1936, -6.2243, -6.2247, -6.2247, -6.2247, -6.1748, -6.6769, -6.677, -6.6771, -6.6772, -6.6773, -7.0717, -7.0717, -7.0717, -7.0717, -7.0717, -7.0717, -7.0717, -7.0717, -7.0717, -7.0717, -7.0717, -7.0717, -7.0718, -7.0718, -7.0718, -7.0718, -7.0718, -7.0718, -7.0718, -7.0718, -7.0718, -7.0718, -7.0719, -7.0719, -6.3951, -6.677, -6.677, -6.1824, -5.524, -6.3945, -5.7098, -6.6769, -5.307, -6.3947, -6.2041, -5.307, -5.307, -5.593, -6.3948, -6.1748, -6.3947, -5.6176, -5.8421, -5.9947, -6.6769, -6.6769, -6.1749, -6.677, -6.1748, -6.1907, -5.9948, -5.9431, -5.8421, -6.1748, -5.9947, -6.1824, -6.1403, -6.175, -6.1748, -6.0826, -6.1747, -6.1843, -6.1748, -6.1749, -6.1491, -6.3689, -6.6512, -6.6513, -6.6513, -7.0458, -7.0458, -7.0458, -7.0458, -7.0458, -7.0459, -7.0459, -7.0459, -7.0459, -7.0459, -7.046, -7.046, -7.046, -7.046, -7.046, -7.046, -7.046, -7.046, -7.046, -7.046, -7.046, -7.046, -7.046, -7.0461, -7.0461, -5.9693, -6.6511, -6.3697, -6.3689, -6.6512, -5.0592, -6.149, -5.9689, -5.8292, -6.6512, -6.6561, -5.3676, -6.149, -5.8165, -5.3678, -6.369, -6.6512, -6.6512, -6.3689, -6.6512, -6.3689, -5.969, -5.5026, -5.9689, -5.7125, -5.8539, -5.6294, -5.494, -5.8453, -6.2571, -6.0262, -6.1489, -6.149, -6.149, -6.3689, -6.352, -6.3615, -6.3687, -6.3688, -6.3689, -6.3689, -6.1249, -6.3448, -6.3565, -6.6267, -6.6268, -6.6269, -7.0215, -7.0215, -7.0215, -7.0215, -7.0215, -7.0216, -7.0215, -7.0215, -7.0215, -7.0215, -7.0215, -7.0216, -7.0216, -7.0216, -7.0216, -7.0217, -7.0217, -7.0258, -6.3462, -6.3466, -6.1248, -7.6831, -7.6831, -7.6831, -6.125, -6.6268, -6.627, -6.1251, -6.3461, -5.6595, -6.1305, -5.5471, -6.6271, -5.4457, -6.6268, -6.6272, -5.6803, -6.3448, -4.9699, -5.5727, -6.6278, -5.9445, -5.6116, -5.6662, -6.1247, -5.792, -5.6064, -5.8139, -5.741, -5.9456, -5.9444, -5.8734, -6.1171, -5.8812, -5.958, -6.1246, -6.1885, -6.251, -6.3301, -6.3365, -6.1085, -6.1089, -6.3287, -6.6107, -6.6107, -6.6108, -6.6109, -6.6109, -6.611, -7.0054, -7.0054, -7.0054, -7.0054, -7.0054, -7.0054, -7.0054, -7.0055, -7.0055, -7.0055, -7.0055, -7.0055, -7.0055, -7.0055, -7.0055, -7.0056, -7.0056, -7.0056, -7.0056, -7.0056, -7.0056, -6.3307, -6.3288, -6.6108, -6.3285, -6.3469, -5.5155, -5.2418, -6.6109, -6.3292, -6.6111, -6.3308, -6.6106, -4.8413, -6.1087, -5.2028, -6.3293, -6.3285, -5.7914, -6.6109, -6.3994, -6.6145, -5.993, -6.3287, -5.5359, -5.4607, -5.9288, -5.9284, -6.1088, -5.6452, -6.1089, -5.9302, -6.1084, -5.8798, -6.3287, -6.0941, -6.124, -6.1264, -6.1305, -6.2649, -6.2803, -6.3283, -6.3283, -6.3284, -6.3284, -6.3285, -5.6168, -6.584, -6.584, -6.5841, -6.9785, -6.9785, -6.9785, -6.9785, -6.9786, -6.9786, -6.9786, -6.9786, -6.9786, -6.9787, -6.9787, -6.9787, -6.9787, -6.9787, -6.9787, -6.9787, -6.9787, -6.9787, -6.9787, -6.9787, -6.9787, -6.9788, -6.3016, -6.5837, -6.5839, -6.584, -6.5839, -6.0818, -6.1503, -5.9015, -5.7489, -6.3016, -6.0817, -5.9015, -6.0829, -6.3281, -6.0817, -5.6232, -6.5838, -6.5841, -6.3019, -6.3022, -6.0984, -5.3639, -6.0818, -5.749, -5.6539, -5.9015, -5.4511, -5.9809, -5.8595, -5.9848, -6.0212, -6.0818, -5.7951, -6.0864, -6.0815, -6.136, -6.0817, -6.1484, -6.0816, -6.0819, -6.0817, -6.0781, -6.2976, -6.2977, -6.5799, -6.5799, -6.5801, -6.9746, -6.9746, -6.9746, -6.9746, -6.9746, -6.9746, -6.9746, -6.9746, -6.9746, -6.9747, -6.9747, -6.9747, -6.9747, -6.9747, -6.9747, -6.9747, -6.9747, -6.9748, -6.9748, -6.9748, -6.9748, -6.9749, -6.9749, -6.9749, -6.7043, -6.58, -6.58, -5.2224, -6.58, -5.8976, -6.58, -5.8977, -6.2976, -6.2976, -6.0778, -5.6588, -5.3911, -6.58, -5.7451, -6.58, -5.4847, -6.0531, -5.6177, -6.58, -6.0662, -5.6051, -5.742, -5.9039, -6.1687, -5.8912, -6.2982, -6.2975, -6.0734, -6.0693, -6.2977, -6.2976, -6.2976, -6.2975, -6.2976, -6.2951, -6.2975, -6.2975, -6.2976, -6.286, -6.5681, -6.5681, -6.9627, -6.9627, -6.9627, -6.9627, -6.9627, -6.9627, -6.9627, -6.9627, -6.9627, -6.9627, -6.9628, -6.9628, -6.9629, -6.9629, -6.9629, -6.9629, -6.9629, -6.9629, -6.9629, -6.9629, -6.9629, -6.9631, -6.9631, -6.963, -6.9631, -6.2858, -7.6243, -6.9627, -6.568, -5.8858, -5.6009, -5.6815, -6.0659, -6.2858, -5.741, -5.9494, -6.0657, -5.2138, -6.066, -5.9381, -5.4937, -5.4426, -5.8858, -5.8858, -6.0659, -6.1034, -6.2858, -6.0658, -6.2857, -5.8857, -6.282, -5.6133, -6.2857, -6.2858, -5.7924, -6.0659, -6.1029, -6.0658, -6.0658, -6.0659, -6.0418, -6.066, -6.0141, -6.0671, -6.066, -6.0998, -6.2761, -6.5583, -6.5585, -6.5587, -6.0563, -6.953, -6.953, -6.953, -6.953, -6.953, -6.953, -6.9531, -6.9531, -6.9531, -6.9531, -6.9531, -6.9531, -6.9531, -6.9531, -6.9531, -6.9531, -6.9531, -6.9531, -6.9532, -6.9532, -6.9532, -6.9533, -6.9534, -6.9544, -6.2763, -6.5583, -6.2764, -4.5257, -6.0562, -6.276, -6.2762, -5.876, -5.7235, -5.7992, -5.5043, -6.2762, -5.876, -5.4083, -6.0563, -5.591, -6.276, -5.7235, -6.0563, -5.8303, -5.8328, -5.8759, -5.7234, -6.2761, -6.5584, -6.0562, -6.0561, -6.181, -6.1327, -6.276, -6.276, -6.276, -6.2761, -6.2761, -6.5284, -6.5284, -6.5284, -6.5284, -6.923, -6.923, -6.923, -6.923, -6.923, -6.9231, -6.9231, -6.9231, -6.9232, -6.9232, -6.9232, -6.9232, -6.9232, -6.9235, -6.9236, -6.5285, -7.5846, -7.5846, -7.5846, -7.5846, -7.5846, -7.5846, -7.5846, -7.5846, -7.5846, -7.5846, -6.9232, -6.5284, -6.5285, -6.923, -6.9232, -6.5283, -6.5283, -6.5284, -6.923, -6.9231, -6.2461, -6.5283, -5.4469, -5.2448, -6.0519, -6.0261, -6.1271, -5.4292, -5.4442, -6.0262, -5.6933, -5.846, -5.6421, -5.6934, -6.0262, -5.3028, -6.5284, -6.5285, -5.4733, -5.8106, -6.0263, -6.246, -6.0262, -6.026, -5.82, -6.246, -6.0142, -6.2462, -6.1095, -5.9855, -6.1273, -6.2461, -6.246, -6.1504, -6.2458, -6.2459, -6.246, -6.246, -6.2332, -6.2333, -6.5154, -6.5154, -6.5157, -6.5158, -6.0134, -6.91, -6.91, -6.9101, -6.9101, -6.9101, -6.9101, -6.9101, -6.9101, -6.9101, -6.9102, -6.9102, -6.9102, -6.9102, -6.9102, -6.9102, -6.9102, -6.9103, -6.9103, -6.9103, -6.9122, -6.5158, -6.5155, -6.5204, -5.6815, -6.0133, -6.2334, -6.0132, -6.5154, -6.2367, -6.2333, -6.2359, -5.2545, -6.2332, -6.2332, -5.1863, -5.4313, -6.5155, -6.5171, -6.2331, -6.2331, -5.8332, -6.5154, -6.0133, -5.8345, -5.6805, -6.2331, -6.0132, -5.9209, -6.2331, -6.2332, -6.2331, -6.233, -6.2331, -6.2778, -6.2331, -6.2331, -6.2294, -6.2295, -6.2295, -6.2295, -6.2297, -6.5117, -6.5117, -6.5118, -6.9064, -6.9064, -6.9064, -6.9064, -6.9064, -6.9064, -6.9064, -6.9064, -6.9064, -6.9064, -6.9065, -6.9065, -6.9065, -6.9066, -6.9066, -6.9066, -6.9066, -6.9067, -6.9069, -6.9069, -6.9072, -6.5119, -6.2295, -6.2296, -6.5122, -6.5117, -6.5117, -6.5159, -4.8058, -6.2296, -6.2294, -6.5117, -5.1577, -6.2388, -6.0096, -5.6769, -5.8459, -5.5446, -6.0096, -6.2335, -5.435, -6.0098, -6.5117, -5.323, -5.5682, -6.0097, -6.0098, -6.0113, -5.9804, -6.0433, -6.0094, -6.0365, -6.0095, -5.9699, -5.9952, -6.0662, -6.0096, -6.0441, -6.2067, -6.2294, -6.2295, -6.4672, -6.4673, -6.4676, -6.8617, -6.8617, -6.8617, -6.8617, -6.8617, -6.8617, -6.8617, -6.8617, -6.8617, -6.8618, -6.8618, -6.8618, -6.8619, -6.8619, -6.8619, -6.8619, -6.862, -6.862, -6.8623, -6.8637, -6.8625, -6.8627, -6.8627, -6.8633, -6.1852, -6.467, -6.4671, -5.1835, -6.185, -6.4675, -6.4674, -5.9329, -5.2783, -5.4318, -6.1857, -5.8963, -5.3528, -5.9649, -5.4301, -5.5524, -5.9672, -5.5396, -5.7848, -5.5181, -6.0218, -6.467, -6.467, -5.6114, -6.1847, -5.5055, -5.7948, -5.6226, -5.5664, -5.6663, -5.9649, -5.6264, -5.965, -5.9457, -6.1848, -6.1848, -6.1847, -6.1847, -6.4283, -6.8229, -6.8229, -6.8229, -6.8229, -6.8229, -6.8229, -6.823, -6.823, -6.823, -6.823, -6.823, -6.823, -6.8231, -6.8231, -6.8231, -6.8231, -6.8357, -7.4844, -7.4844, -7.4844, -7.4844, -7.4844, -7.4844, -7.4844, -7.4844, -7.4844, -7.4844, -7.4844, -7.4844, -6.4281, -6.8232, -6.8229, -6.8228, -6.8229, -6.4283, -6.8228, -6.8229, -6.823, -5.5933, -6.8229, -6.8228, -6.146, -5.926, -5.0581, -6.1461, -5.7459, -5.358, -5.2395, -6.4282, -5.7459, -5.926, -5.4608, -5.7459, -6.1459, -5.926, -6.1459, -5.4609, -5.926, -6.1458, -6.4282, -5.7434, -6.1461, -5.7407, -6.1459, -5.9259, -6.4275, -6.1457, -5.9261, -6.1459, -6.1459, -6.2284, -6.1459, -6.422, -6.0394, -6.3218, -6.716, -6.716, -6.716, -6.716, -6.716, -6.716, -6.716, -6.716, -6.716, -6.716, -6.716, -6.716, -6.7161, -6.7162, -6.7162, -6.7162, -6.7162, -6.7164, -6.0392, -6.3213, -7.3776, -7.3776, -7.3776, -7.3776, -7.3776, -7.3776, -7.3776, -7.3776, -6.7163, -6.7159, -6.0391, -6.0391, -6.7162, -6.7164, -6.716, -6.716, -5.8192, -6.1313, -6.3217, -4.6712, -6.0392, -6.0466, -5.4865, -5.3633, -5.3724, -5.2372, -5.8193, -6.0743, -5.8378, -5.8192, -5.7475, -6.0624, -6.3215, -6.3214, -5.8192, -6.0766, -6.0389, -6.3214, -6.0242, -6.3212, -6.1115, -6.1115, -6.3067, -6.3209, -6.3209, -6.321], \"loglift\": [30.0, 29.0, 28.0, 27.0, 26.0, 25.0, 24.0, 23.0, 22.0, 21.0, 20.0, 19.0, 18.0, 17.0, 16.0, 15.0, 14.0, 13.0, 12.0, 11.0, 10.0, 9.0, 8.0, 7.0, 6.0, 5.0, 4.0, 3.0, 2.0, 1.0, 2.2984, 2.2419, 2.2418, 2.2418, 2.2417, 2.2417, 2.2416, 2.2415, 2.2415, 2.1391, 2.1391, 2.1391, 2.1391, 2.1391, 2.1391, 2.1391, 2.1391, 2.1391, 2.1391, 2.1391, 2.1391, 2.1391, 2.1391, 2.1391, 2.1391, 2.139, 2.139, 2.139, 2.139, 2.139, 2.1241, 2.1231, 2.1217, 2.119, 2.0562, 1.997, 1.9349, 2.0285, 2.0216, 1.8766, 0.8457, 0.9219, 1.5155, 1.8569, 1.2259, 1.8524, 1.8514, 1.4013, 0.5876, 1.6225, 0.8199, 1.048, 0.513, 0.6977, 1.1097, 0.5987, -0.0042, 0.7774, 0.7051, 0.659, 0.871, 1.346, 0.2943, 1.0645, 0.5764, 0.4936, 0.2649, 0.8964, -0.2478, 0.7959, -0.3548, 0.7555, 0.7296, -0.2253, -0.1456, -0.0889, 0.2833, 0.6895, 0.6625, 0.4974, 2.397, 2.3033, 2.3033, 2.3032, 2.3031, 2.303, 2.1993, 2.1993, 2.1993, 2.1993, 2.1993, 2.1993, 2.1993, 2.1993, 2.1993, 2.1992, 2.1992, 2.1992, 2.1992, 2.1992, 2.1992, 2.1992, 2.1991, 2.1991, 2.1991, 2.1991, 2.1991, 2.1991, 2.1991, 2.1991, 2.1964, 2.0858, 2.0842, 1.8919, 1.2504, 1.6885, 1.1492, 1.9002, 0.7014, 1.5967, 1.4034, 0.5548, 0.4894, 0.7036, 1.4955, 1.2559, 1.4167, 0.3528, 0.6321, 0.7291, 1.6657, 1.6657, 0.9575, 1.6339, 0.8822, 0.8987, 0.556, 0.1649, -0.1524, 0.6634, 0.11, 0.6797, 0.4806, 0.5415, 0.4763, -0.0335, 0.333, 0.2892, 0.1929, -0.2531, 2.4288, 2.3923, 2.3346, 2.3345, 2.3344, 2.23, 2.23, 2.23, 2.23, 2.23, 2.23, 2.2299, 2.2299, 2.2299, 2.2299, 2.2299, 2.2299, 2.2299, 2.2299, 2.2299, 2.2298, 2.2298, 2.2298, 2.2298, 2.2298, 2.2298, 2.2298, 2.2298, 2.2298, 2.2298, 2.1088, 2.1323, 2.058, 2.0572, 2.116, 1.3638, 1.8223, 1.6311, 1.4272, 1.929, 1.9233, 0.7404, 1.4079, 1.0707, 0.6026, 1.5355, 1.807, 1.7907, 1.4652, 1.7819, 1.4383, 0.9452, 0.3592, 0.7252, 0.3366, 0.4566, 0.0603, -0.2209, -0.0489, 0.8289, 0.1601, 0.4481, -0.0443, -0.1407, 0.8834, 0.3267, -0.3314, 0.1821, -0.0109, 0.7578, 0.252, 2.4566, 2.4199, 2.4084, 2.3622, 2.3622, 2.3621, 2.2572, 2.2572, 2.2572, 2.2572, 2.2572, 2.2572, 2.2572, 2.2572, 2.2572, 2.2571, 2.2571, 2.2571, 2.2571, 2.2571, 2.2571, 2.257, 2.257, 2.2529, 2.246, 2.2457, 2.1716, 2.0052, 2.0052, 2.0052, 1.9614, 1.9697, 1.9682, 1.8592, 1.8386, 1.43, 1.6791, 1.2288, 1.968, 1.0619, 1.9572, 1.9558, 1.0389, 1.6385, 0.3032, 0.7378, 1.8254, 1.0444, 0.4375, 0.4418, 1.0412, 0.5757, 0.0833, 0.4564, -0.0712, 0.3949, 0.3909, 0.0484, 0.7924, -0.0194, 0.2283, 0.4962, -0.0838, 0.0456, -0.5337, 0.3422, 2.4765, 2.4761, 2.4394, 2.3815, 2.3815, 2.3813, 2.3812, 2.3812, 2.3812, 2.2762, 2.2762, 2.2761, 2.2761, 2.2761, 2.2761, 2.2761, 2.276, 2.276, 2.276, 2.276, 2.276, 2.276, 2.276, 2.276, 2.276, 2.276, 2.2759, 2.2759, 2.2759, 2.2759, 2.2628, 2.1144, 2.1541, 1.9799, 1.9704, 1.3161, 0.9996, 1.9815, 1.7687, 1.9749, 1.7515, 1.9679, 0.4317, 1.3922, 0.467, 1.5684, 1.5562, 0.9307, 1.8401, 1.6007, 1.8255, 1.0931, 1.4835, 0.4725, 0.3357, 0.9333, 0.7954, 1.1114, 0.0445, 0.9627, 0.4278, 0.8728, 0.042, 1.4835, 0.4135, 0.2437, 0.0599, -0.2687, 0.0756, 0.1933, 0.146, -0.3579, 0.8374, 1.1022, -0.2794, 2.4608, 2.4142, 2.4141, 2.4141, 2.3084, 2.3084, 2.3084, 2.3083, 2.3083, 2.3082, 2.3082, 2.3082, 2.3082, 2.3082, 2.3082, 2.3082, 2.3082, 2.3081, 2.3081, 2.3081, 2.3081, 2.3081, 2.3081, 2.3081, 2.3081, 2.308, 2.2909, 2.1956, 2.1946, 2.1861, 2.1858, 2.0061, 1.9424, 1.5401, 1.3495, 1.7798, 1.5307, 1.3427, 1.4199, 1.6611, 1.3233, 0.7445, 1.857, 1.8476, 1.5103, 1.5099, 1.241, 0.3258, 1.1796, 0.674, 0.4541, 0.7777, -0.1781, 0.7499, 0.451, 0.6663, 0.6952, 0.8091, -0.1253, 0.6974, 0.4876, 0.6383, 0.1598, 0.5458, 0.0231, -0.0328, -0.0515, 2.5181, 2.481, 2.481, 2.4223, 2.4222, 2.4221, 2.3158, 2.3158, 2.3158, 2.3158, 2.3158, 2.3158, 2.3158, 2.3158, 2.3158, 2.3158, 2.3158, 2.3158, 2.3158, 2.3157, 2.3157, 2.3157, 2.3157, 2.3156, 2.3156, 2.3156, 2.3156, 2.3155, 2.3155, 2.3155, 2.2964, 2.1944, 2.1897, 1.2512, 2.0254, 1.4537, 2.0052, 1.4445, 1.6984, 1.6966, 1.4753, 1.0576, 0.7136, 1.8744, 0.9245, 1.8581, 0.3117, 1.0363, 0.3527, 1.7222, 0.8928, 0.0846, 0.1798, 0.4365, 0.6057, -0.6181, 0.8561, 0.8203, -0.0432, -0.2075, 0.7273, 0.6952, 0.5933, 0.5615, 0.5354, 0.0629, 0.2533, 0.0129, 0.5203, 2.4924, 2.4339, 2.4338, 2.3276, 2.3276, 2.3276, 2.3276, 2.3276, 2.3276, 2.3276, 2.3276, 2.3275, 2.3275, 2.3275, 2.3274, 2.3274, 2.3274, 2.3274, 2.3274, 2.3273, 2.3273, 2.3273, 2.3273, 2.3273, 2.3272, 2.3272, 2.3272, 2.3272, 2.3127, 2.0726, 2.0621, 2.032, 1.7987, 1.4886, 1.339, 1.615, 1.7021, 1.1499, 1.2253, 1.1901, 0.0592, 1.1751, 0.9583, 0.3027, 0.2272, 0.8196, 0.7934, 1.0293, 1.0698, 1.3261, 0.9919, 1.268, 0.5885, 1.2186, 0.0764, 1.2121, 1.2075, 0.3123, 0.7672, 0.8126, 0.7188, 0.658, 0.5311, 0.2285, 0.292, -0.0437, 0.0409, -0.2042, -0.0507, 2.509, 2.4499, 2.4496, 2.4495, 2.3934, 2.3428, 2.3428, 2.3428, 2.3428, 2.3428, 2.3428, 2.3427, 2.3427, 2.3427, 2.3427, 2.3427, 2.3427, 2.3427, 2.3427, 2.3427, 2.3426, 2.3426, 2.3426, 2.3426, 2.3426, 2.3426, 2.3425, 2.3423, 2.3414, 2.3277, 2.2242, 1.9113, 0.7474, 1.4416, 1.6374, 1.6236, 1.1523, 0.9525, 0.8949, 0.4661, 1.4718, 0.9086, 0.2615, 1.1485, 0.4173, 1.3352, 0.3845, 0.9239, 0.505, 0.4777, 0.4646, 0.073, 1.0131, 1.5346, 0.3667, 0.1302, 0.4886, 0.1087, 0.4294, -0.5863, -0.2459, 0.311, 0.375, 2.4852, 2.4852, 2.4852, 2.4851, 2.3776, 2.3776, 2.3776, 2.3775, 2.3775, 2.3775, 2.3775, 2.3775, 2.3774, 2.3774, 2.3774, 2.3774, 2.3773, 2.3773, 2.377, 2.255, 2.1201, 2.1201, 2.1201, 2.1201, 2.1201, 2.1201, 2.1201, 2.1201, 2.1201, 2.1201, 2.1096, 2.092, 2.0832, 2.0987, 2.0985, 2.0818, 2.0809, 2.0731, 2.0916, 2.0888, 1.9429, 1.9244, 1.2322, 1.0906, 1.5684, 1.472, 1.5599, 0.601, 0.6049, 1.2261, 0.6744, 0.8849, 0.5442, 0.6171, 1.0615, -0.0297, 1.8071, 1.7902, 0.1965, 0.6637, 0.8352, 1.2587, 0.7953, 0.6978, 0.1018, 1.1571, 0.3262, 1.096, 0.5601, -0.2958, 0.4108, 1.0214, 0.8434, -0.18, -0.384, 0.53, 0.2276, 0.587, 2.5605, 2.5604, 2.5009, 2.5009, 2.5006, 2.5005, 2.4473, 2.3929, 2.3929, 2.3929, 2.3929, 2.3929, 2.3929, 2.3929, 2.3929, 2.3929, 2.3928, 2.3928, 2.3928, 2.3928, 2.3928, 2.3927, 2.3927, 2.3927, 2.3927, 2.3926, 2.3908, 2.2742, 2.2654, 2.2604, 2.1458, 1.8134, 1.959, 1.7527, 2.0931, 1.8677, 1.8584, 1.8528, 1.0421, 1.6774, 1.5953, 0.0868, 0.2583, 1.8061, 1.8017, 1.3252, 1.2773, 0.5073, 1.675, 0.7059, 0.3518, -0.0107, 1.1129, 0.5376, 0.0009, 0.8386, 0.6327, 0.3639, 0.125, 0.0084, 0.3431, -0.2247, -0.4366, 2.563, 2.5629, 2.5629, 2.5629, 2.5628, 2.5033, 2.5033, 2.5032, 2.3955, 2.3955, 2.3955, 2.3955, 2.3955, 2.3955, 2.3955, 2.3954, 2.3954, 2.3954, 2.3954, 2.3954, 2.3954, 2.3953, 2.3953, 2.3953, 2.3953, 2.3952, 2.395, 2.3949, 2.3947, 2.2954, 2.2276, 2.2243, 2.2864, 2.285, 2.2729, 2.2731, 1.116, 1.9644, 1.8764, 2.0832, 0.8725, 1.7678, 1.4946, 0.944, 1.1476, 0.6968, 1.2796, 1.5197, 0.2546, 1.0854, 1.804, -0.0499, 0.1016, 0.9045, 0.7123, 0.6941, 0.5887, 0.7745, 0.5777, 0.6422, 0.5286, 0.0792, 0.1096, 0.4081, -0.1478, 0.1422, 0.1611, 1.0728, 1.3357, 2.5636, 2.5635, 2.5632, 2.4542, 2.4542, 2.4542, 2.4542, 2.4542, 2.4542, 2.4541, 2.4541, 2.4541, 2.4541, 2.454, 2.454, 2.454, 2.454, 2.4539, 2.4539, 2.4538, 2.4538, 2.4536, 2.4533, 2.4533, 2.4533, 2.4533, 2.4529, 2.4287, 2.3301, 2.33, 1.4036, 2.021, 2.1404, 2.1403, 1.4627, 0.7519, 0.9035, 1.7162, 1.3239, 0.569, 1.2965, 0.5782, 0.6339, 1.2066, 0.5684, 0.9206, 0.4523, 1.1803, 1.8505, 1.8423, 0.4933, 1.3836, 0.1841, 0.6281, 0.2392, 0.1034, 0.1302, 0.7573, -0.3534, 0.7046, 0.4221, 1.0295, 0.8435, 0.7295, 0.7308, 2.6096, 2.4992, 2.4992, 2.4992, 2.4992, 2.4991, 2.4991, 2.4991, 2.4991, 2.4991, 2.4991, 2.4991, 2.499, 2.499, 2.499, 2.499, 2.499, 2.4857, 2.2363, 2.2363, 2.2363, 2.2363, 2.2363, 2.2363, 2.2363, 2.2363, 2.2363, 2.2363, 2.2363, 2.2363, 2.1975, 2.2075, 2.2074, 2.2051, 2.205, 2.1829, 2.1997, 2.1995, 2.1973, 1.6701, 1.9972, 1.9933, 1.692, 1.5866, 0.972, 1.6881, 1.2782, 0.9123, 0.7688, 1.7846, 1.0387, 1.1309, 0.461, 0.8232, 1.3649, 0.8578, 1.2572, -0.1878, 0.75, 1.1106, 1.6777, 0.053, 0.9524, -0.0511, 0.9118, 0.3707, 1.4883, 0.7202, 0.0443, 0.5051, 0.3922, 0.6097, -0.4761, 0.3958, 2.8138, 2.7501, 2.6362, 2.6362, 2.6362, 2.6362, 2.6362, 2.6362, 2.6362, 2.6362, 2.6362, 2.6362, 2.6362, 2.6362, 2.6361, 2.6361, 2.636, 2.636, 2.636, 2.6358, 2.6178, 2.5168, 2.3655, 2.3655, 2.3655, 2.3655, 2.3655, 2.3655, 2.3655, 2.3655, 2.3442, 2.3422, 2.3035, 2.3035, 2.337, 2.3368, 2.3322, 2.3308, 2.2152, 2.1012, 2.154, 1.1906, 1.8957, 1.8143, 1.335, 0.7414, 0.4241, 0.0358, 0.6037, 1.1891, 0.5299, 0.4774, 0.1742, 0.9311, 1.599, 1.5233, -0.1494, 0.4925, 0.2716, 1.2481, 0.1621, 1.1931, 0.13, -0.4218, 0.3719, 0.5107, 0.0145, 0.704]}, \"token.table\": {\"Topic\": [5, 3, 5, 8, 12, 15, 7, 15, 5, 7, 9, 14, 5, 15, 1, 13, 6, 7, 4, 15, 1, 2, 3, 5, 7, 10, 13, 14, 3, 9, 3, 8, 12, 14, 1, 3, 7, 12, 14, 1, 2, 3, 4, 6, 7, 8, 10, 11, 12, 13, 14, 15, 5, 6, 10, 13, 14, 13, 9, 1, 2, 3, 4, 5, 7, 9, 10, 11, 12, 13, 14, 1, 2, 3, 4, 5, 6, 7, 8, 9, 10, 12, 13, 15, 9, 1, 2, 4, 5, 6, 7, 8, 9, 10, 12, 13, 14, 15, 6, 10, 11, 6, 7, 2, 12, 15, 3, 4, 5, 3, 4, 5, 7, 10, 11, 7, 1, 2, 3, 4, 5, 6, 7, 8, 9, 10, 11, 12, 13, 15, 1, 2, 3, 4, 5, 6, 7, 8, 9, 10, 11, 12, 13, 14, 15, 1, 2, 4, 5, 8, 9, 11, 13, 15, 1, 2, 3, 4, 5, 6, 7, 8, 9, 10, 11, 12, 14, 15, 1, 4, 5, 9, 13, 12, 11, 10, 9, 2, 7, 1, 2, 3, 4, 5, 6, 7, 8, 9, 10, 11, 12, 13, 14, 15, 2, 3, 4, 6, 7, 8, 9, 11, 12, 13, 14, 14, 1, 4, 6, 8, 9, 10, 11, 13, 1, 2, 3, 4, 10, 12, 11, 1, 2, 3, 4, 5, 6, 8, 9, 10, 11, 12, 14, 15, 3, 1, 2, 3, 4, 6, 7, 8, 9, 10, 11, 12, 13, 14, 15, 9, 9, 9, 10, 3, 2, 6, 2, 3, 9, 10, 1, 2, 3, 4, 5, 6, 7, 10, 11, 12, 13, 14, 15, 1, 2, 4, 5, 6, 8, 9, 10, 11, 12, 13, 15, 2, 4, 5, 6, 8, 9, 11, 12, 13, 14, 15, 9, 14, 9, 1, 4, 5, 7, 8, 13, 11, 9, 6, 14, 5, 13, 2, 7, 1, 3, 6, 8, 10, 12, 13, 14, 7, 5, 2, 1, 3, 5, 8, 11, 15, 2, 3, 6, 14, 1, 3, 5, 6, 8, 9, 11, 12, 13, 14, 10, 12, 7, 8, 10, 10, 14, 10, 2, 15, 5, 13, 14, 1, 3, 12, 13, 3, 12, 13, 11, 2, 6, 10, 1, 5, 11, 1, 7, 1, 6, 2, 13, 3, 1, 2, 3, 4, 5, 6, 7, 8, 9, 10, 11, 12, 13, 14, 5, 9, 6, 10, 1, 2, 3, 6, 7, 8, 10, 11, 13, 15, 11, 9, 2, 2, 3, 4, 7, 8, 9, 11, 12, 13, 14, 8, 8, 10, 12, 2, 6, 14, 7, 13, 15, 12, 11, 15, 12, 1, 2, 4, 6, 7, 9, 12, 14, 10, 11, 13, 1, 2, 3, 4, 5, 6, 7, 8, 9, 10, 11, 12, 13, 14, 1, 2, 4, 5, 6, 8, 9, 10, 11, 12, 14, 1, 4, 5, 6, 7, 8, 9, 10, 11, 13, 14, 3, 4, 5, 6, 7, 11, 13, 1, 3, 4, 5, 6, 7, 8, 9, 10, 11, 12, 13, 14, 15, 4, 1, 11, 1, 3, 4, 9, 3, 5, 2, 10, 1, 5, 2, 3, 4, 5, 8, 9, 10, 11, 13, 15, 2, 3, 4, 8, 10, 12, 5, 12, 2, 4, 9, 1, 2, 3, 4, 5, 6, 7, 8, 9, 10, 11, 12, 13, 14, 15, 3, 4, 6, 8, 9, 12, 4, 5, 6, 7, 10, 11, 12, 14, 15, 12, 15, 7, 8, 11, 14, 15, 1, 6, 15, 3, 13, 14, 14, 9, 4, 5, 6, 7, 8, 13, 14, 2, 4, 1, 2, 3, 4, 5, 6, 7, 8, 9, 10, 11, 12, 13, 14, 15, 2, 3, 4, 5, 7, 8, 10, 12, 14, 4, 12, 13, 7, 6, 1, 2, 9, 10, 10, 1, 2, 3, 4, 5, 6, 8, 9, 10, 11, 13, 14, 4, 1, 3, 4, 5, 6, 7, 11, 13, 14, 15, 13, 9, 1, 2, 3, 4, 5, 6, 7, 8, 9, 10, 11, 12, 13, 15, 1, 8, 15, 2, 4, 8, 10, 12, 13, 11, 4, 10, 2, 4, 9, 11, 14, 15, 1, 2, 3, 4, 5, 6, 7, 8, 9, 11, 13, 14, 15, 1, 3, 5, 9, 10, 15, 2, 6, 1, 5, 6, 11, 13, 14, 12, 6, 10, 13, 7, 3, 8, 4, 12, 1, 3, 7, 3, 7, 15, 11, 1, 6, 8, 11, 12, 13, 15, 9, 10, 2, 9, 14, 1, 2, 5, 6, 7, 8, 11, 12, 1, 11, 8, 4, 7, 10, 14, 8, 10, 1, 2, 3, 4, 5, 6, 7, 8, 9, 11, 12, 13, 15, 3, 4, 5, 7, 8, 9, 10, 11, 12, 14, 4, 9, 13, 1, 2, 10, 13, 3, 4, 10, 11, 15, 2, 8, 8, 1, 2, 4, 5, 7, 8, 9, 10, 12, 14, 13, 1, 2, 3, 4, 5, 6, 7, 8, 9, 10, 11, 12, 13, 14, 15, 1, 2, 3, 4, 6, 7, 8, 9, 10, 11, 14, 15, 1, 2, 4, 7, 8, 9, 11, 12, 14, 4, 10, 2, 3, 5, 6, 7, 8, 9, 10, 11, 14, 1, 2, 3, 5, 6, 8, 9, 5, 1, 2, 3, 4, 6, 8, 9, 11, 12, 13, 5, 6, 15, 7, 3, 5, 9, 10, 11, 13, 1, 2, 3, 4, 5, 6, 7, 8, 9, 10, 11, 12, 13, 14, 15, 4, 15, 15, 3, 4, 6, 7, 9, 10, 11, 12, 13, 15, 3, 5, 10, 11, 1, 2, 3, 4, 7, 9, 12, 14, 3, 5, 6, 9, 10, 11, 12, 14, 14, 1, 2, 3, 4, 5, 6, 7, 8, 9, 10, 11, 12, 13, 14, 15, 1, 1, 2, 5, 6, 7, 8, 10, 12, 13, 14, 5, 1, 4, 13, 3, 1, 3, 4, 5, 6, 7, 8, 10, 11, 12, 13, 6, 9, 15, 2, 6, 11, 9, 9, 5, 7, 9, 11, 1, 2, 3, 4, 5, 6, 8, 9, 10, 11, 12, 13, 14, 1, 2, 3, 4, 5, 6, 7, 8, 9, 10, 11, 12, 13, 14, 10, 15, 1, 3, 5, 1, 2, 3, 4, 5, 6, 7, 8, 9, 10, 11, 12, 13, 14, 15, 2, 3, 6, 7, 8, 12, 15, 1, 2, 3, 4, 6, 7, 8, 10, 11, 12, 13, 14, 4, 7, 14, 1, 2, 3, 5, 6, 7, 8, 9, 11, 12, 13, 14, 10, 8, 3, 1, 2, 4, 5, 6, 7, 9, 10, 11, 12, 13, 14, 15, 2, 1, 1, 3, 4, 5, 7, 8, 9, 11, 12, 13, 14, 15, 1, 2, 10, 11, 14, 15, 13, 1, 2, 3, 5, 6, 7, 8, 9, 10, 11, 15, 6, 6, 8, 2, 5, 6, 7, 8, 5, 3, 15, 15, 3, 13, 11, 12, 15, 10, 9, 5, 1, 2, 4, 5, 6, 7, 8, 10, 11, 12, 13, 14, 15, 12, 14, 8, 2, 14, 1, 2, 3, 4, 6, 7, 8, 9, 10, 11, 12, 13, 14, 15, 1, 2, 4, 6, 7, 8, 9, 10, 11, 12, 13, 14, 15, 9, 3, 1, 1, 2, 3, 4, 5, 6, 7, 8, 9, 10, 12, 13, 14, 15, 3, 4, 7, 9, 11, 14, 6, 1, 2, 5, 6, 7, 8, 9, 10, 11, 12, 13, 14, 1, 2, 3, 4, 5, 6, 7, 8, 9, 10, 11, 12, 14, 15, 7, 1, 2, 3, 5, 6, 7, 8, 9, 10, 11, 12, 13, 14, 15, 3, 4, 5, 7, 8, 9, 10, 11, 11, 13, 3, 9, 15, 6, 7, 15, 13, 2, 6, 11, 3, 14, 4, 14, 14, 1, 2, 3, 4, 8, 9, 10, 12, 13, 14, 1, 1, 9, 11, 1, 2, 3, 4, 5, 7, 10, 14, 4, 1, 3, 1, 9, 11, 1, 15, 2, 1, 5, 1, 2, 3, 4, 6, 7, 8, 9, 10, 11, 12, 14, 15, 1, 2, 3, 4, 5, 6, 7, 8, 9, 11, 12, 14, 3, 9, 10, 1, 2, 4, 5, 6, 7, 9, 10, 11, 12, 13, 15, 3, 6, 8, 9, 11, 12, 15, 13, 15, 2, 3, 15, 3, 13, 1, 2, 3, 4, 5, 6, 7, 8, 9, 10, 11, 12, 13, 14, 15, 7, 11, 12, 1, 2, 3, 4, 5, 7, 8, 9, 10, 11, 12, 13, 15, 7, 1, 2, 5, 6, 8, 10, 12, 13, 14, 15, 4, 13, 14, 5, 12, 7, 14, 15, 10, 2, 4, 5, 7, 8, 11, 12, 13, 15, 3, 6, 15, 14, 8, 11, 1, 8, 2, 5, 14, 15, 3, 6, 10, 3, 11, 15, 6, 9, 10, 15, 7, 13, 9, 1, 2, 3, 4, 5, 6, 7, 9, 10, 11, 14, 15, 1, 2, 3, 4, 9, 13, 3, 4, 6, 1, 3, 5, 11, 12, 14, 15, 3, 15, 1, 11, 6, 4, 11, 3, 7, 11, 15, 2, 1, 2, 12, 13, 14, 3, 8, 11, 14, 1, 14, 5, 6, 11, 15, 1, 2, 4, 5, 7, 8, 9, 11, 13, 14, 15, 8, 14, 15, 1, 3, 9, 1, 2, 3, 4, 5, 7, 8, 9, 10, 12, 13, 14, 15, 8, 6, 4, 4, 8, 12, 12, 1, 3, 9, 1, 4, 7, 13, 1, 4, 8, 7, 8, 3, 13, 12, 7, 13, 6, 14, 2, 9, 4, 14, 4, 10, 5, 8, 12, 10, 3, 10, 11, 1, 3, 6, 11, 1, 2, 3, 4, 5, 6, 8, 9, 10, 12, 14, 15, 2, 8, 8, 10, 14, 11, 10, 2, 4, 5, 6, 7, 8, 9, 10, 11, 12, 13, 14, 15, 3, 5, 6, 9, 13, 7, 3, 5, 8, 14, 1, 2, 7, 10, 11, 12, 13, 2, 4, 5, 9, 11, 14, 7, 1, 2, 5, 6, 7, 8, 9, 10, 11, 12, 13, 14, 15, 9, 14, 14, 3, 12, 3, 6, 14, 12, 4, 5, 8, 10, 12, 10, 1, 12, 4, 8, 5, 10, 4, 5, 7, 8, 4, 14, 1, 2, 4, 5, 6, 7, 8, 10, 11, 12, 13, 14, 3, 4, 5, 7, 8, 9, 10, 11, 12, 13, 14, 11, 8, 1, 3, 4, 5, 6, 7, 8, 10, 11, 3, 9, 10, 14, 6, 8, 7, 3, 3, 5, 6, 11, 13, 3, 11, 12, 13, 11, 14, 1, 2, 3, 4, 5, 6, 7, 9, 10, 11, 12, 13, 15, 1, 2, 3, 4, 6, 7, 11, 13, 14, 15, 1, 12, 3, 9, 15, 6, 12, 14, 2, 3, 4, 5, 6, 13, 14, 1, 2, 4, 5, 7, 9, 11, 12, 13, 14, 6, 1, 2, 3, 4, 5, 6, 7, 8, 9, 10, 11, 12, 13, 14, 7, 2, 4, 5, 6, 9, 10, 12, 15, 1, 2, 3, 4, 5, 6, 7, 8, 9, 10, 12, 13, 14, 15, 15, 10, 8, 1, 2, 3, 4, 5, 6, 7, 8, 9, 11, 12, 13, 14, 2, 2, 3, 6, 7, 8, 13, 15, 1, 2, 3, 6, 7, 10, 11, 12, 8, 7, 15, 1, 2, 3, 4, 5, 6, 7, 8, 9, 11, 12, 14, 15, 6, 14, 6, 9, 10, 12, 2, 3, 4, 7, 11, 4, 15, 15, 10, 11, 2, 15, 1, 2, 3, 4, 5, 7, 8, 9, 10, 11, 13, 14, 3, 4, 10, 1, 2, 3, 4, 5, 6, 7, 8, 9, 10, 11, 12, 14, 1, 2, 3, 4, 5, 6, 7, 8, 9, 11, 12, 13, 14, 15, 8, 6, 10, 9, 5, 9, 13, 14, 6, 11, 5, 1, 2, 4, 5, 6, 7, 8, 9, 10, 11, 13, 14, 8, 9, 10, 2, 2, 8, 9, 4, 3, 1, 1, 2, 4, 5, 6, 7, 8, 9, 10, 11, 13, 14, 2, 12, 12, 1, 2, 3, 4, 5, 6, 7, 8, 9, 10, 11, 12, 13, 14, 15, 1, 3, 4, 5, 6, 7, 9, 10, 11, 13, 1, 2, 6, 11, 15, 2, 15, 14, 1, 2, 9, 14, 13, 7, 8, 9, 12, 15, 4, 5, 9, 10, 12, 13, 1, 6, 7, 8, 9, 10, 11, 12, 13, 14, 7, 5, 5, 1, 4, 5, 6, 7, 8, 9, 10, 13, 9, 2, 4, 5, 6, 7, 9, 10, 11, 13, 15, 2, 3, 14, 5, 14, 13, 9, 7, 3, 6, 7, 8, 2, 1, 10, 13, 14, 8, 9, 10, 11, 12, 13, 10, 14, 1, 3, 4, 6, 8, 10, 11, 14, 4, 1, 2, 3, 4, 5, 6, 7, 8, 9, 10, 11, 12, 13, 14, 1, 2, 3, 4, 5, 6, 8, 9, 10, 11, 12, 13, 14, 13, 8, 7, 12, 1, 5, 11, 10, 7, 8, 12, 8, 1, 2, 3, 5, 9, 10, 12, 13, 1, 2, 3, 4, 5, 6, 7, 8, 9, 10, 12, 13, 14, 15, 2, 4, 8, 13, 15, 1, 2, 5, 7, 8, 9, 10, 12, 13, 15, 2, 3, 4, 5, 7, 8, 9, 10, 11, 14, 15, 9, 10, 1, 2, 4, 6, 8, 9, 10, 12, 3, 10, 1, 3, 5, 6, 7, 2, 10, 10, 6, 1, 2, 3, 4, 5, 6, 7, 8, 9, 10, 11, 12, 15, 2, 2, 11, 14, 14, 13, 1, 12, 14, 1, 3, 4, 7, 9, 10, 11, 13, 2, 3, 4, 6, 7, 10, 11, 15, 1, 2, 3, 8, 2, 4, 7, 10, 13, 15, 12, 8, 15, 5, 13, 1, 12, 14, 13, 11, 11, 5, 3, 3, 4, 12, 15, 15, 15, 5, 4, 5, 2, 2, 4, 6, 10, 12, 13, 15, 5, 11, 5, 7, 8, 9, 10, 11, 2, 3, 5, 7, 10, 12, 14, 8, 5, 8, 12, 4, 7, 5, 13, 12, 14, 4, 13, 3, 4, 8, 11, 13, 1, 2, 3, 4, 5, 6, 7, 8, 9, 10, 11, 12, 13, 15, 5, 14, 9, 10, 13, 10, 14, 12, 7, 4, 1, 2, 3, 4, 6, 7, 8, 12, 14, 15, 1, 4, 5, 7, 11, 15, 3, 5, 6, 8, 10, 12, 13, 15, 1, 2, 3, 4, 5, 6, 8, 11, 12, 13, 2, 5, 3, 4, 7, 8, 13, 3, 6, 10, 1, 2, 3, 5, 6, 7, 8, 9, 10, 12, 13, 3, 5, 6, 7, 9, 13, 14, 15, 10, 2, 3, 5, 8, 9, 10, 11, 12, 13, 14, 15, 2, 8, 10, 11, 14, 7, 9, 14, 1, 2, 6, 7, 8, 9, 10, 12, 14, 9, 9, 1, 2, 3, 4, 6, 8, 9, 10, 11, 13, 14, 15, 1, 2, 3, 4, 5, 6, 9, 12, 13, 14, 3, 13, 1, 2, 3, 4, 5, 6, 8, 11, 12, 14, 15, 3, 8, 3, 5, 15, 12, 2, 5, 7, 11, 1, 5, 8, 11, 12, 13, 14, 1, 2, 3, 4, 5, 6, 7, 8, 9, 11, 12, 13, 14, 15, 1, 2, 6, 8, 15, 1, 2, 3, 4, 6, 8, 9, 10, 11, 13, 14, 15, 1, 2, 3, 6, 8, 11, 12, 14, 15, 13, 6, 10, 13, 14, 15, 12, 1, 3, 5, 8, 9, 11, 13, 14, 1, 2, 5, 6, 7, 8, 9, 10, 11, 13, 14, 15, 12, 13, 1, 2, 8, 11, 12, 1, 15, 3, 15, 14, 1, 2, 3, 4, 6, 7, 8, 9, 10, 11, 12, 13, 14, 11, 1, 2, 3, 5, 6, 7, 8, 9, 10, 11, 12, 13, 14, 3, 5, 11, 13, 14, 2, 5, 6, 7, 8, 1, 2, 4, 5, 6, 8, 9, 11, 13, 1, 2, 3, 4, 6, 7, 8, 9, 10, 11, 12, 13, 14, 15, 1, 2, 3, 4, 6, 8, 9, 11, 13, 14, 1, 3, 5, 8, 10, 11, 12, 14, 4, 1, 2, 3, 4, 5, 6, 7, 8, 9, 10, 11, 12, 13, 14, 15, 1, 2, 3, 5, 7, 8, 9, 10, 13, 1, 13, 1, 2, 4, 5, 7, 8, 9, 10, 13, 14, 15, 1, 2, 3, 4, 5, 9, 15, 1, 10, 11, 12, 5, 7, 12, 13, 15, 5, 14, 1, 2, 15, 5, 10, 14, 9, 14, 3, 9, 11, 14, 15, 1, 2, 3, 5, 6, 7, 8, 9, 10, 11, 12, 13, 14, 15, 3, 9, 10, 12, 13, 14, 15, 1, 2, 3, 6, 7, 8, 9, 10, 12, 14, 4, 11, 14, 8, 1, 5, 1, 2, 3, 4, 5, 7, 8, 9, 10, 12, 13, 14, 15, 3, 3, 1, 4, 10, 11, 13, 1, 4, 1, 2, 3, 4, 5, 6, 7, 8], \"Freq\": [0.6736810617805293, 0.22439966088752725, 0.4487993217750545, 0.22439966088752725, 0.5600047287041058, 0.2800023643520529, 0.3562742133770316, 0.3562742133770316, 0.5100442420868821, 0.17001474736229408, 0.17001474736229408, 0.17001474736229408, 0.899760125627583, 0.48283649908892107, 0.8811260605144386, 0.46558928971198354, 0.9045527612118999, 0.9078128788210026, 0.8972187110752464, 0.7137656123645251, 0.08434348238875451, 0.33737392955501805, 0.16868696477750902, 0.08434348238875451, 0.08434348238875451, 0.16868696477750902, 0.08434348238875451, 0.08434348238875451, 0.5379633740127091, 0.26898168700635455, 0.8946439282279802, 0.27768294770967694, 0.4165244215645154, 0.27768294770967694, 0.22420656862947463, 0.22420656862947463, 0.44841313725894927, 0.45912803168606603, 0.4684939030036171, 0.1369519115432931, 0.0913012743621954, 0.0913012743621954, 0.0456506371810977, 0.0456506371810977, 0.0913012743621954, 0.0456506371810977, 0.0456506371810977, 0.0456506371810977, 0.1826025487243908, 0.0456506371810977, 0.0456506371810977, 0.1369519115432931, 0.1370199026256056, 0.5480796105024224, 0.1370199026256056, 0.1370199026256056, 0.1370199026256056, 0.46563090523677836, 0.6845520491849517, 0.15724171102370377, 0.12579336881896303, 0.09434502661422227, 0.12579336881896303, 0.031448342204740756, 0.031448342204740756, 0.06289668440948151, 0.031448342204740756, 0.09434502661422227, 0.15724171102370377, 0.06289668440948151, 0.031448342204740756, 0.07344196288944727, 0.07344196288944727, 0.07344196288944727, 0.25704687011306543, 0.03672098144472363, 0.11016294433417088, 0.07344196288944727, 0.03672098144472363, 0.03672098144472363, 0.11016294433417088, 0.03672098144472363, 0.03672098144472363, 0.07344196288944727, 0.8215054965394251, 0.07816011891534755, 0.1563202378306951, 0.07816011891534755, 0.07816011891534755, 0.07816011891534755, 0.07816011891534755, 0.07816011891534755, 0.039080059457673774, 0.039080059457673774, 0.039080059457673774, 0.039080059457673774, 0.11724017837302134, 0.07816011891534755, 0.9045531331572659, 0.45853407979632926, 0.45963630892724733, 0.9045524359767116, 0.6804610974452954, 0.45281551021845556, 0.45281551021845556, 0.7296054331704726, 0.4462120836319775, 0.22310604181598875, 0.22310604181598875, 0.1364802335453894, 0.1364802335453894, 0.1364802335453894, 0.1364802335453894, 0.1364802335453894, 0.4094407006361682, 0.9078206800826373, 0.04002807295496774, 0.16011229181987097, 0.04002807295496774, 0.04002807295496774, 0.2001403647748387, 0.04002807295496774, 0.04002807295496774, 0.08005614590993548, 0.12008421886490322, 0.04002807295496774, 0.04002807295496774, 0.08005614590993548, 0.04002807295496774, 0.04002807295496774, 0.10856528652552724, 0.10856528652552724, 0.02714132163138181, 0.02714132163138181, 0.08142396489414543, 0.05428264326276362, 0.2442718946824363, 0.08142396489414543, 0.05428264326276362, 0.08142396489414543, 0.05428264326276362, 0.02714132163138181, 0.02714132163138181, 0.02714132163138181, 0.02714132163138181, 0.16239305954219055, 0.08119652977109527, 0.16239305954219055, 0.08119652977109527, 0.08119652977109527, 0.08119652977109527, 0.08119652977109527, 0.16239305954219055, 0.16239305954219055, 0.19342351544573635, 0.04835587886143409, 0.07253381829215114, 0.024177939430717044, 0.12088969715358523, 0.07253381829215114, 0.07253381829215114, 0.09671175772286818, 0.04835587886143409, 0.07253381829215114, 0.07253381829215114, 0.04835587886143409, 0.024177939430717044, 0.04835587886143409, 0.4006857114257683, 0.13356190380858943, 0.26712380761717885, 0.13356190380858943, 0.13356190380858943, 0.45912808702354563, 0.45963558812242283, 0.6882691431828539, 0.9126673611400233, 0.8902995265654051, 0.9078143828642277, 0.1457919560790908, 0.024298659346515133, 0.0364479890197727, 0.0728959780395454, 0.10934396705931809, 0.06074664836628783, 0.024298659346515133, 0.08504530771280296, 0.08504530771280296, 0.0728959780395454, 0.06074664836628783, 0.0728959780395454, 0.06074664836628783, 0.0364479890197727, 0.0364479890197727, 0.12358913651107926, 0.08239275767405284, 0.04119637883702642, 0.16478551534810568, 0.12358913651107926, 0.2059818941851321, 0.04119637883702642, 0.08239275767405284, 0.04119637883702642, 0.04119637883702642, 0.04119637883702642, 0.6979860858610694, 0.16059642713501288, 0.16059642713501288, 0.08029821356750644, 0.08029821356750644, 0.08029821356750644, 0.16059642713501288, 0.2408946407025193, 0.08029821356750644, 0.10324065673204727, 0.20648131346409454, 0.10324065673204727, 0.4129626269281891, 0.10324065673204727, 0.10324065673204727, 0.4596401456737659, 0.11232293895755098, 0.11232293895755098, 0.05616146947877549, 0.19656514317571422, 0.11232293895755098, 0.05616146947877549, 0.05616146947877549, 0.05616146947877549, 0.05616146947877549, 0.05616146947877549, 0.05616146947877549, 0.028080734739387745, 0.028080734739387745, 0.8946434955971047, 0.08958572802511704, 0.05972381868341136, 0.05972381868341136, 0.02986190934170568, 0.11944763736682272, 0.05972381868341136, 0.08958572802511704, 0.05972381868341136, 0.02986190934170568, 0.02986190934170568, 0.11944763736682272, 0.05972381868341136, 0.11944763736682272, 0.08958572802511704, 0.9126680616444912, 0.9126680284511579, 0.6845547657217373, 0.4585327316364703, 0.8946436510921711, 0.8903009261770207, 0.904551310285682, 0.301757196762071, 0.1508785983810355, 0.1508785983810355, 0.4526357951431066, 0.07980441442183557, 0.2394132432655067, 0.07980441442183557, 0.07980441442183557, 0.07980441442183557, 0.039902207210917785, 0.11970662163275335, 0.039902207210917785, 0.039902207210917785, 0.07980441442183557, 0.039902207210917785, 0.039902207210917785, 0.07980441442183557, 0.04726561146563829, 0.09453122293127658, 0.04726561146563829, 0.04726561146563829, 0.09453122293127658, 0.14179683439691487, 0.18906244586255316, 0.04726561146563829, 0.09453122293127658, 0.04726561146563829, 0.14179683439691487, 0.04726561146563829, 0.15342258507675474, 0.07671129253837737, 0.07671129253837737, 0.07671129253837737, 0.07671129253837737, 0.07671129253837737, 0.07671129253837737, 0.07671129253837737, 0.07671129253837737, 0.3068451701535095, 0.07671129253837737, 0.3491158963085844, 0.3491158963085844, 0.9126724233372345, 0.11274003962919246, 0.22548007925838492, 0.3382201188875774, 0.11274003962919246, 0.11274003962919246, 0.11274003962919246, 0.4596386371185894, 0.9126700455431664, 0.9045544543719832, 0.4684946171409592, 0.8997590954150779, 0.46558556974267895, 0.6657319375732297, 0.9078154311778641, 0.08018686144979596, 0.32074744579918385, 0.08018686144979596, 0.16037372289959193, 0.08018686144979596, 0.08018686144979596, 0.08018686144979596, 0.16037372289959193, 0.9078177158680952, 0.8997642882237687, 0.8902982879005061, 0.24679086263634367, 0.12339543131817184, 0.12339543131817184, 0.37018629395451547, 0.12339543131817184, 0.12339543131817184, 0.44485346198380354, 0.22242673099190177, 0.22242673099190177, 0.6979861156944153, 0.07607161130978474, 0.15214322261956947, 0.07607161130978474, 0.07607161130978474, 0.07607161130978474, 0.07607161130978474, 0.07607161130978474, 0.30428644523913895, 0.15214322261956947, 0.07607161130978474, 0.6868804778574669, 0.45912968672915877, 0.6804636176843281, 0.9076438628176584, 0.4585330957044961, 0.686880853794501, 0.46850913774398734, 0.4585333774745135, 0.6769346676588252, 0.22564488921960837, 0.51457406988146, 0.3430493799209734, 0.1715246899604867, 0.17125670375457105, 0.17125670375457105, 0.3425134075091421, 0.17125670375457105, 0.2737085171356627, 0.5474170342713254, 0.46558421528092375, 0.45963753420172315, 0.6657382951202347, 0.54410824852299, 0.272054124261495, 0.8811246924018158, 0.8997557000826814, 0.6901375185054106, 0.26966939879125224, 0.5393387975825045, 0.8811232132871777, 0.9045550034068319, 0.8902972240837547, 0.4655862947544481, 0.8946524063393309, 0.0996945558051333, 0.0996945558051333, 0.0332315186017111, 0.0664630372034222, 0.0332315186017111, 0.0332315186017111, 0.0664630372034222, 0.0332315186017111, 0.1661575930085555, 0.0332315186017111, 0.0664630372034222, 0.0996945558051333, 0.0332315186017111, 0.1329260744068444, 0.8997550828119917, 0.9127316691216344, 0.9045537817395785, 0.6868808120236991, 0.05967245244942609, 0.05967245244942609, 0.05967245244942609, 0.23868980979770435, 0.11934490489885217, 0.11934490489885217, 0.05967245244942609, 0.11934490489885217, 0.23868980979770435, 0.05967245244942609, 0.45965483065863894, 0.9126695986082988, 0.6657317323345004, 0.0881989816564051, 0.13229847248460766, 0.0881989816564051, 0.1763979633128102, 0.0881989816564051, 0.0881989816564051, 0.04409949082820255, 0.04409949082820255, 0.13229847248460766, 0.0881989816564051, 0.9076427837798069, 0.19662854439228195, 0.19662854439228195, 0.5898856331768458, 0.2696520203412187, 0.5393040406824374, 0.4684925933695041, 0.9078175339583733, 0.35981031179734024, 0.35981031179734024, 0.4591278754594675, 0.3580203121162546, 0.3580203121162546, 0.4591273273636018, 0.16951587855473757, 0.08475793927736879, 0.08475793927736879, 0.33903175710947514, 0.08475793927736879, 0.16951587855473757, 0.08475793927736879, 0.08475793927736879, 0.6868804778574669, 0.791955930211383, 0.19798898255284575, 0.01742023076160784, 0.03484046152321568, 0.05226069228482352, 0.05226069228482352, 0.03484046152321568, 0.06968092304643136, 0.06968092304643136, 0.03484046152321568, 0.05226069228482352, 0.12194161533125489, 0.03484046152321568, 0.15678207685447057, 0.12194161533125489, 0.13936184609286273, 0.15046524712698997, 0.10031016475132665, 0.050155082375663324, 0.10031016475132665, 0.10031016475132665, 0.10031016475132665, 0.10031016475132665, 0.2006203295026533, 0.10031016475132665, 0.050155082375663324, 0.050155082375663324, 0.06875601803375783, 0.06875601803375783, 0.06875601803375783, 0.06875601803375783, 0.06875601803375783, 0.13751203606751566, 0.06875601803375783, 0.20626805410127352, 0.06875601803375783, 0.06875601803375783, 0.20626805410127352, 0.10502347435341555, 0.2100469487068311, 0.10502347435341555, 0.10502347435341555, 0.10502347435341555, 0.4200938974136622, 0.10502347435341555, 0.12427571955971747, 0.08285047970647832, 0.04142523985323916, 0.08285047970647832, 0.04142523985323916, 0.08285047970647832, 0.16570095941295665, 0.08285047970647832, 0.04142523985323916, 0.08285047970647832, 0.04142523985323916, 0.04142523985323916, 0.04142523985323916, 0.08285047970647832, 0.6715436693618951, 0.2726994396074257, 0.5453988792148514, 0.24271936056328464, 0.4854387211265693, 0.12135968028164232, 0.24271936056328464, 0.8946457588713606, 0.8997658481864794, 0.8902987320783813, 0.4585330706164124, 0.8811223680201267, 0.8997554519380409, 0.12988274237327835, 0.12988274237327835, 0.12988274237327835, 0.06494137118663917, 0.12988274237327835, 0.06494137118663917, 0.06494137118663917, 0.19482411355991755, 0.06494137118663917, 0.06494137118663917, 0.3357574333951966, 0.22383828893013108, 0.11191914446506554, 0.22383828893013108, 0.11191914446506554, 0.11191914446506554, 0.8997554931194814, 0.6892775237073147, 0.22393881167209334, 0.4478776233441867, 0.22393881167209334, 0.06894605207281332, 0.12410289373106398, 0.06894605207281332, 0.041367631243687995, 0.09652447290193865, 0.041367631243687995, 0.09652447290193865, 0.09652447290193865, 0.06894605207281332, 0.02757842082912533, 0.041367631243687995, 0.041367631243687995, 0.06894605207281332, 0.05515684165825066, 0.06894605207281332, 0.13548536543054873, 0.13548536543054873, 0.4064560962916462, 0.13548536543054873, 0.13548536543054873, 0.13548536543054873, 0.15163799600192776, 0.3032759920038555, 0.15163799600192776, 0.07581899800096388, 0.07581899800096388, 0.07581899800096388, 0.07581899800096388, 0.07581899800096388, 0.07581899800096388, 0.8275557691359694, 0.48283649908892107, 0.9078164433895474, 0.9076414456337553, 0.2835822926451888, 0.2835822926451888, 0.2835822926451888, 0.8811229018728122, 0.2409096862172447, 0.7227290586517341, 0.4587277862667267, 0.4587277862667267, 0.4684930815296577, 0.46849100997999277, 0.9126666443286342, 0.09110417457172217, 0.09110417457172217, 0.18220834914344433, 0.09110417457172217, 0.36441669828688866, 0.09110417457172217, 0.09110417457172217, 0.8903040411378431, 0.6756977165338884, 0.14474914982579337, 0.02894982996515867, 0.05789965993031734, 0.05789965993031734, 0.05789965993031734, 0.05789965993031734, 0.05789965993031734, 0.08684948989547601, 0.05789965993031734, 0.08684948989547601, 0.05789965993031734, 0.11579931986063469, 0.02894982996515867, 0.08684948989547601, 0.02894982996515867, 0.15977293114850763, 0.07988646557425381, 0.07988646557425381, 0.07988646557425381, 0.31954586229701526, 0.07988646557425381, 0.07988646557425381, 0.07988646557425381, 0.07988646557425381, 0.4535584893257054, 0.2267792446628527, 0.2267792446628527, 0.9078137041314746, 0.9045566308891837, 0.6580702027969263, 0.5356040235949031, 0.26780201179745156, 0.6868804778574669, 0.686880853794501, 0.09018402024503176, 0.09018402024503176, 0.09018402024503176, 0.09018402024503176, 0.18036804049006352, 0.09018402024503176, 0.09018402024503176, 0.04509201012251588, 0.04509201012251588, 0.04509201012251588, 0.09018402024503176, 0.04509201012251588, 0.6756977165338884, 0.0688847442575643, 0.0688847442575643, 0.1377694885151286, 0.0688847442575643, 0.2755389770302572, 0.1377694885151286, 0.0688847442575643, 0.0688847442575643, 0.0688847442575643, 0.1377694885151286, 0.4655889016632682, 0.9126660102836989, 0.047273440946388336, 0.047273440946388336, 0.047273440946388336, 0.11818360236597085, 0.047273440946388336, 0.047273440946388336, 0.047273440946388336, 0.07091016141958251, 0.11818360236597085, 0.18909376378555334, 0.023636720473194168, 0.023636720473194168, 0.14182032283916501, 0.047273440946388336, 0.8811234518050901, 0.6803170901645699, 0.713765578469986, 0.09132529044338074, 0.09132529044338074, 0.18265058088676148, 0.27397587133014223, 0.09132529044338074, 0.09132529044338074, 0.6901362265666475, 0.804920530378217, 0.45853334174316873, 0.09883095242446749, 0.19766190484893498, 0.09883095242446749, 0.39532380969786995, 0.09883095242446749, 0.09883095242446749, 0.09087253052795786, 0.1363087957919368, 0.04543626526397893, 0.22718132631989466, 0.09087253052795786, 0.04543626526397893, 0.04543626526397893, 0.04543626526397893, 0.04543626526397893, 0.04543626526397893, 0.04543626526397893, 0.04543626526397893, 0.09087253052795786, 0.11535538284055556, 0.11535538284055556, 0.23071076568111112, 0.23071076568111112, 0.11535538284055556, 0.23071076568111112, 0.8903051982207278, 0.9045562206374528, 0.22842349637223652, 0.11421174818611826, 0.11421174818611826, 0.3426352445583548, 0.11421174818611826, 0.11421174818611826, 0.4591279861263015, 0.22969043564394204, 0.4593808712878841, 0.22969043564394204, 0.907819392987103, 0.8946439491405622, 0.9076460888355006, 0.8972239063951183, 0.4591298332895271, 0.88112254597095, 0.2709206855669359, 0.5418413711338718, 0.3949862819689838, 0.1974931409844919, 0.1974931409844919, 0.6901376506571666, 0.27425650167574317, 0.0914188338919144, 0.0914188338919144, 0.0914188338919144, 0.1828376677838288, 0.0914188338919144, 0.1828376677838288, 0.6854811917362349, 0.22849373057874495, 0.8902990112973496, 0.9126682899991271, 0.46849446721499105, 0.2680592353239239, 0.16083554119435434, 0.10722369412956957, 0.053611847064784786, 0.16083554119435434, 0.10722369412956957, 0.053611847064784786, 0.053611847064784786, 0.2726867195060496, 0.5453734390120992, 0.9076419632633842, 0.19639419055316157, 0.19639419055316157, 0.39278838110632314, 0.19639419055316157, 0.6817049694245217, 0.2272349898081739, 0.15063379339927704, 0.043038226685507726, 0.043038226685507726, 0.043038226685507726, 0.19367202008478476, 0.08607645337101545, 0.043038226685507726, 0.06455734002826158, 0.06455734002826158, 0.06455734002826158, 0.12911468005652316, 0.021519113342753863, 0.06455734002826158, 0.17739698524364816, 0.11826465682909877, 0.059132328414549386, 0.11826465682909877, 0.11826465682909877, 0.059132328414549386, 0.23652931365819754, 0.059132328414549386, 0.059132328414549386, 0.059132328414549386, 0.4529046335836138, 0.2264523167918069, 0.2264523167918069, 0.34031512369636285, 0.17015756184818143, 0.17015756184818143, 0.34031512369636285, 0.1361587298860189, 0.5446349195440756, 0.1361587298860189, 0.1361587298860189, 0.1361587298860189, 0.5347411415532023, 0.26737057077660115, 0.9077301367634969, 0.16931388609394907, 0.08465694304697453, 0.16931388609394907, 0.08465694304697453, 0.08465694304697453, 0.08465694304697453, 0.25397082914092356, 0.08465694304697453, 0.08465694304697453, 0.08465694304697453, 0.4655875378590998, 0.04611267713545756, 0.04611267713545756, 0.1152816928386439, 0.16139436997410145, 0.04611267713545756, 0.1152816928386439, 0.06916901570318633, 0.04611267713545756, 0.1152816928386439, 0.1152816928386439, 0.02305633856772878, 0.02305633856772878, 0.02305633856772878, 0.02305633856772878, 0.06916901570318633, 0.050699235587543044, 0.050699235587543044, 0.10139847117508609, 0.050699235587543044, 0.25349617793771523, 0.10139847117508609, 0.050699235587543044, 0.050699235587543044, 0.10139847117508609, 0.050699235587543044, 0.15209770676262913, 0.050699235587543044, 0.8811250372900237, 0.10049468586766322, 0.3014840576029897, 0.10049468586766322, 0.3014840576029897, 0.05024734293383161, 0.05024734293383161, 0.05024734293383161, 0.05024734293383161, 0.6715442436825698, 0.4585328173990342, 0.09735426892983183, 0.048677134464915915, 0.09735426892983183, 0.09735426892983183, 0.09735426892983183, 0.19470853785966366, 0.048677134464915915, 0.09735426892983183, 0.048677134464915915, 0.14603140339474777, 0.08371977081773575, 0.08371977081773575, 0.41859885408867875, 0.1674395416354715, 0.08371977081773575, 0.08371977081773575, 0.1674395416354715, 0.6736764947403869, 0.8811236181071974, 0.09077843232141262, 0.09077843232141262, 0.09077843232141262, 0.09077843232141262, 0.3631137292856505, 0.09077843232141262, 0.09077843232141262, 0.09077843232141262, 0.09077843232141262, 0.8997590242123361, 0.3557700044238247, 0.3557700044238247, 0.9078155848348385, 0.34055449397369736, 0.11351816465789913, 0.22703632931579826, 0.11351816465789913, 0.11351816465789913, 0.11351816465789913, 0.04922945468763117, 0.11486872760447274, 0.13127854583368315, 0.04922945468763117, 0.04922945468763117, 0.03281963645842079, 0.09845890937526235, 0.06563927291684157, 0.09845890937526235, 0.04922945468763117, 0.03281963645842079, 0.016409818229210393, 0.09845890937526235, 0.06563927291684157, 0.03281963645842079, 0.89721859914522, 0.48283538235376466, 0.4828356615370695, 0.08085689496082313, 0.16171378992164626, 0.16171378992164626, 0.08085689496082313, 0.08085689496082313, 0.08085689496082313, 0.08085689496082313, 0.24257068488246938, 0.08085689496082313, 0.08085689496082313, 0.3021815718738332, 0.3021815718738332, 0.1510907859369166, 0.3021815718738332, 0.24540371756874924, 0.06135092939218731, 0.06135092939218731, 0.06135092939218731, 0.12270185878437462, 0.18405278817656193, 0.24540371756874924, 0.06135092939218731, 0.29687214756207475, 0.1187488590248299, 0.1187488590248299, 0.05937442951241495, 0.05937442951241495, 0.1187488590248299, 0.05937442951241495, 0.17812328853724485, 0.6979861455277636, 0.06482450908328628, 0.12964901816657257, 0.06482450908328628, 0.03241225454164314, 0.03241225454164314, 0.12964901816657257, 0.09723676362492943, 0.06482450908328628, 0.09723676362492943, 0.06482450908328628, 0.06482450908328628, 0.03241225454164314, 0.03241225454164314, 0.09723676362492943, 0.03241225454164314, 0.6580668373363789, 0.07658041160297141, 0.07658041160297141, 0.07658041160297141, 0.07658041160297141, 0.07658041160297141, 0.07658041160297141, 0.07658041160297141, 0.15316082320594282, 0.07658041160297141, 0.22974123480891423, 0.8997594681381684, 0.5279751428272009, 0.26398757141360046, 0.7002062062102253, 0.8946459977608456, 0.07561333181811097, 0.07561333181811097, 0.15122666363622195, 0.07561333181811097, 0.15122666363622195, 0.07561333181811097, 0.07561333181811097, 0.3024533272724439, 0.07561333181811097, 0.07561333181811097, 0.07561333181811097, 0.27312562710683036, 0.5462512542136607, 0.713765578469986, 0.26976592226587903, 0.5395318445317581, 0.4596370917796516, 0.9126692324017205, 0.912666420828374, 0.38787340233242956, 0.19393670116621478, 0.19393670116621478, 0.19393670116621478, 0.14119369209581623, 0.04706456403193874, 0.04706456403193874, 0.09412912806387748, 0.09412912806387748, 0.04706456403193874, 0.04706456403193874, 0.04706456403193874, 0.09412912806387748, 0.04706456403193874, 0.14119369209581623, 0.04706456403193874, 0.18825825612775496, 0.1466061207107542, 0.1466061207107542, 0.08796367242645253, 0.08796367242645253, 0.058642448284301686, 0.029321224142150843, 0.08796367242645253, 0.029321224142150843, 0.058642448284301686, 0.058642448284301686, 0.11728489656860337, 0.029321224142150843, 0.058642448284301686, 0.029321224142150843, 0.3507944083997453, 0.3507944083997453, 0.22272834445404818, 0.22272834445404818, 0.44545668890809637, 0.06196498208005156, 0.06196498208005156, 0.07435797849606186, 0.07435797849606186, 0.07435797849606186, 0.09914397132808249, 0.07435797849606186, 0.07435797849606186, 0.03717898924803093, 0.049571985664041245, 0.08675097491207218, 0.08675097491207218, 0.07435797849606186, 0.049571985664041245, 0.03717898924803093, 0.12417372336641753, 0.12417372336641753, 0.12417372336641753, 0.3725211700992526, 0.12417372336641753, 0.12417372336641753, 0.12417372336641753, 0.05215293847426128, 0.10430587694852256, 0.15645881542278384, 0.10430587694852256, 0.05215293847426128, 0.10430587694852256, 0.10430587694852256, 0.05215293847426128, 0.05215293847426128, 0.10430587694852256, 0.05215293847426128, 0.05215293847426128, 0.4529877523249032, 0.2264938761624516, 0.2264938761624516, 0.20746843979083743, 0.05186710994770936, 0.10373421989541871, 0.10373421989541871, 0.05186710994770936, 0.10373421989541871, 0.15560132984312808, 0.10373421989541871, 0.05186710994770936, 0.05186710994770936, 0.05186710994770936, 0.05186710994770936, 0.6868804778574669, 0.9076455340291124, 0.6693794540396124, 0.14132244252613946, 0.09421496168409298, 0.09421496168409298, 0.04710748084204649, 0.09421496168409298, 0.14132244252613946, 0.09421496168409298, 0.04710748084204649, 0.04710748084204649, 0.09421496168409298, 0.04710748084204649, 0.04710748084204649, 0.09421496168409298, 0.8902994645541077, 0.8811288187833952, 0.06216217940039163, 0.12432435880078326, 0.12432435880078326, 0.12432435880078326, 0.06216217940039163, 0.12432435880078326, 0.12432435880078326, 0.06216217940039163, 0.1864865382011749, 0.06216217940039163, 0.06216217940039163, 0.06216217940039163, 0.11702053592064887, 0.23404107184129774, 0.11702053592064887, 0.11702053592064887, 0.11702053592064887, 0.3510616077619466, 0.7002153234559871, 0.03485792194872997, 0.17428960974364985, 0.06971584389745994, 0.17428960974364985, 0.10457376584618991, 0.03485792194872997, 0.13943168779491988, 0.06971584389745994, 0.13943168779491988, 0.06971584389745994, 0.06971584389745994, 0.9045547613408627, 0.9045532113227259, 0.907643593057955, 0.20701133891982046, 0.31051700837973073, 0.31051700837973073, 0.10350566945991023, 0.10350566945991023, 0.8997574709521927, 0.8946461441274031, 0.48283646806843034, 0.48283646806843034, 0.27714579931472805, 0.5542915986294561, 0.45963751629676175, 0.45912723375621034, 0.482830328592328, 0.4586376836814514, 0.9126662449272155, 0.8997590468061359, 0.06252384956535298, 0.06252384956535298, 0.07815481195669122, 0.07815481195669122, 0.04689288717401473, 0.07815481195669122, 0.03126192478267649, 0.07815481195669122, 0.06252384956535298, 0.1875715486960589, 0.1094167367393677, 0.09378577434802945, 0.06252384956535298, 0.34992834935567757, 0.34992834935567757, 0.6815849780125208, 0.8902971389785244, 0.6979861508202444, 0.13684854489930662, 0.09123236326620442, 0.04561618163310221, 0.09123236326620442, 0.09123236326620442, 0.13684854489930662, 0.09123236326620442, 0.04561618163310221, 0.04561618163310221, 0.04561618163310221, 0.04561618163310221, 0.04561618163310221, 0.04561618163310221, 0.09123236326620442, 0.08035925052818685, 0.08035925052818685, 0.12053887579228027, 0.08035925052818685, 0.08035925052818685, 0.08035925052818685, 0.08035925052818685, 0.040179625264093424, 0.12053887579228027, 0.08035925052818685, 0.040179625264093424, 0.12053887579228027, 0.040179625264093424, 0.9126713076841871, 0.89464781526443, 0.8811253931938985, 0.08000354102465776, 0.08000354102465776, 0.08000354102465776, 0.08000354102465776, 0.08000354102465776, 0.08000354102465776, 0.04000177051232888, 0.08000354102465776, 0.12000531153698663, 0.16000708204931552, 0.04000177051232888, 0.04000177051232888, 0.04000177051232888, 0.04000177051232888, 0.10621118659699381, 0.10621118659699381, 0.21242237319398763, 0.21242237319398763, 0.10621118659699381, 0.3186335597909814, 0.9045562225334915, 0.06844282757195204, 0.06844282757195204, 0.06844282757195204, 0.06844282757195204, 0.03422141378597602, 0.13688565514390408, 0.10266424135792807, 0.03422141378597602, 0.06844282757195204, 0.13688565514390408, 0.13688565514390408, 0.03422141378597602, 0.11369286419996943, 0.15917000987995722, 0.06821571851998166, 0.06821571851998166, 0.04547714567998778, 0.04547714567998778, 0.04547714567998778, 0.02273857283999389, 0.06821571851998166, 0.02273857283999389, 0.1819085827199511, 0.02273857283999389, 0.09095429135997556, 0.06821571851998166, 0.9078130393826556, 0.05160336133949433, 0.025801680669747164, 0.2838184873672188, 0.025801680669747164, 0.12900840334873584, 0.025801680669747164, 0.05160336133949433, 0.10320672267898866, 0.05160336133949433, 0.025801680669747164, 0.025801680669747164, 0.10320672267898866, 0.025801680669747164, 0.07740504200924149, 0.07558698545644224, 0.15117397091288448, 0.07558698545644224, 0.07558698545644224, 0.22676095636932672, 0.30234794182576896, 0.07558698545644224, 0.07558698545644224, 0.45963604756800974, 0.465589453779822, 0.40197285804523836, 0.20098642902261918, 0.40197285804523836, 0.9045524685999083, 0.9078129329148533, 0.48283649908892107, 0.46559209024723114, 0.13497722999445166, 0.80986337996671, 0.4596349201474476, 0.34644622053537694, 0.34644622053537694, 0.6774215342888791, 0.22580717809629303, 0.6979861455277636, 0.15049782533627917, 0.15049782533627917, 0.07524891266813959, 0.15049782533627917, 0.22574673800441875, 0.07524891266813959, 0.07524891266813959, 0.07524891266813959, 0.07524891266813959, 0.07524891266813959, 0.8811227684095801, 0.6609839298677408, 0.22032797662258027, 0.828658296325157, 0.070679283784478, 0.282717135137912, 0.141358567568956, 0.070679283784478, 0.212037851353434, 0.141358567568956, 0.070679283784478, 0.070679283784478, 0.8972223568064399, 0.8811235219228811, 0.894645559905391, 0.445311566289254, 0.222655783144627, 0.222655783144627, 0.5826734204890953, 0.1942244734963651, 0.8903063246531031, 0.6580600898228316, 0.8997539151824171, 0.038881208016570974, 0.11664362404971293, 0.07776241603314195, 0.038881208016570974, 0.07776241603314195, 0.11664362404971293, 0.1555248320662839, 0.038881208016570974, 0.11664362404971293, 0.07776241603314195, 0.07776241603314195, 0.038881208016570974, 0.038881208016570974, 0.10380312924576919, 0.13840417232769225, 0.06920208616384613, 0.034601043081923064, 0.06920208616384613, 0.13840417232769225, 0.20760625849153838, 0.034601043081923064, 0.06920208616384613, 0.034601043081923064, 0.06920208616384613, 0.034601043081923064, 0.22791126700632613, 0.22791126700632613, 0.45582253401265227, 0.048829689153235774, 0.09765937830647155, 0.12207422288308944, 0.09765937830647155, 0.14648906745970733, 0.048829689153235774, 0.048829689153235774, 0.12207422288308944, 0.024414844576617887, 0.07324453372985366, 0.09765937830647155, 0.07324453372985366, 0.11453702575312495, 0.11453702575312495, 0.2290740515062499, 0.34361107725937484, 0.11453702575312495, 0.11453702575312495, 0.11453702575312495, 0.700221643043743, 0.4828363129660363, 0.8902975645048385, 0.6693801027116651, 0.4828248465196845, 0.27714715390064226, 0.5542943078012845, 0.07507378468175845, 0.09384223085219806, 0.07507378468175845, 0.07507378468175845, 0.01876844617043961, 0.07507378468175845, 0.1313791231930773, 0.09384223085219806, 0.03753689234087922, 0.03753689234087922, 0.03753689234087922, 0.07507378468175845, 0.09384223085219806, 0.01876844617043961, 0.09384223085219806, 0.9078176378627109, 0.1972568144942977, 0.5917704434828931, 0.10181872026745328, 0.06109123216047197, 0.08145497621396262, 0.08145497621396262, 0.08145497621396262, 0.04072748810698131, 0.04072748810698131, 0.08145497621396262, 0.10181872026745328, 0.08145497621396262, 0.08145497621396262, 0.10181872026745328, 0.06109123216047197, 0.9078164279434076, 0.05726278287551383, 0.05726278287551383, 0.22905113150205533, 0.05726278287551383, 0.11452556575102767, 0.05726278287551383, 0.05726278287551383, 0.22905113150205533, 0.05726278287551383, 0.05726278287551383, 0.3929694004766639, 0.19648470023833195, 0.19648470023833195, 0.899758515279414, 0.45912751592594686, 0.28248197236973854, 0.28248197236973854, 0.28248197236973854, 0.45852967600287897, 0.15367993620875212, 0.15367993620875212, 0.07683996810437606, 0.15367993620875212, 0.07683996810437606, 0.07683996810437606, 0.07683996810437606, 0.15367993620875212, 0.15367993620875212, 0.8946467460658437, 0.9045533258084968, 0.48283031096290685, 0.4684946186850259, 0.9077097052001364, 0.45963705593139226, 0.6601530006799543, 0.22005100022665142, 0.8903125041431444, 0.3472093594848468, 0.3472093594848468, 0.48285307594270943, 0.1940733196468611, 0.3881466392937222, 0.1940733196468611, 0.8946451736932091, 0.3580137027624416, 0.3580137027624416, 0.6777196887066625, 0.2322629501585439, 0.4645259003170878, 0.2322629501585439, 0.9078175598573399, 0.4655880197367752, 0.6845527045435853, 0.16417788263950273, 0.04104447065987568, 0.2052223532993784, 0.08208894131975136, 0.12313341197962704, 0.08208894131975136, 0.04104447065987568, 0.08208894131975136, 0.04104447065987568, 0.04104447065987568, 0.04104447065987568, 0.08208894131975136, 0.11322615909126751, 0.22645231818253503, 0.22645231818253503, 0.11322615909126751, 0.11322615909126751, 0.3396784772738025, 0.5737710683038031, 0.19125702276793435, 0.19125702276793435, 0.7876518575473204, 0.13864181529471645, 0.13864181529471645, 0.41592544588414937, 0.13864181529471645, 0.13864181529471645, 0.13864181529471645, 0.546799434257859, 0.2733997171289295, 0.5317300417400674, 0.2658650208700337, 0.9045576355964803, 0.6715441293435488, 0.828656781399436, 0.19673527522522127, 0.39347055045044255, 0.19673527522522127, 0.19673527522522127, 0.8902990215968619, 0.153471936766558, 0.153471936766558, 0.153471936766558, 0.46041581029967393, 0.153471936766558, 0.3885524876509245, 0.19427624382546224, 0.19427624382546224, 0.19427624382546224, 0.8811230798238512, 0.6979861209868956, 0.3921325348671605, 0.19606626743358024, 0.19606626743358024, 0.19606626743358024, 0.059340091074747685, 0.11868018214949537, 0.059340091074747685, 0.17802027322424308, 0.059340091074747685, 0.23736036429899074, 0.11868018214949537, 0.059340091074747685, 0.059340091074747685, 0.059340091074747685, 0.059340091074747685, 0.9076465989608542, 0.36066524177652093, 0.36066524177652093, 0.6580568231273473, 0.894646164050737, 0.9126677924702126, 0.1324856127626707, 0.1324856127626707, 0.10304436548207721, 0.07360311820148373, 0.05888249456118698, 0.05888249456118698, 0.05888249456118698, 0.02944124728059349, 0.04416187092089023, 0.05888249456118698, 0.07360311820148373, 0.02944124728059349, 0.16192686004326418, 0.907640271798981, 0.9045565310417724, 0.8972211009033956, 0.3032555808819658, 0.3032555808819658, 0.4548833713229487, 0.4591281478509411, 0.2229269720543977, 0.4458539441087954, 0.2229269720543977, 0.12294310489822209, 0.49177241959288837, 0.24588620979644418, 0.12294310489822209, 0.6582512350245744, 0.2194170783415248, 0.9076429379279143, 0.9078125006475913, 0.9076468370463032, 0.8946452387512517, 0.46558703198306967, 0.4591278523257359, 0.9078119483106392, 0.4655888569429831, 0.9045527814128627, 0.4684920157397277, 0.6657309462101599, 0.912667801653328, 0.677425932265472, 0.22580864408849066, 0.8972203714741434, 0.4585332446205502, 0.8997536042239929, 0.2749138442807095, 0.549827688561419, 0.6882703665270419, 0.8946990824226604, 0.34448346397941554, 0.34448346397941554, 0.8811234162943865, 0.8903846666767596, 0.9045507547966186, 0.690136778019023, 0.10014721078074616, 0.05007360539037308, 0.15022081617111924, 0.05007360539037308, 0.20029442156149233, 0.05007360539037308, 0.10014721078074616, 0.05007360539037308, 0.10014721078074616, 0.10014721078074616, 0.05007360539037308, 0.05007360539037308, 0.8903002132696767, 0.9076471879749302, 0.23025880396898651, 0.46051760793797303, 0.23025880396898651, 0.45963701913053434, 0.6882715128190902, 0.10943694911080011, 0.10943694911080011, 0.054718474555400055, 0.10943694911080011, 0.054718474555400055, 0.21887389822160022, 0.10943694911080011, 0.054718474555400055, 0.054718474555400055, 0.054718474555400055, 0.054718474555400055, 0.054718474555400055, 0.054718474555400055, 0.13560603350357278, 0.4068181005107184, 0.13560603350357278, 0.27121206700714556, 0.13560603350357278, 0.9078135957287271, 0.5746140908841119, 0.19153803029470393, 0.19153803029470393, 0.46849294677818687, 0.08543740143780872, 0.17087480287561743, 0.17087480287561743, 0.34174960575123486, 0.08543740143780872, 0.08543740143780872, 0.08543740143780872, 0.245657986385158, 0.368486979577737, 0.122828993192579, 0.122828993192579, 0.122828993192579, 0.122828993192579, 0.9067559154246335, 0.0765865536663908, 0.0765865536663908, 0.0382932768331954, 0.11487983049958621, 0.11487983049958621, 0.0765865536663908, 0.0382932768331954, 0.0765865536663908, 0.0382932768331954, 0.1531731073327816, 0.0765865536663908, 0.0765865536663908, 0.0765865536663908, 0.9126637801983513, 0.4684900600305816, 0.6979861587589659, 0.8946404834208423, 0.827555691682432, 0.8946442680448251, 0.6777136186630531, 0.4681664764618349, 0.4591281224059132, 0.4506937549285452, 0.1502312516428484, 0.1502312516428484, 0.1502312516428484, 0.1502312516428484, 0.45853403443552915, 0.8811237026530536, 0.8275573987708699, 0.8972209403101209, 0.9076459052891873, 0.6736764623859791, 0.6868808120236991, 0.3379154043499365, 0.16895770217496825, 0.3379154043499365, 0.16895770217496825, 0.8972553007294173, 0.4684911126956518, 0.11384799949154747, 0.11384799949154747, 0.11384799949154747, 0.05692399974577374, 0.05692399974577374, 0.11384799949154747, 0.05692399974577374, 0.05692399974577374, 0.05692399974577374, 0.05692399974577374, 0.1707719992373212, 0.05692399974577374, 0.054631111253357664, 0.10926222250671533, 0.16389333376007298, 0.10926222250671533, 0.21852444501343066, 0.054631111253357664, 0.054631111253357664, 0.054631111253357664, 0.054631111253357664, 0.054631111253357664, 0.054631111253357664, 0.4596379335430091, 0.6803208900555312, 0.11731507227527331, 0.058657536137636655, 0.11731507227527331, 0.058657536137636655, 0.23463014455054662, 0.11731507227527331, 0.058657536137636655, 0.058657536137636655, 0.11731507227527331, 0.3174096748294164, 0.10580322494313879, 0.21160644988627758, 0.3174096748294164, 0.6776447645270322, 0.22588158817567738, 0.8162702243355089, 0.8946406293072143, 0.13687730561738984, 0.13687730561738984, 0.2737546112347797, 0.4106319168521695, 0.13687730561738984, 0.1722690395244399, 0.3445380790488798, 0.1722690395244399, 0.1722690395244399, 0.45963812200445553, 0.7051516890628309, 0.03666523658986644, 0.2566566561290651, 0.03666523658986644, 0.03666523658986644, 0.03666523658986644, 0.14666094635946575, 0.10999570976959933, 0.07333047317973287, 0.03666523658986644, 0.03666523658986644, 0.07333047317973287, 0.07333047317973287, 0.03666523658986644, 0.08111010610505125, 0.08111010610505125, 0.08111010610505125, 0.1622202122101025, 0.08111010610505125, 0.08111010610505125, 0.08111010610505125, 0.24333031831515373, 0.08111010610505125, 0.08111010610505125, 0.8811235108250197, 0.45912895392872094, 0.8021060670424958, 0.9126678690130872, 0.48282079582217086, 0.9045700421997108, 0.45913336042406283, 0.6979861614052064, 0.8902974368469017, 0.12354624219223737, 0.12354624219223737, 0.24709248438447473, 0.3706387265767121, 0.12354624219223737, 0.12354624219223737, 0.13919599158484444, 0.06959799579242222, 0.10439699368863334, 0.17399498948105555, 0.06959799579242222, 0.06959799579242222, 0.03479899789621111, 0.13919599158484444, 0.13919599158484444, 0.03479899789621111, 0.9045554773139575, 0.06938913729160835, 0.06938913729160835, 0.034694568645804176, 0.20816741187482507, 0.06938913729160835, 0.10408370593741254, 0.06938913729160835, 0.034694568645804176, 0.06938913729160835, 0.034694568645804176, 0.1387782745832167, 0.034694568645804176, 0.06938913729160835, 0.034694568645804176, 0.9078203290562206, 0.15221568813050018, 0.15221568813050018, 0.15221568813050018, 0.07610784406525009, 0.07610784406525009, 0.22832353219575027, 0.15221568813050018, 0.07610784406525009, 0.19528430494538532, 0.07101247452559466, 0.10651871178839199, 0.10651871178839199, 0.053259355894195996, 0.07101247452559466, 0.03550623726279733, 0.07101247452559466, 0.017753118631398664, 0.12427183041979066, 0.07101247452559466, 0.053259355894195996, 0.017753118631398664, 0.03550623726279733, 0.8794291883657214, 0.6868803943159596, 0.907642860853854, 0.09120963123845703, 0.06080642082563802, 0.06080642082563802, 0.03040321041281901, 0.06080642082563802, 0.06080642082563802, 0.06080642082563802, 0.03040321041281901, 0.09120963123845703, 0.06080642082563802, 0.12161284165127605, 0.2432256833025521, 0.03040321041281901, 0.6657385787144698, 0.12440651489227177, 0.12440651489227177, 0.12440651489227177, 0.3732195446768153, 0.12440651489227177, 0.12440651489227177, 0.12440651489227177, 0.31587087892974935, 0.07896771973243734, 0.07896771973243734, 0.15793543946487468, 0.07896771973243734, 0.07896771973243734, 0.07896771973243734, 0.15793543946487468, 0.8160846890110037, 0.9078173648439709, 0.48283482398812355, 0.11958676857554783, 0.11958676857554783, 0.11958676857554783, 0.059793384287773914, 0.059793384287773914, 0.059793384287773914, 0.059793384287773914, 0.059793384287773914, 0.059793384287773914, 0.059793384287773914, 0.059793384287773914, 0.11958676857554783, 0.17938015286332176, 0.9045508405616123, 0.46849324252968644, 0.5455110461826731, 0.13637776154566827, 0.13637776154566827, 0.13637776154566827, 0.10507867816555519, 0.10507867816555519, 0.10507867816555519, 0.21015735633111038, 0.5253933908277759, 0.8972224346007266, 0.482836095822852, 0.7137655445754502, 0.6868808120236991, 0.4596371653669844, 0.35185267038272694, 0.5277790055740904, 0.09728095042853802, 0.19456190085707603, 0.04864047521426901, 0.04864047521426901, 0.09728095042853802, 0.09728095042853802, 0.04864047521426901, 0.09728095042853802, 0.04864047521426901, 0.04864047521426901, 0.04864047521426901, 0.19456190085707603, 0.16798362450127732, 0.6719344980051093, 0.16798362450127732, 0.1993263583402108, 0.06644211944673695, 0.06644211944673695, 0.11073686574456157, 0.04429474629782463, 0.06644211944673695, 0.06644211944673695, 0.08858949259564926, 0.04429474629782463, 0.04429474629782463, 0.022147373148912314, 0.022147373148912314, 0.1328842388934739, 0.06663764187509943, 0.06663764187509943, 0.09995646281264917, 0.09995646281264917, 0.03331882093754972, 0.06663764187509943, 0.06663764187509943, 0.06663764187509943, 0.09995646281264917, 0.06663764187509943, 0.13327528375019887, 0.06663764187509943, 0.03331882093754972, 0.06663764187509943, 0.9076427837798069, 0.9045522672989775, 0.45853274658471216, 0.9126625500905119, 0.3747133501644177, 0.2498089001096118, 0.1249044500548059, 0.1249044500548059, 0.5444959443181712, 0.2722479721590856, 0.8997597181600799, 0.16630398655375525, 0.04751542472964435, 0.11878856182411088, 0.07127313709446653, 0.04751542472964435, 0.0950308494592887, 0.07127313709446653, 0.0950308494592887, 0.0950308494592887, 0.0950308494592887, 0.023757712364822176, 0.04751542472964435, 0.4551304583530437, 0.22756522917652186, 0.22756522917652186, 0.8902997752001918, 0.8902999840107857, 0.9076458780729673, 0.9126678171832548, 0.8972526496862011, 0.8946428382646542, 0.8811252597299117, 0.05423298196504484, 0.05423298196504484, 0.21693192786017937, 0.16269894589513453, 0.16269894589513453, 0.05423298196504484, 0.05423298196504484, 0.05423298196504484, 0.05423298196504484, 0.10846596393008968, 0.05423298196504484, 0.05423298196504484, 0.8903078785012433, 0.8276355838271102, 0.4591282577704716, 0.0681760299820423, 0.15339606745959516, 0.0681760299820423, 0.03408801499102115, 0.11930805246857401, 0.03408801499102115, 0.03408801499102115, 0.03408801499102115, 0.10226404497306345, 0.017044007495510573, 0.051132022486531724, 0.051132022486531724, 0.10226404497306345, 0.11930805246857401, 0.017044007495510573, 0.054666102584528045, 0.10933220516905609, 0.10933220516905609, 0.054666102584528045, 0.16399830775358415, 0.054666102584528045, 0.10933220516905609, 0.10933220516905609, 0.054666102584528045, 0.21866441033811218, 0.19233239099651428, 0.19233239099651428, 0.38466478199302856, 0.19233239099651428, 0.4828364370479436, 0.35185267038272694, 0.5277790055740904, 0.46849349503459986, 0.15068053780543653, 0.30136107561087305, 0.4520416134163096, 0.15068053780543653, 0.46558260522427986, 0.1292618618661844, 0.1292618618661844, 0.2585237237323688, 0.1292618618661844, 0.3877855855985532, 0.13706672401702832, 0.13706672401702832, 0.27413344803405665, 0.13706672401702832, 0.13706672401702832, 0.13706672401702832, 0.1876073273698995, 0.09380366368494975, 0.04690183184247487, 0.23450915921237436, 0.14070549552742462, 0.04690183184247487, 0.04690183184247487, 0.09380366368494975, 0.04690183184247487, 0.04690183184247487, 0.6804642065710599, 0.6736745676834828, 0.6736754849035964, 0.12902427140856335, 0.12902427140856335, 0.12902427140856335, 0.2580485428171267, 0.06451213570428167, 0.06451213570428167, 0.12902427140856335, 0.06451213570428167, 0.06451213570428167, 0.9126671418562968, 0.13056602343255452, 0.06528301171627726, 0.06528301171627726, 0.06528301171627726, 0.26113204686510905, 0.13056602343255452, 0.06528301171627726, 0.06528301171627726, 0.06528301171627726, 0.06528301171627726, 0.230117160784362, 0.230117160784362, 0.460234321568724, 0.3472118321820686, 0.3472118321820686, 0.4656311758312802, 0.9126663807220321, 0.9078174453663653, 0.19354477823261798, 0.19354477823261798, 0.38708955646523596, 0.19354477823261798, 0.890298107255901, 0.661756520282667, 0.22058550676088898, 0.4657781627958528, 0.4684928177087134, 0.12571802588237557, 0.12571802588237557, 0.12571802588237557, 0.12571802588237557, 0.3771540776471268, 0.12571802588237557, 0.34693839034680035, 0.34693839034680035, 0.07993324003603199, 0.07993324003603199, 0.15986648007206397, 0.15986648007206397, 0.23979972010809594, 0.07993324003603199, 0.07993324003603199, 0.07993324003603199, 0.805097930048809, 0.1015137353229605, 0.03383791177432017, 0.16918955887160084, 0.03383791177432017, 0.03383791177432017, 0.13535164709728068, 0.06767582354864034, 0.06767582354864034, 0.16918955887160084, 0.06767582354864034, 0.03383791177432017, 0.06767582354864034, 0.03383791177432017, 0.03383791177432017, 0.2111268831092964, 0.08445075324371856, 0.08445075324371856, 0.04222537662185928, 0.08445075324371856, 0.04222537662185928, 0.16890150648743713, 0.04222537662185928, 0.04222537662185928, 0.04222537662185928, 0.04222537662185928, 0.12667612986557783, 0.04222537662185928, 0.46558761606301047, 0.9076440169661324, 0.8162726031837291, 0.45912853083521815, 0.6616098158260763, 0.16540245395651906, 0.16540245395651906, 0.458533363339737, 0.679468596415516, 0.9076421662147806, 0.45912665402593167, 0.9076409666465736, 0.09707364533082807, 0.09707364533082807, 0.09707364533082807, 0.19414729066165615, 0.2912209359924842, 0.09707364533082807, 0.09707364533082807, 0.09707364533082807, 0.17558432089693143, 0.08779216044846572, 0.08779216044846572, 0.04389608022423286, 0.04389608022423286, 0.04389608022423286, 0.04389608022423286, 0.08779216044846572, 0.08779216044846572, 0.13168824067269858, 0.04389608022423286, 0.04389608022423286, 0.04389608022423286, 0.04389608022423286, 0.3408982498871003, 0.17044912494355016, 0.17044912494355016, 0.17044912494355016, 0.17044912494355016, 0.2584482826617909, 0.15506896959707453, 0.10337931306471634, 0.15506896959707453, 0.05168965653235817, 0.05168965653235817, 0.05168965653235817, 0.05168965653235817, 0.05168965653235817, 0.05168965653235817, 0.1195821729939573, 0.1195821729939573, 0.05979108649697865, 0.1195821729939573, 0.05979108649697865, 0.05979108649697865, 0.05979108649697865, 0.05979108649697865, 0.05979108649697865, 0.29895543248489326, 0.05979108649697865, 0.3435535492063512, 0.3435535492063512, 0.112986862894353, 0.112986862894353, 0.112986862894353, 0.112986862894353, 0.112986862894353, 0.338960588683059, 0.112986862894353, 0.112986862894353, 0.27338919584198734, 0.5467783916839747, 0.22258338850284537, 0.22258338850284537, 0.333875082754268, 0.11129169425142268, 0.11129169425142268, 0.8903007379167742, 0.45853240884893126, 0.4585344359524652, 0.6777150095293969, 0.1801668611864078, 0.0900834305932039, 0.04504171529660195, 0.0900834305932039, 0.04504171529660195, 0.0900834305932039, 0.04504171529660195, 0.0900834305932039, 0.1801668611864078, 0.04504171529660195, 0.04504171529660195, 0.0900834305932039, 0.04504171529660195, 0.890299075988205, 0.22952330085448636, 0.4590466017089727, 0.22952330085448636, 0.6979861640514468, 0.4655873141979865, 0.6580434645625739, 0.2334765345570046, 0.4669530691140092, 0.06469273326308272, 0.12938546652616545, 0.12938546652616545, 0.2587709330523309, 0.12938546652616545, 0.19407819978924815, 0.06469273326308272, 0.06469273326308272, 0.15309551737891328, 0.15309551737891328, 0.07654775868945664, 0.15309551737891328, 0.07654775868945664, 0.07654775868945664, 0.22964327606836993, 0.15309551737891328, 0.5862328780785763, 0.14655821951964407, 0.14655821951964407, 0.14655821951964407, 0.8903039541643243, 0.8972185229653086, 0.22990093934086658, 0.45980187868173317, 0.22990093934086658, 0.713765578469986, 0.45912915148970856, 0.696060008965329, 0.3480300044826645, 0.8997562610319937, 0.4661363506908447, 0.6580680124442952, 0.6892773314956065, 0.46849323648614205, 0.46558679539513, 0.4596370609019125, 0.4596380484168164, 0.8997564870597704, 0.894646583790135, 0.6693805781851019, 0.8972259786031227, 0.4591307126537017, 0.4828339750916383, 0.713765578469986, 0.713765578469986, 0.8997564615731531, 0.8935822061703581, 0.8967262403142469, 0.8850062312358868, 0.37147009822017346, 0.12382336607339116, 0.12382336607339116, 0.12382336607339116, 0.12382336607339116, 0.12382336607339116, 0.12382336607339116, 0.8076506774588907, 0.45963940979195494, 0.21042063584765153, 0.10521031792382576, 0.21042063584765153, 0.21042063584765153, 0.10521031792382576, 0.3156309537714773, 0.19516713467409688, 0.09758356733704844, 0.19516713467409688, 0.09758356733704844, 0.09758356733704844, 0.29275070201114534, 0.09758356733704844, 0.9076439398918889, 0.4516748368590793, 0.22583741842953964, 0.22583741842953964, 0.8972978944352066, 0.9078143547144312, 0.6783446699545218, 0.2261148899848406, 0.5551565618556205, 0.27757828092781023, 0.8972229594888768, 0.46558658578271783, 0.8946432358783977, 0.6756977626226907, 0.907728478228423, 0.459615132718861, 0.4655827615530195, 0.037660935977283885, 0.09415233994320972, 0.15064374390913554, 0.11298280793185166, 0.037660935977283885, 0.11298280793185166, 0.05649140396592583, 0.07532187195456777, 0.09415233994320972, 0.018830467988641943, 0.037660935977283885, 0.018830467988641943, 0.09415233994320972, 0.018830467988641943, 0.8997550058519347, 0.6979861156944153, 0.783285413841484, 0.195821353460371, 0.46558496880180095, 0.34693939606719765, 0.34693939606719765, 0.8275567813030059, 0.9078156704920363, 0.8972209530380997, 0.07145902709320728, 0.14291805418641457, 0.07145902709320728, 0.07145902709320728, 0.28583610837282913, 0.14291805418641457, 0.07145902709320728, 0.07145902709320728, 0.07145902709320728, 0.07145902709320728, 0.8811237026530536, 0.4474756682671013, 0.4474756682671013, 0.9078144802879079, 0.2887522326579783, 0.5775044653159566, 0.15192777243850494, 0.07596388621925247, 0.3038555448770099, 0.15192777243850494, 0.07596388621925247, 0.07596388621925247, 0.07596388621925247, 0.07596388621925247, 0.16866732299526124, 0.08433366149763062, 0.21083415374407657, 0.08433366149763062, 0.04216683074881531, 0.08433366149763062, 0.08433366149763062, 0.04216683074881531, 0.16866732299526124, 0.12650049224644594, 0.8903017346842441, 0.6736771672506673, 0.17156737295409882, 0.17156737295409882, 0.17156737295409882, 0.17156737295409882, 0.34313474590819765, 0.3851859542645248, 0.3851859542645248, 0.1925929771322624, 0.16509514298693392, 0.09905708579216035, 0.033019028597386785, 0.033019028597386785, 0.06603805719477357, 0.16509514298693392, 0.06603805719477357, 0.09905708579216035, 0.09905708579216035, 0.033019028597386785, 0.13207611438954714, 0.21385711354632567, 0.21385711354632567, 0.10692855677316283, 0.10692855677316283, 0.10692855677316283, 0.10692855677316283, 0.10692855677316283, 0.21385711354632567, 0.6882708052368745, 0.0493566193600892, 0.0493566193600892, 0.1974264774403568, 0.0493566193600892, 0.0987132387201784, 0.0987132387201784, 0.1480698580802676, 0.0987132387201784, 0.0493566193600892, 0.0987132387201784, 0.0493566193600892, 0.4071378499002971, 0.13571261663343237, 0.13571261663343237, 0.13571261663343237, 0.13571261663343237, 0.4576078671888025, 0.22880393359440124, 0.22880393359440124, 0.10106411703461929, 0.050532058517309644, 0.15159617555192895, 0.050532058517309644, 0.20212823406923858, 0.10106411703461929, 0.10106411703461929, 0.20212823406923858, 0.050532058517309644, 0.9126686993934311, 0.9126668001036329, 0.06667322263879971, 0.033336611319399856, 0.06667322263879971, 0.06667322263879971, 0.13334644527759942, 0.13334644527759942, 0.06667322263879971, 0.233356279235799, 0.033336611319399856, 0.033336611319399856, 0.06667322263879971, 0.033336611319399856, 0.16871888938345697, 0.16871888938345697, 0.11247925958897131, 0.11247925958897131, 0.05623962979448566, 0.05623962979448566, 0.05623962979448566, 0.05623962979448566, 0.16871888938345697, 0.05623962979448566, 0.45865276856432496, 0.45865276856432496, 0.07765064007640583, 0.07765064007640583, 0.11647596011460876, 0.07765064007640583, 0.2717772402674204, 0.11647596011460876, 0.038825320038202916, 0.038825320038202916, 0.038825320038202916, 0.038825320038202916, 0.07765064007640583, 0.8946433176558993, 0.9076460343753736, 0.6751895436555055, 0.2700758174622022, 0.1350379087311011, 0.45912739872052133, 0.2683729472205474, 0.5367458944410948, 0.27520025761428407, 0.5504005152285681, 0.11481294990523512, 0.22962589981047024, 0.11481294990523512, 0.11481294990523512, 0.11481294990523512, 0.11481294990523512, 0.22962589981047024, 0.15352994193186392, 0.061411976772745576, 0.12282395354549115, 0.09211796515911835, 0.061411976772745576, 0.061411976772745576, 0.061411976772745576, 0.12282395354549115, 0.030705988386372788, 0.09211796515911835, 0.061411976772745576, 0.030705988386372788, 0.030705988386372788, 0.030705988386372788, 0.13452613955337359, 0.5381045582134943, 0.13452613955337359, 0.13452613955337359, 0.13452613955337359, 0.11530099235108825, 0.07686732823405883, 0.03843366411702941, 0.03843366411702941, 0.11530099235108825, 0.03843366411702941, 0.07686732823405883, 0.15373465646811765, 0.07686732823405883, 0.07686732823405883, 0.03843366411702941, 0.19216832058514707, 0.07579584874521969, 0.15159169749043938, 0.07579584874521969, 0.15159169749043938, 0.2273875462356591, 0.07579584874521969, 0.07579584874521969, 0.07579584874521969, 0.07579584874521969, 0.4655871942685539, 0.17467258699359264, 0.3493451739871853, 0.17467258699359264, 0.17467258699359264, 0.17467258699359264, 0.6892764580735781, 0.3852905365160109, 0.09632263412900273, 0.09632263412900273, 0.09632263412900273, 0.09632263412900273, 0.09632263412900273, 0.09632263412900273, 0.09632263412900273, 0.06003764961971206, 0.06003764961971206, 0.12007529923942412, 0.06003764961971206, 0.06003764961971206, 0.12007529923942412, 0.12007529923942412, 0.18011294885913617, 0.06003764961971206, 0.06003764961971206, 0.06003764961971206, 0.12007529923942412, 0.554061478389759, 0.2770307391948795, 0.15138122565035553, 0.15138122565035553, 0.15138122565035553, 0.4541436769510666, 0.15138122565035553, 0.45670386091198467, 0.22835193045599234, 0.8946448940616394, 0.4828358786798631, 0.6979861209868956, 0.07408721055100698, 0.07408721055100698, 0.03704360527550349, 0.03704360527550349, 0.03704360527550349, 0.03704360527550349, 0.14817442110201395, 0.14817442110201395, 0.07408721055100698, 0.03704360527550349, 0.07408721055100698, 0.07408721055100698, 0.14817442110201395, 0.4596388946760893, 0.05431921785229848, 0.1357980446307462, 0.05431921785229848, 0.08147882677844773, 0.08147882677844773, 0.05431921785229848, 0.10863843570459696, 0.05431921785229848, 0.1357980446307462, 0.05431921785229848, 0.08147882677844773, 0.02715960892614924, 0.05431921785229848, 0.15450102828207257, 0.15450102828207257, 0.15450102828207257, 0.15450102828207257, 0.30900205656414514, 0.20701189435266976, 0.31051784152900463, 0.31051784152900463, 0.10350594717633488, 0.10350594717633488, 0.6580682093435902, 0.13648501847853806, 0.2047275277178071, 0.06824250923926903, 0.06824250923926903, 0.13648501847853806, 0.13648501847853806, 0.06824250923926903, 0.2729700369570761, 0.07021019409110925, 0.10531529113666388, 0.035105097045554624, 0.07021019409110925, 0.1404203881822185, 0.035105097045554624, 0.035105097045554624, 0.07021019409110925, 0.1404203881822185, 0.07021019409110925, 0.035105097045554624, 0.07021019409110925, 0.07021019409110925, 0.035105097045554624, 0.1691535326431941, 0.1127690217621294, 0.0563845108810647, 0.0563845108810647, 0.0563845108810647, 0.1691535326431941, 0.2255380435242588, 0.0563845108810647, 0.0563845108810647, 0.0563845108810647, 0.08471628175188504, 0.1694325635037701, 0.2541488452556551, 0.2541488452556551, 0.08471628175188504, 0.08471628175188504, 0.08471628175188504, 0.08471628175188504, 0.8972252204966978, 0.08170385203292199, 0.016340770406584396, 0.05719269642304539, 0.09804462243950639, 0.10621500764279858, 0.05719269642304539, 0.03268154081316879, 0.07353346682962979, 0.13889654845596738, 0.06536308162633758, 0.06536308162633758, 0.05719269642304539, 0.040851926016460996, 0.049022311219753194, 0.049022311219753194, 0.0502424427626134, 0.2009697710504536, 0.0502424427626134, 0.0502424427626134, 0.2009697710504536, 0.15072732828784022, 0.0502424427626134, 0.15072732828784022, 0.1004848855252268, 0.23074413469362837, 0.6922324040808852, 0.10489544002510136, 0.20979088005020272, 0.10489544002510136, 0.10489544002510136, 0.10489544002510136, 0.10489544002510136, 0.10489544002510136, 0.05244772001255068, 0.05244772001255068, 0.05244772001255068, 0.05244772001255068, 0.10342338614238705, 0.31027015842716116, 0.10342338614238705, 0.10342338614238705, 0.2068467722847741, 0.10342338614238705, 0.10342338614238705, 0.4458324397034455, 0.22291621985172275, 0.22291621985172275, 0.45912800265981535, 0.4132186484105625, 0.1377395494701875, 0.1377395494701875, 0.1377395494701875, 0.1377395494701875, 0.8997562267668271, 0.6979861183406554, 0.44777626712794494, 0.22388813356397247, 0.22388813356397247, 0.5835860581521012, 0.1945286860507004, 0.1945286860507004, 0.3491136590565919, 0.3491136590565919, 0.15759335736458893, 0.15759335736458893, 0.15759335736458893, 0.15759335736458893, 0.31518671472917786, 0.07402528449644286, 0.11103792674466428, 0.03701264224822143, 0.07402528449644286, 0.1480505689928857, 0.07402528449644286, 0.07402528449644286, 0.07402528449644286, 0.07402528449644286, 0.03701264224822143, 0.03701264224822143, 0.03701264224822143, 0.1480505689928857, 0.03701264224822143, 0.10866859677596415, 0.10866859677596415, 0.2173371935519283, 0.10866859677596415, 0.10866859677596415, 0.10866859677596415, 0.32600579032789245, 0.17540602731798163, 0.17540602731798163, 0.11693735154532109, 0.058468675772660544, 0.058468675772660544, 0.23387470309064218, 0.058468675772660544, 0.058468675772660544, 0.058468675772660544, 0.058468675772660544, 0.8972229141999997, 0.350071346395652, 0.350071346395652, 0.9076414933110579, 0.8811241920194731, 0.896722695767336, 0.2518295058096883, 0.08394316860322944, 0.08394316860322944, 0.16788633720645887, 0.08394316860322944, 0.04197158430161472, 0.08394316860322944, 0.04197158430161472, 0.04197158430161472, 0.04197158430161472, 0.04197158430161472, 0.08394316860322944, 0.7137655445754502, 0.8946447305725372, 0.8946435912617808, 0.6580688813104933, 0.17177759961959485, 0.3435551992391897, 0.3435551992391897, 0.4655894308207677, 0.881126816812273, 0.8972229778895269, 0.10300059308599034, 0.10300059308599034, 0.309001779257971, 0.10300059308599034, 0.10300059308599034, 0.10300059308599034, 0.10300059308599034, 0.20600118617198068], \"Term\": [\"1\", \"12\", \"12\", \"12\", \"16\", \"16\", \"1968\", \"1968\", \"2\", \"2\", \"2\", \"2\", \"5\", \"68\", \"88\", \"abalar\\u00e3o\", \"abdel\", \"abel\", \"abertura\", \"abomin\\u00e1vel\", \"acaba\", \"acaba\", \"acaba\", \"acaba\", \"acaba\", \"acaba\", \"acaba\", \"acaba\", \"academia\", \"academia\", \"academias\", \"acampamento\", \"acampamento\", \"acampamento\", \"acontecendo\", \"acontecendo\", \"acontecendo\", \"adama\", \"addams\", \"adolescente\", \"adolescente\", \"adolescente\", \"adolescente\", \"adolescente\", \"adolescente\", \"adolescente\", \"adolescente\", \"adolescente\", \"adolescente\", \"adolescente\", \"adolescente\", \"adolescente\", \"advogado\", \"advogado\", \"advogado\", \"advogado\", \"advogado\", \"afastada\", \"aftermath\", \"agente\", \"agente\", \"agente\", \"agente\", \"agente\", \"agente\", \"agente\", \"agente\", \"agente\", \"agente\", \"agente\", \"agente\", \"agora\", \"agora\", \"agora\", \"agora\", \"agora\", \"agora\", \"agora\", \"agora\", \"agora\", \"agora\", \"agora\", \"agora\", \"agora\", \"aidan\", \"ajuda\", \"ajuda\", \"ajuda\", \"ajuda\", \"ajuda\", \"ajuda\", \"ajuda\", \"ajuda\", \"ajuda\", \"ajuda\", \"ajuda\", \"ajuda\", \"ajuda\", \"aki\", \"alain\", \"alegria\", \"alesia\", \"alfie\", \"alice\", \"alice\", \"alm\\u00e1sy\", \"alto\", \"alto\", \"alto\", \"ama\", \"ama\", \"ama\", \"ama\", \"ama\", \"ama\", \"american\", \"amigo\", \"amigo\", \"amigo\", \"amigo\", \"amigo\", \"amigo\", \"amigo\", \"amigo\", \"amigo\", \"amigo\", \"amigo\", \"amigo\", \"amigo\", \"amigo\", \"amigos\", \"amigos\", \"amigos\", \"amigos\", \"amigos\", \"amigos\", \"amigos\", \"amigos\", \"amigos\", \"amigos\", \"amigos\", \"amigos\", \"amigos\", \"amigos\", \"amigos\", \"amizade\", \"amizade\", \"amizade\", \"amizade\", \"amizade\", \"amizade\", \"amizade\", \"amizade\", \"amizade\", \"amor\", \"amor\", \"amor\", \"amor\", \"amor\", \"amor\", \"amor\", \"amor\", \"amor\", \"amor\", \"amor\", \"amor\", \"amor\", \"amor\", \"am\\u00e9rica\", \"am\\u00e9rica\", \"am\\u00e9rica\", \"am\\u00e9rica\", \"am\\u00e9rica\", \"ana\", \"anakin\", \"andersen\", \"ann\", \"annabelle\", \"anne\", \"anos\", \"anos\", \"anos\", \"anos\", \"anos\", \"anos\", \"anos\", \"anos\", \"anos\", \"anos\", \"anos\", \"anos\", \"anos\", \"anos\", \"anos\", \"antes\", \"antes\", \"antes\", \"antes\", \"antes\", \"antes\", \"antes\", \"antes\", \"antes\", \"antes\", \"antes\", \"an\\u00fancio\", \"apaixona\", \"apaixona\", \"apaixona\", \"apaixona\", \"apaixona\", \"apaixona\", \"apaixona\", \"apaixona\", \"aparentemente\", \"aparentemente\", \"aparentemente\", \"aparentemente\", \"aparentemente\", \"aparentemente\", \"apar\\u00eancia\", \"apenas\", \"apenas\", \"apenas\", \"apenas\", \"apenas\", \"apenas\", \"apenas\", \"apenas\", \"apenas\", \"apenas\", \"apenas\", \"apenas\", \"apenas\", \"aplicativo\", \"ap\\u00f3s\", \"ap\\u00f3s\", \"ap\\u00f3s\", \"ap\\u00f3s\", \"ap\\u00f3s\", \"ap\\u00f3s\", \"ap\\u00f3s\", \"ap\\u00f3s\", \"ap\\u00f3s\", \"ap\\u00f3s\", \"ap\\u00f3s\", \"ap\\u00f3s\", \"ap\\u00f3s\", \"ap\\u00f3s\", \"arador\", \"arathorn\", \"arkin\", \"armado\", \"army\", \"arrastado\", \"arshad\", \"arthur\", \"arthur\", \"arthur\", \"arthur\", \"assassinato\", \"assassinato\", \"assassinato\", \"assassinato\", \"assassinato\", \"assassinato\", \"assassinato\", \"assassinato\", \"assassinato\", \"assassinato\", \"assassinato\", \"assassinato\", \"assassinato\", \"assassino\", \"assassino\", \"assassino\", \"assassino\", \"assassino\", \"assassino\", \"assassino\", \"assassino\", \"assassino\", \"assassino\", \"assassino\", \"assassino\", \"assim\", \"assim\", \"assim\", \"assim\", \"assim\", \"assim\", \"assim\", \"assim\", \"assim\", \"assim\", \"assim\", \"atira\", \"atira\", \"atirador\", \"ato\", \"ato\", \"ato\", \"ato\", \"ato\", \"ato\", \"atol\", \"atores\", \"atriz\", \"autobots\", \"autoimposto\", \"avan\\u00e7a\", \"averill\", \"ayahuasca\", \"a\\u00e7\\u00e3o\", \"a\\u00e7\\u00e3o\", \"a\\u00e7\\u00e3o\", \"a\\u00e7\\u00e3o\", \"a\\u00e7\\u00e3o\", \"a\\u00e7\\u00e3o\", \"a\\u00e7\\u00e3o\", \"a\\u00e7\\u00e3o\", \"babe\", \"back\", \"baddi\", \"baixo\", \"baixo\", \"baixo\", \"baixo\", \"baixo\", \"baixo\", \"bandido\", \"bandido\", \"bandido\", \"barrytown\", \"baseado\", \"baseado\", \"baseado\", \"baseado\", \"baseado\", \"baseado\", \"baseado\", \"baseado\", \"baseado\", \"baseado\", \"baskin\", \"beat\", \"bebida\", \"beer\", \"beethoven\", \"bernardo\", \"beverly\", \"bilh\\u00f5es\", \"bill\", \"bill\", \"billy\", \"billy\", \"billy\", \"bob\", \"bob\", \"bob\", \"bob\", \"bobby\", \"bobby\", \"bones\", \"bong\", \"bourne\", \"boy\", \"boy\", \"brady\", \"branca\", \"brandi\", \"breve\", \"breve\", \"brit\", \"brooks\", \"bryn\", \"bucaneiros\", \"burton\", \"busca\", \"busca\", \"busca\", \"busca\", \"busca\", \"busca\", \"busca\", \"busca\", \"busca\", \"busca\", \"busca\", \"busca\", \"busca\", \"busca\", \"cabelo\", \"cable\", \"cabra\", \"cachorrinho\", \"cada\", \"cada\", \"cada\", \"cada\", \"cada\", \"cada\", \"cada\", \"cada\", \"cada\", \"cada\", \"cage\", \"camaradas\", \"camilla\", \"caminho\", \"caminho\", \"caminho\", \"caminho\", \"caminho\", \"caminho\", \"caminho\", \"caminho\", \"caminho\", \"caminho\", \"campbell\", \"campe\\u00e3o\", \"campe\\u00e3o\", \"campe\\u00e3o\", \"canal\", \"canal\", \"cantores\", \"can\\u00e7\\u00e3o\", \"capit\\u00e3o\", \"capit\\u00e3o\", \"capoeira\", \"captura\", \"captura\", \"capturados\", \"cara\", \"cara\", \"cara\", \"cara\", \"cara\", \"cara\", \"cara\", \"cara\", \"carnaval\", \"carrie\", \"carrie\", \"casa\", \"casa\", \"casa\", \"casa\", \"casa\", \"casa\", \"casa\", \"casa\", \"casa\", \"casa\", \"casa\", \"casa\", \"casa\", \"casa\", \"casal\", \"casal\", \"casal\", \"casal\", \"casal\", \"casal\", \"casal\", \"casal\", \"casal\", \"casal\", \"casal\", \"casamento\", \"casamento\", \"casamento\", \"casamento\", \"casamento\", \"casamento\", \"casamento\", \"casamento\", \"casamento\", \"casamento\", \"casamento\", \"casar\", \"casar\", \"casar\", \"casar\", \"casar\", \"casar\", \"casar\", \"caso\", \"caso\", \"caso\", \"caso\", \"caso\", \"caso\", \"caso\", \"caso\", \"caso\", \"caso\", \"caso\", \"caso\", \"caso\", \"caso\", \"cathy\", \"ca\\u00e7ada\", \"ca\\u00e7ada\", \"ca\\u00e7ador\", \"ca\\u00e7ador\", \"ca\\u00e7ador\", \"ca\\u00e7ador\", \"celtics\", \"cercado\", \"champion\", \"charlene\", \"charley\", \"cheech\", \"chefe\", \"chefe\", \"chefe\", \"chefe\", \"chefe\", \"chefe\", \"chefe\", \"chefe\", \"chefe\", \"chefe\", \"cheio\", \"cheio\", \"cheio\", \"cheio\", \"cheio\", \"cheio\", \"chong\", \"christian\", \"christopher\", \"christopher\", \"christopher\", \"cidade\", \"cidade\", \"cidade\", \"cidade\", \"cidade\", \"cidade\", \"cidade\", \"cidade\", \"cidade\", \"cidade\", \"cidade\", \"cidade\", \"cidade\", \"cidade\", \"cidade\", \"cientista\", \"cientista\", \"cientista\", \"cientista\", \"cientista\", \"cientista\", \"cinco\", \"cinco\", \"cinco\", \"cinco\", \"cinco\", \"cinco\", \"cinco\", \"cinco\", \"cinco\", \"cindel\", \"circo\", \"civiliza\\u00e7\\u00e3o\", \"clareanos\", \"classe\", \"classe\", \"classe\", \"claw\", \"clay\", \"clay\", \"cl\\u00e1ssico\", \"cl\\u00e1ssico\", \"colar\", \"cole\", \"colecionador\", \"colegas\", \"colegas\", \"colegas\", \"colegas\", \"colegas\", \"colegas\", \"colegas\", \"colis\\u00e3o\", \"colocarse\", \"come\\u00e7a\", \"come\\u00e7a\", \"come\\u00e7a\", \"come\\u00e7a\", \"come\\u00e7a\", \"come\\u00e7a\", \"come\\u00e7a\", \"come\\u00e7a\", \"come\\u00e7a\", \"come\\u00e7a\", \"come\\u00e7a\", \"come\\u00e7a\", \"come\\u00e7a\", \"come\\u00e7a\", \"come\\u00e7a\", \"come\\u00e7am\", \"come\\u00e7am\", \"come\\u00e7am\", \"come\\u00e7am\", \"come\\u00e7am\", \"come\\u00e7am\", \"come\\u00e7am\", \"come\\u00e7am\", \"come\\u00e7am\", \"come\\u00e7ou\", \"come\\u00e7ou\", \"come\\u00e7ou\", \"companheirismo\", \"completamente\", \"completo\", \"complexo\", \"complexo\", \"concedido\", \"confort\\u00e1vel\", \"conhece\", \"conhece\", \"conhece\", \"conhece\", \"conhece\", \"conhece\", \"conhece\", \"conhece\", \"conhece\", \"conhece\", \"conhece\", \"conhece\", \"conserta\", \"conta\", \"conta\", \"conta\", \"conta\", \"conta\", \"conta\", \"conta\", \"conta\", \"conta\", \"conta\", \"contadas\", \"contado\", \"contra\", \"contra\", \"contra\", \"contra\", \"contra\", \"contra\", \"contra\", \"contra\", \"contra\", \"contra\", \"contra\", \"contra\", \"contra\", \"contra\", \"cooper\", \"corey\", \"cornelius\", \"corpo\", \"corpo\", \"corpo\", \"corpo\", \"corpo\", \"corpo\", \"corporation\", \"cream\", \"crescentes\", \"crian\\u00e7a\", \"crian\\u00e7a\", \"crian\\u00e7a\", \"crian\\u00e7a\", \"crian\\u00e7a\", \"crian\\u00e7a\", \"crime\", \"crime\", \"crime\", \"crime\", \"crime\", \"crime\", \"crime\", \"crime\", \"crime\", \"crime\", \"crime\", \"crime\", \"crime\", \"crise\", \"crise\", \"crise\", \"crise\", \"crise\", \"crise\", \"cross\", \"cruikshank\", \"cuja\", \"cuja\", \"cuja\", \"cuja\", \"cuja\", \"cuja\", \"cylon\", \"c\\u00e9u\", \"c\\u00e9u\", \"c\\u00e9u\", \"dados\", \"dads\", \"dalai\", \"dama\", \"dance\", \"dandridge\", \"daniel\", \"daniel\", \"dan\\u00e7a\", \"dan\\u00e7a\", \"dan\\u00e7a\", \"darnell\", \"david\", \"david\", \"david\", \"david\", \"david\", \"david\", \"david\", \"dead\", \"dead\", \"dean\", \"decadente\", \"decepticons\", \"decide\", \"decide\", \"decide\", \"decide\", \"decide\", \"decide\", \"decide\", \"decide\", \"dela\", \"dela\", \"demora\", \"derek\", \"derek\", \"derek\", \"derek\", \"desafio\", \"desafio\", \"descobre\", \"descobre\", \"descobre\", \"descobre\", \"descobre\", \"descobre\", \"descobre\", \"descobre\", \"descobre\", \"descobre\", \"descobre\", \"descobre\", \"descobre\", \"descobrir\", \"descobrir\", \"descobrir\", \"descobrir\", \"descobrir\", \"descobrir\", \"descobrir\", \"descobrir\", \"descobrir\", \"descobrir\", \"descobriu\", \"descobriu\", \"descobriu\", \"desencadeia\", \"desencadeia\", \"desencadeia\", \"desencadeia\", \"deserto\", \"deserto\", \"deserto\", \"deserto\", \"deserto\", \"desesperados\", \"desesperados\", \"desorientado\", \"destino\", \"destino\", \"destino\", \"destino\", \"destino\", \"destino\", \"destino\", \"destino\", \"destino\", \"destino\", \"determinados\", \"deve\", \"deve\", \"deve\", \"deve\", \"deve\", \"deve\", \"deve\", \"deve\", \"deve\", \"deve\", \"deve\", \"deve\", \"deve\", \"deve\", \"deve\", \"devem\", \"devem\", \"devem\", \"devem\", \"devem\", \"devem\", \"devem\", \"devem\", \"devem\", \"devem\", \"devem\", \"devem\", \"dexter\", \"dia\", \"dia\", \"dia\", \"dia\", \"dia\", \"dia\", \"dia\", \"dia\", \"dil\", \"dillinger\", \"dinheiro\", \"dinheiro\", \"dinheiro\", \"dinheiro\", \"dinheiro\", \"dinheiro\", \"dinheiro\", \"dinheiro\", \"dinheiro\", \"dinheiro\", \"diretor\", \"diretor\", \"diretor\", \"diretor\", \"diretor\", \"diretor\", \"diretor\", \"disco\", \"dispon\\u00edveis\", \"distante\", \"distante\", \"distante\", \"distante\", \"distante\", \"distante\", \"distante\", \"distante\", \"distante\", \"dist\\u00f3pica\", \"dist\\u00farbios\", \"dist\\u00farbios\", \"dmt\", \"document\\u00e1rio\", \"document\\u00e1rio\", \"document\\u00e1rio\", \"document\\u00e1rio\", \"document\\u00e1rio\", \"document\\u00e1rio\", \"dois\", \"dois\", \"dois\", \"dois\", \"dois\", \"dois\", \"dois\", \"dois\", \"dois\", \"dois\", \"dois\", \"dois\", \"dois\", \"dois\", \"dois\", \"dollanganger\", \"dorn\", \"dorothy\", \"dr\", \"dr\", \"dr\", \"dr\", \"dr\", \"dr\", \"dr\", \"dr\", \"dr\", \"dr\", \"drama\", \"drama\", \"drama\", \"drama\", \"drogas\", \"drogas\", \"drogas\", \"drogas\", \"drogas\", \"drogas\", \"drogas\", \"drogas\", \"duas\", \"duas\", \"duas\", \"duas\", \"duas\", \"duas\", \"duas\", \"duas\", \"dublin\", \"durante\", \"durante\", \"durante\", \"durante\", \"durante\", \"durante\", \"durante\", \"durante\", \"durante\", \"durante\", \"durante\", \"durante\", \"durante\", \"durante\", \"durante\", \"dusty\", \"e\", \"e\", \"e\", \"e\", \"e\", \"e\", \"e\", \"e\", \"e\", \"e\", \"eclipse\", \"ed\", \"ed\", \"eddie\", \"einstein\", \"ele\", \"ele\", \"ele\", \"ele\", \"ele\", \"ele\", \"ele\", \"ele\", \"ele\", \"ele\", \"ele\", \"elena\", \"elena\", \"elfo\", \"elizabeth\", \"elizabeth\", \"elora\", \"emocionais\", \"emocional\", \"emocionante\", \"emocionante\", \"emocionante\", \"emocionante\", \"encontra\", \"encontra\", \"encontra\", \"encontra\", \"encontra\", \"encontra\", \"encontra\", \"encontra\", \"encontra\", \"encontra\", \"encontra\", \"encontra\", \"encontra\", \"encontrar\", \"encontrar\", \"encontrar\", \"encontrar\", \"encontrar\", \"encontrar\", \"encontrar\", \"encontrar\", \"encontrar\", \"encontrar\", \"encontrar\", \"encontrar\", \"encontrar\", \"encontrar\", \"energia\", \"energia\", \"engenheiro\", \"engenheiro\", \"engenheiro\", \"enquanto\", \"enquanto\", \"enquanto\", \"enquanto\", \"enquanto\", \"enquanto\", \"enquanto\", \"enquanto\", \"enquanto\", \"enquanto\", \"enquanto\", \"enquanto\", \"enquanto\", \"enquanto\", \"enquanto\", \"ensino\", \"ensino\", \"ensino\", \"ensino\", \"ensino\", \"ensino\", \"ensino\", \"entanto\", \"entanto\", \"entanto\", \"entanto\", \"entanto\", \"entanto\", \"entanto\", \"entanto\", \"entanto\", \"entanto\", \"entanto\", \"entanto\", \"entrevistas\", \"entrevistas\", \"entrevistas\", \"ent\\u00e3o\", \"ent\\u00e3o\", \"ent\\u00e3o\", \"ent\\u00e3o\", \"ent\\u00e3o\", \"ent\\u00e3o\", \"ent\\u00e3o\", \"ent\\u00e3o\", \"ent\\u00e3o\", \"ent\\u00e3o\", \"ent\\u00e3o\", \"ent\\u00e3o\", \"envelheceu\", \"envolvem\", \"epis\\u00f3dios\", \"equipe\", \"equipe\", \"equipe\", \"equipe\", \"equipe\", \"equipe\", \"equipe\", \"equipe\", \"equipe\", \"equipe\", \"equipe\", \"equipe\", \"equipe\", \"erin\", \"escaparam\", \"escola\", \"escola\", \"escola\", \"escola\", \"escola\", \"escola\", \"escola\", \"escola\", \"escola\", \"escola\", \"escola\", \"escola\", \"espacial\", \"espacial\", \"espacial\", \"espacial\", \"espacial\", \"espacial\", \"espaniola\", \"esposa\", \"esposa\", \"esposa\", \"esposa\", \"esposa\", \"esposa\", \"esposa\", \"esposa\", \"esposa\", \"esposa\", \"esposa\", \"esposas\", \"esp\\u00edritos\", \"estabelecido\", \"estados\", \"estados\", \"estados\", \"estados\", \"estados\", \"estrangeiro\", \"estreia\", \"estudando\", \"estudantis\", \"eve\", \"eve\", \"evil\", \"ewoks\", \"exoficial\", \"experimentos\", \"explos\\u00e3o\", \"ex\\u00edlio\", \"fam\\u00edlia\", \"fam\\u00edlia\", \"fam\\u00edlia\", \"fam\\u00edlia\", \"fam\\u00edlia\", \"fam\\u00edlia\", \"fam\\u00edlia\", \"fam\\u00edlia\", \"fam\\u00edlia\", \"fam\\u00edlia\", \"fam\\u00edlia\", \"fam\\u00edlia\", \"fam\\u00edlia\", \"fantasmas\", \"fantasmas\", \"farmac\\u00eautica\", \"fatty\", \"favela\", \"faz\", \"faz\", \"faz\", \"faz\", \"faz\", \"faz\", \"faz\", \"faz\", \"faz\", \"faz\", \"faz\", \"faz\", \"faz\", \"faz\", \"fazer\", \"fazer\", \"fazer\", \"fazer\", \"fazer\", \"fazer\", \"fazer\", \"fazer\", \"fazer\", \"fazer\", \"fazer\", \"fazer\", \"fazer\", \"felix\", \"felizes\", \"feminina\", \"fica\", \"fica\", \"fica\", \"fica\", \"fica\", \"fica\", \"fica\", \"fica\", \"fica\", \"fica\", \"fica\", \"fica\", \"fica\", \"fica\", \"ficar\", \"ficar\", \"ficar\", \"ficar\", \"ficar\", \"ficar\", \"figglehorn\", \"filha\", \"filha\", \"filha\", \"filha\", \"filha\", \"filha\", \"filha\", \"filha\", \"filha\", \"filha\", \"filha\", \"filha\", \"filho\", \"filho\", \"filho\", \"filho\", \"filho\", \"filho\", \"filho\", \"filho\", \"filho\", \"filho\", \"filho\", \"filho\", \"filho\", \"filho\", \"filhote\", \"filme\", \"filme\", \"filme\", \"filme\", \"filme\", \"filme\", \"filme\", \"filme\", \"filme\", \"filme\", \"filme\", \"filme\", \"filme\", \"filme\", \"final\", \"final\", \"final\", \"final\", \"final\", \"final\", \"final\", \"final\", \"flicka\", \"foi\", \"ford\", \"ford\", \"ford\", \"fort\", \"fraco\", \"franceses\", \"fraude\", \"fred\", \"fred\", \"freeze\", \"frente\", \"frente\", \"fu\", \"fu\", \"funcionar\", \"futuro\", \"futuro\", \"futuro\", \"futuro\", \"futuro\", \"futuro\", \"futuro\", \"futuro\", \"futuro\", \"futuro\", \"g2\", \"gadget\", \"gadget\", \"gal\\u00e1xia\", \"gangue\", \"gangue\", \"gangue\", \"gangue\", \"gangue\", \"gangue\", \"gangue\", \"gangue\", \"garotas\", \"garrigan\", \"gatlin\", \"gato\", \"gato\", \"gato\", \"general\", \"general\", \"gen\\u00e9tica\", \"george\", \"gerry\", \"grande\", \"grande\", \"grande\", \"grande\", \"grande\", \"grande\", \"grande\", \"grande\", \"grande\", \"grande\", \"grande\", \"grande\", \"grande\", \"grupo\", \"grupo\", \"grupo\", \"grupo\", \"grupo\", \"grupo\", \"grupo\", \"grupo\", \"grupo\", \"grupo\", \"grupo\", \"grupo\", \"guarda\", \"guarda\", \"guarda\", \"guerra\", \"guerra\", \"guerra\", \"guerra\", \"guerra\", \"guerra\", \"guerra\", \"guerra\", \"guerra\", \"guerra\", \"guerra\", \"guerra\", \"g\\u00e2ngster\", \"g\\u00e2ngster\", \"g\\u00e2ngster\", \"g\\u00e2ngster\", \"g\\u00e2ngster\", \"g\\u00e2ngster\", \"g\\u00e2ngster\", \"hamburger\", \"harvey\", \"heffalump\", \"henry\", \"hex\", \"hill\", \"hill\", \"hist\\u00f3ria\", \"hist\\u00f3ria\", \"hist\\u00f3ria\", \"hist\\u00f3ria\", \"hist\\u00f3ria\", \"hist\\u00f3ria\", \"hist\\u00f3ria\", \"hist\\u00f3ria\", \"hist\\u00f3ria\", \"hist\\u00f3ria\", \"hist\\u00f3ria\", \"hist\\u00f3ria\", \"hist\\u00f3ria\", \"hist\\u00f3ria\", \"hist\\u00f3ria\", \"hoggett\", \"hollywood\", \"hollywood\", \"homem\", \"homem\", \"homem\", \"homem\", \"homem\", \"homem\", \"homem\", \"homem\", \"homem\", \"homem\", \"homem\", \"homem\", \"homem\", \"homemaranha\", \"homens\", \"homens\", \"homens\", \"homens\", \"homens\", \"homens\", \"homens\", \"homens\", \"homens\", \"homens\", \"honra\", \"honra\", \"honra\", \"hufa\", \"huttinger\", \"ideia\", \"ideia\", \"ideia\", \"idiota\", \"ilha\", \"ilha\", \"ilha\", \"ilha\", \"ilha\", \"ilha\", \"ilha\", \"ilha\", \"ilha\", \"illmatic\", \"imaginado\", \"imax\", \"impar\\u00e1veis\", \"imprevis\\u00edveis\", \"indo\", \"inesperadamente\", \"inesperadamente\", \"inesperadas\", \"inestim\\u00e1vel\", \"inestim\\u00e1vel\", \"infeliz\", \"inimigo\", \"inimigo\", \"inimigo\", \"inspira\\u00e7\\u00e3o\", \"institui\\u00e7\\u00e3o\", \"institui\\u00e7\\u00e3o\", \"instituto\", \"inteira\", \"inteira\", \"inteira\", \"internato\", \"intimidado\", \"irene\", \"irm\\u00e3o\", \"irm\\u00e3o\", \"irm\\u00e3o\", \"irm\\u00e3o\", \"irm\\u00e3o\", \"irm\\u00e3o\", \"irm\\u00e3o\", \"irm\\u00e3o\", \"irm\\u00e3o\", \"irm\\u00e3o\", \"irm\\u00e3o\", \"irm\\u00e3o\", \"irm\\u00e3os\", \"irm\\u00e3os\", \"irm\\u00e3os\", \"irm\\u00e3os\", \"irm\\u00e3os\", \"irm\\u00e3os\", \"island\", \"island\", \"island\", \"j\", \"jack\", \"jack\", \"jack\", \"jack\", \"jack\", \"jack\", \"jackie\", \"jackie\", \"jade\", \"jade\", \"javier\", \"jay\", \"jedi\", \"jeff\", \"jeff\", \"jeff\", \"jeff\", \"jeremy\", \"jim\", \"jim\", \"jim\", \"jim\", \"jim\", \"jimmy\", \"jimmy\", \"jimmy\", \"jimmy\", \"jo\", \"joey\", \"jogador\", \"jogador\", \"jogador\", \"jogador\", \"jogo\", \"jogo\", \"jogo\", \"jogo\", \"jogo\", \"jogo\", \"jogo\", \"jogo\", \"jogo\", \"jogo\", \"jogo\", \"johnny\", \"jonah\", \"jonah\", \"jordan\", \"jord\\u00e2nia\", \"jourdain\", \"jovem\", \"jovem\", \"jovem\", \"jovem\", \"jovem\", \"jovem\", \"jovem\", \"jovem\", \"jovem\", \"jovem\", \"jovem\", \"jovem\", \"jovem\", \"jude\", \"judy\", \"juhwan\", \"junta\", \"junta\", \"junta\", \"juntam\", \"juntar\", \"juntar\", \"juntar\", \"justi\\u00e7a\", \"justi\\u00e7a\", \"justi\\u00e7a\", \"justi\\u00e7a\", \"k\", \"k\", \"kable\", \"kale\", \"kancel\", \"kassim\", \"kat\", \"kerrigan\", \"klute\", \"kolya\", \"kombat\", \"krippendorf\", \"krishna\", \"kruger\", \"kung\", \"kung\", \"laine\", \"lancelot\", \"landry\", \"lane\", \"lane\", \"lang\", \"leal\", \"lealdade\", \"lealdade\", \"leeza\", \"lend\\u00e1rio\", \"les\", \"leung\", \"leva\", \"leva\", \"leva\", \"leva\", \"leva\", \"leva\", \"leva\", \"leva\", \"leva\", \"leva\", \"leva\", \"leva\", \"ligados\", \"lily\", \"lisa\", \"lisa\", \"lisa\", \"livrar\", \"lizardo\", \"logo\", \"logo\", \"logo\", \"logo\", \"logo\", \"logo\", \"logo\", \"logo\", \"logo\", \"logo\", \"logo\", \"logo\", \"logo\", \"londres\", \"londres\", \"londres\", \"londres\", \"londres\", \"lonette\", \"longametragem\", \"longametragem\", \"longametragem\", \"lost\", \"lua\", \"lua\", \"lua\", \"lua\", \"lua\", \"lua\", \"lua\", \"lugar\", \"lugar\", \"lugar\", \"lugar\", \"lugar\", \"lugar\", \"lukas\", \"luta\", \"luta\", \"luta\", \"luta\", \"luta\", \"luta\", \"luta\", \"luta\", \"luta\", \"luta\", \"luta\", \"luta\", \"luta\", \"luxo\", \"lv\", \"l\\u00e1bios\", \"m\", \"mace\", \"madrasta\", \"mahmud\", \"mahsun\", \"malignas\", \"mant\\u00e9m\", \"mant\\u00e9m\", \"mant\\u00e9m\", \"mant\\u00e9m\", \"mant\\u00e9m\", \"maravilhoso\", \"mariano\", \"marvin\", \"mathayus\", \"matthew\", \"maurice\", \"maus\", \"max\", \"max\", \"max\", \"max\", \"mazzy\", \"mei\", \"meio\", \"meio\", \"meio\", \"meio\", \"meio\", \"meio\", \"meio\", \"meio\", \"meio\", \"meio\", \"meio\", \"meio\", \"melhor\", \"melhor\", \"melhor\", \"melhor\", \"melhor\", \"melhor\", \"melhor\", \"melhor\", \"melhor\", \"melhor\", \"melhor\", \"melinda\", \"melvin\", \"menino\", \"menino\", \"menino\", \"menino\", \"menino\", \"menino\", \"menino\", \"menino\", \"menino\", \"meninos\", \"meninos\", \"meninos\", \"meninos\", \"mente\", \"mente\", \"merliah\", \"mi6\", \"michael\", \"michael\", \"michael\", \"michael\", \"michael\", \"mike\", \"mike\", \"mike\", \"mike\", \"miles\", \"miriam\", \"miss\\u00e3o\", \"miss\\u00e3o\", \"miss\\u00e3o\", \"miss\\u00e3o\", \"miss\\u00e3o\", \"miss\\u00e3o\", \"miss\\u00e3o\", \"miss\\u00e3o\", \"miss\\u00e3o\", \"miss\\u00e3o\", \"miss\\u00e3o\", \"miss\\u00e3o\", \"miss\\u00e3o\", \"misterioso\", \"misterioso\", \"misterioso\", \"misterioso\", \"misterioso\", \"misterioso\", \"misterioso\", \"misterioso\", \"misterioso\", \"misterioso\", \"mo\", \"modos\", \"mohammed\", \"moli\\u00e8re\", \"montagem\", \"montana\", \"montanhas\", \"montar\", \"moose\", \"mora\", \"mora\", \"mora\", \"mora\", \"mora\", \"mora\", \"morte\", \"morte\", \"morte\", \"morte\", \"morte\", \"morte\", \"morte\", \"morte\", \"morte\", \"morte\", \"movie\", \"mulher\", \"mulher\", \"mulher\", \"mulher\", \"mulher\", \"mulher\", \"mulher\", \"mulher\", \"mulher\", \"mulher\", \"mulher\", \"mulher\", \"mulher\", \"mulher\", \"mul\\u00e1\", \"mundial\", \"mundial\", \"mundial\", \"mundial\", \"mundial\", \"mundial\", \"mundial\", \"mundial\", \"mundo\", \"mundo\", \"mundo\", \"mundo\", \"mundo\", \"mundo\", \"mundo\", \"mundo\", \"mundo\", \"mundo\", \"mundo\", \"mundo\", \"mundo\", \"mundo\", \"mustang\", \"m\\u00e1quina\", \"m\\u00e1scara\", \"m\\u00e3e\", \"m\\u00e3e\", \"m\\u00e3e\", \"m\\u00e3e\", \"m\\u00e3e\", \"m\\u00e3e\", \"m\\u00e3e\", \"m\\u00e3e\", \"m\\u00e3e\", \"m\\u00e3e\", \"m\\u00e3e\", \"m\\u00e3e\", \"m\\u00e3e\", \"m\\u00e4ddy\", \"m\\u00e9dio\", \"m\\u00e9dio\", \"m\\u00e9dio\", \"m\\u00e9dio\", \"m\\u00e9dio\", \"m\\u00e9dio\", \"m\\u00e9dio\", \"nada\", \"nada\", \"nada\", \"nada\", \"nada\", \"nada\", \"nada\", \"nada\", \"namsoon\", \"nancy\", \"nariz\", \"natal\", \"natal\", \"natal\", \"natal\", \"natal\", \"natal\", \"natal\", \"natal\", \"natal\", \"natal\", \"natal\", \"natal\", \"natal\", \"natalie\", \"navarathna\", \"nave\", \"nave\", \"nave\", \"nave\", \"nenhum\", \"nenhum\", \"nenhum\", \"nenhum\", \"nenhum\", \"nerds\", \"neve\", \"neves\", \"newton\", \"nockmaar\", \"noel\", \"noel\", \"noite\", \"noite\", \"noite\", \"noite\", \"noite\", \"noite\", \"noite\", \"noite\", \"noite\", \"noite\", \"noite\", \"noite\", \"norman\", \"norman\", \"norman\", \"nova\", \"nova\", \"nova\", \"nova\", \"nova\", \"nova\", \"nova\", \"nova\", \"nova\", \"nova\", \"nova\", \"nova\", \"nova\", \"novo\", \"novo\", \"novo\", \"novo\", \"novo\", \"novo\", \"novo\", \"novo\", \"novo\", \"novo\", \"novo\", \"novo\", \"novo\", \"novo\", \"nui\", \"nyle\", \"n\\u00famero\", \"obannon\", \"oeste\", \"oeste\", \"oeste\", \"oeste\", \"oito\", \"oito\", \"on\", \"onde\", \"onde\", \"onde\", \"onde\", \"onde\", \"onde\", \"onde\", \"onde\", \"onde\", \"onde\", \"onde\", \"onde\", \"online\", \"online\", \"online\", \"onu\", \"opera\\u00e7\\u00f5es\", \"opressivo\", \"orcs\", \"origens\", \"otto\", \"ousado\", \"outro\", \"outro\", \"outro\", \"outro\", \"outro\", \"outro\", \"outro\", \"outro\", \"outro\", \"outro\", \"outro\", \"outro\", \"ovelhas\", \"paciente\", \"padre\", \"pai\", \"pai\", \"pai\", \"pai\", \"pai\", \"pai\", \"pai\", \"pai\", \"pai\", \"pai\", \"pai\", \"pai\", \"pai\", \"pai\", \"pai\", \"pais\", \"pais\", \"pais\", \"pais\", \"pais\", \"pais\", \"pais\", \"pais\", \"pais\", \"pais\", \"paix\\u00e3o\", \"paix\\u00e3o\", \"paix\\u00e3o\", \"paix\\u00e3o\", \"pano\", \"papai\", \"papai\", \"paradise\", \"parar\", \"parar\", \"parar\", \"parar\", \"pares\", \"paris\", \"paris\", \"paris\", \"paris\", \"paris\", \"passa\", \"passa\", \"passa\", \"passa\", \"passa\", \"passa\", \"passado\", \"passado\", \"passado\", \"passado\", \"passado\", \"passado\", \"passado\", \"passado\", \"passado\", \"passado\", \"passam\", \"patel\", \"patels\", \"pa\\u00eds\", \"pa\\u00eds\", \"pa\\u00eds\", \"pa\\u00eds\", \"pa\\u00eds\", \"pa\\u00eds\", \"pa\\u00eds\", \"pa\\u00eds\", \"pa\\u00eds\", \"pens\\u00f5es\", \"pequena\", \"pequena\", \"pequena\", \"pequena\", \"pequena\", \"pequena\", \"pequena\", \"pequena\", \"pequena\", \"pequena\", \"percebem\", \"percebem\", \"percebem\", \"perceber\", \"perceber\", \"perdoar\", \"perry\", \"personalidades\", \"pesquisa\", \"pesquisa\", \"pesquisa\", \"pesquisa\", \"phelps\", \"phillip\", \"phillip\", \"phoenix\", \"piglet\", \"pior\", \"pior\", \"pior\", \"pior\", \"pior\", \"pior\", \"pista\", \"pista\", \"planeta\", \"planeta\", \"planeta\", \"planeta\", \"planeta\", \"planeta\", \"planeta\", \"planeta\", \"po\", \"pode\", \"pode\", \"pode\", \"pode\", \"pode\", \"pode\", \"pode\", \"pode\", \"pode\", \"pode\", \"pode\", \"pode\", \"pode\", \"pode\", \"policial\", \"policial\", \"policial\", \"policial\", \"policial\", \"policial\", \"policial\", \"policial\", \"policial\", \"policial\", \"policial\", \"policial\", \"policial\", \"poltergeist\", \"pong\", \"ponto\", \"pornografia\", \"poucos\", \"poucos\", \"poucos\", \"pouso\", \"prepara\", \"presen\\u00e7a\", \"presto\", \"prima\", \"primeira\", \"primeira\", \"primeira\", \"primeira\", \"primeira\", \"primeira\", \"primeira\", \"primeira\", \"primeiro\", \"primeiro\", \"primeiro\", \"primeiro\", \"primeiro\", \"primeiro\", \"primeiro\", \"primeiro\", \"primeiro\", \"primeiro\", \"primeiro\", \"primeiro\", \"primeiro\", \"primeiro\", \"principal\", \"principal\", \"principal\", \"principal\", \"principal\", \"pris\\u00e3o\", \"pris\\u00e3o\", \"pris\\u00e3o\", \"pris\\u00e3o\", \"pris\\u00e3o\", \"pris\\u00e3o\", \"pris\\u00e3o\", \"pris\\u00e3o\", \"pris\\u00e3o\", \"pris\\u00e3o\", \"problemas\", \"problemas\", \"problemas\", \"problemas\", \"problemas\", \"problemas\", \"problemas\", \"problemas\", \"problemas\", \"problemas\", \"problemas\", \"profundo\", \"profundo\", \"proteger\", \"proteger\", \"proteger\", \"proteger\", \"proteger\", \"proteger\", \"proteger\", \"proteger\", \"pr\\u00e9dio\", \"pr\\u00e9dio\", \"pr\\u00edncipe\", \"pr\\u00edncipe\", \"pr\\u00edncipe\", \"pr\\u00edncipe\", \"pr\\u00edncipe\", \"pr\\u00f3spero\", \"pym\", \"p\\u00f3ssegunda\", \"quarentena\", \"quatro\", \"quatro\", \"quatro\", \"quatro\", \"quatro\", \"quatro\", \"quatro\", \"quatro\", \"quatro\", \"quatro\", \"quatro\", \"quatro\", \"quatro\", \"quest\\u00e3o\", \"rabbit\", \"rabbit\", \"rabbit\", \"rabbitte\", \"rabino\", \"rancor\", \"ray\", \"ray\", \"realmente\", \"realmente\", \"realmente\", \"realmente\", \"realmente\", \"realmente\", \"realmente\", \"realmente\", \"relacionamento\", \"relacionamento\", \"relacionamento\", \"relacionamento\", \"relacionamento\", \"relacionamento\", \"relacionamento\", \"relacionamento\", \"relacionamentos\", \"relacionamentos\", \"relacionamentos\", \"relacionamentos\", \"remake\", \"remonta\", \"remoto\", \"remoto\", \"remoto\", \"renas\", \"represa\", \"resist\\u00eancia\", \"resist\\u00eancia\", \"resort\", \"restos\", \"resumo\", \"rev\", \"revelations\", \"riget\", \"ritual\\u00edstica\", \"robinsons\", \"rob\\u00f4\", \"rodman\", \"roteiro\", \"rotina\", \"roubada\", \"royal\", \"rudolph\", \"rudoph\", \"ruim\", \"r\\u00e1dio\", \"salsoo\", \"samurai\", \"secreta\", \"secreta\", \"secreta\", \"secreta\", \"secreta\", \"secreta\", \"secreta\", \"secretamente\", \"seguros\", \"selvagem\", \"selvagem\", \"selvagem\", \"selvagem\", \"selvagem\", \"selvagem\", \"sendo\", \"sendo\", \"sendo\", \"sendo\", \"sendo\", \"sendo\", \"sendo\", \"sensuais\", \"sentido\", \"sentido\", \"sentido\", \"sequestros\", \"sereia\", \"sete\", \"sete\", \"sido\", \"sido\", \"sigma\", \"silver\", \"silvestres\", \"simkin\", \"simon\", \"sinja\", \"skylark\", \"sobre\", \"sobre\", \"sobre\", \"sobre\", \"sobre\", \"sobre\", \"sobre\", \"sobre\", \"sobre\", \"sobre\", \"sobre\", \"sobre\", \"sobre\", \"sobre\", \"som\", \"soul\", \"space\", \"space\", \"squire\", \"stephanie\", \"stephanie\", \"stevens\", \"strassman\", \"submetidos\", \"sucesso\", \"sucesso\", \"sucesso\", \"sucesso\", \"sucesso\", \"sucesso\", \"sucesso\", \"sucesso\", \"sucesso\", \"sucesso\", \"sud\\u00e3o\", \"sul\", \"sul\", \"surfe\", \"sy\", \"sy\", \"s\\u00e9culo\", \"s\\u00e9culo\", \"s\\u00e9culo\", \"s\\u00e9culo\", \"s\\u00e9culo\", \"s\\u00e9culo\", \"s\\u00e9culo\", \"s\\u00e9culo\", \"s\\u00e9rie\", \"s\\u00e9rie\", \"s\\u00e9rie\", \"s\\u00e9rie\", \"s\\u00e9rie\", \"s\\u00e9rie\", \"s\\u00e9rie\", \"s\\u00e9rie\", \"s\\u00e9rie\", \"s\\u00e9rie\", \"taekwondo\", \"taeseok\", \"tanto\", \"tanto\", \"tanto\", \"tanto\", \"tanto\", \"televis\\u00e3o\", \"televis\\u00e3o\", \"televis\\u00e3o\", \"tempo\", \"tempo\", \"tempo\", \"tempo\", \"tempo\", \"tempo\", \"tempo\", \"tempo\", \"tempo\", \"tempo\", \"tempo\", \"tendo\", \"tendo\", \"tendo\", \"tendo\", \"tendo\", \"tendo\", \"tendo\", \"tendo\", \"tens\\u00f5es\", \"tenta\", \"tenta\", \"tenta\", \"tenta\", \"tenta\", \"tenta\", \"tenta\", \"tenta\", \"tenta\", \"tenta\", \"tenta\", \"tentam\", \"tentam\", \"tentam\", \"tentam\", \"tentam\", \"tentativas\", \"tentativas\", \"tentativas\", \"ter\", \"ter\", \"ter\", \"ter\", \"ter\", \"ter\", \"ter\", \"ter\", \"ter\", \"terceiro\", \"teresa\", \"terra\", \"terra\", \"terra\", \"terra\", \"terra\", \"terra\", \"terra\", \"terra\", \"terra\", \"terra\", \"terra\", \"terra\", \"terror\", \"terror\", \"terror\", \"terror\", \"terror\", \"terror\", \"terror\", \"terror\", \"terror\", \"terror\", \"tesouro\", \"tesouro\", \"the\", \"the\", \"the\", \"the\", \"the\", \"the\", \"the\", \"the\", \"the\", \"the\", \"the\", \"thumbelina\", \"tibete\", \"time\", \"time\", \"time\", \"tiro\", \"to\", \"to\", \"toby\", \"toby\", \"toda\", \"toda\", \"toda\", \"toda\", \"toda\", \"toda\", \"toda\", \"todos\", \"todos\", \"todos\", \"todos\", \"todos\", \"todos\", \"todos\", \"todos\", \"todos\", \"todos\", \"todos\", \"todos\", \"todos\", \"todos\", \"tom\", \"tom\", \"tom\", \"tom\", \"tom\", \"torna\", \"torna\", \"torna\", \"torna\", \"torna\", \"torna\", \"torna\", \"torna\", \"torna\", \"torna\", \"torna\", \"torna\", \"tornar\", \"tornar\", \"tornar\", \"tornar\", \"tornar\", \"tornar\", \"tornar\", \"tornar\", \"tornar\", \"tornarem\", \"tornase\", \"tornase\", \"tornase\", \"tornase\", \"tornase\", \"towani\", \"trabalha\", \"trabalha\", \"trabalha\", \"trabalha\", \"trabalha\", \"trabalha\", \"trabalha\", \"trabalha\", \"trabalho\", \"trabalho\", \"trabalho\", \"trabalho\", \"trabalho\", \"trabalho\", \"trabalho\", \"trabalho\", \"trabalho\", \"trabalho\", \"trabalho\", \"trabalho\", \"traficantes\", \"traficantes\", \"trag\\u00e9dia\", \"trag\\u00e9dia\", \"trag\\u00e9dia\", \"trag\\u00e9dia\", \"trag\\u00e9dia\", \"trai\\u00e7\\u00e3o\", \"trai\\u00e7\\u00e3o\", \"treasure\", \"tren\\u00f3\", \"trompetista\", \"tr\\u00eas\", \"tr\\u00eas\", \"tr\\u00eas\", \"tr\\u00eas\", \"tr\\u00eas\", \"tr\\u00eas\", \"tr\\u00eas\", \"tr\\u00eas\", \"tr\\u00eas\", \"tr\\u00eas\", \"tr\\u00eas\", \"tr\\u00eas\", \"tr\\u00eas\", \"tubar\\u00e3o\", \"tudo\", \"tudo\", \"tudo\", \"tudo\", \"tudo\", \"tudo\", \"tudo\", \"tudo\", \"tudo\", \"tudo\", \"tudo\", \"tudo\", \"tudo\", \"t\\u00eam\", \"t\\u00eam\", \"t\\u00eam\", \"t\\u00eam\", \"t\\u00eam\", \"unidos\", \"unidos\", \"unidos\", \"unidos\", \"unidos\", \"veja\", \"verdade\", \"verdade\", \"verdade\", \"verdade\", \"verdade\", \"verdade\", \"verdade\", \"verdade\", \"vez\", \"vez\", \"vez\", \"vez\", \"vez\", \"vez\", \"vez\", \"vez\", \"vez\", \"vez\", \"vez\", \"vez\", \"vez\", \"vez\", \"viagem\", \"viagem\", \"viagem\", \"viagem\", \"viagem\", \"viagem\", \"viagem\", \"viagem\", \"viagem\", \"viagem\", \"viaja\", \"viaja\", \"viaja\", \"viaja\", \"viaja\", \"viaja\", \"viaja\", \"viaja\", \"victoria\", \"vida\", \"vida\", \"vida\", \"vida\", \"vida\", \"vida\", \"vida\", \"vida\", \"vida\", \"vida\", \"vida\", \"vida\", \"vida\", \"vida\", \"vida\", \"vidas\", \"vidas\", \"vidas\", \"vidas\", \"vidas\", \"vidas\", \"vidas\", \"vidas\", \"vidas\", \"vincent\", \"vincent\", \"vingan\\u00e7a\", \"vingan\\u00e7a\", \"vingan\\u00e7a\", \"vingan\\u00e7a\", \"vingan\\u00e7a\", \"vingan\\u00e7a\", \"vingan\\u00e7a\", \"vingan\\u00e7a\", \"vingan\\u00e7a\", \"vingan\\u00e7a\", \"vingan\\u00e7a\", \"vingar\", \"vingar\", \"vingar\", \"vingar\", \"vingar\", \"vingar\", \"vingar\", \"vinte\", \"vinte\", \"vinte\", \"viola\", \"viol\\u00eancia\", \"viol\\u00eancia\", \"viol\\u00eancia\", \"viol\\u00eancia\", \"viol\\u00eancia\", \"virginia\", \"virtualmente\", \"viu\", \"viu\", \"viu\", \"viver\", \"viver\", \"viver\", \"viveu\", \"viveu\", \"vi\\u00fava\", \"vi\\u00fava\", \"vi\\u00fava\", \"vi\\u00fava\", \"vi\\u00fava\", \"volta\", \"volta\", \"volta\", \"volta\", \"volta\", \"volta\", \"volta\", \"volta\", \"volta\", \"volta\", \"volta\", \"volta\", \"volta\", \"volta\", \"v\\u00e1rios\", \"v\\u00e1rios\", \"v\\u00e1rios\", \"v\\u00e1rios\", \"v\\u00e1rios\", \"v\\u00e1rios\", \"v\\u00e1rios\", \"v\\u00ea\", \"v\\u00ea\", \"v\\u00ea\", \"v\\u00ea\", \"v\\u00ea\", \"v\\u00ea\", \"v\\u00ea\", \"v\\u00ea\", \"v\\u00ea\", \"v\\u00ea\", \"v\\u00edcio\", \"walter\", \"walter\", \"wckd\", \"wd40\", \"wylie\", \"york\", \"york\", \"york\", \"york\", \"york\", \"york\", \"york\", \"york\", \"york\", \"york\", \"york\", \"york\", \"yukon\", \"zenobia\", \"zoey\", \"\\u00bb\", \"\\u00e1rvore\", \"\\u00e1rvore\", \"\\u00e1rvore\", \"\\u00e2mago\", \"\\u00edndio\", \"\\u00f3rbita\", \"\\u00faltimo\", \"\\u00faltimo\", \"\\u00faltimo\", \"\\u00faltimo\", \"\\u00faltimo\", \"\\u00faltimo\", \"\\u00faltimo\", \"\\u00faltimo\"]}, \"R\": 30, \"lambda.step\": 0.01, \"plot.opts\": {\"xlab\": \"PC1\", \"ylab\": \"PC2\"}, \"topic.order\": [10, 8, 14, 13, 1, 7, 6, 15, 9, 12, 3, 5, 2, 4, 11]};\n",
              "\n",
              "function LDAvis_load_lib(url, callback){\n",
              "  var s = document.createElement('script');\n",
              "  s.src = url;\n",
              "  s.async = true;\n",
              "  s.onreadystatechange = s.onload = callback;\n",
              "  s.onerror = function(){console.warn(\"failed to load library \" + url);};\n",
              "  document.getElementsByTagName(\"head\")[0].appendChild(s);\n",
              "}\n",
              "\n",
              "if(typeof(LDAvis) !== \"undefined\"){\n",
              "   // already loaded: just create the visualization\n",
              "   !function(LDAvis){\n",
              "       new LDAvis(\"#\" + \"ldavis_el29851407158042133122368940734\", ldavis_el29851407158042133122368940734_data);\n",
              "   }(LDAvis);\n",
              "}else if(typeof define === \"function\" && define.amd){\n",
              "   // require.js is available: use it to load d3/LDAvis\n",
              "   require.config({paths: {d3: \"https://d3js.org/d3.v5\"}});\n",
              "   require([\"d3\"], function(d3){\n",
              "      window.d3 = d3;\n",
              "      LDAvis_load_lib(\"https://cdn.jsdelivr.net/gh/bmabey/pyLDAvis@3.4.0/pyLDAvis/js/ldavis.v3.0.0.js\", function(){\n",
              "        new LDAvis(\"#\" + \"ldavis_el29851407158042133122368940734\", ldavis_el29851407158042133122368940734_data);\n",
              "      });\n",
              "    });\n",
              "}else{\n",
              "    // require.js not available: dynamically load d3 & LDAvis\n",
              "    LDAvis_load_lib(\"https://d3js.org/d3.v5.js\", function(){\n",
              "         LDAvis_load_lib(\"https://cdn.jsdelivr.net/gh/bmabey/pyLDAvis@3.4.0/pyLDAvis/js/ldavis.v3.0.0.js\", function(){\n",
              "                 new LDAvis(\"#\" + \"ldavis_el29851407158042133122368940734\", ldavis_el29851407158042133122368940734_data);\n",
              "            })\n",
              "         });\n",
              "}\n",
              "</script>"
            ],
            "text/plain": [
              "PreparedData(topic_coordinates=              x         y  topics  cluster      Freq\n",
              "topic                                               \n",
              "9      0.097808 -0.038625       1        1  8.249000\n",
              "7      0.062973  0.079715       2        1  7.728409\n",
              "13    -0.134500 -0.068400       3        1  7.477168\n",
              "12    -0.059845 -0.009418       4        1  7.265982\n",
              "0      0.008842 -0.102658       5        1  7.119880\n",
              "6     -0.056911  0.104923       6        1  6.876232\n",
              "5     -0.019704  0.062981       7        1  6.812886\n",
              "14    -0.055219  0.012074       8        1  6.734138\n",
              "8     -0.018803 -0.004649       9        1  6.614288\n",
              "11     0.016423  0.051629      10        1  6.372559\n",
              "2      0.032145 -0.056504      11        1  6.267823\n",
              "4      0.061620 -0.021034      12        1  6.255464\n",
              "1      0.020639  0.027487      13        1  5.856819\n",
              "3      0.019045 -0.053909      14        1  5.580602\n",
              "10     0.025488  0.016389      15        1  4.788752, topic_info=         Term       Freq      Total Category  logprob  loglift\n",
              "173     jovem  67.000000  67.000000  Default  30.0000  30.0000\n",
              "356   família  63.000000  63.000000  Default  29.0000  29.0000\n",
              "124      casa  57.000000  57.000000  Default  28.0000  28.0000\n",
              "787     filme  38.000000  38.000000  Default  27.0000  27.0000\n",
              "40        dia  19.000000  19.000000  Default  26.0000  26.0000\n",
              "..        ...        ...        ...      ...      ...      ...\n",
              "529  enquanto   2.534216  80.690736  Topic15  -6.1115  -0.4218\n",
              "597      novo   2.084788  30.013067  Topic15  -6.3067   0.3719\n",
              "409       the   2.055522  25.756388  Topic15  -6.3209   0.5107\n",
              "352    contra   2.055502  42.307054  Topic15  -6.3209   0.0145\n",
              "558    equipe   2.055307  21.228051  Topic15  -6.3210   0.7040\n",
              "\n",
              "[1077 rows x 6 columns], token_table=      Topic      Freq    Term\n",
              "term                         \n",
              "8029      5  0.673681       1\n",
              "801       3  0.224400      12\n",
              "801       5  0.448799      12\n",
              "801       8  0.224400      12\n",
              "603      12  0.560005      16\n",
              "...     ...       ...     ...\n",
              "2169      4  0.103001  último\n",
              "2169      5  0.103001  último\n",
              "2169      6  0.103001  último\n",
              "2169      7  0.103001  último\n",
              "2169      8  0.206001  último\n",
              "\n",
              "[2752 rows x 3 columns], R=30, lambda_step=0.01, plot_opts={'xlab': 'PC1', 'ylab': 'PC2'}, topic_order=[10, 8, 14, 13, 1, 7, 6, 15, 9, 12, 3, 5, 2, 4, 11])"
            ]
          },
          "execution_count": 15,
          "metadata": {},
          "output_type": "execute_result"
        }
      ],
      "source": [
        "import pyLDAvis\n",
        "import pyLDAvis.gensim_models\n",
        "\n",
        "pyLDAvis.enable_notebook()\n",
        "vis = pyLDAvis.gensim_models.prepare(lda_model, corpus, id2word)\n",
        "vis"
      ]
    }
  ],
  "metadata": {
    "colab": {
      "provenance": []
    },
    "kernelspec": {
      "display_name": "Python 3",
      "language": "python",
      "name": "python3"
    },
    "language_info": {
      "codemirror_mode": {
        "name": "ipython",
        "version": 3
      },
      "file_extension": ".py",
      "mimetype": "text/x-python",
      "name": "python",
      "nbconvert_exporter": "python",
      "pygments_lexer": "ipython3",
      "version": "3.13.2"
    }
  },
  "nbformat": 4,
  "nbformat_minor": 5
}